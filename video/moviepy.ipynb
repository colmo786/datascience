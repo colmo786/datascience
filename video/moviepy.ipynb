{
 "cells": [
  {
   "cell_type": "code",
   "execution_count": 3,
   "metadata": {},
   "outputs": [],
   "source": [
    "#!pip install moviepy\n",
    "#https://pypi.org/project/moviepy/\n",
    "# read the docs: https://zulko.github.io/moviepy/\n",
    "\n",
    "# Import everything needed to edit video clips\n",
    "import moviepy.editor as mp"
   ]
  },
  {
   "cell_type": "code",
   "execution_count": 16,
   "metadata": {},
   "outputs": [],
   "source": [
    "# Load video and select the subclip 00:00:00 - 00:00:04\n",
    "#clip1 = mp.VideoFileClip(\"Z:\\\\99-Gobernanza de Datos\\\\016_kindleys\\\\CORR_power_automate.mp4\").subclip(57,67)\n",
    "clip1 = mp.VideoFileClip(\"Z:\\\\99-Gobernanza de Datos\\\\016_kindleys\\\\CORR_power_automate.mp4\").subclip('00:00:57', '00:00:67')\n",
    "#clip2 = mp.VideoFileClip(\"Z:\\\\99-Gobernanza de Datos\\\\016_kindleys\\\\CORR_power_automate.mp4\").subclip(198,)\n",
    "clip2 = mp.VideoFileClip(\"Z:\\\\99-Gobernanza de Datos\\\\016_kindleys\\\\CORR_power_automate.mp4\").subclip('00:02:39', '00:04:08')"
   ]
  },
  {
   "cell_type": "code",
   "execution_count": 17,
   "metadata": {},
   "outputs": [],
   "source": [
    "final_clip = mp.concatenate_videoclips([clip1, clip2])"
   ]
  },
  {
   "cell_type": "code",
   "execution_count": 18,
   "metadata": {},
   "outputs": [
    {
     "name": "stdout",
     "output_type": "stream",
     "text": [
      "Moviepy - Building video Z:\\99-Gobernanza de Datos\\016_kindleys\\CORR_pa_stripped.mp4.\n",
      "Moviepy - Writing video Z:\\99-Gobernanza de Datos\\016_kindleys\\CORR_pa_stripped.mp4\n",
      "\n"
     ]
    },
    {
     "name": "stderr",
     "output_type": "stream",
     "text": [
      "                                                              \r"
     ]
    },
    {
     "name": "stdout",
     "output_type": "stream",
     "text": [
      "Moviepy - Done !\n",
      "Moviepy - video ready Z:\\99-Gobernanza de Datos\\016_kindleys\\CORR_pa_stripped.mp4\n"
     ]
    }
   ],
   "source": [
    "final_clip.write_videofile(\"Z:\\\\99-Gobernanza de Datos\\\\016_kindleys\\\\CORR_pa_stripped.mp4\")"
   ]
  },
  {
   "cell_type": "code",
   "execution_count": null,
   "metadata": {},
   "outputs": [],
   "source": []
  }
 ],
 "metadata": {
  "kernelspec": {
   "display_name": "Python 3.8.12 ('py38')",
   "language": "python",
   "name": "python3"
  },
  "language_info": {
   "codemirror_mode": {
    "name": "ipython",
    "version": 3
   },
   "file_extension": ".py",
   "mimetype": "text/x-python",
   "name": "python",
   "nbconvert_exporter": "python",
   "pygments_lexer": "ipython3",
   "version": "3.8.12"
  },
  "orig_nbformat": 4,
  "vscode": {
   "interpreter": {
    "hash": "be4202a71753ffd220956ed3db86814f14c1cec50b2168a389c2c468516f2338"
   }
  }
 },
 "nbformat": 4,
 "nbformat_minor": 2
}
