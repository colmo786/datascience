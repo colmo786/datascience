{
 "cells": [
  {
   "cell_type": "markdown",
   "id": "95a773f1-04a6-4348-98da-8c3666587746",
   "metadata": {},
   "source": [
    "# Pytube\n",
    "pytube is a lightweight, Pythonic, dependency-free, library (and command-line utility) for downloading YouTube Videos.\n",
    "\n",
    "Read the docs: https://pytube.io/en/latest/\n",
    "\n",
    "https://pypi.org/project/pytube/\n",
    "\n",
    "https://stackoverflow.com/questions/27473526/download-only-audio-from-youtube-video-using-youtube-dl-in-python-script\n",
    "\n",
    "# From mp4 to mp3\n",
    "NO LO PUDE HACER FUNCIONAR, PORQUE LOS MP4 SE BAJAN SIN VIDEO.\n",
    "https://stackoverflow.com/questions/55081352/how-to-convert-mp4-to-mp3-using-python\n",
    "\n",
    "Read the docs: https://pypi.org/project/moviepy/\n",
    "\n",
    "https://es.stackoverflow.com/questions/411465/c%C3%B3mo-convertir-con-python-un-archivo-mp4-a-mp3-320kbps"
   ]
  },
  {
   "cell_type": "code",
   "execution_count": 2,
   "id": "9d1c94ee-1102-447d-9945-b53337073310",
   "metadata": {},
   "outputs": [],
   "source": [
    "#pip install pytube\n",
    "from pytube import YouTube"
   ]
  },
  {
   "cell_type": "code",
   "execution_count": 39,
   "id": "16de01bf-1e01-4955-831e-73baecc6d990",
   "metadata": {},
   "outputs": [],
   "source": [
    "#pip install moviepy\n",
    "#import moviepy.editor as mp"
   ]
  },
  {
   "cell_type": "code",
   "execution_count": 3,
   "id": "adb88f81-a0a6-497e-8ddb-028db8d7cc3e",
   "metadata": {},
   "outputs": [],
   "source": [
    "import os"
   ]
  },
  {
   "cell_type": "code",
   "execution_count": 4,
   "id": "90461840-e307-4564-9069-c18ae71abb72",
   "metadata": {},
   "outputs": [],
   "source": [
    "yt = YouTube('https://www.youtube.com/watch?v=T6Es4yNHEIM')\n",
    "video = yt.streams.filter(only_audio=True).first()\n",
    "out_file = video.download(output_path=\".\")\n",
    "base, ext = os.path.splitext(out_file)\n",
    "new_file = base + '.mp3'\n",
    "os.rename(out_file, new_file)"
   ]
  },
  {
   "cell_type": "code",
   "execution_count": 24,
   "id": "afd548b8-0299-409d-a734-fd496f5b6030",
   "metadata": {},
   "outputs": [
    {
     "data": {
      "text/plain": [
       "[<Stream: itag=\"137\" mime_type=\"video/mp4\" res=\"1080p\" fps=\"25fps\" vcodec=\"avc1.640028\" progressive=\"False\" type=\"video\">, <Stream: itag=\"248\" mime_type=\"video/webm\" res=\"1080p\" fps=\"25fps\" vcodec=\"vp9\" progressive=\"False\" type=\"video\">, <Stream: itag=\"136\" mime_type=\"video/mp4\" res=\"720p\" fps=\"25fps\" vcodec=\"avc1.4d401f\" progressive=\"False\" type=\"video\">, <Stream: itag=\"247\" mime_type=\"video/webm\" res=\"720p\" fps=\"25fps\" vcodec=\"vp9\" progressive=\"False\" type=\"video\">, <Stream: itag=\"135\" mime_type=\"video/mp4\" res=\"480p\" fps=\"25fps\" vcodec=\"avc1.4d401e\" progressive=\"False\" type=\"video\">, <Stream: itag=\"244\" mime_type=\"video/webm\" res=\"480p\" fps=\"25fps\" vcodec=\"vp9\" progressive=\"False\" type=\"video\">, <Stream: itag=\"134\" mime_type=\"video/mp4\" res=\"360p\" fps=\"25fps\" vcodec=\"avc1.4d401e\" progressive=\"False\" type=\"video\">, <Stream: itag=\"243\" mime_type=\"video/webm\" res=\"360p\" fps=\"25fps\" vcodec=\"vp9\" progressive=\"False\" type=\"video\">, <Stream: itag=\"133\" mime_type=\"video/mp4\" res=\"240p\" fps=\"25fps\" vcodec=\"avc1.4d4015\" progressive=\"False\" type=\"video\">, <Stream: itag=\"242\" mime_type=\"video/webm\" res=\"240p\" fps=\"25fps\" vcodec=\"vp9\" progressive=\"False\" type=\"video\">, <Stream: itag=\"160\" mime_type=\"video/mp4\" res=\"144p\" fps=\"25fps\" vcodec=\"avc1.4d400c\" progressive=\"False\" type=\"video\">, <Stream: itag=\"278\" mime_type=\"video/webm\" res=\"144p\" fps=\"25fps\" vcodec=\"vp9\" progressive=\"False\" type=\"video\">, <Stream: itag=\"139\" mime_type=\"audio/mp4\" abr=\"48kbps\" acodec=\"mp4a.40.5\" progressive=\"False\" type=\"audio\">, <Stream: itag=\"140\" mime_type=\"audio/mp4\" abr=\"128kbps\" acodec=\"mp4a.40.2\" progressive=\"False\" type=\"audio\">, <Stream: itag=\"249\" mime_type=\"audio/webm\" abr=\"50kbps\" acodec=\"opus\" progressive=\"False\" type=\"audio\">, <Stream: itag=\"250\" mime_type=\"audio/webm\" abr=\"70kbps\" acodec=\"opus\" progressive=\"False\" type=\"audio\">, <Stream: itag=\"251\" mime_type=\"audio/webm\" abr=\"160kbps\" acodec=\"opus\" progressive=\"False\" type=\"audio\">]"
      ]
     },
     "execution_count": 24,
     "metadata": {},
     "output_type": "execute_result"
    }
   ],
   "source": [
    "yt.streams.filter(adaptive=True)"
   ]
  },
  {
   "cell_type": "code",
   "execution_count": 23,
   "id": "db8c4cb6-c205-4e73-ac8b-da645bf4cf7f",
   "metadata": {},
   "outputs": [
    {
     "data": {
      "text/plain": [
       "[<Stream: itag=\"139\" mime_type=\"audio/mp4\" abr=\"48kbps\" acodec=\"mp4a.40.5\" progressive=\"False\" type=\"audio\">, <Stream: itag=\"140\" mime_type=\"audio/mp4\" abr=\"128kbps\" acodec=\"mp4a.40.2\" progressive=\"False\" type=\"audio\">, <Stream: itag=\"249\" mime_type=\"audio/webm\" abr=\"50kbps\" acodec=\"opus\" progressive=\"False\" type=\"audio\">, <Stream: itag=\"250\" mime_type=\"audio/webm\" abr=\"70kbps\" acodec=\"opus\" progressive=\"False\" type=\"audio\">, <Stream: itag=\"251\" mime_type=\"audio/webm\" abr=\"160kbps\" acodec=\"opus\" progressive=\"False\" type=\"audio\">]"
      ]
     },
     "execution_count": 23,
     "metadata": {},
     "output_type": "execute_result"
    }
   ],
   "source": [
    "yt.streams.filter(only_audio=True)"
   ]
  },
  {
   "cell_type": "code",
   "execution_count": 109,
   "id": "d3787751-a400-4c92-b2d5-a9bc05f6814c",
   "metadata": {},
   "outputs": [],
   "source": [
    "#yt = YouTube('https://www.youtube.com/watch?v=pGjWccgKUgk') # Soy sabalero\n",
    "#yt = YouTube('https://www.youtube.com/watch?v=Veq3qt0DKZU') # Inocente\n",
    "#yt = YouTube('https://www.youtube.com/watch?v=T6Es4yNHEIM') # la k'onga universo paralelo\n",
    "#yt = YouTube('https://www.youtube.com/watch?v=8TSjHJX95-Y') # la k'onga te mentiría\n",
    "#yt = YouTube('https://www.youtube.com/watch?v=IyMlJRnkrYM') # la k'onga te perdiste mi amor\n",
    "#yt = YouTube('https://www.youtube.com/watch?v=trJrHxE9voE') # los palmeras perra\n",
    "#yt = YouTube('https://www.youtube.com/watch?v=qE6dICV2Jyo') # los palmeras perra remix\n",
    "#yt = YouTube('https://www.youtube.com/watch?v=JAfX5kZzKs4') # Abel pintos, la delio, Karina. Paisaje\n",
    "#yt = YouTube('https://www.youtube.com/watch?v=3vwjQICscsc') # Rodrigo. La mano de dios\n",
    "#yt = YouTube('https://www.youtube.com/watch?v=_Vijb77r3VE') # Agapornis. Si te vas\n",
    "#yt = YouTube('https://www.youtube.com/watch?v=KGYX3wIb-Go') # Los totoras. Márchate Ahora\n",
    "#yt = YouTube('https://www.youtube.com/watch?v=TJgw0LIwZP8') # Grupo Play + vi-em. Quiero verte bailar.\n",
    "#yt = YouTube('https://www.youtube.com/watch?v=jR5bCU_NmWo') # Grupo Play + vi-em. Quiero verte bailar. REMIX\n",
    "#yt = YouTube('https://www.youtube.com/watch?v=teON5axS2UM') # Maramá. Nena\n",
    "#yt = YouTube('https://www.youtube.com/watch?v=AHDPjZ1syQg') # Parangolé. To chegando lá.\n",
    "#yt = YouTube('https://www.youtube.com/watch?v=V7tVwORuyFo') # Pitbull - Feel this moment remix\n",
    "#yt = YouTube('https://www.youtube.com/watch?v=X48mxG8N6CM') # Amar Azul - Yo me enamoré\n",
    "#yt = YouTube('https://www.youtube.com/watch?v=Wo7iER03Zy8') # banda xxi. qué bonito\n",
    "#yt = YouTube('https://www.youtube.com/watch?v=eIE_qwIiMTE') # la nueva luna. ahora te vas\n",
    "#yt = YouTube('https://www.youtube.com/watch?v=TAKwF__S-CM') # Ulises bueno. Dale, vieja, dale\n",
    "#yt = YouTube('https://www.youtube.com/watch?v=ot6ns6VB4Dc') # bob marley. i wanna love you\n",
    "#yt = YouTube('https://www.youtube.com/watch?v=oqVy6eRXc7Q') # bob marley. jamming\n",
    "#yt = YouTube('https://www.youtube.com/watch?v=QMbvpftTEUs') # bob marley. one love.\n",
    "#yt = YouTube('https://www.youtube.com/watch?v=HNBCVM4KbUM') # bob marley. three little birds\n",
    "#yt = YouTube('https://www.youtube.com/watch?v=j7uxvgJcWqc') # no te va a gustar. A las nueve\n",
    "#yt = YouTube('https://www.youtube.com/watch?v=Erx1ISpHWbA') # no te va a gustar. Cero a la izquierda\n",
    "#yt = YouTube('https://www.youtube.com/watch?v=YglZ5BzPbYs') # no te va a gustar. Chau\n",
    "#yt = YouTube('https://www.youtube.com/watch?v=9e7_MzTR8oE') # no te va a gustar. No te imaginas\n",
    "#yt = YouTube('https://www.youtube.com/watch?v=8oP9fVZ25H8') # no te va a gustar. Tan Lejos (vivo)\n",
    "#yt = YouTube('https://www.youtube.com/watch?v=QmqYQRkszGA') # U2 Angel of harlem\n",
    "#yt = YouTube('https://www.youtube.com/watch?v=Wun6zDSpwkg') # Cerati-Mederos. Vuelta por el universo\n",
    "#yt = YouTube('https://www.youtube.com/watch?v=L7kYDDKEJKc') # Ciro. Antes y después\n",
    "#yt = YouTube('https://www.youtube.com/watch?v=Imm0ISKlhgM') # Cetpecu. Magia Veneno\n",
    "#yt = YouTube('https://www.youtube.com/watch?v=yywL2rc-QZM') # Cerati. Lago en el cielo\n",
    "#yt = YouTube('https://www.youtube.com/watch?v=brGNU9rlL80') # nonpalidece. La flor\n",
    "#yt = YouTube('https://www.youtube.com/watch?v=zlpEH3h8gag') # Fito Paez. Cable a Tierra\n",
    "#yt = YouTube('https://www.youtube.com/watch?v=Z7AERldCALc') # Charly García. Hablando a tu corazón\n",
    "#yt = YouTube('https://www.youtube.com/watch?v=FmB93Ky00vM') # Juan carlos Baglietto. El Tempano\n",
    "#yt = YouTube('https://www.youtube.com/watch?v=7WPlsff0OTY') # Silvina garre. Canción del pinar\n",
    "#yt = YouTube('https://www.youtube.com/watch?v=GBdMAYE03Kc') # Tango 4. Tu amor\n",
    "#yt = YouTube('https://www.youtube.com/watch?v=wFCpNO0o638') # Fito Paez. El amor después del amor\n",
    "#yt = YouTube('https://www.youtube.com/watch?v=dUU4vo1UfUU') # Charly. Buscando un simbolo de paz\n",
    "#yt = YouTube('https://www.youtube.com/watch?v=CiuqIVY4C-M') # Charly. Rezo por vos unplugged\n",
    "#yt = YouTube('https://www.youtube.com/watch?v=gzEcj4NMAKA') # Abel pintos. Juntos\n",
    "#yt = YouTube('https://www.youtube.com/watch?v=1MibkygUPLU') # Abel pintos. Somos uno\n",
    "#yt = YouTube('https://www.youtube.com/watch?v=zSStSA6-YYw') # Abel. Motivos\n",
    "#yt = YouTube('https://www.youtube.com/watch?v=B7XnFAErUbs') # Bandana. Llega la noche\n",
    "#yt = YouTube('https://www.youtube.com/watch?v=IFxv42xPPXU') # Mambru. A veces\n",
    "#yt = YouTube('https://www.youtube.com/watch?v=e5-pnDc5GlI') # Donato y Estefano. Sin Ti\n",
    "#yt = YouTube('https://www.youtube.com/watch?v=qOn-IfUTevE') # Pitbul rain over me remix\n",
    "#yt = YouTube('https://www.youtube.com/watch?v=edkUPhEFBa4') # Pitbul rain over me remix\n",
    "#yt = YouTube('https://www.youtube.com/watch?v=JIxVkzXP7Zg') # Maramá. Loquita Remix\n",
    "#yt = YouTube('https://www.youtube.com/watch?v=efsuVe5kJCA') # Grupo Play. Llora me llama\n",
    "#yt = YouTube('https://www.youtube.com/watch?v=GnivKpaOE24') # Despacito Remix\n",
    "#yt = YouTube('https://www.youtube.com/watch?v=0DWgBhyPwSs') # Rodrigo la pelicula. Como olvidarla\n",
    "#yt = YouTube('https://www.youtube.com/watch?v=jgW7T0T1wf8') # Rodrigo La pelicula. Soy Cordobes\n",
    "#yt = YouTube('https://www.youtube.com/watch?v=SgsLGPu34Lg') # Rodrigo la pelicula. Himno del cucumelo\n",
    "#yt = YouTube('https://www.youtube.com/watch?v=rf2jwgSXJVM') # Ricky Martin La bomba\n",
    "#yt = YouTube('https://www.youtube.com/watch?v=c20iW0IN904') # Paisaje Abel la princecita la delio\n",
    "yt = YouTube('https://www.youtube.com/watch?v=z37itRHJxGs') # Perreo Folclorico\n",
    "stream = yt.streams.get_by_itag(139)\n",
    "out_file = stream.download(output_path=\".\")"
   ]
  },
  {
   "cell_type": "code",
   "execution_count": 27,
   "id": "ccea8376-26fb-4f65-99ba-ecc5ea9af39b",
   "metadata": {},
   "outputs": [
    {
     "data": {
      "text/plain": [
       "'C:\\\\Users\\\\Usuario\\\\OneDrive\\\\0-Data Science\\\\data_science\\\\datascience\\\\sounds\\\\.\\\\LA DELIO VALDEZ - Inocente  (Sonido Subtropical).mp4'"
      ]
     },
     "execution_count": 27,
     "metadata": {},
     "output_type": "execute_result"
    }
   ],
   "source": [
    "out_file"
   ]
  },
  {
   "cell_type": "code",
   "execution_count": 16,
   "id": "51d24f97-6f48-4d91-acd0-41be770e501c",
   "metadata": {},
   "outputs": [],
   "source": [
    "#from pytube.metadata import YouTubeMetadata\n",
    "#from pytube import extract\n",
    "#meta = yt.metadata"
   ]
  },
  {
   "cell_type": "code",
   "execution_count": 40,
   "id": "41a0a250-6bdc-4893-85db-7e74e7735759",
   "metadata": {},
   "outputs": [],
   "source": [
    "#Cargamos el fichero .mp4 ERROR\n",
    "#clip = mp.VideoFileClip(out_file)"
   ]
  },
  {
   "cell_type": "code",
   "execution_count": 41,
   "id": "a6835732-e28c-412e-9363-309f84430063",
   "metadata": {},
   "outputs": [],
   "source": [
    "#Lo escribimos como audio y `.mp3`\n",
    "#base, ext = os.path.splitext(out_file)\n",
    "#new_file = base + '.mp3'\n",
    "\n",
    "#clip.audio.write_audiofile(new_file)"
   ]
  },
  {
   "cell_type": "code",
   "execution_count": null,
   "id": "54a1ae54-f40f-485a-8e2f-cf9443876ea8",
   "metadata": {},
   "outputs": [],
   "source": []
  }
 ],
 "metadata": {
  "kernelspec": {
   "display_name": "Python 3.8 (pampa)",
   "language": "python",
   "name": "pampa"
  },
  "language_info": {
   "codemirror_mode": {
    "name": "ipython",
    "version": 3
   },
   "file_extension": ".py",
   "mimetype": "text/x-python",
   "name": "python",
   "nbconvert_exporter": "python",
   "pygments_lexer": "ipython3",
   "version": "3.8.12"
  }
 },
 "nbformat": 4,
 "nbformat_minor": 5
}
