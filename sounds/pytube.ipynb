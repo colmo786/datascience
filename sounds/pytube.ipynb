{
 "cells": [
  {
   "cell_type": "markdown",
   "id": "95a773f1-04a6-4348-98da-8c3666587746",
   "metadata": {},
   "source": [
    "# Pytube\n",
    "pytube is a lightweight, Pythonic, dependency-free, library (and command-line utility) for downloading YouTube Videos.\n",
    "\n",
    "Read the docs: https://pytube.io/en/latest/\n",
    "\n",
    "https://pypi.org/project/pytube/\n",
    "\n",
    "https://stackoverflow.com/questions/27473526/download-only-audio-from-youtube-video-using-youtube-dl-in-python-script\n",
    "\n",
    "# From mp4 to mp3\n",
    "NO LO PUDE HACER FUNCIONAR, PORQUE LOS MP4 SE BAJAN SIN VIDEO.\n",
    "https://stackoverflow.com/questions/55081352/how-to-convert-mp4-to-mp3-using-python\n",
    "\n",
    "Read the docs: https://pypi.org/project/moviepy/\n",
    "\n",
    "https://es.stackoverflow.com/questions/411465/c%C3%B3mo-convertir-con-python-un-archivo-mp4-a-mp3-320kbps"
   ]
  },
  {
   "cell_type": "code",
   "execution_count": 1,
   "id": "9d1c94ee-1102-447d-9945-b53337073310",
   "metadata": {},
   "outputs": [],
   "source": [
    "#pip install pytube\n",
    "from pytube import YouTube"
   ]
  },
  {
   "cell_type": "code",
   "execution_count": 3,
   "id": "16de01bf-1e01-4955-831e-73baecc6d990",
   "metadata": {},
   "outputs": [],
   "source": [
    "#pip install moviepy\n",
    "#import moviepy.editor as mp"
   ]
  },
  {
   "cell_type": "code",
   "execution_count": 2,
   "id": "adb88f81-a0a6-497e-8ddb-028db8d7cc3e",
   "metadata": {},
   "outputs": [],
   "source": [
    "import os"
   ]
  },
  {
   "cell_type": "code",
   "execution_count": 3,
   "id": "90461840-e307-4564-9069-c18ae71abb72",
   "metadata": {},
   "outputs": [],
   "source": [
    "yt = YouTube('https://www.youtube.com/watch?v=T6Es4yNHEIM')\n",
    "video = yt.streams.filter(only_audio=True).first()\n",
    "out_file = video.download(output_path=\".\")\n",
    "base, ext = os.path.splitext(out_file)\n",
    "new_file = base + '.mp3'\n",
    "os.rename(out_file, new_file)"
   ]
  },
  {
   "cell_type": "code",
   "execution_count": 6,
   "id": "afd548b8-0299-409d-a734-fd496f5b6030",
   "metadata": {},
   "outputs": [
    {
     "data": {
      "text/plain": [
       "[<Stream: itag=\"137\" mime_type=\"video/mp4\" res=\"1080p\" fps=\"25fps\" vcodec=\"avc1.640028\" progressive=\"False\" type=\"video\">, <Stream: itag=\"248\" mime_type=\"video/webm\" res=\"1080p\" fps=\"25fps\" vcodec=\"vp9\" progressive=\"False\" type=\"video\">, <Stream: itag=\"399\" mime_type=\"video/mp4\" res=\"1080p\" fps=\"25fps\" vcodec=\"av01.0.08M.08\" progressive=\"False\" type=\"video\">, <Stream: itag=\"136\" mime_type=\"video/mp4\" res=\"720p\" fps=\"25fps\" vcodec=\"avc1.4d401f\" progressive=\"False\" type=\"video\">, <Stream: itag=\"247\" mime_type=\"video/webm\" res=\"720p\" fps=\"25fps\" vcodec=\"vp9\" progressive=\"False\" type=\"video\">, <Stream: itag=\"398\" mime_type=\"video/mp4\" res=\"720p\" fps=\"25fps\" vcodec=\"av01.0.05M.08\" progressive=\"False\" type=\"video\">, <Stream: itag=\"135\" mime_type=\"video/mp4\" res=\"480p\" fps=\"25fps\" vcodec=\"avc1.4d401e\" progressive=\"False\" type=\"video\">, <Stream: itag=\"244\" mime_type=\"video/webm\" res=\"480p\" fps=\"25fps\" vcodec=\"vp9\" progressive=\"False\" type=\"video\">, <Stream: itag=\"397\" mime_type=\"video/mp4\" res=\"480p\" fps=\"25fps\" vcodec=\"av01.0.04M.08\" progressive=\"False\" type=\"video\">, <Stream: itag=\"134\" mime_type=\"video/mp4\" res=\"360p\" fps=\"25fps\" vcodec=\"avc1.4d4015\" progressive=\"False\" type=\"video\">, <Stream: itag=\"243\" mime_type=\"video/webm\" res=\"360p\" fps=\"25fps\" vcodec=\"vp9\" progressive=\"False\" type=\"video\">, <Stream: itag=\"396\" mime_type=\"video/mp4\" res=\"360p\" fps=\"25fps\" vcodec=\"av01.0.01M.08\" progressive=\"False\" type=\"video\">, <Stream: itag=\"133\" mime_type=\"video/mp4\" res=\"240p\" fps=\"25fps\" vcodec=\"avc1.4d400d\" progressive=\"False\" type=\"video\">, <Stream: itag=\"242\" mime_type=\"video/webm\" res=\"240p\" fps=\"25fps\" vcodec=\"vp9\" progressive=\"False\" type=\"video\">, <Stream: itag=\"395\" mime_type=\"video/mp4\" res=\"240p\" fps=\"25fps\" vcodec=\"av01.0.00M.08\" progressive=\"False\" type=\"video\">, <Stream: itag=\"160\" mime_type=\"video/mp4\" res=\"144p\" fps=\"25fps\" vcodec=\"avc1.4d400c\" progressive=\"False\" type=\"video\">, <Stream: itag=\"278\" mime_type=\"video/webm\" res=\"144p\" fps=\"25fps\" vcodec=\"vp9\" progressive=\"False\" type=\"video\">, <Stream: itag=\"394\" mime_type=\"video/mp4\" res=\"144p\" fps=\"25fps\" vcodec=\"av01.0.00M.08\" progressive=\"False\" type=\"video\">, <Stream: itag=\"139\" mime_type=\"audio/mp4\" abr=\"48kbps\" acodec=\"mp4a.40.5\" progressive=\"False\" type=\"audio\">, <Stream: itag=\"140\" mime_type=\"audio/mp4\" abr=\"128kbps\" acodec=\"mp4a.40.2\" progressive=\"False\" type=\"audio\">, <Stream: itag=\"249\" mime_type=\"audio/webm\" abr=\"50kbps\" acodec=\"opus\" progressive=\"False\" type=\"audio\">, <Stream: itag=\"250\" mime_type=\"audio/webm\" abr=\"70kbps\" acodec=\"opus\" progressive=\"False\" type=\"audio\">, <Stream: itag=\"251\" mime_type=\"audio/webm\" abr=\"160kbps\" acodec=\"opus\" progressive=\"False\" type=\"audio\">]"
      ]
     },
     "execution_count": 6,
     "metadata": {},
     "output_type": "execute_result"
    }
   ],
   "source": [
    "yt.streams.filter(adaptive=True)"
   ]
  },
  {
   "cell_type": "code",
   "execution_count": 16,
   "id": "db8c4cb6-c205-4e73-ac8b-da645bf4cf7f",
   "metadata": {},
   "outputs": [
    {
     "data": {
      "text/plain": [
       "[<Stream: itag=\"139\" mime_type=\"audio/mp4\" abr=\"48kbps\" acodec=\"mp4a.40.5\" progressive=\"False\" type=\"audio\">, <Stream: itag=\"140\" mime_type=\"audio/mp4\" abr=\"128kbps\" acodec=\"mp4a.40.2\" progressive=\"False\" type=\"audio\">, <Stream: itag=\"249\" mime_type=\"audio/webm\" abr=\"50kbps\" acodec=\"opus\" progressive=\"False\" type=\"audio\">, <Stream: itag=\"250\" mime_type=\"audio/webm\" abr=\"70kbps\" acodec=\"opus\" progressive=\"False\" type=\"audio\">, <Stream: itag=\"251\" mime_type=\"audio/webm\" abr=\"160kbps\" acodec=\"opus\" progressive=\"False\" type=\"audio\">]"
      ]
     },
     "execution_count": 16,
     "metadata": {},
     "output_type": "execute_result"
    }
   ],
   "source": [
    "yt.streams.filter(only_audio=True)"
   ]
  },
  {
   "cell_type": "code",
   "execution_count": 70,
   "id": "d3787751-a400-4c92-b2d5-a9bc05f6814c",
   "metadata": {},
   "outputs": [],
   "source": [
    "#yt = YouTube('https://www.youtube.com/watch?v=pGjWccgKUgk') # Soy sabalero\n",
    "#yt = YouTube('https://www.youtube.com/watch?v=Veq3qt0DKZU') # Inocente\n",
    "#yt = YouTube('https://www.youtube.com/watch?v=T6Es4yNHEIM') # la k'onga universo paralelo\n",
    "#yt = YouTube('https://www.youtube.com/watch?v=8TSjHJX95-Y') # la k'onga te mentiría\n",
    "#yt = YouTube('https://www.youtube.com/watch?v=IyMlJRnkrYM') # la k'onga te perdiste mi amor\n",
    "#yt = YouTube('https://www.youtube.com/watch?v=trJrHxE9voE') # los palmeras perra\n",
    "#yt = YouTube('https://www.youtube.com/watch?v=qE6dICV2Jyo') # los palmeras perra remix\n",
    "#yt = YouTube('https://www.youtube.com/watch?v=JAfX5kZzKs4') # Abel pintos, la delio, Karina. Paisaje\n",
    "#yt = YouTube('https://www.youtube.com/watch?v=3vwjQICscsc') # Rodrigo. La mano de dios\n",
    "#yt = YouTube('https://www.youtube.com/watch?v=_Vijb77r3VE') # Agapornis. Si te vas\n",
    "#yt = YouTube('https://www.youtube.com/watch?v=KGYX3wIb-Go') # Los totoras. Márchate Ahora\n",
    "#yt = YouTube('https://www.youtube.com/watch?v=TJgw0LIwZP8') # Grupo Play + vi-em. Quiero verte bailar.\n",
    "#yt = YouTube('https://www.youtube.com/watch?v=jR5bCU_NmWo') # Grupo Play + vi-em. Quiero verte bailar. REMIX\n",
    "#yt = YouTube('https://www.youtube.com/watch?v=teON5axS2UM') # Maramá. Nena\n",
    "#yt = YouTube('https://www.youtube.com/watch?v=AHDPjZ1syQg') # Parangolé. To chegando lá.\n",
    "#yt = YouTube('https://www.youtube.com/watch?v=V7tVwORuyFo') # Pitbull - Feel this moment remix\n",
    "#yt = YouTube('https://www.youtube.com/watch?v=X48mxG8N6CM') # Amar Azul - Yo me enamoré\n",
    "#yt = YouTube('https://www.youtube.com/watch?v=Wo7iER03Zy8') # banda xxi. qué bonito\n",
    "#yt = YouTube('https://www.youtube.com/watch?v=eIE_qwIiMTE') # la nueva luna. ahora te vas\n",
    "#yt = YouTube('https://www.youtube.com/watch?v=TAKwF__S-CM') # Ulises bueno. Dale, vieja, dale\n",
    "#yt = YouTube('https://www.youtube.com/watch?v=ot6ns6VB4Dc') # bob marley. i wanna love you\n",
    "#yt = YouTube('https://www.youtube.com/watch?v=oqVy6eRXc7Q') # bob marley. jamming\n",
    "#yt = YouTube('https://www.youtube.com/watch?v=QMbvpftTEUs') # bob marley. one love.\n",
    "#yt = YouTube('https://www.youtube.com/watch?v=HNBCVM4KbUM') # bob marley. three little birds\n",
    "#yt = YouTube('https://www.youtube.com/watch?v=j7uxvgJcWqc') # no te va a gustar. A las nueve\n",
    "#yt = YouTube('https://www.youtube.com/watch?v=Erx1ISpHWbA') # no te va a gustar. Cero a la izquierda\n",
    "#yt = YouTube('https://www.youtube.com/watch?v=YglZ5BzPbYs') # no te va a gustar. Chau\n",
    "#yt = YouTube('https://www.youtube.com/watch?v=9e7_MzTR8oE') # no te va a gustar. No te imaginas\n",
    "#yt = YouTube('https://www.youtube.com/watch?v=8oP9fVZ25H8') # no te va a gustar. Tan Lejos (vivo)\n",
    "#yt = YouTube('https://www.youtube.com/watch?v=QmqYQRkszGA') # U2 Angel of harlem\n",
    "#yt = YouTube('https://www.youtube.com/watch?v=Wun6zDSpwkg') # Cerati-Mederos. Vuelta por el universo\n",
    "#yt = YouTube('https://www.youtube.com/watch?v=L7kYDDKEJKc') # Ciro. Antes y después\n",
    "#yt = YouTube('https://www.youtube.com/watch?v=Imm0ISKlhgM') # Cetpecu. Magia Veneno\n",
    "#yt = YouTube('https://www.youtube.com/watch?v=yywL2rc-QZM') # Cerati. Lago en el cielo\n",
    "#yt = YouTube('https://www.youtube.com/watch?v=brGNU9rlL80') # nonpalidece. La flor\n",
    "#yt = YouTube('https://www.youtube.com/watch?v=zlpEH3h8gag') # Fito Paez. Cable a Tierra\n",
    "#yt = YouTube('https://www.youtube.com/watch?v=Z7AERldCALc') # Charly García. Hablando a tu corazón\n",
    "#yt = YouTube('https://www.youtube.com/watch?v=FmB93Ky00vM') # Juan carlos Baglietto. El Tempano\n",
    "#yt = YouTube('https://www.youtube.com/watch?v=7WPlsff0OTY') # Silvina garre. Canción del pinar\n",
    "#yt = YouTube('https://www.youtube.com/watch?v=GBdMAYE03Kc') # Tango 4. Tu amor\n",
    "#yt = YouTube('https://www.youtube.com/watch?v=wFCpNO0o638') # Fito Paez. El amor después del amor\n",
    "#yt = YouTube('https://www.youtube.com/watch?v=dUU4vo1UfUU') # Charly. Buscando un simbolo de paz\n",
    "#yt = YouTube('https://www.youtube.com/watch?v=CiuqIVY4C-M') # Charly. Rezo por vos unplugged\n",
    "#yt = YouTube('https://www.youtube.com/watch?v=gzEcj4NMAKA') # Abel pintos. Juntos\n",
    "#yt = YouTube('https://www.youtube.com/watch?v=1MibkygUPLU') # Abel pintos. Somos uno\n",
    "#yt = YouTube('https://www.youtube.com/watch?v=zSStSA6-YYw') # Abel. Motivos\n",
    "#yt = YouTube('https://www.youtube.com/watch?v=B7XnFAErUbs') # Bandana. Llega la noche\n",
    "#yt = YouTube('https://www.youtube.com/watch?v=IFxv42xPPXU') # Mambru. A veces\n",
    "#yt = YouTube('https://www.youtube.com/watch?v=e5-pnDc5GlI') # Donato y Estefano. Sin Ti\n",
    "#yt = YouTube('https://www.youtube.com/watch?v=qOn-IfUTevE') # Pitbul rain over me remix\n",
    "#yt = YouTube('https://www.youtube.com/watch?v=edkUPhEFBa4') # Pitbul rain over me remix\n",
    "#yt = YouTube('https://www.youtube.com/watch?v=JIxVkzXP7Zg') # Maramá. Loquita Remix\n",
    "#yt = YouTube('https://www.youtube.com/watch?v=efsuVe5kJCA') # Grupo Play. Llora me llama\n",
    "#yt = YouTube('https://www.youtube.com/watch?v=GnivKpaOE24') # Despacito Remix\n",
    "#yt = YouTube('https://www.youtube.com/watch?v=0DWgBhyPwSs') # Rodrigo la pelicula. Como olvidarla\n",
    "#yt = YouTube('https://www.youtube.com/watch?v=jgW7T0T1wf8') # Rodrigo La pelicula. Soy Cordobes\n",
    "#yt = YouTube('https://www.youtube.com/watch?v=SgsLGPu34Lg') # Rodrigo la pelicula. Himno del cucumelo\n",
    "#yt = YouTube('https://www.youtube.com/watch?v=rf2jwgSXJVM') # Ricky Martin La bomba\n",
    "#yt = YouTube('https://www.youtube.com/watch?v=c20iW0IN904') # Paisaje Abel la princecita la delio\n",
    "#yt = YouTube('https://www.youtube.com/watch?v=z37itRHJxGs') # Perreo Folclorico\n",
    "#yt = YouTube('https://www.youtube.com/watch?v=bz4Y0r79Oo8') # Spending my time freestyle\n",
    "#yt = YouTube('https://www.youtube.com/watch?v=7AIQ9vBYuS8&list=UUlrE8_XpE8nsA0pUXl0WsKw&index=20') # For ever young freestyle\n",
    "#yt = YouTube('https://www.youtube.com/watch?v=Z_x8uma2yYQ&list=UUlrE8_XpE8nsA0pUXl0WsKw&index=48') # Final countdown freestyle\n",
    "#yt = YouTube('https://www.youtube.com/watch?v=k6WLbh6tDXk') # The look remix\n",
    "#yt = YouTube('https://www.youtube.com/watch?v=-Fs3UcO_JhU') # Sing, Sing Around my Dreams (extended) Silver Pozzoli\n",
    "#yt = YouTube('https://www.youtube.com/watch?v=kTu0mvstuqE') # Don Quichotte Magazine 60\n",
    "#yt = YouTube('https://www.youtube.com/watch?v=zbtNeGQF95w') # Just an Illusion - Imagination (1982)\n",
    "#yt = YouTube('https://www.youtube.com/watch?v=MUijJbEyMiI') # Yazoo - Situation\n",
    "#yt = YouTube('https://www.youtube.com/watch?v=_erd8-u8BE8') # Yazoo - Situation HD\n",
    "#yt = YouTube('https://www.youtube.com/watch?v=q-zNBww2XFI') # Whitnet Houston - Greatest Love of All(Club 69 Mix)\n",
    "#yt = YouTube('https://www.youtube.com/watch?v=w_w-gj5SuIg') # Never Stop me from loving you - Sonia\n",
    "#yt = YouTube('https://www.youtube.com/watch?v=P6Agwu_5J14') # You Came - Kim Wilde\n",
    "#yt = YouTube('https://www.youtube.com/watch?v=A0bql1p610g') # You Came - Kim Wilde (Shep Pettibone remix)\n",
    "#yt = YouTube('https://www.youtube.com/watch?v=bY0p-hMdR8c') # Venus - Bananarama\n",
    "#yt = YouTube('https://www.youtube.com/watch?v=pEgdAhsVhX8') # Venus - Bananarama remix\n",
    "#yt = YouTube('https://www.youtube.com/watch?v=xYWTAL_bRpU') # Berlinda Carlise - Heaven is a place on heard (extended)\n",
    "#yt = YouTube('https://www.youtube.com/watch?v=NhaEZHEXsdc') # Berlinda Carlise - Heaven is a place on heard (remix tranqui)\n",
    "#yt = YouTube('https://www.youtube.com/watch?v=38eZpd8h2uQ') # Ken Laszlo - Tonight (Italo Disco 1985)\n",
    "#yt = YouTube('https://www.youtube.com/watch?v=k3y_zrHGUrE') # Mon Amour - Deblanc\n",
    "#yt = YouTube('https://www.youtube.com/watch?v=rinDmau_uJ8') # Mon Amour - Deblanc (Hi ENG)\n",
    "#yt = YouTube('https://www.youtube.com/watch?v=Ji-2oQHJ5f4') # Ricchi e Poveri - Sara perche ti amo\n",
    "#yt = YouTube('https://www.youtube.com/watch?v=WOHPGD62TfM') # Emanuel - Bella Señora\n",
    "#yt = YouTube('https://www.youtube.com/watch?v=onHcb5Spr7k') # Emanuel - Toda la vida\n",
    "#yt = YouTube('https://www.youtube.com/watch?v=qm88-bWUP2g') # Luis Miguel - Ahora te puedes marchar\n",
    "#yt = YouTube('https://www.youtube.com/watch?v=rWzjrM9m0As') # Luis MIguel - Cuando calienta el sol\n",
    "#yt = YouTube('https://www.youtube.com/watch?v=pOnxY24Y5vA') # Luis Miguel - Será que no me amas (blame it on the boogie)\n",
    "#yt = YouTube('https://www.youtube.com/watch?v=gBaRwNAjQbo') # Amistades Peligrosas - Me quedaré solo\n",
    "#yt = YouTube('https://www.youtube.com/watch?v=edCwF3TZVzU') # Mecano - Tu\n",
    "#yt = YouTube('https://www.youtube.com/watch?v=STnpL1COEyI') # Mecano - Un año más\n",
    "#yt = YouTube('https://www.youtube.com/watch?v=z2im3ICwFr4') # The Sacados - Ritmo de la noche\n",
    "#yt = YouTube('https://www.youtube.com/watch?v=8a-HfNE3EIo') # Vangelis - Chariots of Fire\n",
    "#yt = YouTube('https://www.youtube.com/watch?v=9jK-NcRmVcw') # Europe - The Final Countdown\n",
    "#yt = YouTube('https://www.youtube.com/watch?v=btPJPFnesV4') # Survivor - Eye of the Tiger\n",
    "#yt = YouTube('https://www.youtube.com/watch?v=bWcASV2sey0') # Bonnie Tyler - Holding up for a hero\n",
    "#yt = YouTube('https://www.youtube.com/watch?v=fW2j_6HkaJg') # Michael Jackson - Smooth Criminal (Electro remix)\n",
    "#yt = YouTube('https://www.youtube.com/watch?v=aclyuqS1MmA') # Michael Sembrello - Maniac (Flashdance)\n",
    "#yt = YouTube('https://www.youtube.com/watch?v=1G-y78tM1Aw') # Frank Stallone - Far from Over (Stallone) 1984 es de los Gibbs\n",
    "#yt = YouTube('https://www.youtube.com/watch?v=vLtmmFjxSoc') # Player - Baby come back\n",
    "#yt = YouTube('https://www.youtube.com/watch?v=-59rmRj4QnA') # George Harrison - My Sweet Lord\n",
    "#yt = YouTube('https://www.youtube.com/watch?v=oU6uUEwZ8FM') # The Mamas and the Papas - California Dreamin\n",
    "#yt = YouTube('https://www.youtube.com/watch?v=C7T4aQMxTTM') # The Archies - Sugar Sugar\n",
    "#yt = YouTube('https://www.youtube.com/watch?v=_a6fMVxTEI8') # Al Bano e Romina Power - Felicitá\n",
    "#yt = YouTube('https://www.youtube.com/watch?v=KLpAU0LiB7s') # Richi e Poveri - Mamma Maria\n",
    "#yt = YouTube('https://www.youtube.com/watch?v=mvVxcUCSzSU') # Righeira - Vamos a la Playa\n",
    "#yt = YouTube('https://www.youtube.com/watch?v=JnRw8bXVbPI') # The Verve - Bitter Sweet Symphony\n",
    "#yt = YouTube('https://www.youtube.com/watch?v=ZP69PLBqFUo') # Toto - Hold the line\n",
    "#yt = YouTube('https://www.youtube.com/watch?v=ggJI9dKBk48') # Van Halen - Jump\n",
    "#yt = YouTube('https://www.youtube.com/watch?v=9vWNauaZAgg') # AC/DC - Black in Black\n",
    "#yt = YouTube('https://www.youtube.com/watch?v=d9jhDwxt22Y') # Joan Jett - I love rock & roll\n",
    "#yt = YouTube('https://www.youtube.com/watch?v=SrnWp5O0DEs') # Ray Charles - Hit the Road Jack\n",
    "#yt = YouTube('https://www.youtube.com/watch?v=G6OYDUomYwI') # Natalia Oreiro - Cambio Dolor\n",
    "#yt = YouTube('https://www.youtube.com/watch?v=yJao84cHmEw') # Natalia Oreiro - Tu Veneno\n",
    "#yt = YouTube('https://www.youtube.com/watch?v=AjID4sy_vRY') # Thalia - Mujer Latina\n",
    "#yt = YouTube('https://www.youtube.com/watch?v=hMvthsr-3ZM') # Paulina Rubio - Y yo sigo aquí\n",
    "#yt = YouTube('https://www.youtube.com/watch?v=d5ajSPyzsLo') # Paulina Rubio - Lo haré por tí\n",
    "#yt = YouTube('https://www.youtube.com/watch?v=WcStL2TW1l8') # Jason Donovan - Too many broken hearts\n",
    "#yt = YouTube('https://www.youtube.com/watch?v=GL34ohOvsKk') # Jason Donovan - Too many broken hearts (extended)\n",
    "#yt = YouTube('https://www.youtube.com/watch?v=WYMWpGEqbD8') # Abba - Voulez Vous (Remix)\n",
    "#yt = YouTube('https://www.youtube.com/watch?v=M5vKIP0y1zM') # Chimo Bayo - Asi me Gusta a Mi (Extasi - Extano)\n",
    "#yt = YouTube('https://www.youtube.com/watch?v=graKroRK8Hg') # Rick Asley - Never gonna give you up (Instrumental)\n",
    "#yt = YouTube('https://www.youtube.com/watch?v=64m50oqkqi0') # Rick Asley - Never gonna give you up (remix)\n",
    "yt = YouTube('https://www.youtube.com/watch?v=UWfQJbXLfSc') # Modern Talking - Monalisa\n",
    "stream = yt.streams.get_by_itag(139)\n",
    "out_file = stream.download(output_path=\".\")"
   ]
  },
  {
   "cell_type": "code",
   "execution_count": 30,
   "id": "17dd39f0",
   "metadata": {},
   "outputs": [],
   "source": [
    "#yt = YouTube('https://www.youtube.com/watch?v=UH7Ph6bFH1A') # Crystal Waters - In da Ghetto\n",
    "#yt = YouTube('https://www.youtube.com/watch?v=elOCH3vcZFM') # Cristina Aguilera - Ven conmigo\n",
    "#yt = YouTube('https://www.youtube.com/watch?v=KqtEUw-3hV4') # Crystal Waters - Gypsi Woman (She's homeless)\n",
    "#yt = YouTube('https://www.youtube.com/watch?v=Puz-Psm_aSs') # Crystal Waters - Gypsi Woman (She's homeless) Remix\n",
    "#yt = YouTube('https://www.youtube.com/watch?v=4as-5OTwFG4') # db Boulevard - Point of View\n",
    "#yt = YouTube('https://www.youtube.com/watch?v=NMg2mhqJR8g') # Roger Sanchez - Another Chance\n",
    "#yt = YouTube('https://www.youtube.com/watch?v=mnvhHxjIgWo') # Madonna - Vogue\n",
    "#yt = YouTube('https://www.youtube.com/watch?v=gW8pyqQRo9o') # Madonna - Vogue (12\" version)\n",
    "#yt = YouTube('https://www.youtube.com/watch?v=aQs1Ynq0rlk') # Julian Lennon - Too Late for Goodbyes\n",
    "#yt = YouTube('https://www.youtube.com/watch?v=nj8JjrZ7gJI') # Whitney Houston - How will I know\n",
    "#yt = YouTube('https://www.youtube.com/watch?v=lYlkYkHkZxs') # Survivor - Burning Heart\n",
    "#yt = YouTube('https://www.youtube.com/watch?v=A52x1DOOJJM') # The Farm - All Together Now\n",
    "#yt = YouTube('https://www.youtube.com/watch?v=cLi8fTlDEag') # Olivia Newton Jhon - Xanadu\n",
    "#yt = YouTube('https://www.youtube.com/watch?v=bS33wtUDh10') # UB40 - I got you babe\n",
    "#yt = YouTube('https://www.youtube.com/watch?v=6XbGWeMS1R8') # Mike and the mechanics - All I need's a miracle\n",
    "#yt = YouTube('https://www.youtube.com/watch?v=6JCLY0Rlx6Q') # Walk the Moon - Shut up and dance\n",
    "#yt = YouTube('https://www.youtube.com/watch?v=4m1EFMoRFvY') # Beyonce - Single Ladies\n",
    "#yt = YouTube('https://www.youtube.com/watch?v=k4jR9P9YJGo') # The Killers - Human\n",
    "#yt = YouTube('https://www.youtube.com/watch?v=cJ-_xt4ncCQ') # Uniting Nations - Out of touch\n",
    "#yt = YouTube('https://www.youtube.com/watch?v=oygrmJFKYZY') # Dua Lipa - Don't Start Now\n",
    "#yt = YouTube('https://www.youtube.com/watch?v=TUVcZfQe-Kw') # Dua Lipa - Levitating\n",
    "#yt = YouTube('https://www.youtube.com/watch?v=3OnnDqH6Wj8') # Flo rida - Good Felling\n",
    "#yt = YouTube('https://www.youtube.com/watch?v=zh1JNLCzlLs') # Black Eyed Peas - The Time\n",
    "#yt = YouTube('https://www.youtube.com/watch?v=Xn676-fLq7I') # Kelly Clarkson - Stronger (What Doesn't Kill You)\n",
    "#yt = YouTube('https://youtu.be/b8XADglx9z4') # Majestic x Boney M. - Rasputin (2022 Remix)\n",
    "#yt = YouTube('https://youtu.be/1I3ebe7ykGI') # Roxette - Joyride\n",
    "#yt = YouTube('https://youtu.be/QQXROF4P3aQ') # Erasure - A Little Respect (Wall Barbosa Boot Mix 2019)\n",
    "#yt = YouTube('https://www.youtube.com/watch?v=iPOmFUid3vA') # 2 unlimited - Get ready for this\n",
    "#yt = YouTube('https://www.youtube.com/watch?v=nRgWukGWr68') # C+C Music Factory - Do You Wanna Get Funky\n",
    "#yt = YouTube('https://www.youtube.com/watch?v=5QzVEQ8dz2M') # Toni Basil - Mickey\n",
    "#yt = YouTube('https://www.youtube.com/watch?v=0VJ1NuAbEBI') # Jarry Lee Lewis - Big Balls of Fire\n",
    "#yt = YouTube('https://www.youtube.com/watch?v=KcZn05qxVgg') # The Beach Boys - Surfing USA\n",
    "#yt = YouTube('https://www.youtube.com/watch?v=yDzv_NpQ1ec') # Charlie’s Angels Theme (Black Caviar Remix)\n",
    "#yt = YouTube('https://youtu.be/vR29ar_et9E') # Enya - Orinoco Flow Arming Remix\n",
    "yt = YouTube('https://www.youtube.com/watch?v=xzjTTDT8_pI') # Beach Boys - Crocodile Rock\n",
    "stream = yt.streams.get_by_itag(139)\n",
    "out_file = stream.download(output_path=\".\")"
   ]
  },
  {
   "cell_type": "code",
   "execution_count": 27,
   "id": "ccea8376-26fb-4f65-99ba-ecc5ea9af39b",
   "metadata": {},
   "outputs": [
    {
     "data": {
      "text/plain": [
       "'C:\\\\Users\\\\Usuario\\\\OneDrive\\\\0-Data Science\\\\data_science\\\\datascience\\\\sounds\\\\.\\\\LA DELIO VALDEZ - Inocente  (Sonido Subtropical).mp4'"
      ]
     },
     "execution_count": 27,
     "metadata": {},
     "output_type": "execute_result"
    }
   ],
   "source": [
    "out_file"
   ]
  },
  {
   "cell_type": "code",
   "execution_count": 16,
   "id": "51d24f97-6f48-4d91-acd0-41be770e501c",
   "metadata": {},
   "outputs": [],
   "source": [
    "#from pytube.metadata import YouTubeMetadata\n",
    "#from pytube import extract\n",
    "#meta = yt.metadata"
   ]
  },
  {
   "cell_type": "code",
   "execution_count": 40,
   "id": "41a0a250-6bdc-4893-85db-7e74e7735759",
   "metadata": {},
   "outputs": [],
   "source": [
    "#Cargamos el fichero .mp4 ERROR\n",
    "#clip = mp.VideoFileClip(out_file)"
   ]
  },
  {
   "cell_type": "code",
   "execution_count": 41,
   "id": "a6835732-e28c-412e-9363-309f84430063",
   "metadata": {},
   "outputs": [],
   "source": [
    "#Lo escribimos como audio y `.mp3`\n",
    "#base, ext = os.path.splitext(out_file)\n",
    "#new_file = base + '.mp3'\n",
    "\n",
    "#clip.audio.write_audiofile(new_file)"
   ]
  },
  {
   "cell_type": "code",
   "execution_count": null,
   "id": "54a1ae54-f40f-485a-8e2f-cf9443876ea8",
   "metadata": {},
   "outputs": [],
   "source": []
  }
 ],
 "metadata": {
  "kernelspec": {
   "display_name": "Python 3 (ipykernel)",
   "language": "python",
   "name": "python3"
  },
  "language_info": {
   "codemirror_mode": {
    "name": "ipython",
    "version": 3
   },
   "file_extension": ".py",
   "mimetype": "text/x-python",
   "name": "python",
   "nbconvert_exporter": "python",
   "pygments_lexer": "ipython3",
   "version": "3.8.12"
  },
  "vscode": {
   "interpreter": {
    "hash": "a20cab007f2256c642ae0066e3c80f82ddb44cd41f4f65d5e570c04fbcd1889f"
   }
  }
 },
 "nbformat": 4,
 "nbformat_minor": 5
}
