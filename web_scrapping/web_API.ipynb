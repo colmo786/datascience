{
 "cells": [
  {
   "cell_type": "code",
   "execution_count": 12,
   "metadata": {},
   "outputs": [],
   "source": [
    "import numpy as np\n",
    "import pandas as pd\n",
    "import warnings\n",
    "warnings.filterwarnings(\"ignore\", category=Warning)\n",
    "# Seteos de Pandas para ver mejor la info. https://pandas.pydata.org/pandas-docs/stable/user_guide/options.html\n",
    "# In max_columns and max_rows ‘None’ value means unlimited.\n",
    "pd.set_option('display.max_rows', 100)\n",
    "# Conviene setear min_rows también porque cuando se superan las max_rows, sólo muestra la cantidad indicada en min_rows.\n",
    "pd.set_option('display.min_rows', 10)\n",
    "pd.set_option('display.max_columns', 500)\n",
    "pd.set_option('display.width', 1000)\n",
    "pd.options.display.max_colwidth = 100\n",
    "pd.options.display.float_format = '{:.3f}'.format"
   ]
  },
  {
   "cell_type": "code",
   "execution_count": 1,
   "metadata": {},
   "outputs": [
    {
     "name": "stdout",
     "output_type": "stream",
     "text": [
      "getcwd:       c:\\Users\\Usuario\\OneDrive\\0-Data Science\\data_science\\datascience\\web_scrapping\n"
     ]
    }
   ],
   "source": [
    "import os\n",
    "print('getcwd:      ', os.getcwd())"
   ]
  },
  {
   "cell_type": "code",
   "execution_count": 2,
   "metadata": {},
   "outputs": [],
   "source": [
    "from urllib.request import urlopen\n",
    "response = None\n",
    "_request = 'https://field.voolks.com/api/forms/62e3f027506a214709ab2ac2/getdata2?access_token=FCOYOrrXRP8PzHyCS0OCrRVMd1uQy0J5AVl5z0NDtQKN1z3d7fTQqWhioQrbqjpj&accountId=5f159630815b7f852fbd1f6a'\n",
    "try:\n",
    "    response = urlopen(_request)\n",
    "except Exception as ex:\n",
    "    print(ex)\n",
    "else:\n",
    "    body = response.read()\n",
    "finally:\n",
    "    if response is not None:\n",
    "        response.close()"
   ]
  },
  {
   "cell_type": "code",
   "execution_count": 4,
   "metadata": {},
   "outputs": [
    {
     "data": {
      "text/plain": [
       "200"
      ]
     },
     "execution_count": 4,
     "metadata": {},
     "output_type": "execute_result"
    }
   ],
   "source": [
    "response.status"
   ]
  },
  {
   "cell_type": "code",
   "execution_count": 8,
   "metadata": {},
   "outputs": [],
   "source": [
    "import json"
   ]
  },
  {
   "cell_type": "code",
   "execution_count": 44,
   "metadata": {},
   "outputs": [
    {
     "name": "stdout",
     "output_type": "stream",
     "text": [
      "<class 'bytes'>\n",
      "{'response': {'form': {'name': 'PROVEEDOR - SERVICIO DE PRUEBA - C1234', 'description': 'Formulario Prueba', 'items': [{'id': '62f3c6cfebe084780fa97e1d', 'validate': {'user': {'_id': '6086e2bebc79f75644bf4c3d', 'firstName': 'Santiago', 'lastName': 'Chain'}, 'comments': 'corresponden 30 m3', 'state': 'REJECT', 'updatedAt': '2022-08-10T15:04:48.686Z'}, 'member': {'firstName': 'Tablet', 'lastName': 'R5M510CRTD', 'email': 'contratospampa01@gmail.com'}, 'CreationTime': '2022-08-10T14:55:11.416Z', 'UTCOffsetMinutes': 0, 'pages': [{'id': 'htcz4lsvg', 'fields': [{'type': 'autonumeric', 'label': 'N° Registro', 'id': 'f0rioqvgu', 'uniqueLabel': 'f0rioqvgu|N° Registro', 'colNro': 2, 'value': 10}, {'type': 'checkbox', 'label': '¿Es Corrección? - Completar sólo por personal PAMPA', 'id': 'mruj7br5f', 'uniqueLabel': 'mruj7br5f|¿Es Corrección? - Completar sólo por personal PAMPA', 'colNro': 3, 'value': None}, {'type': 'multiple', 'label': '# Registro de Referencia', 'id': 'yu4tsrotx', 'value': 'null', 'uniqueLabel': 'yu4tsrotx|# Registro de Referencia', 'colNro': 5}, {'type': 'date', 'label': 'Fecha', 'id': '9ooc16d0l', 'uniqueLabel': '9ooc16d0l|Fecha', 'colNro': 7, 'value': '2022-08-08T11:46:00.605Z'}, {'type': 'select', 'label': 'Yacimiento', 'id': '8r20r2j8x', 'uniqueLabel': '8r20r2j8x|Yacimiento', 'colNro': 8, 'value': 'Sierra Chata'}, {'type': 'select', 'label': 'Equipo', 'id': 'm4slw44b9', 'uniqueLabel': 'm4slw44b9|Equipo', 'colNro': 9, 'value': 'E-768 (Ensign)'}, {'type': 'select', 'label': 'Pozo', 'id': 'w84b195x7', 'isDinamic': True, 'uniqueLabel': 'w84b195x7|Pozo', 'colNro': 10, 'value': 'SCH-1008(h)'}, {'type': 'multiple', 'label': 'Sección', 'id': 'fofd5q7og', 'uniqueLabel': 'fofd5q7og|Sección', 'colNro': 11, 'value': ['4. Aislacion']}, {'type': 'simplelist', 'label': 'Servicios', 'id': '9erw4gng5', 'uniqueLabel': '9erw4gng5|Servicios', 'colNro': 13, 'value': [[{'_recNumber': 1, 'label': 'Item Contrato', 'uniqueLabel': 'vsppl9rof|Item Contrato', 'value': 'Item 1-[m3]'}, {'_recNumber': 1, 'label': 'Cantidad', 'uniqueLabel': 'md176ua0l|Cantidad', 'value': '40.5'}, {'_recNumber': 1, 'label': 'Comentarios', 'uniqueLabel': 'b5l91zmg4|Comentarios', 'value': None}], [{'_recNumber': 2, 'label': 'Item Contrato', 'uniqueLabel': 'vsppl9rof|Item Contrato', 'value': 'Item 2-[Kg.]'}, {'_recNumber': 2, 'label': 'Cantidad', 'uniqueLabel': 'md176ua0l|Cantidad', 'value': '5'}, {'_recNumber': 2, 'label': 'Comentarios', 'uniqueLabel': 'b5l91zmg4|Comentarios', 'value': None}]]}, {'type': 'text', 'label': 'Observaciones', 'id': 'p147m33uo', 'uniqueLabel': 'p147m33uo|Observaciones', 'colNro': 14, 'value': None}, {'type': 'photo', 'label': 'Foto Parte Diario', 'id': 'yorihol97', 'uniqueLabel': 'yorihol97|Foto Parte Diario', 'colNro': 16, 'value': [{'uri': 'https://field.voolks.com/api/containers/field-container-bucket/download/62d57e03506a214709ab1c81.62e3f027506a214709ab2ac2-photo-yorihol97-1660132167739.jpg'}]}, {'type': 'number', 'label': 'N° Parte Diario', 'id': 'p6qx6e5ms', 'uniqueLabel': 'p6qx6e5ms|N° Parte Diario', 'colNro': 17, 'value': '237'}, {'type': 'number', 'label': 'DNI Representante', 'id': 'qdio4xh8w', 'uniqueLabel': 'qdio4xh8w|DNI Representante', 'colNro': 18, 'value': '25456855'}, {'type': 'text', 'label': 'Aclaración Firma', 'id': '663oxgqix', 'uniqueLabel': '663oxgqix|Aclaración Firma', 'colNro': 19, 'value': 'Ffggh'}, {'type': 'sign', 'label': 'Firma', 'id': 'xohkoh4km', 'uniqueLabel': 'xohkoh4km|Firma', 'colNro': 20, 'value': 'https://field.voolks.com/api/containers/field-container-bucket/download/62d57e03506a214709ab1c81.62e3f027506a214709ab2ac2-sign-xohkoh4km-1660130502287.png'}]}]}, {'id': '62e82baaef53a5fc54f544c3', 'member': {'firstName': 'Tablet', 'lastName': 'R5M510CRTD', 'email': 'contratospampa01@gmail.com'}, 'CreationTime': '2022-08-01T19:38:18.484Z', 'UTCOffsetMinutes': 0, 'pages': [{'id': 'htcz4lsvg', 'fields': [{'type': 'autonumeric', 'label': 'N° Registro', 'id': 'f0rioqvgu', 'uniqueLabel': 'f0rioqvgu|N° Registro', 'colNro': 2, 'value': 9}, {'type': 'checkbox', 'label': '¿Es Corrección? - Completar sólo por personal PAMPA', 'id': 'mruj7br5f', 'uniqueLabel': 'mruj7br5f|¿Es Corrección? - Completar sólo por personal PAMPA', 'colNro': 3, 'value': None}, {'type': 'multiple', 'label': '# Registro de Referencia', 'id': 'yu4tsrotx', 'value': None, 'uniqueLabel': 'yu4tsrotx|# Registro de Referencia', 'colNro': 5}, {'type': 'date', 'label': 'Fecha', 'id': '9ooc16d0l', 'uniqueLabel': '9ooc16d0l|Fecha', 'colNro': 7, 'value': '2022-08-02T16:33:00.419Z'}, {'type': 'select', 'label': 'Yacimiento', 'id': '8r20r2j8x', 'uniqueLabel': '8r20r2j8x|Yacimiento', 'colNro': 8, 'value': 'El Mangrullo'}, {'type': 'select', 'label': 'Equipo', 'id': 'm4slw44b9', 'uniqueLabel': 'm4slw44b9|Equipo', 'colNro': 9, 'value': 'H-103 (Petreven)'}, {'type': 'select', 'label': 'Pozo', 'id': 'w84b195x7', 'isDinamic': True, 'uniqueLabel': 'w84b195x7|Pozo', 'colNro': 10, 'value': 'M-2307(h)'}, {'type': 'multiple', 'label': 'Sección', 'id': 'fofd5q7og', 'uniqueLabel': 'fofd5q7og|Sección', 'colNro': 11, 'value': None}, {'type': 'simplelist', 'label': 'Servicios', 'id': '9erw4gng5', 'uniqueLabel': '9erw4gng5|Servicios', 'colNro': 13, 'value': [[{'_recNumber': 1, 'label': 'Item Contrato', 'uniqueLabel': 'vsppl9rof|Item Contrato', 'value': 'Item 1-[m3]'}, {'_recNumber': 1, 'label': 'Cantidad', 'uniqueLabel': 'md176ua0l|Cantidad', 'value': '25'}, {'_recNumber': 1, 'label': 'Comentarios', 'uniqueLabel': 'b5l91zmg4|Comentarios', 'value': 'Ghgbgb'}], [{'_recNumber': 2, 'label': 'Item Contrato', 'uniqueLabel': 'vsppl9rof|Item Contrato', 'value': 'Item 2-[Kg.]'}, {'_recNumber': 2, 'label': 'Cantidad', 'uniqueLabel': 'md176ua0l|Cantidad', 'value': '45'}, {'_recNumber': 2, 'label': 'Comentarios', 'uniqueLabel': 'b5l91zmg4|Comentarios', 'value': 'Yghv'}]]}, {'type': 'text', 'label': 'Observaciones', 'id': 'p147m33uo', 'uniqueLabel': 'p147m33uo|Observaciones', 'colNro': 14, 'value': None}, {'type': 'photo', 'label': 'Foto Parte Diario', 'id': 'yorihol97', 'uniqueLabel': 'yorihol97|Foto Parte Diario', 'colNro': 16, 'value': None}, {'type': 'number', 'label': 'N° Parte Diario', 'id': 'p6qx6e5ms', 'uniqueLabel': 'p6qx6e5ms|N° Parte Diario', 'colNro': 17, 'value': None}, {'type': 'number', 'label': 'DNI Representante', 'id': 'qdio4xh8w', 'uniqueLabel': 'qdio4xh8w|DNI Representante', 'colNro': 18, 'value': '32545755'}, {'type': 'text', 'label': 'Aclaración Firma', 'id': '663oxgqix', 'uniqueLabel': '663oxgqix|Aclaración Firma', 'colNro': 19, 'value': 'M belen'}, {'type': 'sign', 'label': 'Firma', 'id': 'xohkoh4km', 'uniqueLabel': 'xohkoh4km|Firma', 'colNro': 20, 'value': 'https://field.voolks.com/api/containers/field-container-bucket/download/62d57e03506a214709ab1c81.62e3f027506a214709ab2ac2-sign-xohkoh4km-1659371596598.png'}]}]}, {'id': '62e829d5ff5cf4ff5509820f', 'member': {'firstName': 'José', 'lastName': 'Vallarino', 'email': 'jvallarino@pampaenergia.com'}, 'CreationTime': '2022-08-01T19:30:29.283Z', 'UTCOffsetMinutes': 180, 'pages': [{'id': 'htcz4lsvg', 'fields': [{'type': 'autonumeric', 'label': 'N° Registro', 'id': 'f0rioqvgu', 'uniqueLabel': 'f0rioqvgu|N° Registro', 'colNro': 2, 'value': 8}, {'type': 'checkbox', 'label': '¿Es Corrección? - Completar sólo por personal PAMPA', 'id': 'mruj7br5f', 'uniqueLabel': 'mruj7br5f|¿Es Corrección? - Completar sólo por personal PAMPA', 'colNro': 3, 'value': None}, {'type': 'multiple', 'label': '# Registro de Referencia', 'id': 'yu4tsrotx', 'value': None, 'uniqueLabel': 'yu4tsrotx|# Registro de Referencia', 'colNro': 5}, {'type': 'date', 'label': 'Fecha', 'id': '9ooc16d0l', 'uniqueLabel': '9ooc16d0l|Fecha', 'colNro': 7, 'value': '2022-08-02T19:29:00.642Z'}, {'type': 'select', 'label': 'Yacimiento', 'id': '8r20r2j8x', 'uniqueLabel': '8r20r2j8x|Yacimiento', 'colNro': 8, 'value': 'El Mangrullo'}, {'type': 'select', 'label': 'Equipo', 'id': 'm4slw44b9', 'uniqueLabel': 'm4slw44b9|Equipo', 'colNro': 9, 'value': 'H-103 (Petreven)'}, {'type': 'select', 'label': 'Pozo', 'id': 'w84b195x7', 'isDinamic': True, 'uniqueLabel': 'w84b195x7|Pozo', 'colNro': 10, 'value': 'M-2306(h)'}, {'type': 'multiple', 'label': 'Sección', 'id': 'fofd5q7og', 'uniqueLabel': 'fofd5q7og|Sección', 'colNro': 11, 'value': None}, {'type': 'simplelist', 'label': 'Servicios', 'id': '9erw4gng5', 'uniqueLabel': '9erw4gng5|Servicios', 'colNro': 13, 'value': [[{'_recNumber': 1, 'label': 'Item Contrato', 'uniqueLabel': 'vsppl9rof|Item Contrato', 'value': 'Item N-[Un.]'}, {'_recNumber': 1, 'label': 'Cantidad', 'uniqueLabel': 'md176ua0l|Cantidad', 'value': '50'}, {'_recNumber': 1, 'label': 'Comentarios', 'uniqueLabel': 'b5l91zmg4|Comentarios', 'value': None}], [{'_recNumber': 2, 'label': 'Item Contrato', 'uniqueLabel': 'vsppl9rof|Item Contrato', 'value': 'Item 2-[Kg.]'}, {'_recNumber': 2, 'label': 'Cantidad', 'uniqueLabel': 'md176ua0l|Cantidad', 'value': '100'}, {'_recNumber': 2, 'label': 'Comentarios', 'uniqueLabel': 'b5l91zmg4|Comentarios', 'value': None}], [{'_recNumber': 3, 'label': 'Item Contrato', 'uniqueLabel': 'vsppl9rof|Item Contrato', 'value': 'Item 2-[Kg.]'}, {'_recNumber': 3, 'label': 'Cantidad', 'uniqueLabel': 'md176ua0l|Cantidad', 'value': '150'}, {'_recNumber': 3, 'label': 'Comentarios', 'uniqueLabel': 'b5l91zmg4|Comentarios', 'value': None}]]}, {'type': 'text', 'label': 'Observaciones', 'id': 'p147m33uo', 'uniqueLabel': 'p147m33uo|Observaciones', 'colNro': 14, 'value': None}, {'type': 'photo', 'label': 'Foto Parte Diario', 'id': 'yorihol97', 'uniqueLabel': 'yorihol97|Foto Parte Diario', 'colNro': 16, 'value': None}, {'type': 'number', 'label': 'N° Parte Diario', 'id': 'p6qx6e5ms', 'uniqueLabel': 'p6qx6e5ms|N° Parte Diario', 'colNro': 17, 'value': None}, {'type': 'number', 'label': 'DNI Representante', 'id': 'qdio4xh8w', 'uniqueLabel': 'qdio4xh8w|DNI Representante', 'colNro': 18, 'value': '200000'}, {'type': 'text', 'label': 'Aclaración Firma', 'id': '663oxgqix', 'uniqueLabel': '663oxgqix|Aclaración Firma', 'colNro': 19, 'value': 'José va.'}, {'type': 'sign', 'label': 'Firma', 'id': 'xohkoh4km', 'uniqueLabel': 'xohkoh4km|Firma', 'colNro': 20, 'value': 'https://field.voolks.com/api/containers/field-container-bucket/download/62d57e03506a214709ab1c81.62e3f027506a214709ab2ac2-sign-xohkoh4km-1659382161818.png'}]}]}, {'id': '62e827b5ef53a5fc54f544b3', 'member': {'firstName': 'Tablet', 'lastName': 'R5M510CRTD', 'email': 'contratospampa01@gmail.com'}, 'CreationTime': '2022-08-01T19:21:25.488Z', 'UTCOffsetMinutes': 0, 'pages': [{'id': 'htcz4lsvg', 'fields': [{'type': 'autonumeric', 'label': 'N° Registro', 'id': 'f0rioqvgu', 'uniqueLabel': 'f0rioqvgu|N° Registro', 'colNro': 2, 'value': 7}, {'type': 'checkbox', 'label': '¿Es Corrección? - Completar sólo por personal PAMPA', 'id': 'mruj7br5f', 'uniqueLabel': 'mruj7br5f|¿Es Corrección? - Completar sólo por personal PAMPA', 'colNro': 3, 'value': None}, {'type': 'multiple', 'label': '# Registro de Referencia', 'id': 'yu4tsrotx', 'value': None, 'uniqueLabel': 'yu4tsrotx|# Registro de Referencia', 'colNro': 5}, {'type': 'date', 'label': 'Fecha', 'id': '9ooc16d0l', 'uniqueLabel': '9ooc16d0l|Fecha', 'colNro': 7, 'value': '2022-07-31T16:15:00.290Z'}, {'type': 'select', 'label': 'Yacimiento', 'id': '8r20r2j8x', 'uniqueLabel': '8r20r2j8x|Yacimiento', 'colNro': 8, 'value': 'Sierra Chata'}, {'type': 'select', 'label': 'Equipo', 'id': 'm4slw44b9', 'uniqueLabel': 'm4slw44b9|Equipo', 'colNro': 9, 'value': 'E-768 (Ensign)'}, {'type': 'select', 'label': 'Pozo', 'id': 'w84b195x7', 'isDinamic': True, 'uniqueLabel': 'w84b195x7|Pozo', 'colNro': 10, 'value': 'SCH-1011(h)'}, {'type': 'multiple', 'label': 'Sección', 'id': 'fofd5q7og', 'uniqueLabel': 'fofd5q7og|Sección', 'colNro': 11, 'value': None}, {'type': 'simplelist', 'label': 'Servicios', 'id': '9erw4gng5', 'uniqueLabel': '9erw4gng5|Servicios', 'colNro': 13, 'value': [[{'_recNumber': 1, 'label': 'Item Contrato', 'uniqueLabel': 'vsppl9rof|Item Contrato', 'value': 'Item 1-[m3]'}, {'_recNumber': 1, 'label': 'Cantidad', 'uniqueLabel': 'md176ua0l|Cantidad', 'value': '25'}, {'_recNumber': 1, 'label': 'Comentarios', 'uniqueLabel': 'b5l91zmg4|Comentarios', 'value': 'Mucho viento'}], [{'_recNumber': 2, 'label': 'Item Contrato', 'uniqueLabel': 'vsppl9rof|Item Contrato', 'value': 'Item 2-[Kg.]'}, {'_recNumber': 2, 'label': 'Cantidad', 'uniqueLabel': 'md176ua0l|Cantidad', 'value': '33'}, {'_recNumber': 2, 'label': 'Comentarios', 'uniqueLabel': 'b5l91zmg4|Comentarios', 'value': None}], [{'_recNumber': 3, 'label': 'Item Contrato', 'uniqueLabel': 'vsppl9rof|Item Contrato', 'value': 'Item N-[Un.]'}, {'_recNumber': 3, 'label': 'Cantidad', 'uniqueLabel': 'md176ua0l|Cantidad', 'value': '61'}, {'_recNumber': 3, 'label': 'Comentarios', 'uniqueLabel': 'b5l91zmg4|Comentarios', 'value': None}], [{'_recNumber': 4, 'label': 'Item Contrato', 'uniqueLabel': 'vsppl9rof|Item Contrato', 'value': 'OTHER|##Km adicional##'}, {'_recNumber': 4, 'label': 'Cantidad', 'uniqueLabel': 'md176ua0l|Cantidad', 'value': '250'}, {'_recNumber': 4, 'label': 'Comentarios', 'uniqueLabel': 'b5l91zmg4|Comentarios', 'value': None}]]}, {'type': 'text', 'label': 'Observaciones', 'id': 'p147m33uo', 'uniqueLabel': 'p147m33uo|Observaciones', 'colNro': 14, 'value': None}, {'type': 'photo', 'label': 'Foto Parte Diario', 'id': 'yorihol97', 'uniqueLabel': 'yorihol97|Foto Parte Diario', 'colNro': 16, 'value': [{'uri': 'https://field.voolks.com/api/containers/field-container-bucket/download/62d57e03506a214709ab1c81.62e3f027506a214709ab2ac2-photo-yorihol97-1659370768648.jpg'}]}, {'type': 'number', 'label': 'N° Parte Diario', 'id': 'p6qx6e5ms', 'uniqueLabel': 'p6qx6e5ms|N° Parte Diario', 'colNro': 17, 'value': None}, {'type': 'number', 'label': 'DNI Representante', 'id': 'qdio4xh8w', 'uniqueLabel': 'qdio4xh8w|DNI Representante', 'colNro': 18, 'value': '1622540'}, {'type': 'text', 'label': 'Aclaración Firma', 'id': '663oxgqix', 'uniqueLabel': '663oxgqix|Aclaración Firma', 'colNro': 19, 'value': 'Juan perez'}, {'type': 'sign', 'label': 'Firma', 'id': 'xohkoh4km', 'uniqueLabel': 'xohkoh4km|Firma', 'colNro': 20, 'value': 'https://field.voolks.com/api/containers/field-container-bucket/download/62d57e03506a214709ab1c81.62e3f027506a214709ab2ac2-sign-xohkoh4km-1659370545998.png'}]}]}, {'id': '62e82207ff5cf4ff55098200', 'member': {'firstName': 'José', 'lastName': 'Vallarino', 'email': 'jvallarino@pampaenergia.com'}, 'CreationTime': '2022-08-01T18:57:10.896Z', 'UTCOffsetMinutes': 180, 'pages': [{'id': 'htcz4lsvg', 'fields': [{'type': 'autonumeric', 'label': 'N° Registro', 'id': 'f0rioqvgu', 'uniqueLabel': 'f0rioqvgu|N° Registro', 'colNro': 2, 'value': 6}, {'type': 'checkbox', 'label': '¿Es Corrección? - Completar sólo por personal PAMPA', 'id': 'mruj7br5f', 'uniqueLabel': 'mruj7br5f|¿Es Corrección? - Completar sólo por personal PAMPA', 'colNro': 3, 'value': None}, {'type': 'multiple', 'label': '# Registro de Referencia', 'id': 'yu4tsrotx', 'value': None, 'uniqueLabel': 'yu4tsrotx|# Registro de Referencia', 'colNro': 5}, {'type': 'date', 'label': 'Fecha', 'id': '9ooc16d0l', 'uniqueLabel': '9ooc16d0l|Fecha', 'colNro': 7, 'value': '2022-09-03T18:56:00.727Z'}, {'type': 'select', 'label': 'Yacimiento', 'id': '8r20r2j8x', 'uniqueLabel': '8r20r2j8x|Yacimiento', 'colNro': 8, 'value': 'El Mangrullo'}, {'type': 'select', 'label': 'Equipo', 'id': 'm4slw44b9', 'uniqueLabel': 'm4slw44b9|Equipo', 'colNro': 9, 'value': 'E-768 (Ensign)'}, {'type': 'select', 'label': 'Pozo', 'id': 'w84b195x7', 'isDinamic': True, 'uniqueLabel': 'w84b195x7|Pozo', 'colNro': 10, 'value': 'M-2305(h)'}, {'type': 'multiple', 'label': 'Sección', 'id': 'fofd5q7og', 'uniqueLabel': 'fofd5q7og|Sección', 'colNro': 11, 'value': None}, {'type': 'simplelist', 'label': 'Servicios', 'id': '9erw4gng5', 'uniqueLabel': '9erw4gng5|Servicios', 'colNro': 13, 'value': [[{'_recNumber': 1, 'label': 'Item Contrato', 'uniqueLabel': 'vsppl9rof|Item Contrato', 'value': 'Item 2-[Kg.]'}, {'_recNumber': 1, 'label': 'Cantidad', 'uniqueLabel': 'md176ua0l|Cantidad', 'value': '25'}, {'_recNumber': 1, 'label': 'Comentarios', 'uniqueLabel': 'b5l91zmg4|Comentarios', 'value': None}], [{'_recNumber': 2, 'label': 'Item Contrato', 'uniqueLabel': 'vsppl9rof|Item Contrato', 'value': 'Item 1-[m3]'}, {'_recNumber': 2, 'label': 'Cantidad', 'uniqueLabel': 'md176ua0l|Cantidad', 'value': '52'}, {'_recNumber': 2, 'label': 'Comentarios', 'uniqueLabel': 'b5l91zmg4|Comentarios', 'value': None}]]}, {'type': 'text', 'label': 'Observaciones', 'id': 'p147m33uo', 'uniqueLabel': 'p147m33uo|Observaciones', 'colNro': 14, 'value': None}, {'type': 'photo', 'label': 'Foto Parte Diario', 'id': 'yorihol97', 'uniqueLabel': 'yorihol97|Foto Parte Diario', 'colNro': 16, 'value': None}, {'type': 'number', 'label': 'N° Parte Diario', 'id': 'p6qx6e5ms', 'uniqueLabel': 'p6qx6e5ms|N° Parte Diario', 'colNro': 17, 'value': None}, {'type': 'number', 'label': 'DNI Representante', 'id': 'qdio4xh8w', 'uniqueLabel': 'qdio4xh8w|DNI Representante', 'colNro': 18, 'value': '25689345'}, {'type': 'text', 'label': 'Aclaración Firma', 'id': '663oxgqix', 'uniqueLabel': '663oxgqix|Aclaración Firma', 'colNro': 19, 'value': 'Jmv'}, {'type': 'sign', 'label': 'Firma', 'id': 'xohkoh4km', 'uniqueLabel': 'xohkoh4km|Firma', 'colNro': 20, 'value': 'https://field.voolks.com/api/containers/field-container-bucket/download/62d57e03506a214709ab1c81.62e3f027506a214709ab2ac2-sign-xohkoh4km-1659380182757.png'}]}]}, {'id': '62e81799ef53a5fc54f54490', 'member': {'firstName': 'José', 'lastName': 'Vallarino', 'email': 'jvallarino@pampaenergia.com'}, 'CreationTime': '2022-08-01T18:12:41.769Z', 'UTCOffsetMinutes': 180, 'pages': [{'id': 'htcz4lsvg', 'fields': [{'type': 'autonumeric', 'label': 'N° Registro', 'id': 'f0rioqvgu', 'uniqueLabel': 'f0rioqvgu|N° Registro', 'colNro': 2, 'value': 5}, {'type': 'checkbox', 'label': '¿Es Corrección? - Completar sólo por personal PAMPA', 'id': 'mruj7br5f', 'uniqueLabel': 'mruj7br5f|¿Es Corrección? - Completar sólo por personal PAMPA', 'colNro': 3, 'value': None}, {'type': 'multiple', 'label': '# Registro de Referencia', 'id': 'yu4tsrotx', 'value': None, 'uniqueLabel': 'yu4tsrotx|# Registro de Referencia', 'colNro': 5}, {'type': 'date', 'label': 'Fecha', 'id': '9ooc16d0l', 'uniqueLabel': '9ooc16d0l|Fecha', 'colNro': 7, 'value': '2022-07-30T18:11:00.615Z'}, {'type': 'select', 'label': 'Yacimiento', 'id': '8r20r2j8x', 'uniqueLabel': '8r20r2j8x|Yacimiento', 'colNro': 8, 'value': 'El Mangrullo'}, {'type': 'select', 'label': 'Equipo', 'id': 'm4slw44b9', 'uniqueLabel': 'm4slw44b9|Equipo', 'colNro': 9, 'value': 'E-768 (Ensign)'}, {'type': 'select', 'label': 'Pozo', 'id': 'w84b195x7', 'isDinamic': True, 'uniqueLabel': 'w84b195x7|Pozo', 'colNro': 10, 'value': 'M-2303(h)'}, {'type': 'multiple', 'label': 'Sección', 'id': 'fofd5q7og', 'uniqueLabel': 'fofd5q7og|Sección', 'colNro': 11, 'value': None}, {'type': 'simplelist', 'label': 'Servicios', 'id': '9erw4gng5', 'uniqueLabel': '9erw4gng5|Servicios', 'colNro': 13, 'value': [[{'_recNumber': 1, 'label': 'Item Contrato', 'uniqueLabel': 'vsppl9rof|Item Contrato', 'value': 'Item 2-[Kg.]'}, {'_recNumber': 1, 'label': 'Cantidad', 'uniqueLabel': 'md176ua0l|Cantidad', 'value': '060'}, {'_recNumber': 1, 'label': 'Comentarios', 'uniqueLabel': 'b5l91zmg4|Comentarios', 'value': None}], [{'_recNumber': 2, 'label': 'Item Contrato', 'uniqueLabel': 'vsppl9rof|Item Contrato', 'value': 'Item 1-[m3]'}, {'_recNumber': 2, 'label': 'Cantidad', 'uniqueLabel': 'md176ua0l|Cantidad', 'value': '15'}, {'_recNumber': 2, 'label': 'Comentarios', 'uniqueLabel': 'b5l91zmg4|Comentarios', 'value': None}], [{'_recNumber': 3, 'label': 'Item Contrato', 'uniqueLabel': 'vsppl9rof|Item Contrato', 'value': 'Item N-[Un.]'}, {'_recNumber': 3, 'label': 'Cantidad', 'uniqueLabel': 'md176ua0l|Cantidad', 'value': '8'}, {'_recNumber': 3, 'label': 'Comentarios', 'uniqueLabel': 'b5l91zmg4|Comentarios', 'value': None}]]}, {'type': 'text', 'label': 'Observaciones', 'id': 'p147m33uo', 'uniqueLabel': 'p147m33uo|Observaciones', 'colNro': 14, 'value': None}, {'type': 'photo', 'label': 'Foto Parte Diario', 'id': 'yorihol97', 'uniqueLabel': 'yorihol97|Foto Parte Diario', 'colNro': 16, 'value': None}, {'type': 'number', 'label': 'N° Parte Diario', 'id': 'p6qx6e5ms', 'uniqueLabel': 'p6qx6e5ms|N° Parte Diario', 'colNro': 17, 'value': None}, {'type': 'number', 'label': 'DNI Representante', 'id': 'qdio4xh8w', 'uniqueLabel': 'qdio4xh8w|DNI Representante', 'colNro': 18, 'value': '23825445'}, {'type': 'text', 'label': 'Aclaración Firma', 'id': '663oxgqix', 'uniqueLabel': '663oxgqix|Aclaración Firma', 'colNro': 19, 'value': 'Juan v.'}, {'type': 'sign', 'label': 'Firma', 'id': 'xohkoh4km', 'uniqueLabel': 'xohkoh4km|Firma', 'colNro': 20, 'value': 'https://field.voolks.com/api/containers/field-container-bucket/download/62d57e03506a214709ab1c81.62e3f027506a214709ab2ac2-sign-xohkoh4km-1659377499829.png'}]}]}, {'id': '62e8175bef53a5fc54f5448f', 'member': {'firstName': 'José', 'lastName': 'Vallarino', 'email': 'jvallarino@pampaenergia.com'}, 'CreationTime': '2022-08-01T18:11:39.502Z', 'UTCOffsetMinutes': 180, 'pages': [{'id': 'htcz4lsvg', 'fields': [{'type': 'autonumeric', 'label': 'N° Registro', 'id': 'f0rioqvgu', 'uniqueLabel': 'f0rioqvgu|N° Registro', 'colNro': 2, 'value': 4}, {'type': 'checkbox', 'label': '¿Es Corrección? - Completar sólo por personal PAMPA', 'id': 'mruj7br5f', 'uniqueLabel': 'mruj7br5f|¿Es Corrección? - Completar sólo por personal PAMPA', 'colNro': 3, 'value': None}, {'type': 'multiple', 'label': '# Registro de Referencia', 'id': 'yu4tsrotx', 'value': None, 'uniqueLabel': 'yu4tsrotx|# Registro de Referencia', 'colNro': 5}, {'type': 'date', 'label': 'Fecha', 'id': '9ooc16d0l', 'uniqueLabel': '9ooc16d0l|Fecha', 'colNro': 7, 'value': '2022-08-01T18:10:00.679Z'}, {'type': 'select', 'label': 'Yacimiento', 'id': '8r20r2j8x', 'uniqueLabel': '8r20r2j8x|Yacimiento', 'colNro': 8, 'value': 'El Mangrullo'}, {'type': 'select', 'label': 'Equipo', 'id': 'm4slw44b9', 'uniqueLabel': 'm4slw44b9|Equipo', 'colNro': 9, 'value': 'H-103 (Petreven)'}, {'type': 'select', 'label': 'Pozo', 'id': 'w84b195x7', 'isDinamic': True, 'uniqueLabel': 'w84b195x7|Pozo', 'colNro': 10, 'value': 'M-2303(h)'}, {'type': 'multiple', 'label': 'Sección', 'id': 'fofd5q7og', 'uniqueLabel': 'fofd5q7og|Sección', 'colNro': 11, 'value': None}, {'type': 'simplelist', 'label': 'Servicios', 'id': '9erw4gng5', 'uniqueLabel': '9erw4gng5|Servicios', 'colNro': 13, 'value': [[{'_recNumber': 1, 'label': 'Item Contrato', 'uniqueLabel': 'vsppl9rof|Item Contrato', 'value': 'Item 2-[Kg.]'}, {'_recNumber': 1, 'label': 'Cantidad', 'uniqueLabel': 'md176ua0l|Cantidad', 'value': '10'}, {'_recNumber': 1, 'label': 'Comentarios', 'uniqueLabel': 'b5l91zmg4|Comentarios', 'value': None}], [{'_recNumber': 2, 'label': 'Item Contrato', 'uniqueLabel': 'vsppl9rof|Item Contrato', 'value': 'Item 1-[m3]'}, {'_recNumber': 2, 'label': 'Cantidad', 'uniqueLabel': 'md176ua0l|Cantidad', 'value': '20'}, {'_recNumber': 2, 'label': 'Comentarios', 'uniqueLabel': 'b5l91zmg4|Comentarios', 'value': None}], [{'_recNumber': 3, 'label': 'Item Contrato', 'uniqueLabel': 'vsppl9rof|Item Contrato', 'value': 'Item N-[Un.]'}, {'_recNumber': 3, 'label': 'Cantidad', 'uniqueLabel': 'md176ua0l|Cantidad', 'value': '55'}, {'_recNumber': 3, 'label': 'Comentarios', 'uniqueLabel': 'b5l91zmg4|Comentarios', 'value': None}]]}, {'type': 'text', 'label': 'Observaciones', 'id': 'p147m33uo', 'uniqueLabel': 'p147m33uo|Observaciones', 'colNro': 14, 'value': None}, {'type': 'photo', 'label': 'Foto Parte Diario', 'id': 'yorihol97', 'uniqueLabel': 'yorihol97|Foto Parte Diario', 'colNro': 16, 'value': None}, {'type': 'number', 'label': 'N° Parte Diario', 'id': 'p6qx6e5ms', 'uniqueLabel': 'p6qx6e5ms|N° Parte Diario', 'colNro': 17, 'value': None}, {'type': 'number', 'label': 'DNI Representante', 'id': 'qdio4xh8w', 'uniqueLabel': 'qdio4xh8w|DNI Representante', 'colNro': 18, 'value': '28645379'}, {'type': 'text', 'label': 'Aclaración Firma', 'id': '663oxgqix', 'uniqueLabel': '663oxgqix|Aclaración Firma', 'colNro': 19, 'value': 'Joseph mv'}, {'type': 'sign', 'label': 'Firma', 'id': 'xohkoh4km', 'uniqueLabel': 'xohkoh4km|Firma', 'colNro': 20, 'value': 'https://field.voolks.com/api/containers/field-container-bucket/download/62d57e03506a214709ab1c81.62e3f027506a214709ab2ac2-sign-xohkoh4km-1659377447701.png'}]}]}, {'id': '62e7ea4def53a5fc54f5441e', 'member': {'firstName': 'José', 'lastName': 'Vallarino', 'email': 'jvallarino@pampaenergia.com'}, 'CreationTime': '2022-08-01T14:59:25.177Z', 'UTCOffsetMinutes': 180, 'pages': [{'id': 'htcz4lsvg', 'fields': [{'type': 'autonumeric', 'label': 'N° Registro', 'id': 'f0rioqvgu', 'uniqueLabel': 'f0rioqvgu|N° Registro', 'colNro': 2, 'value': 3}, {'type': 'checkbox', 'label': '¿Es Corrección? - Completar sólo por personal PAMPA', 'id': 'mruj7br5f', 'uniqueLabel': 'mruj7br5f|¿Es Corrección? - Completar sólo por personal PAMPA', 'colNro': 3, 'value': None}, {'type': 'multiple', 'label': '# Registro de Referencia', 'id': 'yu4tsrotx', 'value': None, 'uniqueLabel': 'yu4tsrotx|# Registro de Referencia', 'colNro': 5}, {'type': 'date', 'label': 'Fecha', 'id': '9ooc16d0l', 'uniqueLabel': '9ooc16d0l|Fecha', 'colNro': 7, 'value': '2022-08-03T14:58:00.029Z'}, {'type': 'select', 'label': 'Yacimiento', 'id': '8r20r2j8x', 'uniqueLabel': '8r20r2j8x|Yacimiento', 'colNro': 8, 'value': 'Sierra Chata'}, {'type': 'select', 'label': 'Equipo', 'id': 'm4slw44b9', 'uniqueLabel': 'm4slw44b9|Equipo', 'colNro': 9, 'value': 'H-203 (Petreven)'}, {'type': 'select', 'label': 'Pozo', 'id': 'w84b195x7', 'isDinamic': True, 'uniqueLabel': 'w84b195x7|Pozo', 'colNro': 10, 'value': 'M-2046(h)'}, {'type': 'multiple', 'label': 'Sección', 'id': 'fofd5q7og', 'uniqueLabel': 'fofd5q7og|Sección', 'colNro': 11, 'value': None}, {'type': 'simplelist', 'label': 'Servicios', 'id': '9erw4gng5', 'uniqueLabel': '9erw4gng5|Servicios', 'colNro': 13, 'value': [[{'_recNumber': 1, 'label': 'Item Contrato', 'uniqueLabel': 'vsppl9rof|Item Contrato', 'value': 'Item 2-[Kg.]'}, {'_recNumber': 1, 'label': 'Cantidad', 'uniqueLabel': 'md176ua0l|Cantidad', 'value': '5'}, {'_recNumber': 1, 'label': 'Comentarios', 'uniqueLabel': 'b5l91zmg4|Comentarios', 'value': 'Ahajka'}], [{'_recNumber': 2, 'label': 'Item Contrato', 'uniqueLabel': 'vsppl9rof|Item Contrato', 'value': 'Item 1-[m3]'}, {'_recNumber': 2, 'label': 'Cantidad', 'uniqueLabel': 'md176ua0l|Cantidad', 'value': '10'}, {'_recNumber': 2, 'label': 'Comentarios', 'uniqueLabel': 'b5l91zmg4|Comentarios', 'value': 'Ahauai'}]]}, {'type': 'text', 'label': 'Observaciones', 'id': 'p147m33uo', 'uniqueLabel': 'p147m33uo|Observaciones', 'colNro': 14, 'value': None}, {'type': 'photo', 'label': 'Foto Parte Diario', 'id': 'yorihol97', 'uniqueLabel': 'yorihol97|Foto Parte Diario', 'colNro': 16, 'value': [{'uri': 'https://field.voolks.com/api/containers/field-container-bucket/download/62d57e03506a214709ab1c81.62e3f027506a214709ab2ac2-photo-yorihol97-1659365932853.jpg'}]}, {'type': 'number', 'label': 'N° Parte Diario', 'id': 'p6qx6e5ms', 'uniqueLabel': 'p6qx6e5ms|N° Parte Diario', 'colNro': 17, 'value': '25'}, {'type': 'number', 'label': 'DNI Representante', 'id': 'qdio4xh8w', 'uniqueLabel': 'qdio4xh8w|DNI Representante', 'colNro': 18, 'value': '35629845'}, {'type': 'text', 'label': 'Aclaración Firma', 'id': '663oxgqix', 'uniqueLabel': '663oxgqix|Aclaración Firma', 'colNro': 19, 'value': 'Jmv'}, {'type': 'sign', 'label': 'Firma', 'id': 'xohkoh4km', 'uniqueLabel': 'xohkoh4km|Firma', 'colNro': 20, 'value': 'https://field.voolks.com/api/containers/field-container-bucket/download/62d57e03506a214709ab1c81.62e3f027506a214709ab2ac2-sign-xohkoh4km-1659365896739.png'}]}]}, {'id': '62e3f56c506a214709ab2ac9', 'validate': {'user': {'_id': '62c442472724953f24b3ab95', 'firstName': 'Gaston', 'lastName': 'Arhancet'}, 'comments': 'Aprobado', 'state': 'OK', 'updatedAt': '2022-07-29T14:59:12.385Z'}, 'member': {'firstName': 'Gaston', 'lastName': 'Arhancet', 'email': 'garhancet@pampaenergia.com'}, 'CreationTime': '2022-07-29T14:57:48.620Z', 'UTCOffsetMinutes': 180, 'pages': [{'id': 'htcz4lsvg', 'fields': [{'type': 'autonumeric', 'label': 'N° Registro', 'id': 'f0rioqvgu', 'uniqueLabel': 'f0rioqvgu|N° Registro', 'colNro': 2, 'value': 2}, {'type': 'checkbox', 'label': '¿Es Corrección? - Completar sólo por personal PAMPA', 'id': 'mruj7br5f', 'uniqueLabel': 'mruj7br5f|¿Es Corrección? - Completar sólo por personal PAMPA', 'colNro': 3, 'value': None}, {'type': 'multiple', 'label': '# Registro de Referencia', 'id': 'yu4tsrotx', 'value': None, 'uniqueLabel': 'yu4tsrotx|# Registro de Referencia', 'colNro': 5}, {'type': 'date', 'label': 'Fecha', 'id': '9ooc16d0l', 'uniqueLabel': '9ooc16d0l|Fecha', 'colNro': 7, 'value': '2022-07-26T14:56:00.003Z'}, {'type': 'select', 'label': 'Yacimiento', 'id': '8r20r2j8x', 'uniqueLabel': '8r20r2j8x|Yacimiento', 'colNro': 8, 'value': 'Sierra Chata'}, {'type': 'select', 'label': 'Equipo', 'id': 'm4slw44b9', 'uniqueLabel': 'm4slw44b9|Equipo', 'colNro': 9, 'value': 'H-203 (Petreven)'}, {'type': 'select', 'label': 'Pozo', 'id': 'w84b195x7', 'isDinamic': True, 'uniqueLabel': 'w84b195x7|Pozo', 'colNro': 10, 'value': 'M.x-1111(h)'}, {'type': 'multiple', 'label': 'Sección', 'id': 'fofd5q7og', 'uniqueLabel': 'fofd5q7og|Sección', 'colNro': 11, 'value': None}, {'type': 'simplelist', 'label': 'Servicios', 'id': '9erw4gng5', 'uniqueLabel': '9erw4gng5|Servicios', 'colNro': 13, 'value': [[{'_recNumber': 1, 'label': 'Item Contrato', 'uniqueLabel': 'vsppl9rof|Item Contrato', 'value': 'Item 2 (kg)'}, {'_recNumber': 1, 'label': 'Cantidad', 'uniqueLabel': 'md176ua0l|Cantidad', 'value': '9'}, {'_recNumber': 1, 'label': 'Comentarios', 'uniqueLabel': 'b5l91zmg4|Comentarios', 'value': None}], [{'_recNumber': 2, 'label': 'Item Contrato', 'uniqueLabel': 'vsppl9rof|Item Contrato', 'value': 'Item N'}, {'_recNumber': 2, 'label': 'Cantidad', 'uniqueLabel': 'md176ua0l|Cantidad', 'value': '2'}, {'_recNumber': 2, 'label': 'Comentarios', 'uniqueLabel': 'b5l91zmg4|Comentarios', 'value': None}]]}, {'type': 'text', 'label': 'Observaciones', 'id': 'p147m33uo', 'uniqueLabel': 'p147m33uo|Observaciones', 'colNro': 14, 'value': None}, {'type': 'photo', 'label': 'Foto Parte Diario', 'id': 'yorihol97', 'uniqueLabel': 'yorihol97|Foto Parte Diario', 'colNro': 16, 'value': None}, {'type': 'number', 'label': 'N° Parte Diario', 'id': 'p6qx6e5ms', 'uniqueLabel': 'p6qx6e5ms|N° Parte Diario', 'colNro': 17, 'value': None}, {'type': 'number', 'label': 'DNI Representante', 'id': 'qdio4xh8w', 'uniqueLabel': 'qdio4xh8w|DNI Representante', 'colNro': 18, 'value': '36530358'}, {'type': 'text', 'label': 'Aclaración Firma', 'id': '663oxgqix', 'uniqueLabel': '663oxgqix|Aclaración Firma', 'colNro': 19, 'value': 'Lucas Perez'}, {'type': 'sign', 'label': 'Firma', 'id': 'xohkoh4km', 'uniqueLabel': 'xohkoh4km|Firma', 'colNro': 20, 'value': 'https://field.voolks.com/api/containers/field-container-bucket/download/62d57e03506a214709ab1c81.62e3f027506a214709ab2ac2-sign-xohkoh4km-1659106590084.png'}]}]}, {'id': '62e3f516506a214709ab2ac7', 'validate': {'user': {'_id': '62c442472724953f24b3ab95', 'firstName': 'Gaston', 'lastName': 'Arhancet'}, 'comments': 'Aprobado', 'state': 'OK', 'updatedAt': '2022-07-29T14:59:17.279Z'}, 'member': {'firstName': 'Gaston', 'lastName': 'Arhancet', 'email': 'garhancet@pampaenergia.com'}, 'CreationTime': '2022-07-29T14:56:22.175Z', 'UTCOffsetMinutes': 180, 'pages': [{'id': 'htcz4lsvg', 'fields': [{'type': 'autonumeric', 'label': 'N° Registro', 'id': 'f0rioqvgu', 'uniqueLabel': 'f0rioqvgu|N° Registro', 'colNro': 2, 'value': 1}, {'type': 'checkbox', 'label': '¿Es Corrección? - Completar sólo por personal PAMPA', 'id': 'mruj7br5f', 'uniqueLabel': 'mruj7br5f|¿Es Corrección? - Completar sólo por personal PAMPA', 'colNro': 3, 'value': None}, {'type': 'multiple', 'label': '# Registro de Referencia', 'id': 'yu4tsrotx', 'value': None, 'uniqueLabel': 'yu4tsrotx|# Registro de Referencia', 'colNro': 5}, {'type': 'date', 'label': 'Fecha', 'id': '9ooc16d0l', 'uniqueLabel': '9ooc16d0l|Fecha', 'colNro': 7, 'value': '2022-07-27T14:54:00.794Z'}, {'type': 'select', 'label': 'Yacimiento', 'id': '8r20r2j8x', 'uniqueLabel': '8r20r2j8x|Yacimiento', 'colNro': 8, 'value': 'El Mangrullo'}, {'type': 'select', 'label': 'Equipo', 'id': 'm4slw44b9', 'uniqueLabel': 'm4slw44b9|Equipo', 'colNro': 9, 'value': 'E-768 (Ensign)'}, {'type': 'select', 'label': 'Pozo', 'id': 'w84b195x7', 'isDinamic': True, 'uniqueLabel': 'w84b195x7|Pozo', 'colNro': 10, 'value': 'M-2305(h)'}, {'type': 'multiple', 'label': 'Sección', 'id': 'fofd5q7og', 'uniqueLabel': 'fofd5q7og|Sección', 'colNro': 11, 'value': None}, {'type': 'simplelist', 'label': 'Servicios', 'id': '9erw4gng5', 'uniqueLabel': '9erw4gng5|Servicios', 'colNro': 13, 'value': [[{'_recNumber': 1, 'label': 'Item Contrato', 'uniqueLabel': 'vsppl9rof|Item Contrato', 'value': 'Item 1 (m3)'}, {'_recNumber': 1, 'label': 'Cantidad', 'uniqueLabel': 'md176ua0l|Cantidad', 'value': '5'}, {'_recNumber': 1, 'label': 'Comentarios', 'uniqueLabel': 'b5l91zmg4|Comentarios', 'value': None}], [{'_recNumber': 2, 'label': 'Item Contrato', 'uniqueLabel': 'vsppl9rof|Item Contrato', 'value': 'Item 2 (kg)'}, {'_recNumber': 2, 'label': 'Cantidad', 'uniqueLabel': 'md176ua0l|Cantidad', 'value': '2'}, {'_recNumber': 2, 'label': 'Comentarios', 'uniqueLabel': 'b5l91zmg4|Comentarios', 'value': None}]]}, {'type': 'text', 'label': 'Observaciones', 'id': 'p147m33uo', 'uniqueLabel': 'p147m33uo|Observaciones', 'colNro': 14, 'value': None}, {'type': 'photo', 'label': 'Foto Parte Diario', 'id': 'yorihol97', 'uniqueLabel': 'yorihol97|Foto Parte Diario', 'colNro': 16, 'value': None}, {'type': 'number', 'label': 'N° Parte Diario', 'id': 'p6qx6e5ms', 'uniqueLabel': 'p6qx6e5ms|N° Parte Diario', 'colNro': 17, 'value': None}, {'type': 'number', 'label': 'DNI Representante', 'id': 'qdio4xh8w', 'uniqueLabel': 'qdio4xh8w|DNI Representante', 'colNro': 18, 'value': '36530354'}, {'type': 'text', 'label': 'Aclaración Firma', 'id': '663oxgqix', 'uniqueLabel': '663oxgqix|Aclaración Firma', 'colNro': 19, 'value': 'Pedro Alvarez'}, {'type': 'sign', 'label': 'Firma', 'id': 'xohkoh4km', 'uniqueLabel': 'xohkoh4km|Firma', 'colNro': 20, 'value': 'https://field.voolks.com/api/containers/field-container-bucket/download/62d57e03506a214709ab1c81.62e3f027506a214709ab2ac2-sign-xohkoh4km-1659106466275.png'}]}]}]}}}\n"
     ]
    }
   ],
   "source": [
    "print(type(body))\n",
    "_json = json.loads(body)\n",
    "print(_json)"
   ]
  },
  {
   "cell_type": "code",
   "execution_count": 41,
   "metadata": {},
   "outputs": [
    {
     "name": "stdout",
     "output_type": "stream",
     "text": [
      "form\n",
      "name\n",
      "description\n",
      "items\n"
     ]
    }
   ],
   "source": [
    "_json['response']\n",
    "for key in _json['response']:\n",
    "    print(key)\n",
    "for key in _json['response']['form']:\n",
    "    print(key)"
   ]
  },
  {
   "cell_type": "code",
   "execution_count": null,
   "metadata": {},
   "outputs": [],
   "source": [
    "frm_name = _json['response']['form']['name']\n",
    "frm_desc = _json['response']['form']['description']"
   ]
  },
  {
   "cell_type": "code",
   "execution_count": 42,
   "metadata": {},
   "outputs": [
    {
     "name": "stdout",
     "output_type": "stream",
     "text": [
      "id\n",
      "validate\n",
      "member\n",
      "CreationTime\n",
      "UTCOffsetMinutes\n",
      "pages\n",
      "id:  62f3c6cfebe084780fa97e1d\n",
      "Validate:  {'user': {'_id': '6086e2bebc79f75644bf4c3d', 'firstName': 'Santiago', 'lastName': 'Chain'}, 'comments': 'corresponden 30 m3', 'state': 'REJECT', 'updatedAt': '2022-08-10T15:04:48.686Z'}\n",
      "member:  {'firstName': 'Tablet', 'lastName': 'R5M510CRTD', 'email': 'contratospampa01@gmail.com'}\n",
      "2022-08-10T14:55:11.416Z\n",
      "0\n"
     ]
    }
   ],
   "source": [
    "for key in _json['response']['form']['items'][0]:\n",
    "    print(key)\n",
    "# Items: Hay un solo item (i=0)\n",
    "i = 0\n",
    "print('id: ', _json['response']['form']['items'][i]['id'])\n",
    "print('Validate: ', _json['response']['form']['items'][i]['validate'])\n",
    "print('member: ', _json['response']['form']['items'][i]['member'])\n",
    "print(_json['response']['form']['items'][i]['CreationTime'])\n",
    "print(_json['response']['form']['items'][i]['UTCOffsetMinutes'])"
   ]
  },
  {
   "cell_type": "code",
   "execution_count": 47,
   "metadata": {},
   "outputs": [
    {
     "name": "stdout",
     "output_type": "stream",
     "text": [
      "id\n",
      "fields\n"
     ]
    }
   ],
   "source": [
    "for key in _json['response']['form']['items'][0]['pages'][0]:\n",
    "    print(key)"
   ]
  },
  {
   "cell_type": "code",
   "execution_count": 60,
   "metadata": {},
   "outputs": [
    {
     "name": "stdout",
     "output_type": "stream",
     "text": [
      "id page:  htcz4lsvg\n",
      "{'type': 'autonumeric', 'label': 'N° Registro', 'id': 'f0rioqvgu', 'uniqueLabel': 'f0rioqvgu|N° Registro', 'colNro': 2, 'value': 10}\n",
      "{'type': 'checkbox', 'label': '¿Es Corrección? - Completar sólo por personal PAMPA', 'id': 'mruj7br5f', 'uniqueLabel': 'mruj7br5f|¿Es Corrección? - Completar sólo por personal PAMPA', 'colNro': 3, 'value': None}\n",
      "{'type': 'multiple', 'label': '# Registro de Referencia', 'id': 'yu4tsrotx', 'value': 'null', 'uniqueLabel': 'yu4tsrotx|# Registro de Referencia', 'colNro': 5}\n",
      "{'type': 'date', 'label': 'Fecha', 'id': '9ooc16d0l', 'uniqueLabel': '9ooc16d0l|Fecha', 'colNro': 7, 'value': '2022-08-08T11:46:00.605Z'}\n",
      "{'type': 'select', 'label': 'Yacimiento', 'id': '8r20r2j8x', 'uniqueLabel': '8r20r2j8x|Yacimiento', 'colNro': 8, 'value': 'Sierra Chata'}\n",
      "{'type': 'select', 'label': 'Equipo', 'id': 'm4slw44b9', 'uniqueLabel': 'm4slw44b9|Equipo', 'colNro': 9, 'value': 'E-768 (Ensign)'}\n",
      "{'type': 'select', 'label': 'Pozo', 'id': 'w84b195x7', 'isDinamic': True, 'uniqueLabel': 'w84b195x7|Pozo', 'colNro': 10, 'value': 'SCH-1008(h)'}\n",
      "{'type': 'multiple', 'label': 'Sección', 'id': 'fofd5q7og', 'uniqueLabel': 'fofd5q7og|Sección', 'colNro': 11, 'value': ['4. Aislacion']}\n",
      "{'type': 'simplelist', 'label': 'Servicios', 'id': '9erw4gng5', 'uniqueLabel': '9erw4gng5|Servicios', 'colNro': 13, 'value': [[{'_recNumber': 1, 'label': 'Item Contrato', 'uniqueLabel': 'vsppl9rof|Item Contrato', 'value': 'Item 1-[m3]'}, {'_recNumber': 1, 'label': 'Cantidad', 'uniqueLabel': 'md176ua0l|Cantidad', 'value': '40.5'}, {'_recNumber': 1, 'label': 'Comentarios', 'uniqueLabel': 'b5l91zmg4|Comentarios', 'value': None}], [{'_recNumber': 2, 'label': 'Item Contrato', 'uniqueLabel': 'vsppl9rof|Item Contrato', 'value': 'Item 2-[Kg.]'}, {'_recNumber': 2, 'label': 'Cantidad', 'uniqueLabel': 'md176ua0l|Cantidad', 'value': '5'}, {'_recNumber': 2, 'label': 'Comentarios', 'uniqueLabel': 'b5l91zmg4|Comentarios', 'value': None}]]}\n",
      "{'type': 'text', 'label': 'Observaciones', 'id': 'p147m33uo', 'uniqueLabel': 'p147m33uo|Observaciones', 'colNro': 14, 'value': None}\n",
      "{'type': 'photo', 'label': 'Foto Parte Diario', 'id': 'yorihol97', 'uniqueLabel': 'yorihol97|Foto Parte Diario', 'colNro': 16, 'value': [{'uri': 'https://field.voolks.com/api/containers/field-container-bucket/download/62d57e03506a214709ab1c81.62e3f027506a214709ab2ac2-photo-yorihol97-1660132167739.jpg'}]}\n",
      "{'type': 'number', 'label': 'N° Parte Diario', 'id': 'p6qx6e5ms', 'uniqueLabel': 'p6qx6e5ms|N° Parte Diario', 'colNro': 17, 'value': '237'}\n",
      "{'type': 'number', 'label': 'DNI Representante', 'id': 'qdio4xh8w', 'uniqueLabel': 'qdio4xh8w|DNI Representante', 'colNro': 18, 'value': '25456855'}\n",
      "{'type': 'text', 'label': 'Aclaración Firma', 'id': '663oxgqix', 'uniqueLabel': '663oxgqix|Aclaración Firma', 'colNro': 19, 'value': 'Ffggh'}\n",
      "{'type': 'sign', 'label': 'Firma', 'id': 'xohkoh4km', 'uniqueLabel': 'xohkoh4km|Firma', 'colNro': 20, 'value': 'https://field.voolks.com/api/containers/field-container-bucket/download/62d57e03506a214709ab1c81.62e3f027506a214709ab2ac2-sign-xohkoh4km-1660130502287.png'}\n"
     ]
    }
   ],
   "source": [
    "# Estructura de la página (formulario web) --> en fields\n",
    "pg = 0\n",
    "print('id page: ', _json['response']['form']['items'][0]['pages'][pg]['id'])\n",
    "for key in _json['response']['form']['items'][0]['pages'][pg]['fields']:\n",
    "    print(key)"
   ]
  },
  {
   "cell_type": "code",
   "execution_count": 58,
   "metadata": {},
   "outputs": [
    {
     "data": {
      "text/plain": [
       "{'type': 'autonumeric',\n",
       " 'label': 'N° Registro',\n",
       " 'id': 'f0rioqvgu',\n",
       " 'uniqueLabel': 'f0rioqvgu|N° Registro',\n",
       " 'colNro': 2,\n",
       " 'value': 10}"
      ]
     },
     "execution_count": 58,
     "metadata": {},
     "output_type": "execute_result"
    }
   ],
   "source": [
    "_json['response']['form']['items'][0]['pages'][pg]['fields'][0]"
   ]
  },
  {
   "cell_type": "code",
   "execution_count": 67,
   "metadata": {},
   "outputs": [
    {
     "name": "stdout",
     "output_type": "stream",
     "text": [
      "0 - 62f3c6cfebe084780fa97e1d\n",
      "1 - 62e82baaef53a5fc54f544c3\n",
      "2 - 62e829d5ff5cf4ff5509820f\n",
      "3 - 62e827b5ef53a5fc54f544b3\n",
      "4 - 62e82207ff5cf4ff55098200\n",
      "5 - 62e81799ef53a5fc54f54490\n",
      "6 - 62e8175bef53a5fc54f5448f\n",
      "7 - 62e7ea4def53a5fc54f5441e\n",
      "8 - 62e3f56c506a214709ab2ac9\n",
      "9 - 62e3f516506a214709ab2ac7\n"
     ]
    }
   ],
   "source": [
    "j=0\n",
    "for key in _json['response']['form']['items']:\n",
    "    print(j, \"-\", key['id'])\n",
    "    j+=1"
   ]
  },
  {
   "cell_type": "code",
   "execution_count": 76,
   "metadata": {},
   "outputs": [
    {
     "name": "stdout",
     "output_type": "stream",
     "text": [
      "0 - [{'id': 'htcz4lsvg', 'fields': [{'type': 'autonumeric', 'label': 'N° Registro', 'id': 'f0rioqvgu', 'uniqueLabel': 'f0rioqvgu|N° Registro', 'colNro': 2, 'value': 10}, {'type': 'checkbox', 'label': '¿Es Corrección? - Completar sólo por personal PAMPA', 'id': 'mruj7br5f', 'uniqueLabel': 'mruj7br5f|¿Es Corrección? - Completar sólo por personal PAMPA', 'colNro': 3, 'value': None}, {'type': 'multiple', 'label': '# Registro de Referencia', 'id': 'yu4tsrotx', 'value': 'null', 'uniqueLabel': 'yu4tsrotx|# Registro de Referencia', 'colNro': 5}, {'type': 'date', 'label': 'Fecha', 'id': '9ooc16d0l', 'uniqueLabel': '9ooc16d0l|Fecha', 'colNro': 7, 'value': '2022-08-08T11:46:00.605Z'}, {'type': 'select', 'label': 'Yacimiento', 'id': '8r20r2j8x', 'uniqueLabel': '8r20r2j8x|Yacimiento', 'colNro': 8, 'value': 'Sierra Chata'}, {'type': 'select', 'label': 'Equipo', 'id': 'm4slw44b9', 'uniqueLabel': 'm4slw44b9|Equipo', 'colNro': 9, 'value': 'E-768 (Ensign)'}, {'type': 'select', 'label': 'Pozo', 'id': 'w84b195x7', 'isDinamic': True, 'uniqueLabel': 'w84b195x7|Pozo', 'colNro': 10, 'value': 'SCH-1008(h)'}, {'type': 'multiple', 'label': 'Sección', 'id': 'fofd5q7og', 'uniqueLabel': 'fofd5q7og|Sección', 'colNro': 11, 'value': ['4. Aislacion']}, {'type': 'simplelist', 'label': 'Servicios', 'id': '9erw4gng5', 'uniqueLabel': '9erw4gng5|Servicios', 'colNro': 13, 'value': [[{'_recNumber': 1, 'label': 'Item Contrato', 'uniqueLabel': 'vsppl9rof|Item Contrato', 'value': 'Item 1-[m3]'}, {'_recNumber': 1, 'label': 'Cantidad', 'uniqueLabel': 'md176ua0l|Cantidad', 'value': '40.5'}, {'_recNumber': 1, 'label': 'Comentarios', 'uniqueLabel': 'b5l91zmg4|Comentarios', 'value': None}], [{'_recNumber': 2, 'label': 'Item Contrato', 'uniqueLabel': 'vsppl9rof|Item Contrato', 'value': 'Item 2-[Kg.]'}, {'_recNumber': 2, 'label': 'Cantidad', 'uniqueLabel': 'md176ua0l|Cantidad', 'value': '5'}, {'_recNumber': 2, 'label': 'Comentarios', 'uniqueLabel': 'b5l91zmg4|Comentarios', 'value': None}]]}, {'type': 'text', 'label': 'Observaciones', 'id': 'p147m33uo', 'uniqueLabel': 'p147m33uo|Observaciones', 'colNro': 14, 'value': None}, {'type': 'photo', 'label': 'Foto Parte Diario', 'id': 'yorihol97', 'uniqueLabel': 'yorihol97|Foto Parte Diario', 'colNro': 16, 'value': [{'uri': 'https://field.voolks.com/api/containers/field-container-bucket/download/62d57e03506a214709ab1c81.62e3f027506a214709ab2ac2-photo-yorihol97-1660132167739.jpg'}]}, {'type': 'number', 'label': 'N° Parte Diario', 'id': 'p6qx6e5ms', 'uniqueLabel': 'p6qx6e5ms|N° Parte Diario', 'colNro': 17, 'value': '237'}, {'type': 'number', 'label': 'DNI Representante', 'id': 'qdio4xh8w', 'uniqueLabel': 'qdio4xh8w|DNI Representante', 'colNro': 18, 'value': '25456855'}, {'type': 'text', 'label': 'Aclaración Firma', 'id': '663oxgqix', 'uniqueLabel': '663oxgqix|Aclaración Firma', 'colNro': 19, 'value': 'Ffggh'}, {'type': 'sign', 'label': 'Firma', 'id': 'xohkoh4km', 'uniqueLabel': 'xohkoh4km|Firma', 'colNro': 20, 'value': 'https://field.voolks.com/api/containers/field-container-bucket/download/62d57e03506a214709ab1c81.62e3f027506a214709ab2ac2-sign-xohkoh4km-1660130502287.png'}]}]\n",
      "    0 - htcz4lsvg\n"
     ]
    }
   ],
   "source": [
    "j=0\n",
    "for key in _json['response']['form']['items']:\n",
    "    print(j, \"-\", key['pages'])\n",
    "    j+=1\n",
    "    k=0\n",
    "    for id in key['pages']:\n",
    "        print(\"   \", k, \"-\", id['id'])\n",
    "    break"
   ]
  },
  {
   "cell_type": "code",
   "execution_count": null,
   "metadata": {},
   "outputs": [],
   "source": []
  }
 ],
 "metadata": {
  "kernelspec": {
   "display_name": "Python 3.6.13 ('mne3')",
   "language": "python",
   "name": "python3"
  },
  "language_info": {
   "codemirror_mode": {
    "name": "ipython",
    "version": 3
   },
   "file_extension": ".py",
   "mimetype": "text/x-python",
   "name": "python",
   "nbconvert_exporter": "python",
   "pygments_lexer": "ipython3",
   "version": "3.6.13"
  },
  "orig_nbformat": 4,
  "vscode": {
   "interpreter": {
    "hash": "8ee34fb570549aac93f81c8ceae5c8253ed0f1099eb4b4851fdaf648f08ce96d"
   }
  }
 },
 "nbformat": 4,
 "nbformat_minor": 2
}
