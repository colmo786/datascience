{
 "cells": [
  {
   "cell_type": "markdown",
   "id": "fecd3421-7813-4949-aa06-566fc3b21d4e",
   "metadata": {},
   "source": [
    "# Research Python Web"
   ]
  },
  {
   "cell_type": "markdown",
   "id": "2a1b1274-a299-476f-9ea9-104abbc10840",
   "metadata": {},
   "source": [
    "# Dash\n",
    "https://www.datasource.ai/es/data-science-articles/construye-un-dashboard-de-datos-en-la-web-en-solo-minutos-con-python\n",
    "\n",
    "https://dash.plotly.com/installation\n",
    "\n",
    "Web Access (inside local network) https://stackoverflow.com/questions/64790502/deploying-dash-app-on-a-local-server-with-external-access-securely"
   ]
  },
  {
   "cell_type": "markdown",
   "id": "d0cb7894-7bf9-43dc-8bf1-f44d31ade64c",
   "metadata": {},
   "source": [
    "## Flask\n",
    "https://flask.palletsprojects.com/en/2.1.x/installation/<br>\n",
    "1. Crear un ambiente virtual\n",
    "2. Instalar Flask\n",
    "3. Crear una carpeta para la aplicación (porque la vamos a crear como un paquete de python) Para que Python la considere un paquete, debemos crear una carpeta dentro del ambiente y en el raíz debe tener el __init__.py\n",
    "\n",
    "\n",
    "`from flask import Flask` -->import the Flask class. An instance of this class will be our WSGI application.\n",
    "The Web Server Gateway Interface (WSGI, pronounced whiskey or WIZ-ghee) is a simple calling convention for web servers to forward requests to web applications or frameworks written in the Python programming language. "
   ]
  },
  {
   "cell_type": "markdown",
   "id": "bcccda2b-6b7d-40a4-b588-fc17edb46444",
   "metadata": {},
   "source": [
    "https://blog.miguelgrinberg.com/post/the-flask-mega-tutorial-part-i-hello-world\n",
    "The application will exist in a package. In Python, a sub-directory that includes a __init__.py file is considered a package, and can be imported. When you import a package, the __init__.py executes and defines what symbols the package exposes to the outside world.\n",
    "\n",
    "Let's create a package called app, that will host the application. `(venv) $ mkdir app`\n",
    "On it, create a file: __init__.py\n",
    "```\n",
    "from flask import Flask\n",
    "app = Flask(__name__)\n",
    "from app import routes\n",
    "```"
   ]
  },
  {
   "cell_type": "markdown",
   "id": "965ec98b-d930-449f-80b1-07a49fb34554",
   "metadata": {},
   "source": [
    "### Routing\n",
    "Modern web applications use meaningful URLs to help users. Users are more likely to like a page and come back if the page uses a meaningful URL they can remember and use to directly visit a page.\n",
    "\n",
    "Use the route() decorator to bind a function to a URL.\n",
    "\n",
    "Routes module: are the different URLs that the application implements. In Flask, handlers for the application routes are written as Python functions, called **view functions**. View functions are mapped to one or more route URLs so that Flask knows what logic to execute when a client requests a given URL. app/routes.py:\n",
    "\n",
    "`from app import app`<br>\n",
    "`@app.route('/')`<br>\n",
    "`@app.route('/index')`<br>\n",
    "`def index():`<br>\n",
    "`    return \"Hello, World!\"`<br>"
   ]
  },
  {
   "cell_type": "markdown",
   "id": "fea0c849-8620-4d32-8158-c5ced3af9290",
   "metadata": {},
   "source": [
    "@app.route are **decorators**. A decorator modifies the function that follows it. In this case, the `@app.route` decorator creates an association between the URL given as an argument and the function. In this example there are two decorators, which associate the URLs / and /index to this function. This means that when a web browser requests either of these two URLs, Flask is going to invoke this function and pass the return value of it back to the browser as a response."
   ]
  },
  {
   "cell_type": "markdown",
   "id": "4bc392ff-a8bb-424d-b4d0-2b9447f9a60e",
   "metadata": {},
   "source": [
    "To complete the application, you need to have a Python script at the top-level that defines the Flask application instance. Let's call this script microblog.py, and define it as a single line that imports the application instance, web_app.py: `from app import app`\n",
    "\n",
    "Flask needs to be told how to import it, by setting the FLASK_APP environment variable:<br>\n",
    "`(venv) > $env:FLASK_APP = \"web_app\"`\n",
    "\n",
    "You can run your first web application, with the following command (levanta el server):\n",
    "\n",
    "`(venv) $ flask run`\n",
    "\n",
    "The output from flask run indicates that the server is running on IP address 127.0.0.1, which is always the address of your own computer. also has a simpler name: localhost."
   ]
  },
  {
   "cell_type": "markdown",
   "id": "45e0586e-8e9a-4bce-99c7-814a910448d3",
   "metadata": {},
   "source": [
    "### Externally Visible Server\n",
    "If you run the server you will notice that the server is only accessible from your own computer, not from any other in the network. This is the default because in debugging mode a user of the application can execute arbitrary Python code on your computer.\n",
    "\n",
    "If you have the debugger disabled or trust the users on your network, you can make the server publicly available simply by adding --host=0.0.0.0 to the command line:\n",
    "\n",
    "`$ flask run --host=0.0.0.0`<br>\n",
    "This tells your operating system to listen on all public IPs.\n",
    "\n",
    "`0.0.0.0` is a special value that you can't use in the browser directly, you'll need to navigate to the actual ***IP address of the machine on the network***. You may also need to adjust your firewall to allow external access to the port.\n",
    "\n",
    "VER 3 er respuesta de este stackoverflow: https://stackoverflow.com/questions/7023052/configure-flask-dev-server-to-be-visible-across-the-network"
   ]
  },
  {
   "attachments": {
    "161092b9-4758-40f9-8806-6e210f64c931.png": {
     "image/png": "[encoded data removed]"
    }
   },
   "cell_type": "markdown",
   "id": "1366fa27-1636-4687-82b7-4e6893239b11",
   "metadata": {},
   "source": [
    "### Templates\n",
    "the way to achieve separation between presentation and business logic. Written as separate files, stored in a templates folder with the same name of the view function. Flask configures the [`Jinja2`](https://jinja.palletsprojects.com/en/3.1.x/templates/) template engine for you automatically.\n",
    "\n",
    "The operation that converts a template into a complete HTML page is called rendering. To render the template I had to import a function that comes with the Flask framework called render_template().\n",
    "app/templates/index.html:\n",
    "```\n",
    "<!doctype html>\n",
    "<html>\n",
    "    <head>\n",
    "        <title>{{ title }} - Microblog</title>\n",
    "    </head>\n",
    "    <body>\n",
    "        <h1>Hello, {{ user.username }}!</h1>\n",
    "    </body>\n",
    "</html>\n",
    "```\n",
    "{{ ... }} These placeholders represent the parts of the page that are variable and will only be known at runtime.\n",
    "\n",
    "`{% ... %}` for Statements<br>\n",
    "`{{ ... }}` for Expressions to print to the template output<br>\n",
    "`{# ... #}` for Comments not included in the template output<br>\n",
    "![image.png](attachment:161092b9-4758-40f9-8806-6e210f64c931.png)"
   ]
  },
  {
   "cell_type": "markdown",
   "id": "28faba24-cdbb-4c9a-b1f1-0347ba39b69c",
   "metadata": {},
   "source": [
    "view function app/routes.py:\n",
    "```\n",
    "from flask import render_template`<br>\n",
    "from app import app\n",
    "\n",
    "@app.route('/')\n",
    "@app.route('/index')\n",
    "def index():\n",
    "    user = {'username': 'Miguel'}\n",
    "    return render_template('index.html', title='Home', user=user)\n",
    "```\n"
   ]
  },
  {
   "cell_type": "markdown",
   "id": "0daa18bf-f91e-4a95-8dcf-fc428924d64b",
   "metadata": {},
   "source": [
    "#### Template Inheritance\n",
    "Jinja2 has a template inheritance feature that specifically addresses this problem. In essence, what you can do is move the parts of the page layout that are common to all templates to a base template, from which all other templates are derived.<br>\n",
    "app/templates/base.html:\n",
    "```\n",
    "<!doctype html>\n",
    "<html>\n",
    "    <head>\n",
    "      {% if title %}\n",
    "      <title>{{ title }} - Microblog</title>\n",
    "      {% else %}\n",
    "      <title>Welcome to Microblog</title>\n",
    "      {% endif %}\n",
    "    </head>\n",
    "    <body>\n",
    "        <div>Microblog: <a href=\"/index\">Home</a></div>\n",
    "        <hr>\n",
    "        {% block content %}{% endblock %}\n",
    "    </body>\n",
    "</html>\n",
    "```\n",
    "\n",
    "block control statement to define the place where the derived templates can insert themselves."
   ]
  },
  {
   "cell_type": "markdown",
   "id": "8892f6d9-56a9-4459-a398-65422560e62f",
   "metadata": {},
   "source": [
    "app/templates/index.html: Inherit from base template\n",
    "```\n",
    "{% extends \"base.html\" %}\n",
    "\n",
    "{% block content %}\n",
    "    <h1>Hi, {{ user.username }}!</h1>\n",
    "    {% for post in posts %}\n",
    "    <div><p>{{ post.author.username }} says: <b>{{ post.body }}</b></p></div>\n",
    "    {% endfor %}\n",
    "{% endblock %}\n",
    "```"
   ]
  },
  {
   "cell_type": "markdown",
   "id": "8704dcd9-71ae-4c3d-b261-3dc2e81a29c4",
   "metadata": {},
   "source": [
    "#### How to use google fonts\n",
    "https://www.w3schools.com/css/css_font_google.asp"
   ]
  },
  {
   "cell_type": "markdown",
   "id": "1a16bcfd-b569-47e0-ab67-bad63a868a72",
   "metadata": {},
   "source": [
    "#### Adding a favicon\n",
    "https://flask.palletsprojects.com/en/1.1.x/patterns/favicon/\n",
    "Put the icon in your static directory as favicon.ico.\n",
    "\n",
    "Now, to get browsers to find your icon, the correct way is to add a link tag in your HTML. So, for example:\n",
    "\n",
    "`<link rel=\"shortcut icon\" href=\"{{ url_for('static', filename='favicon.ico') }}\">`"
   ]
  },
  {
   "cell_type": "markdown",
   "id": "2aaf76cd-a4b1-440c-88e2-9879be4ce1ed",
   "metadata": {},
   "source": [
    "#### Bootstrap\n",
    "https://www.w3schools.com/bootstrap/default.asp<br>\n",
    "https://getbootstrap.com/docs/4.0/getting-started/introduction/\n",
    "https://plataforma.josedomingo.org/pledin/cursos/flask/curso/u17/"
   ]
  },
  {
   "cell_type": "markdown",
   "id": "edb19782-6755-4902-a783-57eec9ff2ef0",
   "metadata": {},
   "source": [
    "#### Menues en HTML\n",
    "https://alvarotrigo.com/blog/hamburger-menu-css/\n",
    "https://www.w3schools.com/howto/tryit.asp?filename=tryhow_css_dropdown_navbar\n",
    "\n",
    "#### Tabs en HTML\n",
    "VER Tabby Tabs: https://alvarotrigo.com/blog/html-css-tabs/"
   ]
  },
  {
   "cell_type": "markdown",
   "id": "7877d212-5a93-44c8-89ea-c536dfd0329d",
   "metadata": {},
   "source": [
    "#### Charts\n",
    "https://python.plainenglish.io/create-a-simple-covid-19-dashboard-with-flask-plotly-altair-chart-js-and-adminlte-a92ef86a3ca8\n",
    "\n",
    "https://blog.heptanalytics.com/flask-plotly-dashboard/<br>\n",
    "The static folder will be used to store all the css, js and image files. If you are using any bootstrap template, this is where you will store the files. "
   ]
  },
  {
   "cell_type": "markdown",
   "id": "9431c27c-658a-4290-9058-9a31ffc36f43",
   "metadata": {},
   "source": [
    "### Flask AppBuilder\n",
    "https://flask-appbuilder.readthedocs.io/en/latest/intro.html"
   ]
  },
  {
   "cell_type": "code",
   "execution_count": null,
   "id": "afcb227b-7c77-46bb-87cd-1d473ef041b5",
   "metadata": {},
   "outputs": [],
   "source": []
  },
  {
   "cell_type": "code",
   "execution_count": null,
   "id": "b271c6b9-7a0f-4c71-b687-1fb4d65fc209",
   "metadata": {},
   "outputs": [],
   "source": []
  },
  {
   "cell_type": "markdown",
   "id": "75b269bc-0c99-4242-840f-87daf9570352",
   "metadata": {},
   "source": [
    "https://medium.com/featurepreneur/an-introduction-to-web-automation-using-selenium-python-2ad84814b11c\n",
    "\n",
    "#### Setup\n",
    "1. pip install selenium\n",
    "2. Check for the browser version in your browser settings and download the webdriver that matches your browser version.\n",
    "\n",
    "https://chromedriver.chromium.org/home: WebDriver is an open source tool for automated testing of webapps across many browsers. It provides capabilities for navigating to web pages, user input, JavaScript execution, and more.  ChromeDriver is a standalone server that implements the W3C WebDriver standard.<br>\n",
    "https://chromedriver.chromium.org/getting-started<br>\n",
    "Help WebDriver find the downloaded ChromeDriver executable: Python only: include the path to ChromeDriver when instantiating webdriver.Chrome (see sample below)\n",
    "\n",
    "`import time`<br>\n",
    "`from selenium import webdriver` <br>\n",
    "`driver = webdriver.Chrome('/path/to/chromedriver')  # Optional argument, if not specified will search path.`<br>\n",
    "`driver.get('http://www.google.com/');`<br>\n",
    "`time.sleep(5) # Let the user actually see something!`<br>\n",
    "`search_box = driver.find_element_by_name('q')`<br>\n",
    "`search_box.send_keys('ChromeDriver')`<br>\n",
    "`search_box.submit()`<br>\n",
    "`time.sleep(5) # Let the user actually see something!`<br>\n",
    "`driver.quit()`<br>\n"
   ]
  },
  {
   "cell_type": "code",
   "execution_count": null,
   "id": "7039624c-b318-46e9-8ddb-c8ee69bc8bfa",
   "metadata": {},
   "outputs": [],
   "source": []
  }
 ],
 "metadata": {
  "kernelspec": {
   "display_name": "Python 3.8 (py38)",
   "language": "python",
   "name": "py38"
  },
  "language_info": {
   "codemirror_mode": {
    "name": "ipython",
    "version": 3
   },
   "file_extension": ".py",
   "mimetype": "text/x-python",
   "name": "python",
   "nbconvert_exporter": "python",
   "pygments_lexer": "ipython3",
   "version": "3.8.12"
  }
 },
 "nbformat": 4,
 "nbformat_minor": 5
}
