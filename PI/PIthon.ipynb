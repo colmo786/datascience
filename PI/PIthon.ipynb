{
 "cells": [
  {
   "attachments": {},
   "cell_type": "markdown",
   "metadata": {},
   "source": [
    "# Ejemplo de consulta de datos en PI"
   ]
  },
  {
   "cell_type": "code",
   "execution_count": 1,
   "id": "ff17709c-a948-438a-8a3f-c12cd0b16d69",
   "metadata": {},
   "outputs": [],
   "source": [
    "from datetime import datetime, timedelta"
   ]
  },
  {
   "cell_type": "code",
   "execution_count": 2,
   "id": "c6413b8f-70a8-4481-9cee-5f531584afe1",
   "metadata": {},
   "outputs": [],
   "source": [
    "import numpy as np\n",
    "import pandas as pd\n",
    "import warnings\n",
    "warnings.filterwarnings(\"ignore\", category=Warning)"
   ]
  },
  {
   "cell_type": "code",
   "execution_count": 3,
   "id": "8bbbd6d9-7b67-48e1-a602-efaba2f1ea41",
   "metadata": {},
   "outputs": [],
   "source": [
    "import re"
   ]
  },
  {
   "cell_type": "code",
   "execution_count": 4,
   "metadata": {},
   "outputs": [],
   "source": [
    "import clr\n",
    "clr.AddReference('System.Collections')\n",
    "from System.Collections.Generic import List"
   ]
  },
  {
   "cell_type": "code",
   "execution_count": 5,
   "id": "c80001e3",
   "metadata": {},
   "outputs": [],
   "source": [
    "# Sólo para cuando se ejecuta desde notebooks:\n",
    "import warnings\n",
    "warnings.filterwarnings(\"ignore\", category=Warning)\n",
    "# Seteos de Pandas para ver mejor la info. https://pandas.pydata.org/pandas-docs/stable/user_guide/options.html\n",
    "# In max_columns and max_rows ‘None’ value means unlimited.\n",
    "pd.set_option('display.max_rows', 100)\n",
    "# Conviene setear min_rows también porque cuando se superan las max_rows, sólo muestra la cantidad indicada en min_rows.\n",
    "pd.set_option('display.min_rows', 10)\n",
    "pd.set_option('display.max_columns', 500)\n",
    "pd.set_option('display.width', 1000)\n",
    "pd.options.display.max_colwidth = 100\n",
    "pd.options.display.float_format = '{:.1f}'.format"
   ]
  },
  {
   "cell_type": "code",
   "execution_count": 6,
   "id": "0be96b97",
   "metadata": {},
   "outputs": [],
   "source": [
    "path_data = '.\\data'"
   ]
  },
  {
   "attachments": {},
   "cell_type": "markdown",
   "id": "14b641a2-0953-4e6a-8f2c-bdf950b91923",
   "metadata": {},
   "source": [
    "# (1) Real Time PI utilizando PIConnect\n",
    "Este código consulda datos según la estructura de AF. No consulta únicamente datos de tiempo real.<br>\n",
    "Para poder consultar, se necesita conocer la estructura de arbol definida en AF.<br>\n",
    "\n",
    "__[Parte 1]__<br>\n",
    "Se puede definir una lista de \"padres\": parents_lst (deben ser todos del mismo template, o sea, tener los mismos atributos), de los cuales se quiera una lista de \"atributos\": parents_att_lst. <br>\n",
    "También se puede definir una lista de \"elementos\" o descendientes: elements_lst. Si se definió una lista de padres, la lista de descendientes se espera que sean descendientes de estos padres. Si no se definió una lista de padres, se puede definir una lista de elementos sueltos (deben ser todos del mismo template, es decir, compartir atributos). Y una lista de atributos, si no queremos todos.\n",
    "Parte 1: Este código obtiene los datos a consultar.<br>\n",
    "__[Parte 2]__<br>\n",
    "Indicar la fecha desde. Esta parte del código arma un período de tiempo entre la fecha desde y ahora (* en PI)<br>\n",
    "__[Parte 3]__<br>\n",
    "Consulta los datos con una determinada frecuencia. En el ejemplo, consulta los datos cada 2 min. Hay que indicar este valor (2 min) en 2 lugares del código:<br>\n",
    "`intervals = (7 * 24 * 60)/2`<br>\n",
    "`time_span = PI.AFSDK.AF.Time.AFTimeSpan.Parse('2m')`<br>\n",
    "Los datos quedan en un dataframe `df_element_data_raw`"
   ]
  },
  {
   "cell_type": "markdown",
   "id": "32af1106-ceb5-4d4c-98a8-13ed08173a15",
   "metadata": {},
   "source": [
    "### Librerías necesarias"
   ]
  },
  {
   "cell_type": "code",
   "execution_count": null,
   "id": "2d8e88d3-aa9b-488d-aac4-3db45b3d0986",
   "metadata": {},
   "outputs": [],
   "source": [
    "# pip install PIconnect\n",
    "# NOTA: chequear si requiere instalar pythonnet, yo instalé PIConnect en un ambiente que ya tenía pythonnet"
   ]
  },
  {
   "cell_type": "code",
   "execution_count": 7,
   "id": "41dbc44c-9860-42a2-a614-7ead7a30032a",
   "metadata": {},
   "outputs": [
    {
     "name": "stdout",
     "output_type": "stream",
     "text": [
      "OSIsoft(r) AF SDK Version: 2.10.9.593\n"
     ]
    }
   ],
   "source": [
    "import PIconnect as PI\n",
    "#from PIconnect.PIConsts import RetrievalMode # retrieval_mode=RetrievalMode.AT_OR_BEFORE"
   ]
  },
  {
   "cell_type": "code",
   "execution_count": 8,
   "id": "9460c461",
   "metadata": {},
   "outputs": [],
   "source": [
    "pi_server_name = 'PARCCVWPIEDA01' # sys.argv[1] #\n",
    "pi_database_name = 'DOF' # sys.argv[2] # \n",
    "\n",
    "PIdatabase = PI.PIAFDatabase(server=pi_server_name, database=pi_database_name)\n",
    "for root in PIdatabase.children.values():\n",
    "    att = root.attributes.get('Fechas - Fecha Parte Operativo Zafiro').attribute\n",
    "    AFDatabase = att.Database"
   ]
  },
  {
   "cell_type": "code",
   "execution_count": 9,
   "id": "366257ac",
   "metadata": {},
   "outputs": [],
   "source": [
    "def treat_element(element, parent_data_att_lst, elements_att_lst, elements_data_att_lst):\n",
    "    \"\"\" Builds the element record, using att from parent and adding att from current element\n",
    "        Adds the element object attribute list to the general attribute list to query real time data\n",
    "        element_data_att_obj_lst must be globally declared and type: PI.AFSDK.AF.Asset.AFAttributeList()\n",
    "    \"\"\"\n",
    "    # Use the parent data on the element record:\n",
    "    _element_data_lst = parent_data_att_lst.copy()\n",
    "    # Get element data -no real time\n",
    "    for att in elements_att_lst:\n",
    "        # User should have asked to include the PI path of the element, by including 'Path' or 'path' in the list of static data att:\n",
    "        if 'path' == att.lower():\n",
    "            _element_data_lst.append(element.GetPath())\n",
    "        # User should have asked to include the PI internal ID of the element, by including 'element_id' in the list of static data att:\n",
    "        elif 'element_id' == att.lower():\n",
    "            _element_data_lst.append(element.ID)\n",
    "        elif 'name' == att.lower():\n",
    "            _element_data_lst.append(element.Name)\n",
    "        else:\n",
    "            att_value = element.Attributes.get_Item(att).GetValue().Value\n",
    "            att_is_good = element.Attributes.get_Item(att).GetValue().IsGood\n",
    "            _element_data_lst.extend([att_value if att_is_good else np.nan])\n",
    "    # REAL TIME DATA: build the list of att for the recorded data at times query\n",
    "    for data_att in elements_data_att_lst:\n",
    "        element_data_att_obj_lst.Add(element.Attributes.get_Item(data_att))\n",
    "    return _element_data_lst"
   ]
  },
  {
   "cell_type": "code",
   "execution_count": 10,
   "id": "17444211",
   "metadata": {},
   "outputs": [
    {
     "data": {
      "text/html": [
       "<div>\n",
       "<style scoped>\n",
       "    .dataframe tbody tr th:only-of-type {\n",
       "        vertical-align: middle;\n",
       "    }\n",
       "\n",
       "    .dataframe tbody tr th {\n",
       "        vertical-align: top;\n",
       "    }\n",
       "\n",
       "    .dataframe thead th {\n",
       "        text-align: right;\n",
       "    }\n",
       "</style>\n",
       "<table border=\"1\" class=\"dataframe\">\n",
       "  <thead>\n",
       "    <tr style=\"text-align: right;\">\n",
       "      <th></th>\n",
       "      <th>element_path_pi</th>\n",
       "      <th>element_id_pi</th>\n",
       "      <th>element</th>\n",
       "      <th>facility_name</th>\n",
       "      <th>facility_id_za</th>\n",
       "    </tr>\n",
       "  </thead>\n",
       "  <tbody>\n",
       "    <tr>\n",
       "      <th>0</th>\n",
       "      <td>\\\\PARCCVWPIEDA01\\DOF\\PAMPA ENERGIA S.A.\\El Mangrullo\\Instalaciones\\PTG EMAN\\Compresores\\K-02</td>\n",
       "      <td>9417996f-f828-11ea-813a-0050569d6e61</td>\n",
       "      <td>K-02</td>\n",
       "      <td>26</td>\n",
       "      <td>K-02</td>\n",
       "    </tr>\n",
       "  </tbody>\n",
       "</table>\n",
       "</div>"
      ],
      "text/plain": [
       "                                                                                element_path_pi                         element_id_pi element  facility_name facility_id_za\n",
       "0  \\\\PARCCVWPIEDA01\\DOF\\PAMPA ENERGIA S.A.\\El Mangrullo\\Instalaciones\\PTG EMAN\\Compresores\\K-02  9417996f-f828-11ea-813a-0050569d6e61    K-02             26           K-02"
      ]
     },
     "execution_count": 10,
     "metadata": {},
     "output_type": "execute_result"
    }
   ],
   "source": [
    "#[[[[[[[[[[[[[[[[[[ PARTE 1 ]]]]]]]]]]]]]]]]]]\n",
    "#------------------------------------------------------------------------------------------------------------\n",
    "# List of parents - keep null if you dont need to query all elements dependent of a father element\n",
    "parents_lst = ['\\\\PAMPA ENERGIA S.A.\\El Mangrullo\\Instalaciones\\PTG EMAN\\Compresores']\n",
    "#parents_lst = []\n",
    "# List of att from each parent. Not mandatory\n",
    "parents_att_lst = ['SAP Ubicación Técnica']\n",
    "parents_att_lst = []\n",
    "#------------------------------------------------------------------------------------------------------------\n",
    "# List of elements. Keep null if you want to query all descendants of each parent element from parent_lst\n",
    "elements_lst = ['\\\\PAMPA ENERGIA S.A.\\Sierra Chata\\Instalaciones\\EMC Zona Norte\\Compresores\\K-101 CZN SCH']\n",
    "elements_lst = ['K-02']\n",
    "# List statict data from element\n",
    "# IMPORTANT: User should have asked to include the PI path of the element, by including 'Path' or 'path' in the list of static data att\n",
    "# Same way, user should have asked to include the PI internal ID of the element, by including 'element_id' in the list of static data att:\n",
    "elements_att_lst = ['Path', 'element_id', 'Name', 'ID Equipo', 'Equipo']\n",
    "# List real time data from element\n",
    "elements_data_att_lst = ['Carga Motriz Compresor', 'Presion Descarga Cil. 1y3 Compresor', 'Presion Descarga Cil. 2y4 Compresor'\n",
    "                        , 'Presion Succion Compresor', 'RPMs Instantanea']\n",
    "#elements_data_att_lst = ['RPMs Instantanea']\n",
    "\n",
    "#------------------------------------------------------------------------------------\n",
    "# In order to define the list of fields for the final ELEMENT dataframe (static data):\n",
    "fields_lst = ['element_path_pi', 'element_id_pi', 'element', 'facility_name', 'facility_id_za']\n",
    "\n",
    "#------------------------------------------------------------------------------------\n",
    "# In order to define the list of fields for the final DATA dataframe (real time data):\n",
    "feat_lst = ['carga_motriz', 'press_1', 'press_2', 'press_suc', 'rpm']\n",
    "\n",
    "# List of data att. As an AFAttributeList() object so you can use its method Data.RecordedValuesAtTimes()\n",
    "element_data_att_obj_lst = PI.AFSDK.AF.Asset.AFAttributeList()\n",
    "\n",
    "if parents_lst:\n",
    "    # get the parent attibutes in a python list, so you can add parent data to the elements list\n",
    "    for parent in parents_lst:\n",
    "        parent_obj = AFDatabase.Elements.GetItem(parent, True, True, True)\n",
    "        parent_data_att_lst = []\n",
    "        for parent_att in parents_att_lst:\n",
    "            att_value = parent_obj.Attributes.get_Item(parent_att).GetValue().Value\n",
    "            att_is_good = parent_obj.Attributes.get_Item(parent_att).GetValue().IsGood\n",
    "            ##### PENDING: functionality to change the type of the att (sometimes IDs comes as System.Double and should be integer)\n",
    "            ##### You can add a list of types and cast to that type.\n",
    "            parent_data_att_lst.extend([att_value if att_is_good else np.nan])\n",
    "        if elements_lst:\n",
    "            elements_data_lst = []\n",
    "            # just bring data from the list of elements defined by user\n",
    "            for element in elements_lst:\n",
    "                element_obj = AFDatabase.Elements.GetItem(parent + '\\\\' + element, True, True, True)\n",
    "                element_data_lst = treat_element(element_obj, parent_data_att_lst, elements_att_lst, elements_data_att_lst)\n",
    "                # list to build the dataframe of static data of elements\n",
    "                elements_data_lst.append(element_data_lst)\n",
    "        else:\n",
    "            # Bring data from all the desendants.\n",
    "            i=0\n",
    "            elements_data_lst = []\n",
    "            for element in parent_obj.Elements:\n",
    "                i+=1\n",
    "                if True:\n",
    "                    element_data_lst = treat_element(element, parent_data_att_lst, elements_att_lst, elements_data_att_lst)\n",
    "                    # list to build the dataframe of static data of elements\n",
    "                    elements_data_lst.append(element_data_lst)\n",
    "else:\n",
    "    if elements_lst:\n",
    "        # No parent defined --> Use only parent name\n",
    "        # just bring data from the list of elements defined by user\n",
    "        elements_data_lst = []\n",
    "        # just bring data from the list of elements defined by user\n",
    "        for element in elements_lst:\n",
    "            element_obj = AFDatabase.Elements.GetItem(element, True, True, True)\n",
    "            parent_obj = element_obj.Parent\n",
    "            # Name is an attibute every asset has:\n",
    "            parent_att_lst = ['Name']\n",
    "            parent_data_att_lst = [parent_obj.Name]\n",
    "            element_data_lst = []\n",
    "            element_data_lst = treat_element(element_obj, parent_data_att_lst, elements_att_lst, elements_data_att_lst)\n",
    "            # list to build the dataframe of elements (only no real time data)\n",
    "            elements_data_lst.append(element_data_lst)\n",
    "    else:\n",
    "        # Should define any element!\n",
    "        print('Ups! Elements Not Defined. Should define any element!')\n",
    "df_element = pd.DataFrame(data=elements_data_lst, columns=fields_lst)\n",
    "df_element"
   ]
  },
  {
   "cell_type": "code",
   "execution_count": 11,
   "id": "4286a981",
   "metadata": {},
   "outputs": [
    {
     "name": "stdout",
     "output_type": "stream",
     "text": [
      "Start 1/11/2022 00:00:00 End: 7/11/2022 16:00:00 Time Range 1/11/2022 00:00:00 - 7/11/2022 16:00:00\n",
      "TimeSpan  2m\n",
      "Number of Intervals: 4800\n"
     ]
    }
   ],
   "source": [
    "#[[[[[[[[[[[[[[[[[[ PARTE 2 ]]]]]]]]]]]]]]]]]]\n",
    "pagingconfig = PI.AFSDK.AF.PI.PIPagingConfiguration(PI.AFSDK.AF.PI.PIPageType.TagCount, 100)\n",
    "#------------------------------------------------------------------------------------------------------------\n",
    "# Build Time range and span.\n",
    "exact_hr_timerange_end = datetime(PI.AFSDK.AF.Time.AFTime.Now.LocalTime.Year\n",
    "                                , PI.AFSDK.AF.Time.AFTime.Now.LocalTime.Month\n",
    "                                , PI.AFSDK.AF.Time.AFTime.Now.LocalTime.Day\n",
    "                                , PI.AFSDK.AF.Time.AFTime.Now.LocalTime.Hour, 0, 0)\n",
    "timerange_end = PI.AFSDK.AF.Time.AFTime(exact_hr_timerange_end.strftime(\"%d/%m/%Y, %H:%M:%S\"))\n",
    "\n",
    "#[[[[[[[[[[[[[[[[[[ INDICAR FECHA DESDE ]]]]]]]]]]]]]]]]]]\n",
    "timerange_start = PI.AFSDK.AF.Time.AFTime('01/11/2022 00:00:00')\n",
    "\n",
    "timerange = PI.AFSDK.AF.Time.AFTimeRange(timerange_start, timerange_end)\n",
    "print('Start', timerange_start, 'End:', timerange_end, 'Time Range', timerange)\n",
    "\n",
    "span = PI.AFSDK.AF.Time.AFTimeSpan.Parse('2m')\n",
    "print(\"TimeSpan \", span)\n",
    "print('Number of Intervals:', span.GetEvenTimeIntervalDefinitions(timerange)[0].NumberOfIntervals)\n",
    "#116532"
   ]
  },
  {
   "cell_type": "code",
   "execution_count": 12,
   "id": "15a31458",
   "metadata": {},
   "outputs": [],
   "source": [
    "def build_df_at_times(times, element_data_att_obj_lst, pagingconfig):\n",
    "    # Get recorded values AT TIMES (At Or Before):\n",
    "    recorded_values_lst = element_data_att_obj_lst.Data.RecordedValuesAtTimes(times\n",
    "                                        , PI.AFSDK.AF.Data.AFRetrievalMode.AtOrBefore, pagingconfig)\n",
    "    # Build dataframe: WARNING you have tu use as timestamp the times calculated earlier.\n",
    "    rows = []\n",
    "    idx=0\n",
    "    for values in recorded_values_lst:\n",
    "        idx+=1\n",
    "        if True: #idx <10:\n",
    "            i=0\n",
    "            for value in values:\n",
    "                rows.append([str(values.Attribute.Element.ID)\n",
    "                            , values.Attribute.Element.GetPath()\n",
    "                            , datetime.strptime(times[i].ToString(), '%d/%m/%Y %H:%M:%S')\n",
    "                            , value.Attribute.Name, value.Value])\n",
    "                i+=1\n",
    "    return pd.DataFrame(data=rows, columns=['element_id_pi', 'element_path_pi', 'timestamp', 'attribute', 'value'])\n"
   ]
  },
  {
   "cell_type": "code",
   "execution_count": 13,
   "id": "46696b26",
   "metadata": {},
   "outputs": [
    {
     "name": "stdout",
     "output_type": "stream",
     "text": [
      "1/11/2022 00:00:00 7/11/2022 16:00:00\n"
     ]
    }
   ],
   "source": [
    "#[[[[[[[[[[[[[[[[[[ PARTE 3 ]]]]]]]]]]]]]]]]]]\n",
    "start = datetime.now()\n",
    "\n",
    "# Example: Quantity of intervals of 2 min in a week:\n",
    "intervals = (7 * 24 * 60)/2\n",
    "time_span = PI.AFSDK.AF.Time.AFTimeSpan.Parse('2m')\n",
    "time_init = timerange_start\n",
    "# list of dataframes to concat at the end of loops\n",
    "df_lst = []\n",
    "for interval in range(0, round(time_span.GetEvenTimeIntervalDefinitions(timerange)[0].NumberOfIntervals/intervals)-1):\n",
    "    # Build a LIST (C#) of AFTime objects for each hour:\n",
    "    times = List[PI.AFSDK.AF.Time.AFTime]()\n",
    "    time_end = time_span.Multiply(time_init, intervals)\n",
    "    print(time_init.ToString(), time_end.ToString())\n",
    "    timerange_loop = PI.AFSDK.AF.Time.AFTimeRange(time_init, time_end)\n",
    "    times.Add(time_init)\n",
    "    time_aux = time_init\n",
    "    for t in range(1, time_span.GetEvenTimeIntervalDefinitions(timerange_loop)[0].NumberOfIntervals):\n",
    "        time_aux = PI.AFSDK.AF.Time.AFTime.op_Addition(time_aux, time_span)\n",
    "        times.Add(time_aux)\n",
    "    # Get recorded values AT TIMES (At Or Before) and build dataframe:\n",
    "    df_lst.append(build_df_at_times(times, element_data_att_obj_lst, pagingconfig))\n",
    "    time_init = time_span.Multiply(time_end, 1)\n",
    "# last loop 'till *\n",
    "times = List[PI.AFSDK.AF.Time.AFTime]()\n",
    "time_end = timerange_end\n",
    "print(time_init.ToString(), time_end.ToString())\n",
    "timerange_loop = PI.AFSDK.AF.Time.AFTimeRange(time_init, time_end)\n",
    "times.Add(time_init)\n",
    "time_aux = time_init\n",
    "for t in range(1, time_span.GetEvenTimeIntervalDefinitions(timerange_loop)[0].NumberOfIntervals):\n",
    "    time_aux = PI.AFSDK.AF.Time.AFTime.op_Addition(time_aux, time_span)\n",
    "    times.Add(time_aux)\n",
    "df_lst.append(build_df_at_times(times, element_data_att_obj_lst, pagingconfig))\n",
    "df_element_data_raw = pd.concat(df_lst)"
   ]
  },
  {
   "cell_type": "code",
   "execution_count": 14,
   "id": "7835d813",
   "metadata": {},
   "outputs": [
    {
     "name": "stdout",
     "output_type": "stream",
     "text": [
      "Total Registros: 24000\n",
      "Registros con error: 820 (3.4%)\n",
      "Tipos de errores (columna value):             value\n",
      "261   I/O Timeout\n",
      "574     Comm Fail\n",
      "3490          Bad\n"
     ]
    }
   ],
   "source": [
    "#######################################################################\n",
    "# Check records with data errors:\n",
    "df_values_err = df_element_data_raw[~df_element_data_raw.value.astype(str).str.match('[0-9]+\\.[0-9]+')]\n",
    "print('Total Registros:', df_element_data_raw.shape[0])\n",
    "print('Registros con error:', df_values_err.shape[0], '('+str(round(df_values_err.shape[0]/df_element_data_raw.shape[0]*100, 1))+'%)')\n",
    "print('Tipos de errores (columna value):', df_values_err[['value']].drop_duplicates(subset=['value']))"
   ]
  },
  {
   "cell_type": "code",
   "execution_count": 15,
   "id": "392daec8",
   "metadata": {},
   "outputs": [
    {
     "name": "stdout",
     "output_type": "stream",
     "text": [
      "Execution time: 0.00 hours 0.00 minutes 27.00 seconds Rows Generated: 4800\n",
      "(4800, 8)\n",
      "element_id_pi              object\n",
      "element_path_pi            object\n",
      "timestamp          datetime64[ns]\n",
      "carga_motriz              float64\n",
      "press_1                   float64\n",
      "press_2                   float64\n",
      "press_suc                 float64\n",
      "rpm                       float64\n",
      "dtype: object\n"
     ]
    },
    {
     "data": {
      "text/html": [
       "<div>\n",
       "<style scoped>\n",
       "    .dataframe tbody tr th:only-of-type {\n",
       "        vertical-align: middle;\n",
       "    }\n",
       "\n",
       "    .dataframe tbody tr th {\n",
       "        vertical-align: top;\n",
       "    }\n",
       "\n",
       "    .dataframe thead th {\n",
       "        text-align: right;\n",
       "    }\n",
       "</style>\n",
       "<table border=\"1\" class=\"dataframe\">\n",
       "  <thead>\n",
       "    <tr style=\"text-align: right;\">\n",
       "      <th></th>\n",
       "      <th>element_id_pi</th>\n",
       "      <th>element_path_pi</th>\n",
       "      <th>timestamp</th>\n",
       "      <th>carga_motriz</th>\n",
       "      <th>press_1</th>\n",
       "      <th>press_2</th>\n",
       "      <th>press_suc</th>\n",
       "      <th>rpm</th>\n",
       "    </tr>\n",
       "  </thead>\n",
       "  <tbody>\n",
       "    <tr>\n",
       "      <th>0</th>\n",
       "      <td>9417996f-f828-11ea-813a-0050569d6e61</td>\n",
       "      <td>\\\\PARCCVWPIEDA01\\DOF\\PAMPA ENERGIA S.A.\\El Mangrullo\\Instalaciones\\PTG EMAN\\Compresores\\K-02</td>\n",
       "      <td>2022-11-01 00:00:00</td>\n",
       "      <td>91.6</td>\n",
       "      <td>84.6</td>\n",
       "      <td>84.8</td>\n",
       "      <td>33.6</td>\n",
       "      <td>1050.4</td>\n",
       "    </tr>\n",
       "    <tr>\n",
       "      <th>1</th>\n",
       "      <td>9417996f-f828-11ea-813a-0050569d6e61</td>\n",
       "      <td>\\\\PARCCVWPIEDA01\\DOF\\PAMPA ENERGIA S.A.\\El Mangrullo\\Instalaciones\\PTG EMAN\\Compresores\\K-02</td>\n",
       "      <td>2022-11-01 00:02:00</td>\n",
       "      <td>92.9</td>\n",
       "      <td>84.6</td>\n",
       "      <td>84.8</td>\n",
       "      <td>33.6</td>\n",
       "      <td>1050.7</td>\n",
       "    </tr>\n",
       "    <tr>\n",
       "      <th>2</th>\n",
       "      <td>9417996f-f828-11ea-813a-0050569d6e61</td>\n",
       "      <td>\\\\PARCCVWPIEDA01\\DOF\\PAMPA ENERGIA S.A.\\El Mangrullo\\Instalaciones\\PTG EMAN\\Compresores\\K-02</td>\n",
       "      <td>2022-11-01 00:04:00</td>\n",
       "      <td>91.1</td>\n",
       "      <td>84.6</td>\n",
       "      <td>84.8</td>\n",
       "      <td>33.6</td>\n",
       "      <td>1052.0</td>\n",
       "    </tr>\n",
       "    <tr>\n",
       "      <th>3</th>\n",
       "      <td>9417996f-f828-11ea-813a-0050569d6e61</td>\n",
       "      <td>\\\\PARCCVWPIEDA01\\DOF\\PAMPA ENERGIA S.A.\\El Mangrullo\\Instalaciones\\PTG EMAN\\Compresores\\K-02</td>\n",
       "      <td>2022-11-01 00:06:00</td>\n",
       "      <td>91.7</td>\n",
       "      <td>84.6</td>\n",
       "      <td>84.8</td>\n",
       "      <td>33.6</td>\n",
       "      <td>1051.4</td>\n",
       "    </tr>\n",
       "    <tr>\n",
       "      <th>4</th>\n",
       "      <td>9417996f-f828-11ea-813a-0050569d6e61</td>\n",
       "      <td>\\\\PARCCVWPIEDA01\\DOF\\PAMPA ENERGIA S.A.\\El Mangrullo\\Instalaciones\\PTG EMAN\\Compresores\\K-02</td>\n",
       "      <td>2022-11-01 00:08:00</td>\n",
       "      <td>91.7</td>\n",
       "      <td>84.6</td>\n",
       "      <td>84.8</td>\n",
       "      <td>33.6</td>\n",
       "      <td>1052.1</td>\n",
       "    </tr>\n",
       "  </tbody>\n",
       "</table>\n",
       "</div>"
      ],
      "text/plain": [
       "                          element_id_pi                                                                               element_path_pi           timestamp  carga_motriz  press_1  press_2  press_suc    rpm\n",
       "0  9417996f-f828-11ea-813a-0050569d6e61  \\\\PARCCVWPIEDA01\\DOF\\PAMPA ENERGIA S.A.\\El Mangrullo\\Instalaciones\\PTG EMAN\\Compresores\\K-02 2022-11-01 00:00:00          91.6     84.6     84.8       33.6 1050.4\n",
       "1  9417996f-f828-11ea-813a-0050569d6e61  \\\\PARCCVWPIEDA01\\DOF\\PAMPA ENERGIA S.A.\\El Mangrullo\\Instalaciones\\PTG EMAN\\Compresores\\K-02 2022-11-01 00:02:00          92.9     84.6     84.8       33.6 1050.7\n",
       "2  9417996f-f828-11ea-813a-0050569d6e61  \\\\PARCCVWPIEDA01\\DOF\\PAMPA ENERGIA S.A.\\El Mangrullo\\Instalaciones\\PTG EMAN\\Compresores\\K-02 2022-11-01 00:04:00          91.1     84.6     84.8       33.6 1052.0\n",
       "3  9417996f-f828-11ea-813a-0050569d6e61  \\\\PARCCVWPIEDA01\\DOF\\PAMPA ENERGIA S.A.\\El Mangrullo\\Instalaciones\\PTG EMAN\\Compresores\\K-02 2022-11-01 00:06:00          91.7     84.6     84.8       33.6 1051.4\n",
       "4  9417996f-f828-11ea-813a-0050569d6e61  \\\\PARCCVWPIEDA01\\DOF\\PAMPA ENERGIA S.A.\\El Mangrullo\\Instalaciones\\PTG EMAN\\Compresores\\K-02 2022-11-01 00:08:00          91.7     84.6     84.8       33.6 1052.1"
      ]
     },
     "execution_count": 15,
     "metadata": {},
     "output_type": "execute_result"
    }
   ],
   "source": [
    "# Adjustments:\n",
    "#------------------------------------------------------------------------------------------------------------\n",
    "# You can receive a value of type PI.PINET (or something like that) --> we are going to mark those records\n",
    "# with \"PI Point not found\":\n",
    "df_element_data_raw.value = df_element_data_raw.value.apply(lambda x: x if isinstance(x, (int, str, float)) \n",
    "                                                          else 'PI Point not found' \n",
    "                                                          if 'PI Point not found' in str(x) else x)\n",
    "\n",
    "# Continue working with a copy:\n",
    "df_element_data = df_element_data_raw.copy()\n",
    "\n",
    "# We have to transpose the matrix\n",
    "df_aux_1 = df_element_data[df_element_data.attribute==elements_data_att_lst[0]]\n",
    "df_aux_1.rename(columns={'value': feat_lst[0]}, inplace=True)\n",
    "df_aux_1.drop(columns=['attribute'], inplace=True)\n",
    "for i in range(1, len(elements_data_att_lst)):\n",
    "    df_aux_2 = df_element_data[df_element_data.attribute==elements_data_att_lst[i]]\n",
    "    df_aux_2.rename(columns={'value': feat_lst[i]}, inplace=True)\n",
    "    df_aux_2.drop(columns=['attribute'], inplace=True)\n",
    "    df_aux_1 = pd.merge(df_aux_1, df_aux_2,  how='left', left_on=['element_id_pi', 'element_path_pi', 'timestamp']\n",
    "                    , right_on = ['element_id_pi', 'element_path_pi', 'timestamp'])\n",
    "    df_aux_1.reset_index(drop=True, inplace=True)\n",
    "\n",
    "# Adjust Bad, Comm Fail, I/O Timeout and PI Point Not Foud to a negative numeric value code.\n",
    "for column in df_aux_1.columns[3:]:\n",
    "    if df_aux_1[column].dtype == 'object':\n",
    "        df_aux_1[column] = df_aux_1[column].astype(str).replace('Bad', '-1')\n",
    "        df_aux_1[column] = df_aux_1[column].astype(str).replace('Comm Fail', '-2')\n",
    "        df_aux_1[column] = df_aux_1[column].astype(str).replace('I/O Timeout', '-3')\n",
    "        df_aux_1[column] = df_aux_1[column].astype(str).replace('PI Point not found', '-4')\n",
    "        df_aux_1[column] = df_aux_1[column].astype(str).replace('Not Connect', '-5')\n",
    "        df_aux_1[column] = df_aux_1[column].astype(str).replace('No Data', '-6')\n",
    "        df_aux_1[column] = df_aux_1[column].astype(str).replace('Pt Created', '-7')\n",
    "        df_aux_1[column] = df_aux_1[column].astype(str).replace('Configure', '-8')\n",
    "        df_aux_1[column] = df_aux_1[column].astype('float64' , copy=True)\n",
    "df_element_data = df_aux_1.copy()\n",
    "end = datetime.now()\n",
    "hours = (end-start).seconds//3600\n",
    "minutes = ((end-start).seconds - (hours * 3600))//60\n",
    "seconds = (end-start).seconds%60\n",
    "print('Execution time: {0:.2f} hours'.format(hours), '{0:.2f} minutes'.format(minutes)\n",
    "      , '{0:.2f} seconds'.format(seconds),'Rows Generated:', df_element_data.shape[0])\n",
    "print(df_element_data.shape)\n",
    "print(df_element_data.dtypes)\n",
    "df_element_data.head()"
   ]
  },
  {
   "cell_type": "code",
   "execution_count": null,
   "metadata": {},
   "outputs": [],
   "source": []
  }
 ],
 "metadata": {
  "kernelspec": {
   "display_name": "Python 3.8.12 ('py38')",
   "language": "python",
   "name": "python3"
  },
  "language_info": {
   "codemirror_mode": {
    "name": "ipython",
    "version": 3
   },
   "file_extension": ".py",
   "mimetype": "text/x-python",
   "name": "python",
   "nbconvert_exporter": "python",
   "pygments_lexer": "ipython3",
   "version": "3.8.12"
  },
  "orig_nbformat": 4,
  "vscode": {
   "interpreter": {
    "hash": "be4202a71753ffd220956ed3db86814f14c1cec50b2168a389c2c468516f2338"
   }
  }
 },
 "nbformat": 4,
 "nbformat_minor": 2
}
