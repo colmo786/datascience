{
 "cells": [
  {
   "cell_type": "markdown",
   "metadata": {},
   "source": [
    "# COM Prophet Forecasting Test\n",
    "Prophet is a procedure for forecasting time series data based on an additive model where non-linear trends are fit with yearly, weekly, and daily seasonality, plus holiday effects. It works best with time series that have strong seasonal effects and several seasons of historical data. Prophet is robust to missing data and shifts in the trend, and typically handles outliers well.\n",
    "\n",
    "https://github.com/facebook/prophet\n",
    "\n",
    "Docs: https://facebook.github.io/prophet/docs/quick_start.html"
   ]
  },
  {
   "cell_type": "markdown",
   "metadata": {},
   "source": [
    "Prophet decomposes time series data into trend, seasonality and holiday effect.\n",
    "* Trend models non periodic changes in the time series data.\n",
    "* Seasonality is caused due to the periodic changes like daily, weekly, or yearly seasonality.\n",
    "* Holiday effect which occur on irregular schedules over a day or a period of days."
   ]
  },
  {
   "cell_type": "code",
   "execution_count": 1,
   "metadata": {},
   "outputs": [],
   "source": [
    "#!pip install prophet"
   ]
  },
  {
   "cell_type": "code",
   "execution_count": 2,
   "metadata": {},
   "outputs": [],
   "source": [
    "import numpy as np\n",
    "import pandas as pd"
   ]
  },
  {
   "cell_type": "code",
   "execution_count": 3,
   "metadata": {},
   "outputs": [],
   "source": [
    "from prophet import Prophet"
   ]
  },
  {
   "cell_type": "code",
   "execution_count": 21,
   "metadata": {},
   "outputs": [],
   "source": [
    "import matplotlib.pyplot as plt"
   ]
  },
  {
   "cell_type": "code",
   "execution_count": null,
   "metadata": {},
   "outputs": [],
   "source": [
    "import plotly.graph_objs as go\n",
    "import plotly.express as px"
   ]
  },
  {
   "cell_type": "code",
   "execution_count": null,
   "metadata": {},
   "outputs": [],
   "source": [
    "from prophet.plot import plot_plotly, plot_components_plotly"
   ]
  },
  {
   "cell_type": "code",
   "execution_count": null,
   "metadata": {},
   "outputs": [],
   "source": [
    "# para calcular el fin de mes de una serie de datos:\n",
    "from pandas.tseries.offsets import MonthEnd"
   ]
  },
  {
   "cell_type": "code",
   "execution_count": 4,
   "metadata": {},
   "outputs": [],
   "source": [
    "# Sólo para cuando se ejecuta desde notebooks:\n",
    "import warnings\n",
    "warnings.filterwarnings(\"ignore\", category=Warning)\n",
    "# Seteos de Pandas para ver mejor la info. https://pandas.pydata.org/pandas-docs/stable/user_guide/options.html\n",
    "# In max_columns and max_rows ‘None’ value means unlimited.\n",
    "pd.set_option('display.max_rows', 100)\n",
    "# Conviene setear min_rows también porque cuando se superan las max_rows, sólo muestra la cantidad indicada en min_rows.\n",
    "pd.set_option('display.min_rows', 10)\n",
    "pd.set_option('display.max_columns', 500)\n",
    "pd.set_option('display.width', 1000)\n",
    "pd.options.display.max_colwidth = 100\n",
    "pd.options.display.float_format = '{:.1f}'.format"
   ]
  },
  {
   "cell_type": "markdown",
   "metadata": {},
   "source": [
    "## Data Load\n",
    "We previously downloaded data from https://cammesaweb.cammesa.com/informe-sintesis-mensual/, \"Descargar Informes Históricos\"\n",
    "* BASE_INFORME_MENSUAL_2015-12.xlsx\n",
    "* BASE_INFORME_MENSUAL_2018-12.xlsx\n",
    "* BASE_INFORME_MENSUAL_2019-12.xlsx\n",
    "* BASE_INFORME_MENSUAL_2022-05.xlsx"
   ]
  },
  {
   "cell_type": "code",
   "execution_count": 5,
   "metadata": {},
   "outputs": [],
   "source": [
    "data_path = r'C:\\Users\\Usuario\\OneDrive\\0-Data Science\\data_science\\pampa\\comercial\\COM_relevamiento'\n",
    "data_path = r'C:\\Users\\colmo\\OneDrive\\0-Data Science\\data_science\\pampa\\comercial\\COM_relevamiento'"
   ]
  },
  {
   "cell_type": "code",
   "execution_count": 6,
   "metadata": {},
   "outputs": [
    {
     "name": "stdout",
     "output_type": "stream",
     "text": [
      "(40956, 12)\n",
      "AÑO                            int64\n",
      "MES                   datetime64[ns]\n",
      "AGENTE NEMO                   object\n",
      "AGENTE DESCRIPCION            object\n",
      "TIPO AGENTE                   object\n",
      "REGION                        object\n",
      "PROVINCIA                     object\n",
      "CATEGORIA AREA                object\n",
      "CATEGORIA DEMANDA             object\n",
      "TARIFA                        object\n",
      "CATEGORIA TARIFA              object\n",
      "DEMANDA [MWh]                float64\n",
      "dtype: object\n"
     ]
    },
    {
     "data": {
      "text/html": [
       "<div>\n",
       "<style scoped>\n",
       "    .dataframe tbody tr th:only-of-type {\n",
       "        vertical-align: middle;\n",
       "    }\n",
       "\n",
       "    .dataframe tbody tr th {\n",
       "        vertical-align: top;\n",
       "    }\n",
       "\n",
       "    .dataframe thead th {\n",
       "        text-align: right;\n",
       "    }\n",
       "</style>\n",
       "<table border=\"1\" class=\"dataframe\">\n",
       "  <thead>\n",
       "    <tr style=\"text-align: right;\">\n",
       "      <th></th>\n",
       "      <th>AÑO</th>\n",
       "      <th>MES</th>\n",
       "      <th>AGENTE NEMO</th>\n",
       "      <th>AGENTE DESCRIPCION</th>\n",
       "      <th>TIPO AGENTE</th>\n",
       "      <th>REGION</th>\n",
       "      <th>PROVINCIA</th>\n",
       "      <th>CATEGORIA AREA</th>\n",
       "      <th>CATEGORIA DEMANDA</th>\n",
       "      <th>TARIFA</th>\n",
       "      <th>CATEGORIA TARIFA</th>\n",
       "      <th>DEMANDA [MWh]</th>\n",
       "    </tr>\n",
       "  </thead>\n",
       "  <tbody>\n",
       "    <tr>\n",
       "      <th>0</th>\n",
       "      <td>2012</td>\n",
       "      <td>2012-01-01</td>\n",
       "      <td>AARGTAOY</td>\n",
       "      <td>AEROP ARG 2000 - Aeroparque</td>\n",
       "      <td>GU</td>\n",
       "      <td>GRAN BS.AS.</td>\n",
       "      <td>BUENOS AIRES</td>\n",
       "      <td>Gran Usuario MEM</td>\n",
       "      <td>Gran Usuario</td>\n",
       "      <td>GUMAS/AUTOGENERADORES</td>\n",
       "      <td>Industrial/Comercial Grande</td>\n",
       "      <td>2222.6</td>\n",
       "    </tr>\n",
       "    <tr>\n",
       "      <th>1</th>\n",
       "      <td>2012</td>\n",
       "      <td>2012-01-01</td>\n",
       "      <td>ACARQQ3Y</td>\n",
       "      <td>ASOC.COOP.ARG. - Quequén</td>\n",
       "      <td>GU</td>\n",
       "      <td>BUENOS AIRES</td>\n",
       "      <td>BUENOS AIRES</td>\n",
       "      <td>Gran Usuario MEM</td>\n",
       "      <td>Gran Usuario</td>\n",
       "      <td>GUMAS/AUTOGENERADORES</td>\n",
       "      <td>Industrial/Comercial Grande</td>\n",
       "      <td>536.9</td>\n",
       "    </tr>\n",
       "    <tr>\n",
       "      <th>2</th>\n",
       "      <td>2012</td>\n",
       "      <td>2012-01-01</td>\n",
       "      <td>ACARSLSY</td>\n",
       "      <td>ASOC.COOP.ARG. - San Lorenzo</td>\n",
       "      <td>GU</td>\n",
       "      <td>LITORAL</td>\n",
       "      <td>SANTA FE</td>\n",
       "      <td>Gran Usuario MEM</td>\n",
       "      <td>Gran Usuario</td>\n",
       "      <td>GUMAS/AUTOGENERADORES</td>\n",
       "      <td>Industrial/Comercial Grande</td>\n",
       "      <td>336.3</td>\n",
       "    </tr>\n",
       "  </tbody>\n",
       "</table>\n",
       "</div>"
      ],
      "text/plain": [
       "    AÑO        MES AGENTE NEMO              AGENTE DESCRIPCION TIPO AGENTE        REGION     PROVINCIA    CATEGORIA AREA CATEGORIA DEMANDA                 TARIFA             CATEGORIA TARIFA  DEMANDA [MWh]\n",
       "0  2012 2012-01-01    AARGTAOY  AEROP ARG 2000 - Aeroparque             GU   GRAN BS.AS.  BUENOS AIRES  Gran Usuario MEM      Gran Usuario  GUMAS/AUTOGENERADORES  Industrial/Comercial Grande         2222.6\n",
       "1  2012 2012-01-01    ACARQQ3Y        ASOC.COOP.ARG. - Quequén          GU  BUENOS AIRES  BUENOS AIRES  Gran Usuario MEM      Gran Usuario  GUMAS/AUTOGENERADORES  Industrial/Comercial Grande          536.9\n",
       "2  2012 2012-01-01    ACARSLSY    ASOC.COOP.ARG. - San Lorenzo          GU       LITORAL      SANTA FE  Gran Usuario MEM      Gran Usuario  GUMAS/AUTOGENERADORES  Industrial/Comercial Grande          336.3"
      ]
     },
     "execution_count": 6,
     "metadata": {},
     "output_type": "execute_result"
    }
   ],
   "source": [
    "df_2012_2014 = pd.read_excel(os.path.join(data_path, 'BASE_INFORME_MENSUAL_2015-12.xlsx'), sheet_name='DEMANDA'\n",
    "                , header=21, usecols='A:L', decimal=',')\n",
    "df_2012_2014 = df_2012_2014[df_2012_2014.MES<='2014-12-01']\n",
    "print(df_2012_2014.shape)\n",
    "print(df_2012_2014.dtypes)\n",
    "df_2012_2014.head(3)"
   ]
  },
  {
   "cell_type": "code",
   "execution_count": 8,
   "metadata": {},
   "outputs": [
    {
     "name": "stdout",
     "output_type": "stream",
     "text": [
      "(41473, 12)\n",
      "AÑO                            int64\n",
      "MES                   datetime64[ns]\n",
      "AGENTE NEMO                   object\n",
      "AGENTE DESCRIPCION            object\n",
      "TIPO AGENTE                   object\n",
      "REGION                        object\n",
      "PROVINCIA                     object\n",
      "CATEGORIA AREA                object\n",
      "CATEGORIA DEMANDA             object\n",
      "TARIFA                        object\n",
      "CATEGORIA TARIFA              object\n",
      "DEMANDA [MWh]                float64\n",
      "dtype: object\n"
     ]
    },
    {
     "data": {
      "text/html": [
       "<div>\n",
       "<style scoped>\n",
       "    .dataframe tbody tr th:only-of-type {\n",
       "        vertical-align: middle;\n",
       "    }\n",
       "\n",
       "    .dataframe tbody tr th {\n",
       "        vertical-align: top;\n",
       "    }\n",
       "\n",
       "    .dataframe thead th {\n",
       "        text-align: right;\n",
       "    }\n",
       "</style>\n",
       "<table border=\"1\" class=\"dataframe\">\n",
       "  <thead>\n",
       "    <tr style=\"text-align: right;\">\n",
       "      <th></th>\n",
       "      <th>AÑO</th>\n",
       "      <th>MES</th>\n",
       "      <th>AGENTE NEMO</th>\n",
       "      <th>AGENTE DESCRIPCION</th>\n",
       "      <th>TIPO AGENTE</th>\n",
       "      <th>REGION</th>\n",
       "      <th>PROVINCIA</th>\n",
       "      <th>CATEGORIA AREA</th>\n",
       "      <th>CATEGORIA DEMANDA</th>\n",
       "      <th>TARIFA</th>\n",
       "      <th>CATEGORIA TARIFA</th>\n",
       "      <th>DEMANDA [MWh]</th>\n",
       "    </tr>\n",
       "  </thead>\n",
       "  <tbody>\n",
       "    <tr>\n",
       "      <th>0</th>\n",
       "      <td>2015</td>\n",
       "      <td>2015-01-01</td>\n",
       "      <td>AARGTAOY</td>\n",
       "      <td>AEROP ARG 2000 - Aeroparque</td>\n",
       "      <td>GU</td>\n",
       "      <td>GRAN BS.AS.</td>\n",
       "      <td>BUENOS AIRES</td>\n",
       "      <td>Gran Usuario MEM</td>\n",
       "      <td>Gran Usuario</td>\n",
       "      <td>GUMAS/AUTOGENERADORES</td>\n",
       "      <td>Industrial/Comercial Grande</td>\n",
       "      <td>2098.8</td>\n",
       "    </tr>\n",
       "    <tr>\n",
       "      <th>1</th>\n",
       "      <td>2015</td>\n",
       "      <td>2015-01-01</td>\n",
       "      <td>ABRILHCY</td>\n",
       "      <td>ABRIL CLUB DE CAMPO</td>\n",
       "      <td>GU</td>\n",
       "      <td>GRAN BS.AS.</td>\n",
       "      <td>BUENOS AIRES</td>\n",
       "      <td>Gran Usuario MEM</td>\n",
       "      <td>Gran Usuario</td>\n",
       "      <td>GUMAS/AUTOGENERADORES</td>\n",
       "      <td>Industrial/Comercial Grande</td>\n",
       "      <td>1665.9</td>\n",
       "    </tr>\n",
       "    <tr>\n",
       "      <th>2</th>\n",
       "      <td>2015</td>\n",
       "      <td>2015-01-01</td>\n",
       "      <td>ACARQQ3Y</td>\n",
       "      <td>ASOC.COOP.ARG. - Quequén</td>\n",
       "      <td>GU</td>\n",
       "      <td>BUENOS AIRES</td>\n",
       "      <td>BUENOS AIRES</td>\n",
       "      <td>Gran Usuario MEM</td>\n",
       "      <td>Gran Usuario</td>\n",
       "      <td>GUMAS/AUTOGENERADORES</td>\n",
       "      <td>Industrial/Comercial Grande</td>\n",
       "      <td>348.7</td>\n",
       "    </tr>\n",
       "  </tbody>\n",
       "</table>\n",
       "</div>"
      ],
      "text/plain": [
       "    AÑO        MES AGENTE NEMO           AGENTE DESCRIPCION TIPO AGENTE        REGION     PROVINCIA    CATEGORIA AREA CATEGORIA DEMANDA                 TARIFA             CATEGORIA TARIFA  DEMANDA [MWh]\n",
       "0  2015 2015-01-01    AARGTAOY  AEROP ARG 2000 - Aeroparque          GU   GRAN BS.AS.  BUENOS AIRES  Gran Usuario MEM      Gran Usuario  GUMAS/AUTOGENERADORES  Industrial/Comercial Grande         2098.8\n",
       "1  2015 2015-01-01    ABRILHCY          ABRIL CLUB DE CAMPO          GU   GRAN BS.AS.  BUENOS AIRES  Gran Usuario MEM      Gran Usuario  GUMAS/AUTOGENERADORES  Industrial/Comercial Grande         1665.9\n",
       "2  2015 2015-01-01    ACARQQ3Y     ASOC.COOP.ARG. - Quequén          GU  BUENOS AIRES  BUENOS AIRES  Gran Usuario MEM      Gran Usuario  GUMAS/AUTOGENERADORES  Industrial/Comercial Grande          348.7"
      ]
     },
     "execution_count": 8,
     "metadata": {},
     "output_type": "execute_result"
    }
   ],
   "source": [
    "df_2015_2017 = pd.read_excel(os.path.join(data_path, 'BASE_INFORME_MENSUAL_2018-12.xlsx'), sheet_name='DEMANDA'\n",
    "                , header=21, usecols='A:L', decimal=',')\n",
    "df_2015_2017 = df_2015_2017[df_2015_2017.MES<='2017-12-01']\n",
    "print(df_2015_2017.shape)\n",
    "print(df_2015_2017.dtypes)\n",
    "df_2015_2017.head(3)"
   ]
  },
  {
   "cell_type": "code",
   "execution_count": 12,
   "metadata": {},
   "outputs": [
    {
     "name": "stdout",
     "output_type": "stream",
     "text": [
      "(14304, 12)\n",
      "AÑO                            int64\n",
      "MES                   datetime64[ns]\n",
      "AGENTE NEMO                   object\n",
      "AGENTE DESCRIPCION            object\n",
      "TIPO AGENTE                   object\n",
      "REGION                        object\n",
      "PROVINCIA                     object\n",
      "CATEGORIA AREA                object\n",
      "CATEGORIA DEMANDA             object\n",
      "TARIFA                        object\n",
      "CATEGORIA TARIFA              object\n",
      "DEMANDA [MWh]                float64\n",
      "dtype: object\n"
     ]
    },
    {
     "data": {
      "text/html": [
       "<div>\n",
       "<style scoped>\n",
       "    .dataframe tbody tr th:only-of-type {\n",
       "        vertical-align: middle;\n",
       "    }\n",
       "\n",
       "    .dataframe tbody tr th {\n",
       "        vertical-align: top;\n",
       "    }\n",
       "\n",
       "    .dataframe thead th {\n",
       "        text-align: right;\n",
       "    }\n",
       "</style>\n",
       "<table border=\"1\" class=\"dataframe\">\n",
       "  <thead>\n",
       "    <tr style=\"text-align: right;\">\n",
       "      <th></th>\n",
       "      <th>AÑO</th>\n",
       "      <th>MES</th>\n",
       "      <th>AGENTE NEMO</th>\n",
       "      <th>AGENTE DESCRIPCION</th>\n",
       "      <th>TIPO AGENTE</th>\n",
       "      <th>REGION</th>\n",
       "      <th>PROVINCIA</th>\n",
       "      <th>CATEGORIA AREA</th>\n",
       "      <th>CATEGORIA DEMANDA</th>\n",
       "      <th>TARIFA</th>\n",
       "      <th>CATEGORIA TARIFA</th>\n",
       "      <th>DEMANDA [MWh]</th>\n",
       "    </tr>\n",
       "  </thead>\n",
       "  <tbody>\n",
       "    <tr>\n",
       "      <th>27598</th>\n",
       "      <td>2018</td>\n",
       "      <td>2018-01-01</td>\n",
       "      <td>AARGTAOY</td>\n",
       "      <td>AEROP ARG 2000 - Aeroparque</td>\n",
       "      <td>GU</td>\n",
       "      <td>GRAN BS.AS.</td>\n",
       "      <td>BUENOS AIRES</td>\n",
       "      <td>Gran Usuario MEM</td>\n",
       "      <td>Gran Usuario</td>\n",
       "      <td>GUMAS/AUTOGENERADORES</td>\n",
       "      <td>Industrial/Comercial Grande</td>\n",
       "      <td>2038.3</td>\n",
       "    </tr>\n",
       "    <tr>\n",
       "      <th>27599</th>\n",
       "      <td>2018</td>\n",
       "      <td>2018-01-01</td>\n",
       "      <td>ABRILHCY</td>\n",
       "      <td>ABRIL CLUB DE CAMPO</td>\n",
       "      <td>GU</td>\n",
       "      <td>GRAN BS.AS.</td>\n",
       "      <td>BUENOS AIRES</td>\n",
       "      <td>Gran Usuario MEM</td>\n",
       "      <td>Gran Usuario</td>\n",
       "      <td>GUMAS/AUTOGENERADORES</td>\n",
       "      <td>Industrial/Comercial Grande</td>\n",
       "      <td>1581.4</td>\n",
       "    </tr>\n",
       "    <tr>\n",
       "      <th>27600</th>\n",
       "      <td>2018</td>\n",
       "      <td>2018-01-01</td>\n",
       "      <td>ACARQQ3Y</td>\n",
       "      <td>ASOC.COOP.ARG. - Quequén</td>\n",
       "      <td>GU</td>\n",
       "      <td>BUENOS AIRES</td>\n",
       "      <td>BUENOS AIRES</td>\n",
       "      <td>Gran Usuario MEM</td>\n",
       "      <td>Gran Usuario</td>\n",
       "      <td>GUMAS/AUTOGENERADORES</td>\n",
       "      <td>Industrial/Comercial Grande</td>\n",
       "      <td>343.5</td>\n",
       "    </tr>\n",
       "  </tbody>\n",
       "</table>\n",
       "</div>"
      ],
      "text/plain": [
       "        AÑO        MES AGENTE NEMO           AGENTE DESCRIPCION TIPO AGENTE        REGION     PROVINCIA    CATEGORIA AREA CATEGORIA DEMANDA                 TARIFA             CATEGORIA TARIFA  DEMANDA [MWh]\n",
       "27598  2018 2018-01-01    AARGTAOY  AEROP ARG 2000 - Aeroparque          GU   GRAN BS.AS.  BUENOS AIRES  Gran Usuario MEM      Gran Usuario  GUMAS/AUTOGENERADORES  Industrial/Comercial Grande         2038.3\n",
       "27599  2018 2018-01-01    ABRILHCY          ABRIL CLUB DE CAMPO          GU   GRAN BS.AS.  BUENOS AIRES  Gran Usuario MEM      Gran Usuario  GUMAS/AUTOGENERADORES  Industrial/Comercial Grande         1581.4\n",
       "27600  2018 2018-01-01    ACARQQ3Y     ASOC.COOP.ARG. - Quequén          GU  BUENOS AIRES  BUENOS AIRES  Gran Usuario MEM      Gran Usuario  GUMAS/AUTOGENERADORES  Industrial/Comercial Grande          343.5"
      ]
     },
     "execution_count": 12,
     "metadata": {},
     "output_type": "execute_result"
    }
   ],
   "source": [
    "df_2018 = pd.read_excel(os.path.join(data_path, 'BASE_INFORME_MENSUAL_2019-12.xlsx'), sheet_name='DEMANDA'\n",
    "                , header=21, usecols='A:L', decimal=',')\n",
    "df_2018 = df_2018[(df_2018.MES>='2018-01-01') & (df_2018.MES<='2018-12-01')]\n",
    "print(df_2018.shape)\n",
    "print(df_2018.dtypes)\n",
    "df_2018.head(3)"
   ]
  },
  {
   "cell_type": "code",
   "execution_count": 10,
   "metadata": {},
   "outputs": [
    {
     "name": "stdout",
     "output_type": "stream",
     "text": [
      "(32619, 12)\n",
      "AÑO                            int64\n",
      "MES                   datetime64[ns]\n",
      "AGENTE NEMO                   object\n",
      "AGENTE DESCRIPCION            object\n",
      "TIPO AGENTE                   object\n",
      "REGION                        object\n",
      "PROVINCIA                     object\n",
      "CATEGORIA AREA                object\n",
      "CATEGORIA DEMANDA             object\n",
      "TARIFA                        object\n",
      "CATEGORIA TARIFA              object\n",
      "DEMANDA [MWh]                float64\n",
      "dtype: object\n"
     ]
    },
    {
     "data": {
      "text/html": [
       "<div>\n",
       "<style scoped>\n",
       "    .dataframe tbody tr th:only-of-type {\n",
       "        vertical-align: middle;\n",
       "    }\n",
       "\n",
       "    .dataframe tbody tr th {\n",
       "        vertical-align: top;\n",
       "    }\n",
       "\n",
       "    .dataframe thead th {\n",
       "        text-align: right;\n",
       "    }\n",
       "</style>\n",
       "<table border=\"1\" class=\"dataframe\">\n",
       "  <thead>\n",
       "    <tr style=\"text-align: right;\">\n",
       "      <th></th>\n",
       "      <th>AÑO</th>\n",
       "      <th>MES</th>\n",
       "      <th>AGENTE NEMO</th>\n",
       "      <th>AGENTE DESCRIPCION</th>\n",
       "      <th>TIPO AGENTE</th>\n",
       "      <th>REGION</th>\n",
       "      <th>PROVINCIA</th>\n",
       "      <th>CATEGORIA AREA</th>\n",
       "      <th>CATEGORIA DEMANDA</th>\n",
       "      <th>TARIFA</th>\n",
       "      <th>CATEGORIA TARIFA</th>\n",
       "      <th>DEMANDA [MWh]</th>\n",
       "    </tr>\n",
       "  </thead>\n",
       "  <tbody>\n",
       "    <tr>\n",
       "      <th>0</th>\n",
       "      <td>2019</td>\n",
       "      <td>2019-01-01</td>\n",
       "      <td>AARGTAOY</td>\n",
       "      <td>AEROP ARG 2000 - Aeroparque</td>\n",
       "      <td>GU</td>\n",
       "      <td>GRAN BS.AS.</td>\n",
       "      <td>BUENOS AIRES</td>\n",
       "      <td>Gran Usuario MEM</td>\n",
       "      <td>Gran Usuario</td>\n",
       "      <td>GUMAS/AUTOGENERADORES</td>\n",
       "      <td>Industrial/Comercial Grande</td>\n",
       "      <td>1847.7</td>\n",
       "    </tr>\n",
       "    <tr>\n",
       "      <th>1</th>\n",
       "      <td>2019</td>\n",
       "      <td>2019-01-01</td>\n",
       "      <td>ABRILHCY</td>\n",
       "      <td>ABRIL CLUB DE CAMPO</td>\n",
       "      <td>GU</td>\n",
       "      <td>GRAN BS.AS.</td>\n",
       "      <td>BUENOS AIRES</td>\n",
       "      <td>Gran Usuario MEM</td>\n",
       "      <td>Gran Usuario</td>\n",
       "      <td>GUMAS/AUTOGENERADORES</td>\n",
       "      <td>Industrial/Comercial Grande</td>\n",
       "      <td>1394.7</td>\n",
       "    </tr>\n",
       "    <tr>\n",
       "      <th>2</th>\n",
       "      <td>2019</td>\n",
       "      <td>2019-01-01</td>\n",
       "      <td>ACARQQ3Y</td>\n",
       "      <td>ASOC.COOP.ARG. - Quequén</td>\n",
       "      <td>GU</td>\n",
       "      <td>BUENOS AIRES</td>\n",
       "      <td>BUENOS AIRES</td>\n",
       "      <td>Gran Usuario MEM</td>\n",
       "      <td>Gran Usuario</td>\n",
       "      <td>GUMAS/AUTOGENERADORES</td>\n",
       "      <td>Industrial/Comercial Grande</td>\n",
       "      <td>489.3</td>\n",
       "    </tr>\n",
       "  </tbody>\n",
       "</table>\n",
       "</div>"
      ],
      "text/plain": [
       "    AÑO        MES AGENTE NEMO           AGENTE DESCRIPCION TIPO AGENTE        REGION     PROVINCIA    CATEGORIA AREA CATEGORIA DEMANDA                 TARIFA             CATEGORIA TARIFA  DEMANDA [MWh]\n",
       "0  2019 2019-01-01    AARGTAOY  AEROP ARG 2000 - Aeroparque          GU   GRAN BS.AS.  BUENOS AIRES  Gran Usuario MEM      Gran Usuario  GUMAS/AUTOGENERADORES  Industrial/Comercial Grande         1847.7\n",
       "1  2019 2019-01-01    ABRILHCY          ABRIL CLUB DE CAMPO          GU   GRAN BS.AS.  BUENOS AIRES  Gran Usuario MEM      Gran Usuario  GUMAS/AUTOGENERADORES  Industrial/Comercial Grande         1394.7\n",
       "2  2019 2019-01-01    ACARQQ3Y     ASOC.COOP.ARG. - Quequén          GU  BUENOS AIRES  BUENOS AIRES  Gran Usuario MEM      Gran Usuario  GUMAS/AUTOGENERADORES  Industrial/Comercial Grande          489.3"
      ]
     },
     "execution_count": 10,
     "metadata": {},
     "output_type": "execute_result"
    }
   ],
   "source": [
    "path = r'C:\\Users\\Usuario\\OneDrive\\0-Data Science\\data_science\\pampa\\comercial\\COM_relevamiento\\BASE_INFORME_MENSUAL_2022-05\\Bases_Demanda_INFORME_MENSUAL'\n",
    "path = r'C:\\Users\\colmo\\OneDrive\\0-Data Science\\data_science\\pampa\\comercial\\COM_relevamiento\\BASE_INFORME_MENSUAL_2022-05\\Bases_Demanda_INFORME_MENSUAL'\n",
    "df_2019_2022 = pd.read_excel(os.path.join(path, 'Demanda Mensual.xlsx'), sheet_name='DEMANDA'\n",
    "                , header=23, usecols='A:L', decimal=',')\n",
    "#df_2019_2022 = df_2019_2022[(df_2019_2022.MES>='2018-01-01') & (df_2019_2022.MES<='2018-12-01')]\n",
    "print(df_2019_2022.shape)\n",
    "print(df_2019_2022.dtypes)\n",
    "df_2019_2022.head(3)"
   ]
  },
  {
   "cell_type": "code",
   "execution_count": 14,
   "metadata": {},
   "outputs": [
    {
     "name": "stdout",
     "output_type": "stream",
     "text": [
      "(129352, 12)\n",
      "AÑO                            int64\n",
      "MES                   datetime64[ns]\n",
      "AGENTE NEMO                   object\n",
      "AGENTE DESCRIPCION            object\n",
      "TIPO AGENTE                   object\n",
      "REGION                        object\n",
      "PROVINCIA                     object\n",
      "CATEGORIA AREA                object\n",
      "CATEGORIA DEMANDA             object\n",
      "TARIFA                        object\n",
      "CATEGORIA TARIFA              object\n",
      "DEMANDA [MWh]                float64\n",
      "dtype: object\n"
     ]
    },
    {
     "data": {
      "text/html": [
       "<div>\n",
       "<style scoped>\n",
       "    .dataframe tbody tr th:only-of-type {\n",
       "        vertical-align: middle;\n",
       "    }\n",
       "\n",
       "    .dataframe tbody tr th {\n",
       "        vertical-align: top;\n",
       "    }\n",
       "\n",
       "    .dataframe thead th {\n",
       "        text-align: right;\n",
       "    }\n",
       "</style>\n",
       "<table border=\"1\" class=\"dataframe\">\n",
       "  <thead>\n",
       "    <tr style=\"text-align: right;\">\n",
       "      <th></th>\n",
       "      <th>AÑO</th>\n",
       "      <th>MES</th>\n",
       "      <th>AGENTE NEMO</th>\n",
       "      <th>AGENTE DESCRIPCION</th>\n",
       "      <th>TIPO AGENTE</th>\n",
       "      <th>REGION</th>\n",
       "      <th>PROVINCIA</th>\n",
       "      <th>CATEGORIA AREA</th>\n",
       "      <th>CATEGORIA DEMANDA</th>\n",
       "      <th>TARIFA</th>\n",
       "      <th>CATEGORIA TARIFA</th>\n",
       "      <th>DEMANDA [MWh]</th>\n",
       "    </tr>\n",
       "  </thead>\n",
       "  <tbody>\n",
       "    <tr>\n",
       "      <th>0</th>\n",
       "      <td>2012</td>\n",
       "      <td>2012-01-01</td>\n",
       "      <td>AARGTAOY</td>\n",
       "      <td>AEROP ARG 2000 - Aeroparque</td>\n",
       "      <td>GU</td>\n",
       "      <td>GRAN BS.AS.</td>\n",
       "      <td>BUENOS AIRES</td>\n",
       "      <td>Gran Usuario MEM</td>\n",
       "      <td>Gran Usuario</td>\n",
       "      <td>GUMAS/AUTOGENERADORES</td>\n",
       "      <td>Industrial/Comercial Grande</td>\n",
       "      <td>2222.6</td>\n",
       "    </tr>\n",
       "    <tr>\n",
       "      <th>1</th>\n",
       "      <td>2012</td>\n",
       "      <td>2012-01-01</td>\n",
       "      <td>ACARQQ3Y</td>\n",
       "      <td>ASOC.COOP.ARG. - Quequén</td>\n",
       "      <td>GU</td>\n",
       "      <td>BUENOS AIRES</td>\n",
       "      <td>BUENOS AIRES</td>\n",
       "      <td>Gran Usuario MEM</td>\n",
       "      <td>Gran Usuario</td>\n",
       "      <td>GUMAS/AUTOGENERADORES</td>\n",
       "      <td>Industrial/Comercial Grande</td>\n",
       "      <td>536.9</td>\n",
       "    </tr>\n",
       "    <tr>\n",
       "      <th>2</th>\n",
       "      <td>2012</td>\n",
       "      <td>2012-01-01</td>\n",
       "      <td>ACARSLSY</td>\n",
       "      <td>ASOC.COOP.ARG. - San Lorenzo</td>\n",
       "      <td>GU</td>\n",
       "      <td>LITORAL</td>\n",
       "      <td>SANTA FE</td>\n",
       "      <td>Gran Usuario MEM</td>\n",
       "      <td>Gran Usuario</td>\n",
       "      <td>GUMAS/AUTOGENERADORES</td>\n",
       "      <td>Industrial/Comercial Grande</td>\n",
       "      <td>336.3</td>\n",
       "    </tr>\n",
       "  </tbody>\n",
       "</table>\n",
       "</div>"
      ],
      "text/plain": [
       "    AÑO        MES AGENTE NEMO              AGENTE DESCRIPCION TIPO AGENTE        REGION     PROVINCIA    CATEGORIA AREA CATEGORIA DEMANDA                 TARIFA             CATEGORIA TARIFA  DEMANDA [MWh]\n",
       "0  2012 2012-01-01    AARGTAOY  AEROP ARG 2000 - Aeroparque             GU   GRAN BS.AS.  BUENOS AIRES  Gran Usuario MEM      Gran Usuario  GUMAS/AUTOGENERADORES  Industrial/Comercial Grande         2222.6\n",
       "1  2012 2012-01-01    ACARQQ3Y        ASOC.COOP.ARG. - Quequén          GU  BUENOS AIRES  BUENOS AIRES  Gran Usuario MEM      Gran Usuario  GUMAS/AUTOGENERADORES  Industrial/Comercial Grande          536.9\n",
       "2  2012 2012-01-01    ACARSLSY    ASOC.COOP.ARG. - San Lorenzo          GU       LITORAL      SANTA FE  Gran Usuario MEM      Gran Usuario  GUMAS/AUTOGENERADORES  Industrial/Comercial Grande          336.3"
      ]
     },
     "execution_count": 14,
     "metadata": {},
     "output_type": "execute_result"
    }
   ],
   "source": [
    "df_hist_detail = pd.concat([df_2012_2014, df_2015_2017, df_2018, df_2019_2022], ignore_index=True)\n",
    "print(df_hist_detail.shape)\n",
    "print(df_hist_detail.dtypes)\n",
    "df_hist_detail.head(3)"
   ]
  },
  {
   "cell_type": "code",
   "execution_count": 15,
   "metadata": {},
   "outputs": [],
   "source": [
    "df_hist_detail.rename(columns={'AÑO': 'year', 'MES': 'month', 'AGENTE MEMO': 'agent_id', 'AGENTE DESCRIPCION': 'agent_desc'\n",
    "                        , 'TIPO AGENTE': 'agent_type', 'REGION': 'region', 'PROVINCIA': 'province',\t'CATEGORIA AREA': 'area_categ'\n",
    "                        , 'CATEGORIA DEMANDA': 'demand_categ', 'TARIFA': 'rate', 'CATEGORIA TARIFA': 'rate_categ'\n",
    "                        , 'DEMANDA [MWh]': 'demand_mwh'}, inplace=True)"
   ]
  },
  {
   "cell_type": "code",
   "execution_count": 16,
   "metadata": {},
   "outputs": [],
   "source": [
    "df_hist = df_hist_detail.groupby('month').agg(monthly_demand_mwh=('demand_mwh', 'sum')).reset_index()\n",
    "df_hist['monthly_demand_gwh'] = df_hist.monthly_demand_mwh / 1000"
   ]
  },
  {
   "cell_type": "code",
   "execution_count": 17,
   "metadata": {},
   "outputs": [
    {
     "data": {
      "text/html": [
       "<div>\n",
       "<style scoped>\n",
       "    .dataframe tbody tr th:only-of-type {\n",
       "        vertical-align: middle;\n",
       "    }\n",
       "\n",
       "    .dataframe tbody tr th {\n",
       "        vertical-align: top;\n",
       "    }\n",
       "\n",
       "    .dataframe thead th {\n",
       "        text-align: right;\n",
       "    }\n",
       "</style>\n",
       "<table border=\"1\" class=\"dataframe\">\n",
       "  <thead>\n",
       "    <tr style=\"text-align: right;\">\n",
       "      <th></th>\n",
       "      <th>month</th>\n",
       "      <th>monthly_demand_mwh</th>\n",
       "      <th>monthly_demand_gwh</th>\n",
       "    </tr>\n",
       "  </thead>\n",
       "  <tbody>\n",
       "    <tr>\n",
       "      <th>0</th>\n",
       "      <td>2012-01-01</td>\n",
       "      <td>10804699.8</td>\n",
       "      <td>10804.7</td>\n",
       "    </tr>\n",
       "    <tr>\n",
       "      <th>1</th>\n",
       "      <td>2012-02-01</td>\n",
       "      <td>10085552.2</td>\n",
       "      <td>10085.6</td>\n",
       "    </tr>\n",
       "    <tr>\n",
       "      <th>2</th>\n",
       "      <td>2012-03-01</td>\n",
       "      <td>10175365.0</td>\n",
       "      <td>10175.4</td>\n",
       "    </tr>\n",
       "    <tr>\n",
       "      <th>3</th>\n",
       "      <td>2012-04-01</td>\n",
       "      <td>8969068.4</td>\n",
       "      <td>8969.1</td>\n",
       "    </tr>\n",
       "    <tr>\n",
       "      <th>4</th>\n",
       "      <td>2012-05-01</td>\n",
       "      <td>9597272.0</td>\n",
       "      <td>9597.3</td>\n",
       "    </tr>\n",
       "  </tbody>\n",
       "</table>\n",
       "</div>"
      ],
      "text/plain": [
       "       month  monthly_demand_mwh  monthly_demand_gwh\n",
       "0 2012-01-01          10804699.8             10804.7\n",
       "1 2012-02-01          10085552.2             10085.6\n",
       "2 2012-03-01          10175365.0             10175.4\n",
       "3 2012-04-01           8969068.4              8969.1\n",
       "4 2012-05-01           9597272.0              9597.3"
      ]
     },
     "execution_count": 17,
     "metadata": {},
     "output_type": "execute_result"
    }
   ],
   "source": [
    "df_hist.head()"
   ]
  },
  {
   "cell_type": "code",
   "execution_count": 86,
   "metadata": {},
   "outputs": [
    {
     "data": {
      "text/html": [
       "<div>\n",
       "<style scoped>\n",
       "    .dataframe tbody tr th:only-of-type {\n",
       "        vertical-align: middle;\n",
       "    }\n",
       "\n",
       "    .dataframe tbody tr th {\n",
       "        vertical-align: top;\n",
       "    }\n",
       "\n",
       "    .dataframe thead th {\n",
       "        text-align: right;\n",
       "    }\n",
       "</style>\n",
       "<table border=\"1\" class=\"dataframe\">\n",
       "  <thead>\n",
       "    <tr style=\"text-align: right;\">\n",
       "      <th></th>\n",
       "      <th>ds</th>\n",
       "      <th>y</th>\n",
       "    </tr>\n",
       "  </thead>\n",
       "  <tbody>\n",
       "    <tr>\n",
       "      <th>0</th>\n",
       "      <td>2012-01-01</td>\n",
       "      <td>10804.7</td>\n",
       "    </tr>\n",
       "    <tr>\n",
       "      <th>1</th>\n",
       "      <td>2012-02-01</td>\n",
       "      <td>10085.6</td>\n",
       "    </tr>\n",
       "    <tr>\n",
       "      <th>2</th>\n",
       "      <td>2012-03-01</td>\n",
       "      <td>10175.4</td>\n",
       "    </tr>\n",
       "    <tr>\n",
       "      <th>3</th>\n",
       "      <td>2012-04-01</td>\n",
       "      <td>8969.1</td>\n",
       "    </tr>\n",
       "    <tr>\n",
       "      <th>4</th>\n",
       "      <td>2012-05-01</td>\n",
       "      <td>9597.3</td>\n",
       "    </tr>\n",
       "  </tbody>\n",
       "</table>\n",
       "</div>"
      ],
      "text/plain": [
       "          ds       y\n",
       "0 2012-01-01 10804.7\n",
       "1 2012-02-01 10085.6\n",
       "2 2012-03-01 10175.4\n",
       "3 2012-04-01  8969.1\n",
       "4 2012-05-01  9597.3"
      ]
     },
     "execution_count": 86,
     "metadata": {},
     "output_type": "execute_result"
    }
   ],
   "source": [
    "# The input to Prophet is always a dataframe with two columns: ds and y. \n",
    "# The ds (datestamp) column should be of a format expected by Pandas, ideally YYYY-MM-DD for a date or YYYY-MM-DD HH:MM:SS for a timestamp.\n",
    "# The y column must be numeric, and represents the measurement we wish to forecast.\n",
    "# Therefore, we exclude the montlhy_demand_mwh column.\n",
    "df_hist_univar = df_hist[['month', 'monthly_demand_gwh']].copy().rename(columns={'month': 'ds', 'monthly_demand_gwh': 'y'})\n",
    "df_hist_univar.head()"
   ]
  },
  {
   "cell_type": "code",
   "execution_count": 87,
   "metadata": {},
   "outputs": [
    {
     "data": {
      "image/png": "[encoded data removed]",
      "text/plain": [
       "<Figure size 432x288 with 1 Axes>"
      ]
     },
     "metadata": {
      "needs_background": "light"
     },
     "output_type": "display_data"
    }
   ],
   "source": [
    "# You can see some trends in the dataset over time.\n",
    "# You can also see periodicity.\n",
    "plt.plot(df_hist_univar.ds, df_hist_univar.y)\n",
    "plt.show()"
   ]
  },
  {
   "cell_type": "code",
   "execution_count": 88,
   "metadata": {},
   "outputs": [
    {
     "name": "stderr",
     "output_type": "stream",
     "text": [
      "13:51:08 - cmdstanpy - INFO - Chain [1] start processing\n",
      "13:51:09 - cmdstanpy - INFO - Chain [1] done processing\n"
     ]
    },
    {
     "data": {
      "text/plain": [
       "<prophet.forecaster.Prophet at 0x23c22c19460>"
      ]
     },
     "execution_count": 88,
     "metadata": {},
     "output_type": "execute_result"
    }
   ],
   "source": [
    "# We fit the model by instantiating a new Prophet object. Any settings to the forecasting procedure are passed into the constructor. \n",
    "# Then you call its fit method and pass in the historical dataframe.\n",
    "model = Prophet()\n",
    "model.fit(df_hist_univar)"
   ]
  },
  {
   "cell_type": "code",
   "execution_count": 89,
   "metadata": {},
   "outputs": [
    {
     "data": {
      "text/html": [
       "<div>\n",
       "<style scoped>\n",
       "    .dataframe tbody tr th:only-of-type {\n",
       "        vertical-align: middle;\n",
       "    }\n",
       "\n",
       "    .dataframe tbody tr th {\n",
       "        vertical-align: top;\n",
       "    }\n",
       "\n",
       "    .dataframe thead th {\n",
       "        text-align: right;\n",
       "    }\n",
       "</style>\n",
       "<table border=\"1\" class=\"dataframe\">\n",
       "  <thead>\n",
       "    <tr style=\"text-align: right;\">\n",
       "      <th></th>\n",
       "      <th>ds</th>\n",
       "    </tr>\n",
       "  </thead>\n",
       "  <tbody>\n",
       "    <tr>\n",
       "      <th>132</th>\n",
       "      <td>2023-01-01</td>\n",
       "    </tr>\n",
       "    <tr>\n",
       "      <th>133</th>\n",
       "      <td>2023-02-01</td>\n",
       "    </tr>\n",
       "    <tr>\n",
       "      <th>134</th>\n",
       "      <td>2023-03-01</td>\n",
       "    </tr>\n",
       "    <tr>\n",
       "      <th>135</th>\n",
       "      <td>2023-04-01</td>\n",
       "    </tr>\n",
       "    <tr>\n",
       "      <th>136</th>\n",
       "      <td>2023-05-01</td>\n",
       "    </tr>\n",
       "  </tbody>\n",
       "</table>\n",
       "</div>"
      ],
      "text/plain": [
       "            ds\n",
       "132 2023-01-01\n",
       "133 2023-02-01\n",
       "134 2023-03-01\n",
       "135 2023-04-01\n",
       "136 2023-05-01"
      ]
     },
     "execution_count": 89,
     "metadata": {},
     "output_type": "execute_result"
    }
   ],
   "source": [
    "# Predictions are then made on a dataframe with a column ds containing the dates for which a prediction is to be made. \n",
    "# You can get a suitable dataframe that extends into the future a specified number of days using \n",
    "# the helper method Prophet.make_future_dataframe. \n",
    "# By default it will also include the dates from the history, so we will see the model fit as well.\n",
    "future = model.make_future_dataframe(periods=12, freq='MS')\n",
    "future.tail()"
   ]
  },
  {
   "cell_type": "code",
   "execution_count": 90,
   "metadata": {},
   "outputs": [
    {
     "data": {
      "text/html": [
       "<div>\n",
       "<style scoped>\n",
       "    .dataframe tbody tr th:only-of-type {\n",
       "        vertical-align: middle;\n",
       "    }\n",
       "\n",
       "    .dataframe tbody tr th {\n",
       "        vertical-align: top;\n",
       "    }\n",
       "\n",
       "    .dataframe thead th {\n",
       "        text-align: right;\n",
       "    }\n",
       "</style>\n",
       "<table border=\"1\" class=\"dataframe\">\n",
       "  <thead>\n",
       "    <tr style=\"text-align: right;\">\n",
       "      <th></th>\n",
       "      <th>ds</th>\n",
       "      <th>yhat</th>\n",
       "      <th>yhat_lower</th>\n",
       "      <th>yhat_upper</th>\n",
       "    </tr>\n",
       "  </thead>\n",
       "  <tbody>\n",
       "    <tr>\n",
       "      <th>132</th>\n",
       "      <td>2023-01-01</td>\n",
       "      <td>12524.8</td>\n",
       "      <td>12017.3</td>\n",
       "      <td>12998.2</td>\n",
       "    </tr>\n",
       "    <tr>\n",
       "      <th>133</th>\n",
       "      <td>2023-02-01</td>\n",
       "      <td>11343.0</td>\n",
       "      <td>10877.7</td>\n",
       "      <td>11833.4</td>\n",
       "    </tr>\n",
       "    <tr>\n",
       "      <th>134</th>\n",
       "      <td>2023-03-01</td>\n",
       "      <td>11165.8</td>\n",
       "      <td>10666.9</td>\n",
       "      <td>11621.9</td>\n",
       "    </tr>\n",
       "    <tr>\n",
       "      <th>135</th>\n",
       "      <td>2023-04-01</td>\n",
       "      <td>10459.3</td>\n",
       "      <td>10023.9</td>\n",
       "      <td>10964.5</td>\n",
       "    </tr>\n",
       "    <tr>\n",
       "      <th>136</th>\n",
       "      <td>2023-05-01</td>\n",
       "      <td>11187.5</td>\n",
       "      <td>10693.4</td>\n",
       "      <td>11680.8</td>\n",
       "    </tr>\n",
       "  </tbody>\n",
       "</table>\n",
       "</div>"
      ],
      "text/plain": [
       "            ds    yhat  yhat_lower  yhat_upper\n",
       "132 2023-01-01 12524.8     12017.3     12998.2\n",
       "133 2023-02-01 11343.0     10877.7     11833.4\n",
       "134 2023-03-01 11165.8     10666.9     11621.9\n",
       "135 2023-04-01 10459.3     10023.9     10964.5\n",
       "136 2023-05-01 11187.5     10693.4     11680.8"
      ]
     },
     "execution_count": 90,
     "metadata": {},
     "output_type": "execute_result"
    }
   ],
   "source": [
    "# The predict method will assign each row in future a predicted value which it names yhat. \n",
    "# If you pass in historical dates, it will provide an in-sample fit. \n",
    "# The forecast object here is a new dataframe that includes a column yhat with the forecast, \n",
    "# as well as columns for components and uncertainty intervals.\n",
    "forecast = model.predict(future)\n",
    "forecast[['ds', 'yhat', 'yhat_lower', 'yhat_upper']].tail()"
   ]
  },
  {
   "cell_type": "code",
   "execution_count": 91,
   "metadata": {},
   "outputs": [
    {
     "data": {
      "image/png": "[encoded data removed]",
      "text/plain": [
       "<Figure size 720x432 with 1 Axes>"
      ]
     },
     "metadata": {},
     "output_type": "display_data"
    }
   ],
   "source": [
    "# You can plot the forecast by calling the Prophet.plot method and passing in your forecast dataframe.\n",
    "fig1 = model.plot(forecast)"
   ]
  },
  {
   "cell_type": "code",
   "execution_count": 35,
   "metadata": {},
   "outputs": [
    {
     "data": {
      "image/png": "[encoded data removed]",
      "text/plain": [
       "<Figure size 648x432 with 2 Axes>"
      ]
     },
     "metadata": {},
     "output_type": "display_data"
    }
   ],
   "source": [
    "# If you want to see the forecast components, you can use the Prophet.plot_components method. \n",
    "# By default you’ll see the trend, yearly seasonality, and weekly seasonality of the time series. \n",
    "# If you include holidays, you’ll see those here, too.\n",
    "fig2 = model.plot_components(forecast)"
   ]
  },
  {
   "cell_type": "code",
   "execution_count": 92,
   "metadata": {},
   "outputs": [
    {
     "data": {
      "application/vnd.plotly.v1+json": {
       "config": {
        "plotlyServerURL": "https://plot.ly"
       },
       "data": [
        {
         "marker": {
          "color": "black",
          "size": 4
         },
         "mode": "markers",
         "name": "Actual",
         "type": "scatter",
         "x": [
          "2012-01-01T00:00:00",
          "2012-02-01T00:00:00",
          "2012-03-01T00:00:00",
          "2012-04-01T00:00:00",
          "2012-05-01T00:00:00",
          "2012-06-01T00:00:00",
          "2012-07-01T00:00:00",
          "2012-08-01T00:00:00",
          "2012-09-01T00:00:00",
          "2012-10-01T00:00:00",
          "2012-11-01T00:00:00",
          "2012-12-01T00:00:00",
          "2013-01-01T00:00:00",
          "2013-02-01T00:00:00",
          "2013-03-01T00:00:00",
          "2013-04-01T00:00:00",
          "2013-05-01T00:00:00",
          "2013-06-01T00:00:00",
          "2013-07-01T00:00:00",
          "2013-08-01T00:00:00",
          "2013-09-01T00:00:00",
          "2013-10-01T00:00:00",
          "2013-11-01T00:00:00",
          "2013-12-01T00:00:00",
          "2014-01-01T00:00:00",
          "2014-02-01T00:00:00",
          "2014-03-01T00:00:00",
          "2014-04-01T00:00:00",
          "2014-05-01T00:00:00",
          "2014-06-01T00:00:00",
          "2014-07-01T00:00:00",
          "2014-08-01T00:00:00",
          "2014-09-01T00:00:00",
          "2014-10-01T00:00:00",
          "2014-11-01T00:00:00",
          "2014-12-01T00:00:00",
          "2015-01-01T00:00:00",
          "2015-02-01T00:00:00",
          "2015-03-01T00:00:00",
          "2015-04-01T00:00:00",
          "2015-05-01T00:00:00",
          "2015-06-01T00:00:00",
          "2015-07-01T00:00:00",
          "2015-08-01T00:00:00",
          "2015-09-01T00:00:00",
          "2015-10-01T00:00:00",
          "2015-11-01T00:00:00",
          "2015-12-01T00:00:00",
          "2016-01-01T00:00:00",
          "2016-02-01T00:00:00",
          "2016-03-01T00:00:00",
          "2016-04-01T00:00:00",
          "2016-05-01T00:00:00",
          "2016-06-01T00:00:00",
          "2016-07-01T00:00:00",
          "2016-08-01T00:00:00",
          "2016-09-01T00:00:00",
          "2016-10-01T00:00:00",
          "2016-11-01T00:00:00",
          "2016-12-01T00:00:00",
          "2017-01-01T00:00:00",
          "2017-02-01T00:00:00",
          "2017-03-01T00:00:00",
          "2017-04-01T00:00:00",
          "2017-05-01T00:00:00",
          "2017-06-01T00:00:00",
          "2017-07-01T00:00:00",
          "2017-08-01T00:00:00",
          "2017-09-01T00:00:00",
          "2017-10-01T00:00:00",
          "2017-11-01T00:00:00",
          "2017-12-01T00:00:00",
          "2018-01-01T00:00:00",
          "2018-02-01T00:00:00",
          "2018-03-01T00:00:00",
          "2018-04-01T00:00:00",
          "2018-05-01T00:00:00",
          "2018-06-01T00:00:00",
          "2018-07-01T00:00:00",
          "2018-08-01T00:00:00",
          "2018-09-01T00:00:00",
          "2018-10-01T00:00:00",
          "2018-11-01T00:00:00",
          "2018-12-01T00:00:00",
          "2019-01-01T00:00:00",
          "2019-02-01T00:00:00",
          "2019-03-01T00:00:00",
          "2019-04-01T00:00:00",
          "2019-05-01T00:00:00",
          "2019-06-01T00:00:00",
          "2019-07-01T00:00:00",
          "2019-08-01T00:00:00",
          "2019-09-01T00:00:00",
          "2019-10-01T00:00:00",
          "2019-11-01T00:00:00",
          "2019-12-01T00:00:00",
          "2020-01-01T00:00:00",
          "2020-02-01T00:00:00",
          "2020-03-01T00:00:00",
          "2020-04-01T00:00:00",
          "2020-05-01T00:00:00",
          "2020-06-01T00:00:00",
          "2020-07-01T00:00:00",
          "2020-08-01T00:00:00",
          "2020-09-01T00:00:00",
          "2020-10-01T00:00:00",
          "2020-11-01T00:00:00",
          "2020-12-01T00:00:00",
          "2021-01-01T00:00:00",
          "2021-02-01T00:00:00",
          "2021-03-01T00:00:00",
          "2021-04-01T00:00:00",
          "2021-05-01T00:00:00",
          "2021-06-01T00:00:00",
          "2021-07-01T00:00:00",
          "2021-08-01T00:00:00",
          "2021-09-01T00:00:00",
          "2021-10-01T00:00:00",
          "2021-11-01T00:00:00",
          "2021-12-01T00:00:00",
          "2022-01-01T00:00:00",
          "2022-02-01T00:00:00",
          "2022-03-01T00:00:00",
          "2022-04-01T00:00:00",
          "2022-05-01T00:00:00"
         ],
         "y": [
          10804.699842,
          10085.552231000001,
          10175.365005000001,
          8969.068409,
          9597.272016,
          10292.182399,
          11066.530786000001,
          10404.120825,
          9336.891496,
          9608.256140000001,
          10027.740717,
          10820.739305,
          11134.119345000001,
          9834.160007,
          9756.129308,
          9307.334163000001,
          10232.825394,
          10360.537194,
          11156.173393,
          10904.479243000002,
          10195.872995000002,
          10045.715632,
          10015.701652000002,
          12291.286493000001,
          12004.342368000001,
          9823.968201,
          9789.798789,
          9595.37435,
          10409.105006000002,
          10901.714976,
          11363.942101999999,
          10490.682389,
          9807.544190999999,
          10706.493141,
          10344.736672,
          11229.37782,
          11706.190093000001,
          10665.086620999999,
          11548.527072,
          10026.43476,
          10467.633693,
          11254.419667,
          11907.361918999999,
          11130.262808,
          10552.903241,
          10722.174389,
          10219.189482000002,
          11909.435561,
          12344.911762,
          11731.845100999999,
          10461.47592,
          10292.000856,
          11358.011628,
          11812.94705,
          11929.645375,
          10855.441952,
          10382.081134,
          9956.038875,
          10132.540584,
          11853.854388,
          12524.865646,
          11074.906499,
          11122.231555,
          9793.758585000001,
          10795.213415,
          11359.330662,
          11796.425757,
          11107.250705,
          10348.584548,
          10227.329313,
          10355.727486,
          12024.595461,
          12350.18332,
          11404.202882,
          11247.242133,
          10493.314585,
          10665.461507,
          11925.912467,
          12607.552721999999,
          11721.305132,
          9792.369095,
          9904.218669,
          10035.149376,
          10863.012545,
          11698.820402000001,
          10706.955317,
          10120.057936000001,
          9572.130645,
          10382.062156,
          10649.85454,
          12004.210188000001,
          11465.483299000001,
          10218.087823000002,
          10380.686879,
          10559.966155,
          11187.742676999998,
          11993.867057,
          10843.47443,
          11144.232192,
          8537.200407,
          9617.328172,
          10781.714872999999,
          12183.852641000001,
          10728.379158,
          10045.02285,
          10013.844018000002,
          10087.844438999999,
          11330.177614,
          11941.580985999999,
          10090.389298,
          11055.214503000001,
          9817.737877,
          10986.114068,
          12053.804232,
          12418.960365,
          11660.89725,
          10375.902291999999,
          10452.254867,
          10570.559841,
          12458.302765,
          13066.582218,
          10568.62177,
          10884.555857000001,
          10149.611103,
          11730.950029
         ]
        },
        {
         "hoverinfo": "skip",
         "line": {
          "width": 0
         },
         "mode": "lines",
         "type": "scatter",
         "x": [
          "2012-01-01T00:00:00",
          "2012-02-01T00:00:00",
          "2012-03-01T00:00:00",
          "2012-04-01T00:00:00",
          "2012-05-01T00:00:00",
          "2012-06-01T00:00:00",
          "2012-07-01T00:00:00",
          "2012-08-01T00:00:00",
          "2012-09-01T00:00:00",
          "2012-10-01T00:00:00",
          "2012-11-01T00:00:00",
          "2012-12-01T00:00:00",
          "2013-01-01T00:00:00",
          "2013-02-01T00:00:00",
          "2013-03-01T00:00:00",
          "2013-04-01T00:00:00",
          "2013-05-01T00:00:00",
          "2013-06-01T00:00:00",
          "2013-07-01T00:00:00",
          "2013-08-01T00:00:00",
          "2013-09-01T00:00:00",
          "2013-10-01T00:00:00",
          "2013-11-01T00:00:00",
          "2013-12-01T00:00:00",
          "2014-01-01T00:00:00",
          "2014-02-01T00:00:00",
          "2014-03-01T00:00:00",
          "2014-04-01T00:00:00",
          "2014-05-01T00:00:00",
          "2014-06-01T00:00:00",
          "2014-07-01T00:00:00",
          "2014-08-01T00:00:00",
          "2014-09-01T00:00:00",
          "2014-10-01T00:00:00",
          "2014-11-01T00:00:00",
          "2014-12-01T00:00:00",
          "2015-01-01T00:00:00",
          "2015-02-01T00:00:00",
          "2015-03-01T00:00:00",
          "2015-04-01T00:00:00",
          "2015-05-01T00:00:00",
          "2015-06-01T00:00:00",
          "2015-07-01T00:00:00",
          "2015-08-01T00:00:00",
          "2015-09-01T00:00:00",
          "2015-10-01T00:00:00",
          "2015-11-01T00:00:00",
          "2015-12-01T00:00:00",
          "2016-01-01T00:00:00",
          "2016-02-01T00:00:00",
          "2016-03-01T00:00:00",
          "2016-04-01T00:00:00",
          "2016-05-01T00:00:00",
          "2016-06-01T00:00:00",
          "2016-07-01T00:00:00",
          "2016-08-01T00:00:00",
          "2016-09-01T00:00:00",
          "2016-10-01T00:00:00",
          "2016-11-01T00:00:00",
          "2016-12-01T00:00:00",
          "2017-01-01T00:00:00",
          "2017-02-01T00:00:00",
          "2017-03-01T00:00:00",
          "2017-04-01T00:00:00",
          "2017-05-01T00:00:00",
          "2017-06-01T00:00:00",
          "2017-07-01T00:00:00",
          "2017-08-01T00:00:00",
          "2017-09-01T00:00:00",
          "2017-10-01T00:00:00",
          "2017-11-01T00:00:00",
          "2017-12-01T00:00:00",
          "2018-01-01T00:00:00",
          "2018-02-01T00:00:00",
          "2018-03-01T00:00:00",
          "2018-04-01T00:00:00",
          "2018-05-01T00:00:00",
          "2018-06-01T00:00:00",
          "2018-07-01T00:00:00",
          "2018-08-01T00:00:00",
          "2018-09-01T00:00:00",
          "2018-10-01T00:00:00",
          "2018-11-01T00:00:00",
          "2018-12-01T00:00:00",
          "2019-01-01T00:00:00",
          "2019-02-01T00:00:00",
          "2019-03-01T00:00:00",
          "2019-04-01T00:00:00",
          "2019-05-01T00:00:00",
          "2019-06-01T00:00:00",
          "2019-07-01T00:00:00",
          "2019-08-01T00:00:00",
          "2019-09-01T00:00:00",
          "2019-10-01T00:00:00",
          "2019-11-01T00:00:00",
          "2019-12-01T00:00:00",
          "2020-01-01T00:00:00",
          "2020-02-01T00:00:00",
          "2020-03-01T00:00:00",
          "2020-04-01T00:00:00",
          "2020-05-01T00:00:00",
          "2020-06-01T00:00:00",
          "2020-07-01T00:00:00",
          "2020-08-01T00:00:00",
          "2020-09-01T00:00:00",
          "2020-10-01T00:00:00",
          "2020-11-01T00:00:00",
          "2020-12-01T00:00:00",
          "2021-01-01T00:00:00",
          "2021-02-01T00:00:00",
          "2021-03-01T00:00:00",
          "2021-04-01T00:00:00",
          "2021-05-01T00:00:00",
          "2021-06-01T00:00:00",
          "2021-07-01T00:00:00",
          "2021-08-01T00:00:00",
          "2021-09-01T00:00:00",
          "2021-10-01T00:00:00",
          "2021-11-01T00:00:00",
          "2021-12-01T00:00:00",
          "2022-01-01T00:00:00",
          "2022-02-01T00:00:00",
          "2022-03-01T00:00:00",
          "2022-04-01T00:00:00",
          "2022-05-01T00:00:00",
          "2022-06-01T00:00:00",
          "2022-07-01T00:00:00",
          "2022-08-01T00:00:00",
          "2022-09-01T00:00:00",
          "2022-10-01T00:00:00",
          "2022-11-01T00:00:00",
          "2022-12-01T00:00:00",
          "2023-01-01T00:00:00",
          "2023-02-01T00:00:00",
          "2023-03-01T00:00:00",
          "2023-04-01T00:00:00",
          "2023-05-01T00:00:00"
         ],
         "y": [
          10497.728672259045,
          9597.176461458608,
          9536.718140195344,
          8370.233282495275,
          9340.441633756536,
          10089.429891882337,
          10708.51039050865,
          9832.246059661742,
          9017.643894804774,
          8931.03907610489,
          9147.666569139026,
          10677.863256417977,
          11117.999130529339,
          9367.646241967597,
          9722.048646982845,
          8690.737919638079,
          9615.740905399902,
          10276.916917089377,
          10977.324500972483,
          10156.321527840168,
          9272.866892465301,
          9347.66775382558,
          9406.913769843648,
          10838.810118121024,
          11278.933535266322,
          9870.380849226387,
          9925.818378532169,
          9066.152757216774,
          9902.663110515838,
          10490.106158807637,
          11237.721112255053,
          10501.613806112991,
          9542.756597670372,
          9725.978204834468,
          9719.891685993593,
          10958.759451700307,
          11481.835618104953,
          10330.983753262366,
          10106.883725961283,
          9464.956932605872,
          10193.386718981214,
          10673.786476966961,
          11507.6242745055,
          10903.735749014031,
          9805.775734595565,
          10128.431854674236,
          9958.61774465519,
          11133.013964023692,
          11655.564507140163,
          10691.787810558133,
          10575.299588334183,
          9371.723095805248,
          10353.611198714389,
          11095.794898552873,
          11676.319196362161,
          10758.772728974727,
          9910.05427901888,
          9797.58229335266,
          9961.68776659615,
          11494.519436912646,
          11935.819729922314,
          10150.171360426517,
          10425.905148607291,
          9377.384279274294,
          10332.174229994182,
          10891.250221853761,
          11596.186327910655,
          10740.657545660357,
          9828.520418090846,
          9853.089985951596,
          9892.148030267317,
          11281.43538163153,
          11754.210408180477,
          10224.767118726937,
          10300.21283977274,
          9446.285356587636,
          10205.074297421794,
          10746.194734362678,
          11463.721159432616,
          10706.514440855735,
          9676.08239184819,
          9872.915344911202,
          9770.86359237281,
          11108.083821001717,
          11537.56276920335,
          10316.669557532017,
          10132.986840410578,
          9389.729106677965,
          10145.806917318538,
          10584.296414492415,
          11388.253195264411,
          10679.403000880062,
          9615.124096123172,
          9913.75937801806,
          9693.388990410773,
          10876.765865415791,
          11378.400852554463,
          10454.790645744373,
          10288.526415555092,
          9135.051344771764,
          10131.695381472657,
          10813.62188529453,
          11470.215219128477,
          10537.122917500066,
          9735.32810143141,
          9661.46652855845,
          9840.764049684867,
          11400.981565039894,
          11823.231326788231,
          10077.731052136432,
          10420.553190624309,
          9422.385806110628,
          10330.20682460763,
          10956.458408319162,
          11660.201338992401,
          10824.40129399876,
          9936.696929517157,
          9989.163787897647,
          10042.450143048995,
          11481.688998446829,
          11912.06230236887,
          10450.046283106523,
          10580.179258139653,
          9696.692681505416,
          10501.456029069019,
          11093.522340645359,
          11851.057053932496,
          11072.16104850047,
          10135.261152495792,
          10323.120189854326,
          10293.214670840352,
          11548.877735942688,
          12017.312530843179,
          10877.69670897735,
          10666.948934876911,
          10023.929899914396,
          10693.366785628892
         ]
        },
        {
         "fill": "tonexty",
         "fillcolor": "rgba(0, 114, 178, 0.2)",
         "line": {
          "color": "#0072B2",
          "width": 2
         },
         "mode": "lines",
         "name": "Predicted",
         "type": "scatter",
         "x": [
          "2012-01-01T00:00:00",
          "2012-02-01T00:00:00",
          "2012-03-01T00:00:00",
          "2012-04-01T00:00:00",
          "2012-05-01T00:00:00",
          "2012-06-01T00:00:00",
          "2012-07-01T00:00:00",
          "2012-08-01T00:00:00",
          "2012-09-01T00:00:00",
          "2012-10-01T00:00:00",
          "2012-11-01T00:00:00",
          "2012-12-01T00:00:00",
          "2013-01-01T00:00:00",
          "2013-02-01T00:00:00",
          "2013-03-01T00:00:00",
          "2013-04-01T00:00:00",
          "2013-05-01T00:00:00",
          "2013-06-01T00:00:00",
          "2013-07-01T00:00:00",
          "2013-08-01T00:00:00",
          "2013-09-01T00:00:00",
          "2013-10-01T00:00:00",
          "2013-11-01T00:00:00",
          "2013-12-01T00:00:00",
          "2014-01-01T00:00:00",
          "2014-02-01T00:00:00",
          "2014-03-01T00:00:00",
          "2014-04-01T00:00:00",
          "2014-05-01T00:00:00",
          "2014-06-01T00:00:00",
          "2014-07-01T00:00:00",
          "2014-08-01T00:00:00",
          "2014-09-01T00:00:00",
          "2014-10-01T00:00:00",
          "2014-11-01T00:00:00",
          "2014-12-01T00:00:00",
          "2015-01-01T00:00:00",
          "2015-02-01T00:00:00",
          "2015-03-01T00:00:00",
          "2015-04-01T00:00:00",
          "2015-05-01T00:00:00",
          "2015-06-01T00:00:00",
          "2015-07-01T00:00:00",
          "2015-08-01T00:00:00",
          "2015-09-01T00:00:00",
          "2015-10-01T00:00:00",
          "2015-11-01T00:00:00",
          "2015-12-01T00:00:00",
          "2016-01-01T00:00:00",
          "2016-02-01T00:00:00",
          "2016-03-01T00:00:00",
          "2016-04-01T00:00:00",
          "2016-05-01T00:00:00",
          "2016-06-01T00:00:00",
          "2016-07-01T00:00:00",
          "2016-08-01T00:00:00",
          "2016-09-01T00:00:00",
          "2016-10-01T00:00:00",
          "2016-11-01T00:00:00",
          "2016-12-01T00:00:00",
          "2017-01-01T00:00:00",
          "2017-02-01T00:00:00",
          "2017-03-01T00:00:00",
          "2017-04-01T00:00:00",
          "2017-05-01T00:00:00",
          "2017-06-01T00:00:00",
          "2017-07-01T00:00:00",
          "2017-08-01T00:00:00",
          "2017-09-01T00:00:00",
          "2017-10-01T00:00:00",
          "2017-11-01T00:00:00",
          "2017-12-01T00:00:00",
          "2018-01-01T00:00:00",
          "2018-02-01T00:00:00",
          "2018-03-01T00:00:00",
          "2018-04-01T00:00:00",
          "2018-05-01T00:00:00",
          "2018-06-01T00:00:00",
          "2018-07-01T00:00:00",
          "2018-08-01T00:00:00",
          "2018-09-01T00:00:00",
          "2018-10-01T00:00:00",
          "2018-11-01T00:00:00",
          "2018-12-01T00:00:00",
          "2019-01-01T00:00:00",
          "2019-02-01T00:00:00",
          "2019-03-01T00:00:00",
          "2019-04-01T00:00:00",
          "2019-05-01T00:00:00",
          "2019-06-01T00:00:00",
          "2019-07-01T00:00:00",
          "2019-08-01T00:00:00",
          "2019-09-01T00:00:00",
          "2019-10-01T00:00:00",
          "2019-11-01T00:00:00",
          "2019-12-01T00:00:00",
          "2020-01-01T00:00:00",
          "2020-02-01T00:00:00",
          "2020-03-01T00:00:00",
          "2020-04-01T00:00:00",
          "2020-05-01T00:00:00",
          "2020-06-01T00:00:00",
          "2020-07-01T00:00:00",
          "2020-08-01T00:00:00",
          "2020-09-01T00:00:00",
          "2020-10-01T00:00:00",
          "2020-11-01T00:00:00",
          "2020-12-01T00:00:00",
          "2021-01-01T00:00:00",
          "2021-02-01T00:00:00",
          "2021-03-01T00:00:00",
          "2021-04-01T00:00:00",
          "2021-05-01T00:00:00",
          "2021-06-01T00:00:00",
          "2021-07-01T00:00:00",
          "2021-08-01T00:00:00",
          "2021-09-01T00:00:00",
          "2021-10-01T00:00:00",
          "2021-11-01T00:00:00",
          "2021-12-01T00:00:00",
          "2022-01-01T00:00:00",
          "2022-02-01T00:00:00",
          "2022-03-01T00:00:00",
          "2022-04-01T00:00:00",
          "2022-05-01T00:00:00",
          "2022-06-01T00:00:00",
          "2022-07-01T00:00:00",
          "2022-08-01T00:00:00",
          "2022-09-01T00:00:00",
          "2022-10-01T00:00:00",
          "2022-11-01T00:00:00",
          "2022-12-01T00:00:00",
          "2023-01-01T00:00:00",
          "2023-02-01T00:00:00",
          "2023-03-01T00:00:00",
          "2023-04-01T00:00:00",
          "2023-05-01T00:00:00"
         ],
         "y": [
          11009.080838287477,
          10106.702483173787,
          9991.493084103657,
          8809.003707055454,
          9831.501808421131,
          10563.559411568443,
          11198.718019156611,
          10289.022999363764,
          9476.92928286162,
          9416.627531498438,
          9613.083842040543,
          11138.021456461704,
          11582.083004535443,
          9854.959732715588,
          10199.092984207598,
          9176.148850596477,
          10105.332169810186,
          10756.276694686436,
          11452.838241880141,
          10641.188180749647,
          9740.466552723972,
          9812.404430946972,
          9896.09148647872,
          11304.966107466907,
          11768.154970211579,
          10317.767966186617,
          10405.613836176593,
          9543.526564501513,
          10376.654973047109,
          10948.513999441637,
          11709.001541516489,
          10994.511899474912,
          10005.02848930055,
          10207.490734699266,
          10175.828018169495,
          11470.73330589967,
          11957.833131445654,
          10782.41141746045,
          10611.012228733918,
          9910.950913676132,
          10645.341786335224,
          11138.684727889957,
          11964.042854929734,
          11344.1722739414,
          10264.268912279143,
          10587.383241234505,
          10429.593199256538,
          11604.727916978109,
          12112.144515801265,
          11191.814246060329,
          11059.811120404354,
          9859.369828728944,
          10855.270940532122,
          11559.844987988787,
          12168.406606199567,
          11231.228030716033,
          10388.149332494912,
          10297.862115021122,
          10463.33344391571,
          11958.285592226464,
          12371.264290540163,
          10613.058169506185,
          10929.116589450663,
          9875.089606626861,
          10774.136657388874,
          11393.940371628683,
          12060.365650467218,
          11217.574778701337,
          10285.528916774883,
          10327.15302182711,
          10379.515845080732,
          11758.076692896948,
          12189.941273308228,
          10708.229987307102,
          10767.782957448575,
          9874.371403799842,
          10677.185993021998,
          11217.72074726637,
          11947.894477584303,
          11202.080563393332,
          10181.272879187556,
          10353.421360285833,
          10290.434420646454,
          11555.025944075547,
          12010.801558076222,
          10804.093219332099,
          10604.435143726705,
          9873.087203908408,
          10577.200706599882,
          11040.776103224061,
          11837.32692871682,
          11187.688802796583,
          10079.723566909859,
          10382.229637433391,
          10203.144395074094,
          11357.67085436238,
          11851.13348847666,
          10926.477775694177,
          10790.428267836794,
          9585.661533118815,
          10601.90137379925,
          11327.492107761205,
          11956.392454849774,
          11040.230565871969,
          10221.669980185485,
          10155.109968390538,
          10345.09940982023,
          11863.778763809585,
          12301.373442769194,
          10567.783302383206,
          10906.075511298654,
          9876.664509120787,
          10799.589568430785,
          11444.067224837627,
          12134.370512224155,
          11316.253582625199,
          10409.065086130222,
          10474.74470611534,
          10551.964894800396,
          11954.581257549724,
          12411.30325344899,
          10954.449382936862,
          11036.454212229064,
          10167.90007406678,
          10994.770224721997,
          11560.162392446959,
          12314.391684197053,
          11593.435183486441,
          10597.484914642026,
          10793.688958994462,
          10755.559434716979,
          12044.206521400154,
          12524.839539198625,
          11342.98860425249,
          11165.782377237954,
          10459.29184121925,
          11187.460887142193
         ]
        },
        {
         "fill": "tonexty",
         "fillcolor": "rgba(0, 114, 178, 0.2)",
         "hoverinfo": "skip",
         "line": {
          "width": 0
         },
         "mode": "lines",
         "type": "scatter",
         "x": [
          "2012-01-01T00:00:00",
          "2012-02-01T00:00:00",
          "2012-03-01T00:00:00",
          "2012-04-01T00:00:00",
          "2012-05-01T00:00:00",
          "2012-06-01T00:00:00",
          "2012-07-01T00:00:00",
          "2012-08-01T00:00:00",
          "2012-09-01T00:00:00",
          "2012-10-01T00:00:00",
          "2012-11-01T00:00:00",
          "2012-12-01T00:00:00",
          "2013-01-01T00:00:00",
          "2013-02-01T00:00:00",
          "2013-03-01T00:00:00",
          "2013-04-01T00:00:00",
          "2013-05-01T00:00:00",
          "2013-06-01T00:00:00",
          "2013-07-01T00:00:00",
          "2013-08-01T00:00:00",
          "2013-09-01T00:00:00",
          "2013-10-01T00:00:00",
          "2013-11-01T00:00:00",
          "2013-12-01T00:00:00",
          "2014-01-01T00:00:00",
          "2014-02-01T00:00:00",
          "2014-03-01T00:00:00",
          "2014-04-01T00:00:00",
          "2014-05-01T00:00:00",
          "2014-06-01T00:00:00",
          "2014-07-01T00:00:00",
          "2014-08-01T00:00:00",
          "2014-09-01T00:00:00",
          "2014-10-01T00:00:00",
          "2014-11-01T00:00:00",
          "2014-12-01T00:00:00",
          "2015-01-01T00:00:00",
          "2015-02-01T00:00:00",
          "2015-03-01T00:00:00",
          "2015-04-01T00:00:00",
          "2015-05-01T00:00:00",
          "2015-06-01T00:00:00",
          "2015-07-01T00:00:00",
          "2015-08-01T00:00:00",
          "2015-09-01T00:00:00",
          "2015-10-01T00:00:00",
          "2015-11-01T00:00:00",
          "2015-12-01T00:00:00",
          "2016-01-01T00:00:00",
          "2016-02-01T00:00:00",
          "2016-03-01T00:00:00",
          "2016-04-01T00:00:00",
          "2016-05-01T00:00:00",
          "2016-06-01T00:00:00",
          "2016-07-01T00:00:00",
          "2016-08-01T00:00:00",
          "2016-09-01T00:00:00",
          "2016-10-01T00:00:00",
          "2016-11-01T00:00:00",
          "2016-12-01T00:00:00",
          "2017-01-01T00:00:00",
          "2017-02-01T00:00:00",
          "2017-03-01T00:00:00",
          "2017-04-01T00:00:00",
          "2017-05-01T00:00:00",
          "2017-06-01T00:00:00",
          "2017-07-01T00:00:00",
          "2017-08-01T00:00:00",
          "2017-09-01T00:00:00",
          "2017-10-01T00:00:00",
          "2017-11-01T00:00:00",
          "2017-12-01T00:00:00",
          "2018-01-01T00:00:00",
          "2018-02-01T00:00:00",
          "2018-03-01T00:00:00",
          "2018-04-01T00:00:00",
          "2018-05-01T00:00:00",
          "2018-06-01T00:00:00",
          "2018-07-01T00:00:00",
          "2018-08-01T00:00:00",
          "2018-09-01T00:00:00",
          "2018-10-01T00:00:00",
          "2018-11-01T00:00:00",
          "2018-12-01T00:00:00",
          "2019-01-01T00:00:00",
          "2019-02-01T00:00:00",
          "2019-03-01T00:00:00",
          "2019-04-01T00:00:00",
          "2019-05-01T00:00:00",
          "2019-06-01T00:00:00",
          "2019-07-01T00:00:00",
          "2019-08-01T00:00:00",
          "2019-09-01T00:00:00",
          "2019-10-01T00:00:00",
          "2019-11-01T00:00:00",
          "2019-12-01T00:00:00",
          "2020-01-01T00:00:00",
          "2020-02-01T00:00:00",
          "2020-03-01T00:00:00",
          "2020-04-01T00:00:00",
          "2020-05-01T00:00:00",
          "2020-06-01T00:00:00",
          "2020-07-01T00:00:00",
          "2020-08-01T00:00:00",
          "2020-09-01T00:00:00",
          "2020-10-01T00:00:00",
          "2020-11-01T00:00:00",
          "2020-12-01T00:00:00",
          "2021-01-01T00:00:00",
          "2021-02-01T00:00:00",
          "2021-03-01T00:00:00",
          "2021-04-01T00:00:00",
          "2021-05-01T00:00:00",
          "2021-06-01T00:00:00",
          "2021-07-01T00:00:00",
          "2021-08-01T00:00:00",
          "2021-09-01T00:00:00",
          "2021-10-01T00:00:00",
          "2021-11-01T00:00:00",
          "2021-12-01T00:00:00",
          "2022-01-01T00:00:00",
          "2022-02-01T00:00:00",
          "2022-03-01T00:00:00",
          "2022-04-01T00:00:00",
          "2022-05-01T00:00:00",
          "2022-06-01T00:00:00",
          "2022-07-01T00:00:00",
          "2022-08-01T00:00:00",
          "2022-09-01T00:00:00",
          "2022-10-01T00:00:00",
          "2022-11-01T00:00:00",
          "2022-12-01T00:00:00",
          "2023-01-01T00:00:00",
          "2023-02-01T00:00:00",
          "2023-03-01T00:00:00",
          "2023-04-01T00:00:00",
          "2023-05-01T00:00:00"
         ],
         "y": [
          11491.752300517765,
          10564.070122369281,
          10446.932059109487,
          9287.781106656023,
          10324.54115393426,
          11046.00465270703,
          11668.97938842641,
          10786.543371176456,
          9933.633952101261,
          9903.695619034825,
          10094.358936089457,
          11649.263265859649,
          12068.21695238972,
          10356.603025547969,
          10683.789748218944,
          9647.931673120818,
          10562.391492226474,
          11212.644979155371,
          11904.71041054203,
          11135.937319307617,
          10226.976958625752,
          10303.677862725484,
          10412.346223809585,
          11779.265404959404,
          12247.777303832036,
          10796.363452159005,
          10855.56399831521,
          10014.332644792046,
          10890.87269340255,
          11413.775466382596,
          12182.631330593245,
          11490.925326521654,
          10495.19395126967,
          10639.145527024983,
          10666.510225431266,
          11933.722199787546,
          12470.568962191097,
          11293.203079555577,
          11070.811087194832,
          10372.219346488331,
          11093.249975044482,
          11596.849561016024,
          12486.759150220243,
          11814.348415522278,
          10729.75326498982,
          11065.071618404916,
          10900.426615488082,
          12054.959745549095,
          12597.176164059409,
          11648.20797713789,
          11561.305479871206,
          10320.421582171513,
          11339.631249527241,
          12023.220266255603,
          12666.604173218535,
          11728.58394530395,
          10875.941686950677,
          10757.25777351682,
          10941.05507875853,
          12438.908425475709,
          12858.852025912776,
          11067.075229160517,
          11374.6638475354,
          10367.921084223048,
          11286.119240403812,
          11865.22100716725,
          12564.397262788782,
          11703.93542646334,
          10722.655762214214,
          10802.808888301126,
          10845.569775891894,
          12219.98755598876,
          12689.507433051294,
          11193.877993445893,
          11276.460045113816,
          10348.6706140496,
          11168.146436112918,
          11697.684963027126,
          12392.893951577393,
          11660.493597741657,
          10646.41343057222,
          10832.462113092932,
          10757.61553743943,
          12072.437546345007,
          12481.657818773652,
          11278.041223180571,
          11062.418672344918,
          10352.381467972127,
          11045.95171562101,
          11502.383539440305,
          12320.50515470936,
          11661.50619516588,
          10582.935085791687,
          10875.71442008816,
          10678.687871301923,
          11846.504780404852,
          12329.130813945303,
          11394.263874519538,
          11243.503754401507,
          10051.320629253843,
          11060.500490615928,
          11797.050931861977,
          12417.887510764636,
          11474.436025653662,
          10714.257068951647,
          10659.241000421971,
          10821.226049587267,
          12343.468264426845,
          12801.297014171414,
          11041.189738523692,
          11383.805211471103,
          10338.881402041136,
          11274.644884554555,
          11908.121656849044,
          12635.221122375036,
          11798.649138724844,
          10880.23399389901,
          10957.964645784541,
          11052.122473133302,
          12434.25191112765,
          12869.500672663922,
          11432.287269137521,
          11530.613690100685,
          10624.819798745835,
          11455.789703997254,
          12052.385315534963,
          12800.646766544482,
          12062.295165566544,
          11059.148222380887,
          11296.782610581111,
          11217.226417286662,
          12531.332264038096,
          12998.204115489663,
          11833.408090990968,
          11621.876830175723,
          10964.47568386877,
          11680.754665433406
         ]
        }
       ],
       "layout": {
        "height": 600,
        "showlegend": false,
        "template": {
         "data": {
          "bar": [
           {
            "error_x": {
             "color": "#2a3f5f"
            },
            "error_y": {
             "color": "#2a3f5f"
            },
            "marker": {
             "line": {
              "color": "#E5ECF6",
              "width": 0.5
             },
             "pattern": {
              "fillmode": "overlay",
              "size": 10,
              "solidity": 0.2
             }
            },
            "type": "bar"
           }
          ],
          "barpolar": [
           {
            "marker": {
             "line": {
              "color": "#E5ECF6",
              "width": 0.5
             },
             "pattern": {
              "fillmode": "overlay",
              "size": 10,
              "solidity": 0.2
             }
            },
            "type": "barpolar"
           }
          ],
          "carpet": [
           {
            "aaxis": {
             "endlinecolor": "#2a3f5f",
             "gridcolor": "white",
             "linecolor": "white",
             "minorgridcolor": "white",
             "startlinecolor": "#2a3f5f"
            },
            "baxis": {
             "endlinecolor": "#2a3f5f",
             "gridcolor": "white",
             "linecolor": "white",
             "minorgridcolor": "white",
             "startlinecolor": "#2a3f5f"
            },
            "type": "carpet"
           }
          ],
          "choropleth": [
           {
            "colorbar": {
             "outlinewidth": 0,
             "ticks": ""
            },
            "type": "choropleth"
           }
          ],
          "contour": [
           {
            "colorbar": {
             "outlinewidth": 0,
             "ticks": ""
            },
            "colorscale": [
             [
              0,
              "#0d0887"
             ],
             [
              0.1111111111111111,
              "#46039f"
             ],
             [
              0.2222222222222222,
              "#7201a8"
             ],
             [
              0.3333333333333333,
              "#9c179e"
             ],
             [
              0.4444444444444444,
              "#bd3786"
             ],
             [
              0.5555555555555556,
              "#d8576b"
             ],
             [
              0.6666666666666666,
              "#ed7953"
             ],
             [
              0.7777777777777778,
              "#fb9f3a"
             ],
             [
              0.8888888888888888,
              "#fdca26"
             ],
             [
              1,
              "#f0f921"
             ]
            ],
            "type": "contour"
           }
          ],
          "contourcarpet": [
           {
            "colorbar": {
             "outlinewidth": 0,
             "ticks": ""
            },
            "type": "contourcarpet"
           }
          ],
          "heatmap": [
           {
            "colorbar": {
             "outlinewidth": 0,
             "ticks": ""
            },
            "colorscale": [
             [
              0,
              "#0d0887"
             ],
             [
              0.1111111111111111,
              "#46039f"
             ],
             [
              0.2222222222222222,
              "#7201a8"
             ],
             [
              0.3333333333333333,
              "#9c179e"
             ],
             [
              0.4444444444444444,
              "#bd3786"
             ],
             [
              0.5555555555555556,
              "#d8576b"
             ],
             [
              0.6666666666666666,
              "#ed7953"
             ],
             [
              0.7777777777777778,
              "#fb9f3a"
             ],
             [
              0.8888888888888888,
              "#fdca26"
             ],
             [
              1,
              "#f0f921"
             ]
            ],
            "type": "heatmap"
           }
          ],
          "heatmapgl": [
           {
            "colorbar": {
             "outlinewidth": 0,
             "ticks": ""
            },
            "colorscale": [
             [
              0,
              "#0d0887"
             ],
             [
              0.1111111111111111,
              "#46039f"
             ],
             [
              0.2222222222222222,
              "#7201a8"
             ],
             [
              0.3333333333333333,
              "#9c179e"
             ],
             [
              0.4444444444444444,
              "#bd3786"
             ],
             [
              0.5555555555555556,
              "#d8576b"
             ],
             [
              0.6666666666666666,
              "#ed7953"
             ],
             [
              0.7777777777777778,
              "#fb9f3a"
             ],
             [
              0.8888888888888888,
              "#fdca26"
             ],
             [
              1,
              "#f0f921"
             ]
            ],
            "type": "heatmapgl"
           }
          ],
          "histogram": [
           {
            "marker": {
             "pattern": {
              "fillmode": "overlay",
              "size": 10,
              "solidity": 0.2
             }
            },
            "type": "histogram"
           }
          ],
          "histogram2d": [
           {
            "colorbar": {
             "outlinewidth": 0,
             "ticks": ""
            },
            "colorscale": [
             [
              0,
              "#0d0887"
             ],
             [
              0.1111111111111111,
              "#46039f"
             ],
             [
              0.2222222222222222,
              "#7201a8"
             ],
             [
              0.3333333333333333,
              "#9c179e"
             ],
             [
              0.4444444444444444,
              "#bd3786"
             ],
             [
              0.5555555555555556,
              "#d8576b"
             ],
             [
              0.6666666666666666,
              "#ed7953"
             ],
             [
              0.7777777777777778,
              "#fb9f3a"
             ],
             [
              0.8888888888888888,
              "#fdca26"
             ],
             [
              1,
              "#f0f921"
             ]
            ],
            "type": "histogram2d"
           }
          ],
          "histogram2dcontour": [
           {
            "colorbar": {
             "outlinewidth": 0,
             "ticks": ""
            },
            "colorscale": [
             [
              0,
              "#0d0887"
             ],
             [
              0.1111111111111111,
              "#46039f"
             ],
             [
              0.2222222222222222,
              "#7201a8"
             ],
             [
              0.3333333333333333,
              "#9c179e"
             ],
             [
              0.4444444444444444,
              "#bd3786"
             ],
             [
              0.5555555555555556,
              "#d8576b"
             ],
             [
              0.6666666666666666,
              "#ed7953"
             ],
             [
              0.7777777777777778,
              "#fb9f3a"
             ],
             [
              0.8888888888888888,
              "#fdca26"
             ],
             [
              1,
              "#f0f921"
             ]
            ],
            "type": "histogram2dcontour"
           }
          ],
          "mesh3d": [
           {
            "colorbar": {
             "outlinewidth": 0,
             "ticks": ""
            },
            "type": "mesh3d"
           }
          ],
          "parcoords": [
           {
            "line": {
             "colorbar": {
              "outlinewidth": 0,
              "ticks": ""
             }
            },
            "type": "parcoords"
           }
          ],
          "pie": [
           {
            "automargin": true,
            "type": "pie"
           }
          ],
          "scatter": [
           {
            "marker": {
             "colorbar": {
              "outlinewidth": 0,
              "ticks": ""
             }
            },
            "type": "scatter"
           }
          ],
          "scatter3d": [
           {
            "line": {
             "colorbar": {
              "outlinewidth": 0,
              "ticks": ""
             }
            },
            "marker": {
             "colorbar": {
              "outlinewidth": 0,
              "ticks": ""
             }
            },
            "type": "scatter3d"
           }
          ],
          "scattercarpet": [
           {
            "marker": {
             "colorbar": {
              "outlinewidth": 0,
              "ticks": ""
             }
            },
            "type": "scattercarpet"
           }
          ],
          "scattergeo": [
           {
            "marker": {
             "colorbar": {
              "outlinewidth": 0,
              "ticks": ""
             }
            },
            "type": "scattergeo"
           }
          ],
          "scattergl": [
           {
            "marker": {
             "colorbar": {
              "outlinewidth": 0,
              "ticks": ""
             }
            },
            "type": "scattergl"
           }
          ],
          "scattermapbox": [
           {
            "marker": {
             "colorbar": {
              "outlinewidth": 0,
              "ticks": ""
             }
            },
            "type": "scattermapbox"
           }
          ],
          "scatterpolar": [
           {
            "marker": {
             "colorbar": {
              "outlinewidth": 0,
              "ticks": ""
             }
            },
            "type": "scatterpolar"
           }
          ],
          "scatterpolargl": [
           {
            "marker": {
             "colorbar": {
              "outlinewidth": 0,
              "ticks": ""
             }
            },
            "type": "scatterpolargl"
           }
          ],
          "scatterternary": [
           {
            "marker": {
             "colorbar": {
              "outlinewidth": 0,
              "ticks": ""
             }
            },
            "type": "scatterternary"
           }
          ],
          "surface": [
           {
            "colorbar": {
             "outlinewidth": 0,
             "ticks": ""
            },
            "colorscale": [
             [
              0,
              "#0d0887"
             ],
             [
              0.1111111111111111,
              "#46039f"
             ],
             [
              0.2222222222222222,
              "#7201a8"
             ],
             [
              0.3333333333333333,
              "#9c179e"
             ],
             [
              0.4444444444444444,
              "#bd3786"
             ],
             [
              0.5555555555555556,
              "#d8576b"
             ],
             [
              0.6666666666666666,
              "#ed7953"
             ],
             [
              0.7777777777777778,
              "#fb9f3a"
             ],
             [
              0.8888888888888888,
              "#fdca26"
             ],
             [
              1,
              "#f0f921"
             ]
            ],
            "type": "surface"
           }
          ],
          "table": [
           {
            "cells": {
             "fill": {
              "color": "#EBF0F8"
             },
             "line": {
              "color": "white"
             }
            },
            "header": {
             "fill": {
              "color": "#C8D4E3"
             },
             "line": {
              "color": "white"
             }
            },
            "type": "table"
           }
          ]
         },
         "layout": {
          "annotationdefaults": {
           "arrowcolor": "#2a3f5f",
           "arrowhead": 0,
           "arrowwidth": 1
          },
          "autotypenumbers": "strict",
          "coloraxis": {
           "colorbar": {
            "outlinewidth": 0,
            "ticks": ""
           }
          },
          "colorscale": {
           "diverging": [
            [
             0,
             "#8e0152"
            ],
            [
             0.1,
             "#c51b7d"
            ],
            [
             0.2,
             "#de77ae"
            ],
            [
             0.3,
             "#f1b6da"
            ],
            [
             0.4,
             "#fde0ef"
            ],
            [
             0.5,
             "#f7f7f7"
            ],
            [
             0.6,
             "#e6f5d0"
            ],
            [
             0.7,
             "#b8e186"
            ],
            [
             0.8,
             "#7fbc41"
            ],
            [
             0.9,
             "#4d9221"
            ],
            [
             1,
             "#276419"
            ]
           ],
           "sequential": [
            [
             0,
             "#0d0887"
            ],
            [
             0.1111111111111111,
             "#46039f"
            ],
            [
             0.2222222222222222,
             "#7201a8"
            ],
            [
             0.3333333333333333,
             "#9c179e"
            ],
            [
             0.4444444444444444,
             "#bd3786"
            ],
            [
             0.5555555555555556,
             "#d8576b"
            ],
            [
             0.6666666666666666,
             "#ed7953"
            ],
            [
             0.7777777777777778,
             "#fb9f3a"
            ],
            [
             0.8888888888888888,
             "#fdca26"
            ],
            [
             1,
             "#f0f921"
            ]
           ],
           "sequentialminus": [
            [
             0,
             "#0d0887"
            ],
            [
             0.1111111111111111,
             "#46039f"
            ],
            [
             0.2222222222222222,
             "#7201a8"
            ],
            [
             0.3333333333333333,
             "#9c179e"
            ],
            [
             0.4444444444444444,
             "#bd3786"
            ],
            [
             0.5555555555555556,
             "#d8576b"
            ],
            [
             0.6666666666666666,
             "#ed7953"
            ],
            [
             0.7777777777777778,
             "#fb9f3a"
            ],
            [
             0.8888888888888888,
             "#fdca26"
            ],
            [
             1,
             "#f0f921"
            ]
           ]
          },
          "colorway": [
           "#636efa",
           "#EF553B",
           "#00cc96",
           "#ab63fa",
           "#FFA15A",
           "#19d3f3",
           "#FF6692",
           "#B6E880",
           "#FF97FF",
           "#FECB52"
          ],
          "font": {
           "color": "#2a3f5f"
          },
          "geo": {
           "bgcolor": "white",
           "lakecolor": "white",
           "landcolor": "#E5ECF6",
           "showlakes": true,
           "showland": true,
           "subunitcolor": "white"
          },
          "hoverlabel": {
           "align": "left"
          },
          "hovermode": "closest",
          "mapbox": {
           "style": "light"
          },
          "paper_bgcolor": "white",
          "plot_bgcolor": "#E5ECF6",
          "polar": {
           "angularaxis": {
            "gridcolor": "white",
            "linecolor": "white",
            "ticks": ""
           },
           "bgcolor": "#E5ECF6",
           "radialaxis": {
            "gridcolor": "white",
            "linecolor": "white",
            "ticks": ""
           }
          },
          "scene": {
           "xaxis": {
            "backgroundcolor": "#E5ECF6",
            "gridcolor": "white",
            "gridwidth": 2,
            "linecolor": "white",
            "showbackground": true,
            "ticks": "",
            "zerolinecolor": "white"
           },
           "yaxis": {
            "backgroundcolor": "#E5ECF6",
            "gridcolor": "white",
            "gridwidth": 2,
            "linecolor": "white",
            "showbackground": true,
            "ticks": "",
            "zerolinecolor": "white"
           },
           "zaxis": {
            "backgroundcolor": "#E5ECF6",
            "gridcolor": "white",
            "gridwidth": 2,
            "linecolor": "white",
            "showbackground": true,
            "ticks": "",
            "zerolinecolor": "white"
           }
          },
          "shapedefaults": {
           "line": {
            "color": "#2a3f5f"
           }
          },
          "ternary": {
           "aaxis": {
            "gridcolor": "white",
            "linecolor": "white",
            "ticks": ""
           },
           "baxis": {
            "gridcolor": "white",
            "linecolor": "white",
            "ticks": ""
           },
           "bgcolor": "#E5ECF6",
           "caxis": {
            "gridcolor": "white",
            "linecolor": "white",
            "ticks": ""
           }
          },
          "title": {
           "x": 0.05
          },
          "xaxis": {
           "automargin": true,
           "gridcolor": "white",
           "linecolor": "white",
           "ticks": "",
           "title": {
            "standoff": 15
           },
           "zerolinecolor": "white",
           "zerolinewidth": 2
          },
          "yaxis": {
           "automargin": true,
           "gridcolor": "white",
           "linecolor": "white",
           "ticks": "",
           "title": {
            "standoff": 15
           },
           "zerolinecolor": "white",
           "zerolinewidth": 2
          }
         }
        },
        "width": 900,
        "xaxis": {
         "rangeselector": {
          "buttons": [
           {
            "count": 7,
            "label": "1w",
            "step": "day",
            "stepmode": "backward"
           },
           {
            "count": 1,
            "label": "1m",
            "step": "month",
            "stepmode": "backward"
           },
           {
            "count": 6,
            "label": "6m",
            "step": "month",
            "stepmode": "backward"
           },
           {
            "count": 1,
            "label": "1y",
            "step": "year",
            "stepmode": "backward"
           },
           {
            "step": "all"
           }
          ]
         },
         "rangeslider": {
          "visible": true
         },
         "title": {
          "text": "ds"
         },
         "type": "date"
        },
        "yaxis": {
         "title": {
          "text": "y"
         }
        }
       }
      }
     },
     "metadata": {},
     "output_type": "display_data"
    }
   ],
   "source": [
    "\n",
    "plot_plotly(model, forecast)"
   ]
  },
  {
   "cell_type": "code",
   "execution_count": 40,
   "metadata": {},
   "outputs": [
    {
     "data": {
      "application/vnd.plotly.v1+json": {
       "config": {
        "plotlyServerURL": "https://plot.ly"
       },
       "data": [
        {
         "line": {
          "color": "#0072B2",
          "width": 2
         },
         "mode": "lines",
         "name": "trend",
         "type": "scatter",
         "x": [
          "2012-01-01T00:00:00",
          "2012-02-01T00:00:00",
          "2012-03-01T00:00:00",
          "2012-04-01T00:00:00",
          "2012-05-01T00:00:00",
          "2012-06-01T00:00:00",
          "2012-07-01T00:00:00",
          "2012-08-01T00:00:00",
          "2012-09-01T00:00:00",
          "2012-10-01T00:00:00",
          "2012-11-01T00:00:00",
          "2012-12-01T00:00:00",
          "2013-01-01T00:00:00",
          "2013-02-01T00:00:00",
          "2013-03-01T00:00:00",
          "2013-04-01T00:00:00",
          "2013-05-01T00:00:00",
          "2013-06-01T00:00:00",
          "2013-07-01T00:00:00",
          "2013-08-01T00:00:00",
          "2013-09-01T00:00:00",
          "2013-10-01T00:00:00",
          "2013-11-01T00:00:00",
          "2013-12-01T00:00:00",
          "2014-01-01T00:00:00",
          "2014-02-01T00:00:00",
          "2014-03-01T00:00:00",
          "2014-04-01T00:00:00",
          "2014-05-01T00:00:00",
          "2014-06-01T00:00:00",
          "2014-07-01T00:00:00",
          "2014-08-01T00:00:00",
          "2014-09-01T00:00:00",
          "2014-10-01T00:00:00",
          "2014-11-01T00:00:00",
          "2014-12-01T00:00:00",
          "2015-01-01T00:00:00",
          "2015-02-01T00:00:00",
          "2015-03-01T00:00:00",
          "2015-04-01T00:00:00",
          "2015-05-01T00:00:00",
          "2015-06-01T00:00:00",
          "2015-07-01T00:00:00",
          "2015-08-01T00:00:00",
          "2015-09-01T00:00:00",
          "2015-10-01T00:00:00",
          "2015-11-01T00:00:00",
          "2015-12-01T00:00:00",
          "2016-01-01T00:00:00",
          "2016-02-01T00:00:00",
          "2016-03-01T00:00:00",
          "2016-04-01T00:00:00",
          "2016-05-01T00:00:00",
          "2016-06-01T00:00:00",
          "2016-07-01T00:00:00",
          "2016-08-01T00:00:00",
          "2016-09-01T00:00:00",
          "2016-10-01T00:00:00",
          "2016-11-01T00:00:00",
          "2016-12-01T00:00:00",
          "2017-01-01T00:00:00",
          "2017-02-01T00:00:00",
          "2017-03-01T00:00:00",
          "2017-04-01T00:00:00",
          "2017-05-01T00:00:00",
          "2017-06-01T00:00:00",
          "2017-07-01T00:00:00",
          "2017-08-01T00:00:00",
          "2017-09-01T00:00:00",
          "2017-10-01T00:00:00",
          "2017-11-01T00:00:00",
          "2017-12-01T00:00:00",
          "2018-01-01T00:00:00",
          "2018-02-01T00:00:00",
          "2018-03-01T00:00:00",
          "2018-04-01T00:00:00",
          "2018-05-01T00:00:00",
          "2018-06-01T00:00:00",
          "2018-07-01T00:00:00",
          "2018-08-01T00:00:00",
          "2018-09-01T00:00:00",
          "2018-10-01T00:00:00",
          "2018-11-01T00:00:00",
          "2018-12-01T00:00:00",
          "2019-01-01T00:00:00",
          "2019-02-01T00:00:00",
          "2019-03-01T00:00:00",
          "2019-04-01T00:00:00",
          "2019-05-01T00:00:00",
          "2019-06-01T00:00:00",
          "2019-07-01T00:00:00",
          "2019-08-01T00:00:00",
          "2019-09-01T00:00:00",
          "2019-10-01T00:00:00",
          "2019-11-01T00:00:00",
          "2019-12-01T00:00:00",
          "2020-01-01T00:00:00",
          "2020-02-01T00:00:00",
          "2020-03-01T00:00:00",
          "2020-04-01T00:00:00",
          "2020-05-01T00:00:00",
          "2020-06-01T00:00:00",
          "2020-07-01T00:00:00",
          "2020-08-01T00:00:00",
          "2020-09-01T00:00:00",
          "2020-10-01T00:00:00",
          "2020-11-01T00:00:00",
          "2020-12-01T00:00:00",
          "2021-01-01T00:00:00",
          "2021-02-01T00:00:00",
          "2021-03-01T00:00:00",
          "2021-04-01T00:00:00",
          "2021-05-01T00:00:00",
          "2021-06-01T00:00:00",
          "2021-07-01T00:00:00",
          "2021-08-01T00:00:00",
          "2021-09-01T00:00:00",
          "2021-10-01T00:00:00",
          "2021-11-01T00:00:00",
          "2021-12-01T00:00:00",
          "2022-01-01T00:00:00",
          "2022-02-01T00:00:00",
          "2022-03-01T00:00:00",
          "2022-04-01T00:00:00",
          "2022-05-01T00:00:00",
          "2022-05-02T00:00:00",
          "2022-05-03T00:00:00",
          "2022-05-04T00:00:00",
          "2022-05-05T00:00:00",
          "2022-05-06T00:00:00",
          "2022-05-07T00:00:00",
          "2022-05-08T00:00:00",
          "2022-05-09T00:00:00",
          "2022-05-10T00:00:00",
          "2022-05-11T00:00:00",
          "2022-05-12T00:00:00",
          "2022-05-13T00:00:00",
          "2022-05-14T00:00:00",
          "2022-05-15T00:00:00",
          "2022-05-16T00:00:00",
          "2022-05-17T00:00:00",
          "2022-05-18T00:00:00",
          "2022-05-19T00:00:00",
          "2022-05-20T00:00:00",
          "2022-05-21T00:00:00",
          "2022-05-22T00:00:00",
          "2022-05-23T00:00:00",
          "2022-05-24T00:00:00",
          "2022-05-25T00:00:00",
          "2022-05-26T00:00:00",
          "2022-05-27T00:00:00",
          "2022-05-28T00:00:00",
          "2022-05-29T00:00:00",
          "2022-05-30T00:00:00",
          "2022-05-31T00:00:00",
          "2022-06-01T00:00:00"
         ],
         "xaxis": "x",
         "y": [
          10040.936705928792,
          10065.171087831333,
          10087.841961224034,
          10112.076343126575,
          10135.528970774196,
          10159.76335248569,
          10183.215979948425,
          10207.45036165992,
          10231.684743371414,
          10255.13737076507,
          10279.371752405179,
          10302.824379798834,
          10327.058761438946,
          10351.293142532952,
          10373.182260940439,
          10397.416642034445,
          10420.86926889961,
          10445.10364989551,
          10468.556276665737,
          10492.790657661637,
          10517.025038657537,
          10540.477663857642,
          10564.712043231086,
          10588.164668431193,
          10612.399047804634,
          10636.633426818722,
          10658.522543347575,
          10682.756922361665,
          10706.209547214006,
          10730.44391841053,
          10753.896535697488,
          10778.130906894012,
          10802.365278090536,
          10825.817846098957,
          10850.052166374322,
          10873.504734382743,
          10897.739054658108,
          10921.935788146093,
          10943.790902264274,
          10967.987635752259,
          10991.40382945031,
          11014.081492236492,
          11036.027617513442,
          11058.705280299626,
          11081.382943085808,
          11096.780674321066,
          11112.691663264166,
          11128.089394499422,
          11144.000383442522,
          11150.282850718171,
          11156.159997524423,
          11162.442464800071,
          11159.298102884937,
          11156.048928905962,
          11152.904566990826,
          11149.655393011853,
          11142.904793004413,
          11136.371954287535,
          11129.621354280094,
          11123.088515563215,
          11116.2400474437,
          11109.391579324187,
          11103.205866183982,
          11096.357398064469,
          11089.673756478067,
          11082.767326838783,
          11076.08368525238,
          11069.177255613098,
          11062.087402709054,
          11055.226254737398,
          11048.136401833353,
          11041.275253861699,
          11034.185350900842,
          11027.095447939984,
          11020.6916646205,
          11013.601761659645,
          11006.740567188934,
          10999.650666235866,
          10992.789471765156,
          10985.699570812087,
          10978.609667977378,
          10971.748471685722,
          10964.658568851011,
          10957.797372559357,
          10950.707481288242,
          10943.617590017127,
          10937.213817256123,
          10930.123925985008,
          10923.26274971527,
          10916.172867569874,
          10909.311691300136,
          10902.22180915474,
          10896.837597717282,
          10891.627070519742,
          10886.242859082284,
          10881.032331884742,
          10882.98935611813,
          10884.946380351515,
          10886.77714495694,
          10888.734169190328,
          10905.928536152118,
          10923.6960486793,
          10940.89041564109,
          10958.657928168273,
          10976.425440695455,
          10993.619807657244,
          11011.387320184427,
          11028.581687146216,
          11046.3491996734,
          11064.11671220058,
          11080.164788031585,
          11097.932300558767,
          11115.126667520557,
          11132.894180047739,
          11150.088547009527,
          11167.85605953671,
          11185.623572063894,
          11202.817939025683,
          11220.585451552864,
          11237.779818514655,
          11255.547331041837,
          11273.31484356902,
          11289.362919400022,
          11307.130431927206,
          11324.324798888994,
          11324.897944454387,
          11325.471090019782,
          11326.044235585174,
          11326.617381150567,
          11327.19052671596,
          11327.763672281353,
          11328.336817846746,
          11328.909963412138,
          11329.483108977533,
          11330.056254542926,
          11330.629400108319,
          11331.20254567371,
          11331.775691239105,
          11332.348836804496,
          11332.92198236989,
          11333.495127935283,
          11334.068273500676,
          11334.641419066069,
          11335.21456463146,
          11335.787710196855,
          11336.360855762248,
          11336.934001327641,
          11337.507146893033,
          11338.080292458426,
          11338.653438023819,
          11339.226583589212,
          11339.799729154605,
          11340.372874719998,
          11340.946020285392,
          11341.519165850785,
          11342.092311416178
         ],
         "yaxis": "y"
        },
        {
         "line": {
          "color": "#0072B2",
          "width": 2
         },
         "mode": "lines",
         "name": "yearly",
         "type": "scatter",
         "x": [
          "2017-01-01T00:00:00",
          "2017-01-02T00:00:59.178082",
          "2017-01-03T00:01:58.356164",
          "2017-01-04T00:02:57.534246",
          "2017-01-05T00:03:56.712328",
          "2017-01-06T00:04:55.890411",
          "2017-01-07T00:05:55.068493",
          "2017-01-08T00:06:54.246575",
          "2017-01-09T00:07:53.424657",
          "2017-01-10T00:08:52.602739",
          "2017-01-11T00:09:51.780822",
          "2017-01-12T00:10:50.958904",
          "2017-01-13T00:11:50.136986",
          "2017-01-14T00:12:49.315068",
          "2017-01-15T00:13:48.493150",
          "2017-01-16T00:14:47.671232",
          "2017-01-17T00:15:46.849315",
          "2017-01-18T00:16:46.027397",
          "2017-01-19T00:17:45.205479",
          "2017-01-20T00:18:44.383561",
          "2017-01-21T00:19:43.561643",
          "2017-01-22T00:20:42.739726",
          "2017-01-23T00:21:41.917808",
          "2017-01-24T00:22:41.095890",
          "2017-01-25T00:23:40.273972",
          "2017-01-26T00:24:39.452054",
          "2017-01-27T00:25:38.630137",
          "2017-01-28T00:26:37.808219",
          "2017-01-29T00:27:36.986301",
          "2017-01-30T00:28:36.164383",
          "2017-01-31T00:29:35.342465",
          "2017-02-01T00:30:34.520547",
          "2017-02-02T00:31:33.698630",
          "2017-02-03T00:32:32.876712",
          "2017-02-04T00:33:32.054794",
          "2017-02-05T00:34:31.232876",
          "2017-02-06T00:35:30.410958",
          "2017-02-07T00:36:29.589041",
          "2017-02-08T00:37:28.767123",
          "2017-02-09T00:38:27.945205",
          "2017-02-10T00:39:27.123287",
          "2017-02-11T00:40:26.301369",
          "2017-02-12T00:41:25.479452",
          "2017-02-13T00:42:24.657534",
          "2017-02-14T00:43:23.835616",
          "2017-02-15T00:44:23.013698",
          "2017-02-16T00:45:22.191780",
          "2017-02-17T00:46:21.369862",
          "2017-02-18T00:47:20.547945",
          "2017-02-19T00:48:19.726027",
          "2017-02-20T00:49:18.904109",
          "2017-02-21T00:50:18.082191",
          "2017-02-22T00:51:17.260273",
          "2017-02-23T00:52:16.438356",
          "2017-02-24T00:53:15.616438",
          "2017-02-25T00:54:14.794520",
          "2017-02-26T00:55:13.972602",
          "2017-02-27T00:56:13.150684",
          "2017-02-28T00:57:12.328767",
          "2017-03-01T00:58:11.506849",
          "2017-03-02T00:59:10.684931",
          "2017-03-03T01:00:09.863013",
          "2017-03-04T01:01:09.041095",
          "2017-03-05T01:02:08.219177",
          "2017-03-06T01:03:07.397260",
          "2017-03-07T01:04:06.575342",
          "2017-03-08T01:05:05.753424",
          "2017-03-09T01:06:04.931506",
          "2017-03-10T01:07:04.109588",
          "2017-03-11T01:08:03.287671",
          "2017-03-12T01:09:02.465753",
          "2017-03-13T01:10:01.643835",
          "2017-03-14T01:11:00.821917",
          "2017-03-15T01:12:00",
          "2017-03-16T01:12:59.178082",
          "2017-03-17T01:13:58.356164",
          "2017-03-18T01:14:57.534246",
          "2017-03-19T01:15:56.712328",
          "2017-03-20T01:16:55.890411",
          "2017-03-21T01:17:55.068493",
          "2017-03-22T01:18:54.246575",
          "2017-03-23T01:19:53.424657",
          "2017-03-24T01:20:52.602739",
          "2017-03-25T01:21:51.780822",
          "2017-03-26T01:22:50.958904",
          "2017-03-27T01:23:50.136986",
          "2017-03-28T01:24:49.315068",
          "2017-03-29T01:25:48.493150",
          "2017-03-30T01:26:47.671232",
          "2017-03-31T01:27:46.849315",
          "2017-04-01T01:28:46.027397",
          "2017-04-02T01:29:45.205479",
          "2017-04-03T01:30:44.383561",
          "2017-04-04T01:31:43.561643",
          "2017-04-05T01:32:42.739726",
          "2017-04-06T01:33:41.917808",
          "2017-04-07T01:34:41.095890",
          "2017-04-08T01:35:40.273972",
          "2017-04-09T01:36:39.452054",
          "2017-04-10T01:37:38.630137",
          "2017-04-11T01:38:37.808219",
          "2017-04-12T01:39:36.986301",
          "2017-04-13T01:40:36.164383",
          "2017-04-14T01:41:35.342465",
          "2017-04-15T01:42:34.520547",
          "2017-04-16T01:43:33.698630",
          "2017-04-17T01:44:32.876712",
          "2017-04-18T01:45:32.054794",
          "2017-04-19T01:46:31.232876",
          "2017-04-20T01:47:30.410958",
          "2017-04-21T01:48:29.589041",
          "2017-04-22T01:49:28.767123",
          "2017-04-23T01:50:27.945205",
          "2017-04-24T01:51:27.123287",
          "2017-04-25T01:52:26.301369",
          "2017-04-26T01:53:25.479452",
          "2017-04-27T01:54:24.657534",
          "2017-04-28T01:55:23.835616",
          "2017-04-29T01:56:23.013698",
          "2017-04-30T01:57:22.191780",
          "2017-05-01T01:58:21.369862",
          "2017-05-02T01:59:20.547945",
          "2017-05-03T02:00:19.726027",
          "2017-05-04T02:01:18.904109",
          "2017-05-05T02:02:18.082191",
          "2017-05-06T02:03:17.260273",
          "2017-05-07T02:04:16.438356",
          "2017-05-08T02:05:15.616438",
          "2017-05-09T02:06:14.794520",
          "2017-05-10T02:07:13.972602",
          "2017-05-11T02:08:13.150684",
          "2017-05-12T02:09:12.328767",
          "2017-05-13T02:10:11.506849",
          "2017-05-14T02:11:10.684931",
          "2017-05-15T02:12:09.863013",
          "2017-05-16T02:13:09.041095",
          "2017-05-17T02:14:08.219177",
          "2017-05-18T02:15:07.397260",
          "2017-05-19T02:16:06.575342",
          "2017-05-20T02:17:05.753424",
          "2017-05-21T02:18:04.931506",
          "2017-05-22T02:19:04.109588",
          "2017-05-23T02:20:03.287671",
          "2017-05-24T02:21:02.465753",
          "2017-05-25T02:22:01.643835",
          "2017-05-26T02:23:00.821917",
          "2017-05-27T02:24:00",
          "2017-05-28T02:24:59.178082",
          "2017-05-29T02:25:58.356164",
          "2017-05-30T02:26:57.534246",
          "2017-05-31T02:27:56.712328",
          "2017-06-01T02:28:55.890411",
          "2017-06-02T02:29:55.068493",
          "2017-06-03T02:30:54.246575",
          "2017-06-04T02:31:53.424657",
          "2017-06-05T02:32:52.602739",
          "2017-06-06T02:33:51.780822",
          "2017-06-07T02:34:50.958904",
          "2017-06-08T02:35:50.136986",
          "2017-06-09T02:36:49.315068",
          "2017-06-10T02:37:48.493150",
          "2017-06-11T02:38:47.671232",
          "2017-06-12T02:39:46.849315",
          "2017-06-13T02:40:46.027397",
          "2017-06-14T02:41:45.205479",
          "2017-06-15T02:42:44.383561",
          "2017-06-16T02:43:43.561643",
          "2017-06-17T02:44:42.739726",
          "2017-06-18T02:45:41.917808",
          "2017-06-19T02:46:41.095890",
          "2017-06-20T02:47:40.273972",
          "2017-06-21T02:48:39.452054",
          "2017-06-22T02:49:38.630137",
          "2017-06-23T02:50:37.808219",
          "2017-06-24T02:51:36.986301",
          "2017-06-25T02:52:36.164383",
          "2017-06-26T02:53:35.342465",
          "2017-06-27T02:54:34.520547",
          "2017-06-28T02:55:33.698630",
          "2017-06-29T02:56:32.876712",
          "2017-06-30T02:57:32.054794",
          "2017-07-01T02:58:31.232876",
          "2017-07-02T02:59:30.410958",
          "2017-07-03T03:00:29.589041",
          "2017-07-04T03:01:28.767123",
          "2017-07-05T03:02:27.945205",
          "2017-07-06T03:03:27.123287",
          "2017-07-07T03:04:26.301369",
          "2017-07-08T03:05:25.479452",
          "2017-07-09T03:06:24.657534",
          "2017-07-10T03:07:23.835616",
          "2017-07-11T03:08:23.013698",
          "2017-07-12T03:09:22.191780",
          "2017-07-13T03:10:21.369862",
          "2017-07-14T03:11:20.547945",
          "2017-07-15T03:12:19.726027",
          "2017-07-16T03:13:18.904109",
          "2017-07-17T03:14:18.082191",
          "2017-07-18T03:15:17.260273",
          "2017-07-19T03:16:16.438356",
          "2017-07-20T03:17:15.616438",
          "2017-07-21T03:18:14.794520",
          "2017-07-22T03:19:13.972602",
          "2017-07-23T03:20:13.150684",
          "2017-07-24T03:21:12.328767",
          "2017-07-25T03:22:11.506849",
          "2017-07-26T03:23:10.684931",
          "2017-07-27T03:24:09.863013",
          "2017-07-28T03:25:09.041095",
          "2017-07-29T03:26:08.219177",
          "2017-07-30T03:27:07.397260",
          "2017-07-31T03:28:06.575342",
          "2017-08-01T03:29:05.753424",
          "2017-08-02T03:30:04.931506",
          "2017-08-03T03:31:04.109588",
          "2017-08-04T03:32:03.287671",
          "2017-08-05T03:33:02.465753",
          "2017-08-06T03:34:01.643835",
          "2017-08-07T03:35:00.821917",
          "2017-08-08T03:36:00",
          "2017-08-09T03:36:59.178082",
          "2017-08-10T03:37:58.356164",
          "2017-08-11T03:38:57.534246",
          "2017-08-12T03:39:56.712328",
          "2017-08-13T03:40:55.890411",
          "2017-08-14T03:41:55.068493",
          "2017-08-15T03:42:54.246575",
          "2017-08-16T03:43:53.424657",
          "2017-08-17T03:44:52.602739",
          "2017-08-18T03:45:51.780822",
          "2017-08-19T03:46:50.958904",
          "2017-08-20T03:47:50.136986",
          "2017-08-21T03:48:49.315068",
          "2017-08-22T03:49:48.493150",
          "2017-08-23T03:50:47.671232",
          "2017-08-24T03:51:46.849315",
          "2017-08-25T03:52:46.027397",
          "2017-08-26T03:53:45.205479",
          "2017-08-27T03:54:44.383561",
          "2017-08-28T03:55:43.561643",
          "2017-08-29T03:56:42.739726",
          "2017-08-30T03:57:41.917808",
          "2017-08-31T03:58:41.095890",
          "2017-09-01T03:59:40.273972",
          "2017-09-02T04:00:39.452054",
          "2017-09-03T04:01:38.630137",
          "2017-09-04T04:02:37.808219",
          "2017-09-05T04:03:36.986301",
          "2017-09-06T04:04:36.164383",
          "2017-09-07T04:05:35.342465",
          "2017-09-08T04:06:34.520547",
          "2017-09-09T04:07:33.698630",
          "2017-09-10T04:08:32.876712",
          "2017-09-11T04:09:32.054794",
          "2017-09-12T04:10:31.232876",
          "2017-09-13T04:11:30.410958",
          "2017-09-14T04:12:29.589041",
          "2017-09-15T04:13:28.767123",
          "2017-09-16T04:14:27.945205",
          "2017-09-17T04:15:27.123287",
          "2017-09-18T04:16:26.301369",
          "2017-09-19T04:17:25.479452",
          "2017-09-20T04:18:24.657534",
          "2017-09-21T04:19:23.835616",
          "2017-09-22T04:20:23.013698",
          "2017-09-23T04:21:22.191780",
          "2017-09-24T04:22:21.369862",
          "2017-09-25T04:23:20.547945",
          "2017-09-26T04:24:19.726027",
          "2017-09-27T04:25:18.904109",
          "2017-09-28T04:26:18.082191",
          "2017-09-29T04:27:17.260273",
          "2017-09-30T04:28:16.438356",
          "2017-10-01T04:29:15.616438",
          "2017-10-02T04:30:14.794520",
          "2017-10-03T04:31:13.972602",
          "2017-10-04T04:32:13.150684",
          "2017-10-05T04:33:12.328767",
          "2017-10-06T04:34:11.506849",
          "2017-10-07T04:35:10.684931",
          "2017-10-08T04:36:09.863013",
          "2017-10-09T04:37:09.041095",
          "2017-10-10T04:38:08.219177",
          "2017-10-11T04:39:07.397260",
          "2017-10-12T04:40:06.575342",
          "2017-10-13T04:41:05.753424",
          "2017-10-14T04:42:04.931506",
          "2017-10-15T04:43:04.109588",
          "2017-10-16T04:44:03.287671",
          "2017-10-17T04:45:02.465753",
          "2017-10-18T04:46:01.643835",
          "2017-10-19T04:47:00.821917",
          "2017-10-20T04:48:00",
          "2017-10-21T04:48:59.178082",
          "2017-10-22T04:49:58.356164",
          "2017-10-23T04:50:57.534246",
          "2017-10-24T04:51:56.712328",
          "2017-10-25T04:52:55.890411",
          "2017-10-26T04:53:55.068493",
          "2017-10-27T04:54:54.246575",
          "2017-10-28T04:55:53.424657",
          "2017-10-29T04:56:52.602739",
          "2017-10-30T04:57:51.780822",
          "2017-10-31T04:58:50.958904",
          "2017-11-01T04:59:50.136986",
          "2017-11-02T05:00:49.315068",
          "2017-11-03T05:01:48.493150",
          "2017-11-04T05:02:47.671232",
          "2017-11-05T05:03:46.849315",
          "2017-11-06T05:04:46.027397",
          "2017-11-07T05:05:45.205479",
          "2017-11-08T05:06:44.383561",
          "2017-11-09T05:07:43.561643",
          "2017-11-10T05:08:42.739726",
          "2017-11-11T05:09:41.917808",
          "2017-11-12T05:10:41.095890",
          "2017-11-13T05:11:40.273972",
          "2017-11-14T05:12:39.452054",
          "2017-11-15T05:13:38.630137",
          "2017-11-16T05:14:37.808219",
          "2017-11-17T05:15:36.986301",
          "2017-11-18T05:16:36.164383",
          "2017-11-19T05:17:35.342465",
          "2017-11-20T05:18:34.520547",
          "2017-11-21T05:19:33.698630",
          "2017-11-22T05:20:32.876712",
          "2017-11-23T05:21:32.054794",
          "2017-11-24T05:22:31.232876",
          "2017-11-25T05:23:30.410958",
          "2017-11-26T05:24:29.589041",
          "2017-11-27T05:25:28.767123",
          "2017-11-28T05:26:27.945205",
          "2017-11-29T05:27:27.123287",
          "2017-11-30T05:28:26.301369",
          "2017-12-01T05:29:25.479452",
          "2017-12-02T05:30:24.657534",
          "2017-12-03T05:31:23.835616",
          "2017-12-04T05:32:23.013698",
          "2017-12-05T05:33:22.191780",
          "2017-12-06T05:34:21.369862",
          "2017-12-07T05:35:20.547945",
          "2017-12-08T05:36:19.726027",
          "2017-12-09T05:37:18.904109",
          "2017-12-10T05:38:18.082191",
          "2017-12-11T05:39:17.260273",
          "2017-12-12T05:40:16.438356",
          "2017-12-13T05:41:15.616438",
          "2017-12-14T05:42:14.794520",
          "2017-12-15T05:43:13.972602",
          "2017-12-16T05:44:13.150684",
          "2017-12-17T05:45:12.328767",
          "2017-12-18T05:46:11.506849",
          "2017-12-19T05:47:10.684931",
          "2017-12-20T05:48:09.863013",
          "2017-12-21T05:49:09.041095",
          "2017-12-22T05:50:08.219177",
          "2017-12-23T05:51:07.397260",
          "2017-12-24T05:52:06.575342",
          "2017-12-25T05:53:05.753424",
          "2017-12-26T05:54:04.931506",
          "2017-12-27T05:55:04.109588",
          "2017-12-28T05:56:03.287671",
          "2017-12-29T05:57:02.465753",
          "2017-12-30T05:58:01.643835",
          "2017-12-31T05:59:00.821917"
         ],
         "xaxis": "x2",
         "y": [
          1255.0242430964631,
          1686.1504362333546,
          2165.0486862419293,
          2682.2480066010266,
          3227.127687781963,
          3788.1682524452344,
          4353.224448023058,
          4909.813255601421,
          5445.4095567122895,
          5947.741960545717,
          6405.081354579174,
          6806.51499862145,
          7142.199426817801,
          7403.586040201566,
          7583.614045485638,
          7676.866301249959,
          7679.684644437217,
          7590.242359376169,
          7408.572587957582,
          7136.55263156438,
          6777.845231349191,
          6337.799002878274,
          5823.311214901179,
          5242.657013549046,
          4605.2899794264695,
          3921.619546157241,
          3202.7712899229,
          2460.336409911555,
          1706.1168538271013,
          951.872500233401,
          209.0765948894099,
          -511.3147391184518,
          -1199.073624292547,
          -1844.8875495110115,
          -2440.5186219474435,
          -2978.931937967614,
          -3454.3909760445954,
          -3862.5188631111655,
          -4200.325319463819,
          -4466.200019540945,
          -4659.873989835625,
          -4782.351477205365,
          -4835.815438644627,
          -4823.510409209403,
          -4749.606982949595,
          -4619.052481928287,
          -4437.4125840029765,
          -4210.708729109583,
          -3945.25602856381,
          -3647.5061691632604,
          -3323.899444135662,
          -2980.7295706742493,
          -2624.0243862837738,
          -2259.444873350314,
          -1892.2042653238893,
          -1527.0082614503401,
          -1168.0166441665417,
          -818.8258768318904,
          -482.47158236094253,
          -161.44918582033702,
          142.24953503777044,
          427.08669263674705,
          691.9183661253561,
          935.9277756467833,
          1158.5549223381838,
          1359.4260447087274,
          1538.2861068441225,
          1694.9372871403555,
          1829.1860885876824,
          1940.8012562551069,
          2029.4841808207518,
          2094.8529071739245,
          2136.4402740978417,
          2153.7061057899023,
          2146.062779498115,
          2112.9129266015843,
          2053.697506498131,
          1967.9520416017024,
          1855.3684330424048,
          1715.8595031966454,
          1549.6232422400233,
          1357.2036779559885,
          1139.545342940897,
          898.0384802122962,
          634.5524015620035,
          351.4547843416477,
          51.61514980783004,
          -261.60870531317624,
          -584.4019697610988,
          -912.5417995770957,
          -1241.4634173401225,
          -1566.3421001566146,
          -1882.1892299703231,
          -2183.9600299387253,
          -2466.670127325725,
          -2725.517683725652,
          -2956.007531659538,
          -3154.0735641510123,
          -3316.195548728496,
          -3439.506583758633,
          -3521.8875836829566,
          -3562.045467110563,
          -3559.572120882941,
          -3514.981713326699,
          -3429.7245169068187,
          -3306.176057669399,
          -3147.601116743161,
          -2958.0928468136194,
          -2742.4880116153686,
          -2506.260086355685,
          -2255.3926490410918,
          -1996.2361253468437,
          -1735.3515027741155,
          -1479.3450855772724,
          -1234.6987050693851,
          -1007.600018706746,
          -803.777617240785,
          -628.3456081780788,
          -485.6621552285636,
          -379.20613125849735,
          -311.47559443964076,
          -283.9112352297646,
          -296.84728100573665,
          -349.49160362090447,
          -439.93597385206175,
          -565.1965683796035,
          -721.2839836768175,
          -903.3011717139584,
          -1105.5669091904338,
          -1321.761668778531,
          -1545.0920998060662,
          -1768.4697665803249,
          -1984.699352524611,
          -2186.6712307329553,
          -2367.553136781576,
          -2520.975663193585,
          -2641.206428394496,
          -2723.30805369967,
          -2763.2755024377684,
          -2758.148884757213,
          -2706.098494780479,
          -2606.479605308613,
          -2459.855377865535,
          -2267.987129091495,
          -2033.7921032340341,
          -1761.2698088094946,
          -1455.3988595453316,
          -1122.0070898853296,
          -767.6184699846569,
          -399.28100217909,
          -24.38032151337489,
          349.5558689070705,
          715.0571330728551,
          1064.9079012752413,
          1392.3378708574755,
          1691.199944511823,
          1956.1307898873652,
          2182.689591336223,
          2367.4711773708286,
          2508.190428302605,
          2603.735676904662,
          2654.1896878979837,
          2660.8177143998914,
          2626.0230552230887,
          2553.27144943204,
          2446.9865178819605,
          2312.419270392353,
          2155.495418876742,
          1982.6448503917443,
          1800.6181023130255,
          1616.2950310708763,
          1436.4910660426156,
          1267.7664861968585,
          1116.244047799639,
          987.44003055636,
          886.113364946806,
          816.1369672724055,
          780.3947570332323,
          780.7070829157827,
          817.7864607725577,
          891.2246537483677,
          999.5112265145524,
          1140.0828085688147,
          1309.4014317550254,
          1503.059489674686,
          1715.908124971707,
          1942.2052057959502,
          2175.7785233497575,
          2410.1994431487315,
          2638.9619843079836,
          2855.6621908041034,
          3054.172698261029,
          3228.8075877509536,
          3374.4729475628856,
          3486.7990245968995,
          3562.2504244455804,
          3598.211495585625,
          3593.0447877682736,
          3546.121284828517,
          3457.8219533061715,
          3329.5109952746207,
          3163.4820213615576,
          2962.8791435592593,
          2731.595703909959,
          2474.1539835531125,
          2195.569758634621,
          1901.2059702712806,
          1596.6200438846538,
          1287.4095214819718,
          979.0606561136311,
          676.8044619386587,
          385.48442197528243,
          109.43963821253543,
          -147.59332080002332,
          -382.557244941771,
          -593.1278508219635,
          -777.7429185421844,
          -935.606606510607,
          -1066.6693439096066,
          -1171.584471683699,
          -1251.6435312023855,
          -1308.6927629843967,
          -1345.0339551622753,
          -1363.3132553470773,
          -1366.4019154989974,
          -1357.273166417613,
          -1338.879509943746,
          -1314.0346699941006,
          -1285.3042599812723,
          -1254.908909914286,
          -1224.6431614124122,
          -1195.8128969351674,
          -1169.1934376558222,
          -1145.0097427190944,
          -1122.9393931372128,
          -1102.138270103249,
          -1081.2880645373043,
          -1058.6640067657752,
          -1032.220506386316,
          -999.6917648899182,
          -958.7038879996039,
          -906.894598344362,
          -842.0363463887445,
          -762.1584488844771,
          -665.6638558641396,
          -551.4362614042592,
          -418.93352762377873,
          -268.2637789152855,
          -100.24103325217513,
          83.58214523391639,
          280.90678165490147,
          488.70544843444253,
          703.2662615743343,
          920.2622921375643,
          1134.8449377262093,
          1341.7589990031279,
          1535.476464048001,
          1710.3453424002694,
          1860.7493323643994,
          1981.273668146303,
          2066.872192617654,
          2113.0305480371117,
          2115.9203776205086,
          2072.5395874355086,
          1980.8340282786835,
          1839.7964134814697,
          1649.5388794836347,
          1411.3363053815717,
          1127.6383159825123,
          802.0487772786458,
          439.2725282958008,
          45.03005193526483,
          -374.05825871582846,
          -810.6156611128192,
          -1256.6770133314951,
          -1703.876902496776,
          -2143.653078064329,
          -2567.4597857706776,
          -2966.9852165171915,
          -3334.3670648695966,
          -3662.400143130091,
          -3944.7301223342733,
          -4176.027769536984,
          -4352.138515266461,
          -4470.20280393419,
          -4528.743437903905,
          -4527.717002074837,
          -4468.5274266196,
          -4354.000783990541,
          -4188.321493328758,
          -3976.9311905948357,
          -3726.3925850101673,
          -3444.221631167857,
          -3138.6922720519888,
          -2818.6188239317025,
          -2493.121755330716,
          -2171.3831384175473,
          -1862.3984055206452,
          -1574.7312147904602,
          -1316.2782103769102,
          -1094.0502530103824,
          -913.976300660974,
          -780.7355457163811,
          -697.6226795944207,
          -666.4502772706704,
          -687.4912966121242,
          -759.4635978066212,
          -879.5572365509489,
          -1043.5041030014922,
          -1245.68829982033,
          -1479.2945100551688,
          -1736.4905314731914,
          -2008.6391788749997,
          -2286.53390790941,
          -2560.651817362603,
          -2821.4171625839094,
          -3059.4681759308905,
          -3265.9198517206914,
          -3432.6154179411596,
          -3552.359484295348,
          -3619.126319634482,
          -3628.237359545064,
          -3576.5028596750976,
          -3462.3235704437698,
          -3285.7493879788294,
          -3048.4931050880045,
          -2753.898612544729,
          -2406.864151292417,
          -2013.722455635362,
          -1582.0808216069577,
          -1120.6252504368254,
          -638.8938229170752,
          -147.025328539293,
          344.5101211752649,
          825.1912423590238,
          1284.728912838585,
          1713.3449928246102,
          2102.0390260327295,
          2442.835515296111,
          2729.0049676691183,
          2955.252592354879,
          3117.8693918930717,
          3214.8413896559337,
          3245.913857375221,
          3212.6086146485227,
          3118.1937350638527,
          2967.6062761841886,
          2767.3299180317445,
          2525.2306122902082,
          2250.3544788868744,
          1952.6932069580282,
          1642.9230957467955,
          1332.1245837448691,
          1031.4896423264697,
          752.0247388645752,
          504.2571955203092,
          297.9526804145767,
          141.85127079076833,
          43.429031593141744,
          8.691371621623398,
          42.00359221163338,
          145.96305369520192,
          321.3162801465719,
          566.9231334603885,
          879.7689462311605
         ],
         "yaxis": "y2"
        }
       ],
       "layout": {
        "height": 400,
        "showlegend": false,
        "template": {
         "data": {
          "bar": [
           {
            "error_x": {
             "color": "#2a3f5f"
            },
            "error_y": {
             "color": "#2a3f5f"
            },
            "marker": {
             "line": {
              "color": "#E5ECF6",
              "width": 0.5
             },
             "pattern": {
              "fillmode": "overlay",
              "size": 10,
              "solidity": 0.2
             }
            },
            "type": "bar"
           }
          ],
          "barpolar": [
           {
            "marker": {
             "line": {
              "color": "#E5ECF6",
              "width": 0.5
             },
             "pattern": {
              "fillmode": "overlay",
              "size": 10,
              "solidity": 0.2
             }
            },
            "type": "barpolar"
           }
          ],
          "carpet": [
           {
            "aaxis": {
             "endlinecolor": "#2a3f5f",
             "gridcolor": "white",
             "linecolor": "white",
             "minorgridcolor": "white",
             "startlinecolor": "#2a3f5f"
            },
            "baxis": {
             "endlinecolor": "#2a3f5f",
             "gridcolor": "white",
             "linecolor": "white",
             "minorgridcolor": "white",
             "startlinecolor": "#2a3f5f"
            },
            "type": "carpet"
           }
          ],
          "choropleth": [
           {
            "colorbar": {
             "outlinewidth": 0,
             "ticks": ""
            },
            "type": "choropleth"
           }
          ],
          "contour": [
           {
            "colorbar": {
             "outlinewidth": 0,
             "ticks": ""
            },
            "colorscale": [
             [
              0,
              "#0d0887"
             ],
             [
              0.1111111111111111,
              "#46039f"
             ],
             [
              0.2222222222222222,
              "#7201a8"
             ],
             [
              0.3333333333333333,
              "#9c179e"
             ],
             [
              0.4444444444444444,
              "#bd3786"
             ],
             [
              0.5555555555555556,
              "#d8576b"
             ],
             [
              0.6666666666666666,
              "#ed7953"
             ],
             [
              0.7777777777777778,
              "#fb9f3a"
             ],
             [
              0.8888888888888888,
              "#fdca26"
             ],
             [
              1,
              "#f0f921"
             ]
            ],
            "type": "contour"
           }
          ],
          "contourcarpet": [
           {
            "colorbar": {
             "outlinewidth": 0,
             "ticks": ""
            },
            "type": "contourcarpet"
           }
          ],
          "heatmap": [
           {
            "colorbar": {
             "outlinewidth": 0,
             "ticks": ""
            },
            "colorscale": [
             [
              0,
              "#0d0887"
             ],
             [
              0.1111111111111111,
              "#46039f"
             ],
             [
              0.2222222222222222,
              "#7201a8"
             ],
             [
              0.3333333333333333,
              "#9c179e"
             ],
             [
              0.4444444444444444,
              "#bd3786"
             ],
             [
              0.5555555555555556,
              "#d8576b"
             ],
             [
              0.6666666666666666,
              "#ed7953"
             ],
             [
              0.7777777777777778,
              "#fb9f3a"
             ],
             [
              0.8888888888888888,
              "#fdca26"
             ],
             [
              1,
              "#f0f921"
             ]
            ],
            "type": "heatmap"
           }
          ],
          "heatmapgl": [
           {
            "colorbar": {
             "outlinewidth": 0,
             "ticks": ""
            },
            "colorscale": [
             [
              0,
              "#0d0887"
             ],
             [
              0.1111111111111111,
              "#46039f"
             ],
             [
              0.2222222222222222,
              "#7201a8"
             ],
             [
              0.3333333333333333,
              "#9c179e"
             ],
             [
              0.4444444444444444,
              "#bd3786"
             ],
             [
              0.5555555555555556,
              "#d8576b"
             ],
             [
              0.6666666666666666,
              "#ed7953"
             ],
             [
              0.7777777777777778,
              "#fb9f3a"
             ],
             [
              0.8888888888888888,
              "#fdca26"
             ],
             [
              1,
              "#f0f921"
             ]
            ],
            "type": "heatmapgl"
           }
          ],
          "histogram": [
           {
            "marker": {
             "pattern": {
              "fillmode": "overlay",
              "size": 10,
              "solidity": 0.2
             }
            },
            "type": "histogram"
           }
          ],
          "histogram2d": [
           {
            "colorbar": {
             "outlinewidth": 0,
             "ticks": ""
            },
            "colorscale": [
             [
              0,
              "#0d0887"
             ],
             [
              0.1111111111111111,
              "#46039f"
             ],
             [
              0.2222222222222222,
              "#7201a8"
             ],
             [
              0.3333333333333333,
              "#9c179e"
             ],
             [
              0.4444444444444444,
              "#bd3786"
             ],
             [
              0.5555555555555556,
              "#d8576b"
             ],
             [
              0.6666666666666666,
              "#ed7953"
             ],
             [
              0.7777777777777778,
              "#fb9f3a"
             ],
             [
              0.8888888888888888,
              "#fdca26"
             ],
             [
              1,
              "#f0f921"
             ]
            ],
            "type": "histogram2d"
           }
          ],
          "histogram2dcontour": [
           {
            "colorbar": {
             "outlinewidth": 0,
             "ticks": ""
            },
            "colorscale": [
             [
              0,
              "#0d0887"
             ],
             [
              0.1111111111111111,
              "#46039f"
             ],
             [
              0.2222222222222222,
              "#7201a8"
             ],
             [
              0.3333333333333333,
              "#9c179e"
             ],
             [
              0.4444444444444444,
              "#bd3786"
             ],
             [
              0.5555555555555556,
              "#d8576b"
             ],
             [
              0.6666666666666666,
              "#ed7953"
             ],
             [
              0.7777777777777778,
              "#fb9f3a"
             ],
             [
              0.8888888888888888,
              "#fdca26"
             ],
             [
              1,
              "#f0f921"
             ]
            ],
            "type": "histogram2dcontour"
           }
          ],
          "mesh3d": [
           {
            "colorbar": {
             "outlinewidth": 0,
             "ticks": ""
            },
            "type": "mesh3d"
           }
          ],
          "parcoords": [
           {
            "line": {
             "colorbar": {
              "outlinewidth": 0,
              "ticks": ""
             }
            },
            "type": "parcoords"
           }
          ],
          "pie": [
           {
            "automargin": true,
            "type": "pie"
           }
          ],
          "scatter": [
           {
            "marker": {
             "colorbar": {
              "outlinewidth": 0,
              "ticks": ""
             }
            },
            "type": "scatter"
           }
          ],
          "scatter3d": [
           {
            "line": {
             "colorbar": {
              "outlinewidth": 0,
              "ticks": ""
             }
            },
            "marker": {
             "colorbar": {
              "outlinewidth": 0,
              "ticks": ""
             }
            },
            "type": "scatter3d"
           }
          ],
          "scattercarpet": [
           {
            "marker": {
             "colorbar": {
              "outlinewidth": 0,
              "ticks": ""
             }
            },
            "type": "scattercarpet"
           }
          ],
          "scattergeo": [
           {
            "marker": {
             "colorbar": {
              "outlinewidth": 0,
              "ticks": ""
             }
            },
            "type": "scattergeo"
           }
          ],
          "scattergl": [
           {
            "marker": {
             "colorbar": {
              "outlinewidth": 0,
              "ticks": ""
             }
            },
            "type": "scattergl"
           }
          ],
          "scattermapbox": [
           {
            "marker": {
             "colorbar": {
              "outlinewidth": 0,
              "ticks": ""
             }
            },
            "type": "scattermapbox"
           }
          ],
          "scatterpolar": [
           {
            "marker": {
             "colorbar": {
              "outlinewidth": 0,
              "ticks": ""
             }
            },
            "type": "scatterpolar"
           }
          ],
          "scatterpolargl": [
           {
            "marker": {
             "colorbar": {
              "outlinewidth": 0,
              "ticks": ""
             }
            },
            "type": "scatterpolargl"
           }
          ],
          "scatterternary": [
           {
            "marker": {
             "colorbar": {
              "outlinewidth": 0,
              "ticks": ""
             }
            },
            "type": "scatterternary"
           }
          ],
          "surface": [
           {
            "colorbar": {
             "outlinewidth": 0,
             "ticks": ""
            },
            "colorscale": [
             [
              0,
              "#0d0887"
             ],
             [
              0.1111111111111111,
              "#46039f"
             ],
             [
              0.2222222222222222,
              "#7201a8"
             ],
             [
              0.3333333333333333,
              "#9c179e"
             ],
             [
              0.4444444444444444,
              "#bd3786"
             ],
             [
              0.5555555555555556,
              "#d8576b"
             ],
             [
              0.6666666666666666,
              "#ed7953"
             ],
             [
              0.7777777777777778,
              "#fb9f3a"
             ],
             [
              0.8888888888888888,
              "#fdca26"
             ],
             [
              1,
              "#f0f921"
             ]
            ],
            "type": "surface"
           }
          ],
          "table": [
           {
            "cells": {
             "fill": {
              "color": "#EBF0F8"
             },
             "line": {
              "color": "white"
             }
            },
            "header": {
             "fill": {
              "color": "#C8D4E3"
             },
             "line": {
              "color": "white"
             }
            },
            "type": "table"
           }
          ]
         },
         "layout": {
          "annotationdefaults": {
           "arrowcolor": "#2a3f5f",
           "arrowhead": 0,
           "arrowwidth": 1
          },
          "autotypenumbers": "strict",
          "coloraxis": {
           "colorbar": {
            "outlinewidth": 0,
            "ticks": ""
           }
          },
          "colorscale": {
           "diverging": [
            [
             0,
             "#8e0152"
            ],
            [
             0.1,
             "#c51b7d"
            ],
            [
             0.2,
             "#de77ae"
            ],
            [
             0.3,
             "#f1b6da"
            ],
            [
             0.4,
             "#fde0ef"
            ],
            [
             0.5,
             "#f7f7f7"
            ],
            [
             0.6,
             "#e6f5d0"
            ],
            [
             0.7,
             "#b8e186"
            ],
            [
             0.8,
             "#7fbc41"
            ],
            [
             0.9,
             "#4d9221"
            ],
            [
             1,
             "#276419"
            ]
           ],
           "sequential": [
            [
             0,
             "#0d0887"
            ],
            [
             0.1111111111111111,
             "#46039f"
            ],
            [
             0.2222222222222222,
             "#7201a8"
            ],
            [
             0.3333333333333333,
             "#9c179e"
            ],
            [
             0.4444444444444444,
             "#bd3786"
            ],
            [
             0.5555555555555556,
             "#d8576b"
            ],
            [
             0.6666666666666666,
             "#ed7953"
            ],
            [
             0.7777777777777778,
             "#fb9f3a"
            ],
            [
             0.8888888888888888,
             "#fdca26"
            ],
            [
             1,
             "#f0f921"
            ]
           ],
           "sequentialminus": [
            [
             0,
             "#0d0887"
            ],
            [
             0.1111111111111111,
             "#46039f"
            ],
            [
             0.2222222222222222,
             "#7201a8"
            ],
            [
             0.3333333333333333,
             "#9c179e"
            ],
            [
             0.4444444444444444,
             "#bd3786"
            ],
            [
             0.5555555555555556,
             "#d8576b"
            ],
            [
             0.6666666666666666,
             "#ed7953"
            ],
            [
             0.7777777777777778,
             "#fb9f3a"
            ],
            [
             0.8888888888888888,
             "#fdca26"
            ],
            [
             1,
             "#f0f921"
            ]
           ]
          },
          "colorway": [
           "#636efa",
           "#EF553B",
           "#00cc96",
           "#ab63fa",
           "#FFA15A",
           "#19d3f3",
           "#FF6692",
           "#B6E880",
           "#FF97FF",
           "#FECB52"
          ],
          "font": {
           "color": "#2a3f5f"
          },
          "geo": {
           "bgcolor": "white",
           "lakecolor": "white",
           "landcolor": "#E5ECF6",
           "showlakes": true,
           "showland": true,
           "subunitcolor": "white"
          },
          "hoverlabel": {
           "align": "left"
          },
          "hovermode": "closest",
          "mapbox": {
           "style": "light"
          },
          "paper_bgcolor": "white",
          "plot_bgcolor": "#E5ECF6",
          "polar": {
           "angularaxis": {
            "gridcolor": "white",
            "linecolor": "white",
            "ticks": ""
           },
           "bgcolor": "#E5ECF6",
           "radialaxis": {
            "gridcolor": "white",
            "linecolor": "white",
            "ticks": ""
           }
          },
          "scene": {
           "xaxis": {
            "backgroundcolor": "#E5ECF6",
            "gridcolor": "white",
            "gridwidth": 2,
            "linecolor": "white",
            "showbackground": true,
            "ticks": "",
            "zerolinecolor": "white"
           },
           "yaxis": {
            "backgroundcolor": "#E5ECF6",
            "gridcolor": "white",
            "gridwidth": 2,
            "linecolor": "white",
            "showbackground": true,
            "ticks": "",
            "zerolinecolor": "white"
           },
           "zaxis": {
            "backgroundcolor": "#E5ECF6",
            "gridcolor": "white",
            "gridwidth": 2,
            "linecolor": "white",
            "showbackground": true,
            "ticks": "",
            "zerolinecolor": "white"
           }
          },
          "shapedefaults": {
           "line": {
            "color": "#2a3f5f"
           }
          },
          "ternary": {
           "aaxis": {
            "gridcolor": "white",
            "linecolor": "white",
            "ticks": ""
           },
           "baxis": {
            "gridcolor": "white",
            "linecolor": "white",
            "ticks": ""
           },
           "bgcolor": "#E5ECF6",
           "caxis": {
            "gridcolor": "white",
            "linecolor": "white",
            "ticks": ""
           }
          },
          "title": {
           "x": 0.05
          },
          "xaxis": {
           "automargin": true,
           "gridcolor": "white",
           "linecolor": "white",
           "ticks": "",
           "title": {
            "standoff": 15
           },
           "zerolinecolor": "white",
           "zerolinewidth": 2
          },
          "yaxis": {
           "automargin": true,
           "gridcolor": "white",
           "linecolor": "white",
           "ticks": "",
           "title": {
            "standoff": 15
           },
           "zerolinecolor": "white",
           "zerolinewidth": 2
          }
         }
        },
        "width": 900,
        "xaxis": {
         "anchor": "y",
         "domain": [
          0,
          1
         ],
         "range": [
          "2011-06-24T19:12:00",
          "2022-12-08T04:48:00"
         ],
         "type": "date"
        },
        "xaxis2": {
         "anchor": "y2",
         "domain": [
          0,
          1
         ],
         "range": [
          "2016-12-13T18:54:02.958904115",
          "2018-01-18T11:04:57.863013581"
         ],
         "tickformat": "%B %e",
         "type": "date"
        },
        "yaxis": {
         "anchor": "x",
         "domain": [
          0.575,
          1
         ],
         "rangemode": "normal",
         "title": {
          "text": "trend"
         },
         "zerolinecolor": "#AAA"
        },
        "yaxis2": {
         "anchor": "x2",
         "domain": [
          0,
          0.425
         ],
         "title": {
          "text": "yearly"
         },
         "zerolinecolor": "#AAA"
        }
       }
      }
     },
     "metadata": {},
     "output_type": "display_data"
    }
   ],
   "source": [
    "plot_components_plotly(model, forecast)"
   ]
  },
  {
   "cell_type": "code",
   "execution_count": 50,
   "metadata": {},
   "outputs": [
    {
     "name": "stdout",
     "output_type": "stream",
     "text": [
      "2022-05-01 00:00:00\n"
     ]
    }
   ],
   "source": [
    "print(df_hist_univar.ds.max())"
   ]
  },
  {
   "cell_type": "code",
   "execution_count": 65,
   "metadata": {},
   "outputs": [
    {
     "name": "stderr",
     "output_type": "stream",
     "text": [
      "12:43:33 - cmdstanpy - INFO - Chain [1] start processing\n",
      "12:43:33 - cmdstanpy - INFO - Chain [1] done processing\n"
     ]
    },
    {
     "data": {
      "image/png": "[encoded data removed]",
      "text/plain": [
       "<Figure size 720x432 with 1 Axes>"
      ]
     },
     "metadata": {},
     "output_type": "display_data"
    }
   ],
   "source": [
    "# Validación entrenando el modelo con menos datos.\n",
    "test_date = '2022-01-01'\n",
    "df_ = df_hist_univar[df_hist_univar.ds <= test_date].copy()\n",
    "# El dataset original presenta las fechas al inicio del mes. Prophet.make_future_dataframe calcula las fechas a fin del mes... no sé si\n",
    "# esto puede traer una inconsistencia. Lo intento resolver:\n",
    "df_.ds = pd.to_datetime(df_.ds, format=\"%Y%m\") + MonthEnd(1)\n",
    "model = Prophet()\n",
    "model.fit(df_)\n",
    "future = model.make_future_dataframe(periods=6, freq='M')\n",
    "forecast = model.predict(future)\n",
    "fig1 = model.plot(forecast)"
   ]
  },
  {
   "cell_type": "code",
   "execution_count": 67,
   "metadata": {},
   "outputs": [
    {
     "data": {
      "image/png": "[encoded data removed]",
      "text/plain": [
       "<Figure size 1080x360 with 1 Axes>"
      ]
     },
     "metadata": {
      "needs_background": "light"
     },
     "output_type": "display_data"
    }
   ],
   "source": [
    "plt.figure(figsize=(15, 5))\n",
    "df_all = df_hist_univar.copy()\n",
    "df_all.ds = pd.to_datetime(df_all.ds, format=\"%Y%m\") + MonthEnd(1)\n",
    "plt.plot(df_all.ds, df_all.y, label='Original')\n",
    "trainPredictPlot = forecast[forecast.ds<=test_date]\n",
    "plt.plot(trainPredictPlot.ds, trainPredictPlot.yhat, label='Train Predict')\n",
    "testPredictPlot = forecast[forecast.ds>test_date]\n",
    "plt.plot(testPredictPlot.ds, testPredictPlot.yhat, label='Test Predict')\n",
    "plt.title('Prophet')\n",
    "plt.legend()\n",
    "plt.show()"
   ]
  },
  {
   "cell_type": "code",
   "execution_count": 85,
   "metadata": {},
   "outputs": [
    {
     "data": {
      "text/html": [
       "<div>\n",
       "<style scoped>\n",
       "    .dataframe tbody tr th:only-of-type {\n",
       "        vertical-align: middle;\n",
       "    }\n",
       "\n",
       "    .dataframe tbody tr th {\n",
       "        vertical-align: top;\n",
       "    }\n",
       "\n",
       "    .dataframe thead th {\n",
       "        text-align: right;\n",
       "    }\n",
       "</style>\n",
       "<table border=\"1\" class=\"dataframe\">\n",
       "  <thead>\n",
       "    <tr style=\"text-align: right;\">\n",
       "      <th></th>\n",
       "      <th>ds</th>\n",
       "      <th>y</th>\n",
       "      <th>yhat</th>\n",
       "      <th>error</th>\n",
       "      <th>percent_error</th>\n",
       "    </tr>\n",
       "  </thead>\n",
       "  <tbody>\n",
       "    <tr>\n",
       "      <th>112</th>\n",
       "      <td>2021-05-31</td>\n",
       "      <td>10986.1</td>\n",
       "      <td>10691.2</td>\n",
       "      <td>294.9</td>\n",
       "      <td>2.7</td>\n",
       "    </tr>\n",
       "    <tr>\n",
       "      <th>113</th>\n",
       "      <td>2021-06-30</td>\n",
       "      <td>12053.8</td>\n",
       "      <td>11398.7</td>\n",
       "      <td>655.1</td>\n",
       "      <td>5.4</td>\n",
       "    </tr>\n",
       "    <tr>\n",
       "      <th>114</th>\n",
       "      <td>2021-07-31</td>\n",
       "      <td>12419.0</td>\n",
       "      <td>12090.9</td>\n",
       "      <td>328.0</td>\n",
       "      <td>2.6</td>\n",
       "    </tr>\n",
       "    <tr>\n",
       "      <th>115</th>\n",
       "      <td>2021-08-31</td>\n",
       "      <td>11660.9</td>\n",
       "      <td>11272.1</td>\n",
       "      <td>388.8</td>\n",
       "      <td>3.3</td>\n",
       "    </tr>\n",
       "    <tr>\n",
       "      <th>116</th>\n",
       "      <td>2021-09-30</td>\n",
       "      <td>10375.9</td>\n",
       "      <td>10352.5</td>\n",
       "      <td>23.4</td>\n",
       "      <td>0.2</td>\n",
       "    </tr>\n",
       "    <tr>\n",
       "      <th>117</th>\n",
       "      <td>2021-10-31</td>\n",
       "      <td>10452.3</td>\n",
       "      <td>10407.8</td>\n",
       "      <td>44.4</td>\n",
       "      <td>0.4</td>\n",
       "    </tr>\n",
       "    <tr>\n",
       "      <th>118</th>\n",
       "      <td>2021-11-30</td>\n",
       "      <td>10570.6</td>\n",
       "      <td>10470.3</td>\n",
       "      <td>100.3</td>\n",
       "      <td>0.9</td>\n",
       "    </tr>\n",
       "    <tr>\n",
       "      <th>119</th>\n",
       "      <td>2021-12-31</td>\n",
       "      <td>12458.3</td>\n",
       "      <td>11855.9</td>\n",
       "      <td>602.4</td>\n",
       "      <td>4.8</td>\n",
       "    </tr>\n",
       "    <tr>\n",
       "      <th>120</th>\n",
       "      <td>2022-01-31</td>\n",
       "      <td>13066.6</td>\n",
       "      <td>12294.1</td>\n",
       "      <td>772.4</td>\n",
       "      <td>5.9</td>\n",
       "    </tr>\n",
       "    <tr>\n",
       "      <th>121</th>\n",
       "      <td>2022-02-28</td>\n",
       "      <td>10568.6</td>\n",
       "      <td>10948.8</td>\n",
       "      <td>-380.2</td>\n",
       "      <td>-3.6</td>\n",
       "    </tr>\n",
       "    <tr>\n",
       "      <th>122</th>\n",
       "      <td>2022-03-31</td>\n",
       "      <td>10884.6</td>\n",
       "      <td>11010.9</td>\n",
       "      <td>-126.3</td>\n",
       "      <td>-1.2</td>\n",
       "    </tr>\n",
       "    <tr>\n",
       "      <th>123</th>\n",
       "      <td>2022-04-30</td>\n",
       "      <td>10149.6</td>\n",
       "      <td>10090.0</td>\n",
       "      <td>59.6</td>\n",
       "      <td>0.6</td>\n",
       "    </tr>\n",
       "    <tr>\n",
       "      <th>124</th>\n",
       "      <td>2022-05-31</td>\n",
       "      <td>11731.0</td>\n",
       "      <td>10797.9</td>\n",
       "      <td>933.0</td>\n",
       "      <td>8.0</td>\n",
       "    </tr>\n",
       "    <tr>\n",
       "      <th>125</th>\n",
       "      <td>2022-06-30</td>\n",
       "      <td>NaN</td>\n",
       "      <td>11437.0</td>\n",
       "      <td>NaN</td>\n",
       "      <td>NaN</td>\n",
       "    </tr>\n",
       "    <tr>\n",
       "      <th>126</th>\n",
       "      <td>2022-07-31</td>\n",
       "      <td>NaN</td>\n",
       "      <td>12168.2</td>\n",
       "      <td>NaN</td>\n",
       "      <td>NaN</td>\n",
       "    </tr>\n",
       "  </tbody>\n",
       "</table>\n",
       "</div>"
      ],
      "text/plain": [
       "            ds       y    yhat  error  percent_error\n",
       "112 2021-05-31 10986.1 10691.2  294.9            2.7\n",
       "113 2021-06-30 12053.8 11398.7  655.1            5.4\n",
       "114 2021-07-31 12419.0 12090.9  328.0            2.6\n",
       "115 2021-08-31 11660.9 11272.1  388.8            3.3\n",
       "116 2021-09-30 10375.9 10352.5   23.4            0.2\n",
       "117 2021-10-31 10452.3 10407.8   44.4            0.4\n",
       "118 2021-11-30 10570.6 10470.3  100.3            0.9\n",
       "119 2021-12-31 12458.3 11855.9  602.4            4.8\n",
       "120 2022-01-31 13066.6 12294.1  772.4            5.9\n",
       "121 2022-02-28 10568.6 10948.8 -380.2           -3.6\n",
       "122 2022-03-31 10884.6 11010.9 -126.3           -1.2\n",
       "123 2022-04-30 10149.6 10090.0   59.6            0.6\n",
       "124 2022-05-31 11731.0 10797.9  933.0            8.0\n",
       "125 2022-06-30     NaN 11437.0    NaN            NaN\n",
       "126 2022-07-31     NaN 12168.2    NaN            NaN"
      ]
     },
     "execution_count": 85,
     "metadata": {},
     "output_type": "execute_result"
    }
   ],
   "source": [
    "df_hist_univar[df_hist_univar.ds>='2022-01-01']\n",
    "df_compara = forecast.merge(df_all, how='left')\n",
    "df_compara['error'] = df_compara.y - df_compara.yhat\n",
    "df_compara['percent_error'] = df_compara.error / df_compara.y * 100\n",
    "df_compara[['ds', 'y', 'yhat', 'error', 'percent_error']].tail(15)"
   ]
  },
  {
   "cell_type": "code",
   "execution_count": 79,
   "metadata": {},
   "outputs": [
    {
     "data": {
      "application/vnd.plotly.v1+json": {
       "config": {
        "plotlyServerURL": "https://plot.ly"
       },
       "data": [
        {
         "marker": {
          "color": "black",
          "size": 4
         },
         "mode": "markers",
         "name": "Actual",
         "type": "scatter",
         "x": [
          "2012-01-31T00:00:00",
          "2012-02-29T00:00:00",
          "2012-03-31T00:00:00",
          "2012-04-30T00:00:00",
          "2012-05-31T00:00:00",
          "2012-06-30T00:00:00",
          "2012-07-31T00:00:00",
          "2012-08-31T00:00:00",
          "2012-09-30T00:00:00",
          "2012-10-31T00:00:00",
          "2012-11-30T00:00:00",
          "2012-12-31T00:00:00",
          "2013-01-31T00:00:00",
          "2013-02-28T00:00:00",
          "2013-03-31T00:00:00",
          "2013-04-30T00:00:00",
          "2013-05-31T00:00:00",
          "2013-06-30T00:00:00",
          "2013-07-31T00:00:00",
          "2013-08-31T00:00:00",
          "2013-09-30T00:00:00",
          "2013-10-31T00:00:00",
          "2013-11-30T00:00:00",
          "2013-12-31T00:00:00",
          "2014-01-31T00:00:00",
          "2014-02-28T00:00:00",
          "2014-03-31T00:00:00",
          "2014-04-30T00:00:00",
          "2014-05-31T00:00:00",
          "2014-06-30T00:00:00",
          "2014-07-31T00:00:00",
          "2014-08-31T00:00:00",
          "2014-09-30T00:00:00",
          "2014-10-31T00:00:00",
          "2014-11-30T00:00:00",
          "2014-12-31T00:00:00",
          "2015-01-31T00:00:00",
          "2015-02-28T00:00:00",
          "2015-03-31T00:00:00",
          "2015-04-30T00:00:00",
          "2015-05-31T00:00:00",
          "2015-06-30T00:00:00",
          "2015-07-31T00:00:00",
          "2015-08-31T00:00:00",
          "2015-09-30T00:00:00",
          "2015-10-31T00:00:00",
          "2015-11-30T00:00:00",
          "2015-12-31T00:00:00",
          "2016-01-31T00:00:00",
          "2016-02-29T00:00:00",
          "2016-03-31T00:00:00",
          "2016-04-30T00:00:00",
          "2016-05-31T00:00:00",
          "2016-06-30T00:00:00",
          "2016-07-31T00:00:00",
          "2016-08-31T00:00:00",
          "2016-09-30T00:00:00",
          "2016-10-31T00:00:00",
          "2016-11-30T00:00:00",
          "2016-12-31T00:00:00",
          "2017-01-31T00:00:00",
          "2017-02-28T00:00:00",
          "2017-03-31T00:00:00",
          "2017-04-30T00:00:00",
          "2017-05-31T00:00:00",
          "2017-06-30T00:00:00",
          "2017-07-31T00:00:00",
          "2017-08-31T00:00:00",
          "2017-09-30T00:00:00",
          "2017-10-31T00:00:00",
          "2017-11-30T00:00:00",
          "2017-12-31T00:00:00",
          "2018-01-31T00:00:00",
          "2018-02-28T00:00:00",
          "2018-03-31T00:00:00",
          "2018-04-30T00:00:00",
          "2018-05-31T00:00:00",
          "2018-06-30T00:00:00",
          "2018-07-31T00:00:00",
          "2018-08-31T00:00:00",
          "2018-09-30T00:00:00",
          "2018-10-31T00:00:00",
          "2018-11-30T00:00:00",
          "2018-12-31T00:00:00",
          "2019-01-31T00:00:00",
          "2019-02-28T00:00:00",
          "2019-03-31T00:00:00",
          "2019-04-30T00:00:00",
          "2019-05-31T00:00:00",
          "2019-06-30T00:00:00",
          "2019-07-31T00:00:00",
          "2019-08-31T00:00:00",
          "2019-09-30T00:00:00",
          "2019-10-31T00:00:00",
          "2019-11-30T00:00:00",
          "2019-12-31T00:00:00",
          "2020-01-31T00:00:00",
          "2020-02-29T00:00:00",
          "2020-03-31T00:00:00",
          "2020-04-30T00:00:00",
          "2020-05-31T00:00:00",
          "2020-06-30T00:00:00",
          "2020-07-31T00:00:00",
          "2020-08-31T00:00:00",
          "2020-09-30T00:00:00",
          "2020-10-31T00:00:00",
          "2020-11-30T00:00:00",
          "2020-12-31T00:00:00",
          "2021-01-31T00:00:00",
          "2021-02-28T00:00:00",
          "2021-03-31T00:00:00",
          "2021-04-30T00:00:00",
          "2021-05-31T00:00:00",
          "2021-06-30T00:00:00",
          "2021-07-31T00:00:00",
          "2021-08-31T00:00:00",
          "2021-09-30T00:00:00",
          "2021-10-31T00:00:00",
          "2021-11-30T00:00:00",
          "2021-12-31T00:00:00",
          "2022-01-31T00:00:00"
         ],
         "y": [
          10804.699842,
          10085.552231000001,
          10175.365005000001,
          8969.068409,
          9597.272016,
          10292.182399,
          11066.530786000001,
          10404.120825,
          9336.891496,
          9608.256140000001,
          10027.740717,
          10820.739305,
          11134.119345000001,
          9834.160007,
          9756.129308,
          9307.334163000001,
          10232.825394,
          10360.537194,
          11156.173393,
          10904.479243000002,
          10195.872995000002,
          10045.715632,
          10015.701652000002,
          12291.286493000001,
          12004.342368000001,
          9823.968201,
          9789.798789,
          9595.37435,
          10409.105006000002,
          10901.714976,
          11363.942101999999,
          10490.682389,
          9807.544190999999,
          10706.493141,
          10344.736672,
          11229.37782,
          11706.190093000001,
          10665.086620999999,
          11548.527072,
          10026.43476,
          10467.633693,
          11254.419667,
          11907.361918999999,
          11130.262808,
          10552.903241,
          10722.174389,
          10219.189482000002,
          11909.435561,
          12344.911762,
          11731.845100999999,
          10461.47592,
          10292.000856,
          11358.011628,
          11812.94705,
          11929.645375,
          10855.441952,
          10382.081134,
          9956.038875,
          10132.540584,
          11853.854388,
          12524.865646,
          11074.906499,
          11122.231555,
          9793.758585000001,
          10795.213415,
          11359.330662,
          11796.425757,
          11107.250705,
          10348.584548,
          10227.329313,
          10355.727486,
          12024.595461,
          12350.18332,
          11404.202882,
          11247.242133,
          10493.314585,
          10665.461507,
          11925.912467,
          12607.552721999999,
          11721.305132,
          9792.369095,
          9904.218669,
          10035.149376,
          10863.012545,
          11698.820402000001,
          10706.955317,
          10120.057936000001,
          9572.130645,
          10382.062156,
          10649.85454,
          12004.210188000001,
          11465.483299000001,
          10218.087823000002,
          10380.686879,
          10559.966155,
          11187.742676999998,
          11993.867057,
          10843.47443,
          11144.232192,
          8537.200407,
          9617.328172,
          10781.714872999999,
          12183.852641000001,
          10728.379158,
          10045.02285,
          10013.844018000002,
          10087.844438999999,
          11330.177614,
          11941.580985999999,
          10090.389298,
          11055.214503000001,
          9817.737877,
          10986.114068,
          12053.804232,
          12418.960365,
          11660.89725,
          10375.902291999999,
          10452.254867,
          10570.559841,
          12458.302765,
          13066.582218
         ]
        },
        {
         "hoverinfo": "skip",
         "line": {
          "width": 0
         },
         "mode": "lines",
         "type": "scatter",
         "x": [
          "2012-01-31T00:00:00",
          "2012-02-29T00:00:00",
          "2012-03-31T00:00:00",
          "2012-04-30T00:00:00",
          "2012-05-31T00:00:00",
          "2012-06-30T00:00:00",
          "2012-07-31T00:00:00",
          "2012-08-31T00:00:00",
          "2012-09-30T00:00:00",
          "2012-10-31T00:00:00",
          "2012-11-30T00:00:00",
          "2012-12-31T00:00:00",
          "2013-01-31T00:00:00",
          "2013-02-28T00:00:00",
          "2013-03-31T00:00:00",
          "2013-04-30T00:00:00",
          "2013-05-31T00:00:00",
          "2013-06-30T00:00:00",
          "2013-07-31T00:00:00",
          "2013-08-31T00:00:00",
          "2013-09-30T00:00:00",
          "2013-10-31T00:00:00",
          "2013-11-30T00:00:00",
          "2013-12-31T00:00:00",
          "2014-01-31T00:00:00",
          "2014-02-28T00:00:00",
          "2014-03-31T00:00:00",
          "2014-04-30T00:00:00",
          "2014-05-31T00:00:00",
          "2014-06-30T00:00:00",
          "2014-07-31T00:00:00",
          "2014-08-31T00:00:00",
          "2014-09-30T00:00:00",
          "2014-10-31T00:00:00",
          "2014-11-30T00:00:00",
          "2014-12-31T00:00:00",
          "2015-01-31T00:00:00",
          "2015-02-28T00:00:00",
          "2015-03-31T00:00:00",
          "2015-04-30T00:00:00",
          "2015-05-31T00:00:00",
          "2015-06-30T00:00:00",
          "2015-07-31T00:00:00",
          "2015-08-31T00:00:00",
          "2015-09-30T00:00:00",
          "2015-10-31T00:00:00",
          "2015-11-30T00:00:00",
          "2015-12-31T00:00:00",
          "2016-01-31T00:00:00",
          "2016-02-29T00:00:00",
          "2016-03-31T00:00:00",
          "2016-04-30T00:00:00",
          "2016-05-31T00:00:00",
          "2016-06-30T00:00:00",
          "2016-07-31T00:00:00",
          "2016-08-31T00:00:00",
          "2016-09-30T00:00:00",
          "2016-10-31T00:00:00",
          "2016-11-30T00:00:00",
          "2016-12-31T00:00:00",
          "2017-01-31T00:00:00",
          "2017-02-28T00:00:00",
          "2017-03-31T00:00:00",
          "2017-04-30T00:00:00",
          "2017-05-31T00:00:00",
          "2017-06-30T00:00:00",
          "2017-07-31T00:00:00",
          "2017-08-31T00:00:00",
          "2017-09-30T00:00:00",
          "2017-10-31T00:00:00",
          "2017-11-30T00:00:00",
          "2017-12-31T00:00:00",
          "2018-01-31T00:00:00",
          "2018-02-28T00:00:00",
          "2018-03-31T00:00:00",
          "2018-04-30T00:00:00",
          "2018-05-31T00:00:00",
          "2018-06-30T00:00:00",
          "2018-07-31T00:00:00",
          "2018-08-31T00:00:00",
          "2018-09-30T00:00:00",
          "2018-10-31T00:00:00",
          "2018-11-30T00:00:00",
          "2018-12-31T00:00:00",
          "2019-01-31T00:00:00",
          "2019-02-28T00:00:00",
          "2019-03-31T00:00:00",
          "2019-04-30T00:00:00",
          "2019-05-31T00:00:00",
          "2019-06-30T00:00:00",
          "2019-07-31T00:00:00",
          "2019-08-31T00:00:00",
          "2019-09-30T00:00:00",
          "2019-10-31T00:00:00",
          "2019-11-30T00:00:00",
          "2019-12-31T00:00:00",
          "2020-01-31T00:00:00",
          "2020-02-29T00:00:00",
          "2020-03-31T00:00:00",
          "2020-04-30T00:00:00",
          "2020-05-31T00:00:00",
          "2020-06-30T00:00:00",
          "2020-07-31T00:00:00",
          "2020-08-31T00:00:00",
          "2020-09-30T00:00:00",
          "2020-10-31T00:00:00",
          "2020-11-30T00:00:00",
          "2020-12-31T00:00:00",
          "2021-01-31T00:00:00",
          "2021-02-28T00:00:00",
          "2021-03-31T00:00:00",
          "2021-04-30T00:00:00",
          "2021-05-31T00:00:00",
          "2021-06-30T00:00:00",
          "2021-07-31T00:00:00",
          "2021-08-31T00:00:00",
          "2021-09-30T00:00:00",
          "2021-10-31T00:00:00",
          "2021-11-30T00:00:00",
          "2021-12-31T00:00:00",
          "2022-01-31T00:00:00",
          "2022-02-28T00:00:00",
          "2022-03-31T00:00:00",
          "2022-04-30T00:00:00",
          "2022-05-31T00:00:00",
          "2022-06-30T00:00:00",
          "2022-07-31T00:00:00"
         ],
         "y": [
          10670.039098189005,
          9481.84475095669,
          9360.144672069862,
          8258.432356989679,
          9245.193184012625,
          10048.315977945604,
          10758.194868206052,
          9836.818796573727,
          9016.252302865852,
          8896.380193198229,
          9138.052618254062,
          10579.024917695346,
          11002.092096074774,
          9694.684974947751,
          9702.430183970773,
          8655.563063100317,
          9545.19294538166,
          10278.053206661858,
          11000.066746842323,
          10170.259870862414,
          9260.473356376611,
          9334.564795053702,
          9380.01002141547,
          10804.363145634643,
          11258.146720795812,
          9936.267177875,
          10003.172139167204,
          9108.191902888164,
          9835.33710293449,
          10460.499783374162,
          11206.5458471311,
          10479.42400974274,
          9546.343927091682,
          9745.598547144516,
          9703.073055417557,
          11030.502695632911,
          11498.376859819828,
          10134.77309739001,
          10324.441623133478,
          9519.59331525099,
          10109.780269511648,
          10652.846850213133,
          11427.569481617222,
          10824.061292454568,
          9746.532525200584,
          10113.480821502544,
          9971.279847525857,
          11263.593508748558,
          11749.333620984855,
          10521.057180114138,
          10446.07347013237,
          9308.270251676875,
          10298.990081305537,
          11067.331075441509,
          11709.411905464602,
          10783.861423930184,
          9928.343286006762,
          9856.35522331201,
          9942.90618393599,
          11403.869045257821,
          11825.426900125784,
          10460.764369364046,
          10382.39146746481,
          9386.681255238314,
          10239.668625294486,
          10919.055887518367,
          11597.201109835145,
          10755.943533505002,
          9847.736931990903,
          9863.688869174031,
          9872.524118678724,
          11261.453147532613,
          11648.099645547543,
          10307.646472877717,
          10351.541616516508,
          9460.24651075684,
          10124.13237804989,
          10754.667567093798,
          11440.571980354982,
          10716.036970311645,
          9702.17683630226,
          9894.555384223966,
          9810.71759366951,
          11119.089318061842,
          11576.002443733014,
          10190.172469577825,
          10326.107042788508,
          9520.00997590197,
          10037.12287358829,
          10573.092859176228,
          11367.507160604597,
          10636.857252730051,
          9578.876305709604,
          9932.525375995547,
          9762.869476561471,
          11040.757040227241,
          11547.682296301567,
          10323.64918740007,
          10225.189918301157,
          9076.894620919133,
          10095.115161776399,
          10896.50536554137,
          11521.737098941912,
          10648.378222172521,
          9767.017197560745,
          9688.591303943447,
          9838.816891490978,
          11326.612260942316,
          11708.235362869129,
          10390.39402027064,
          10406.0842120401,
          9383.838804385878,
          10192.354047688592,
          10958.883025079404,
          11623.2389501504,
          10806.377167181841,
          9888.393119079508,
          9926.925855766794,
          9982.495160884895,
          11401.046178873941,
          11804.389582123715,
          10460.259722273651,
          10521.20318959746,
          9614.879329913052,
          10345.495034832116,
          10945.18302366914,
          11705.650904983286
         ]
        },
        {
         "fill": "tonexty",
         "fillcolor": "rgba(0, 114, 178, 0.2)",
         "line": {
          "color": "#0072B2",
          "width": 2
         },
         "mode": "lines",
         "name": "Predicted",
         "type": "scatter",
         "x": [
          "2012-01-31T00:00:00",
          "2012-02-29T00:00:00",
          "2012-03-31T00:00:00",
          "2012-04-30T00:00:00",
          "2012-05-31T00:00:00",
          "2012-06-30T00:00:00",
          "2012-07-31T00:00:00",
          "2012-08-31T00:00:00",
          "2012-09-30T00:00:00",
          "2012-10-31T00:00:00",
          "2012-11-30T00:00:00",
          "2012-12-31T00:00:00",
          "2013-01-31T00:00:00",
          "2013-02-28T00:00:00",
          "2013-03-31T00:00:00",
          "2013-04-30T00:00:00",
          "2013-05-31T00:00:00",
          "2013-06-30T00:00:00",
          "2013-07-31T00:00:00",
          "2013-08-31T00:00:00",
          "2013-09-30T00:00:00",
          "2013-10-31T00:00:00",
          "2013-11-30T00:00:00",
          "2013-12-31T00:00:00",
          "2014-01-31T00:00:00",
          "2014-02-28T00:00:00",
          "2014-03-31T00:00:00",
          "2014-04-30T00:00:00",
          "2014-05-31T00:00:00",
          "2014-06-30T00:00:00",
          "2014-07-31T00:00:00",
          "2014-08-31T00:00:00",
          "2014-09-30T00:00:00",
          "2014-10-31T00:00:00",
          "2014-11-30T00:00:00",
          "2014-12-31T00:00:00",
          "2015-01-31T00:00:00",
          "2015-02-28T00:00:00",
          "2015-03-31T00:00:00",
          "2015-04-30T00:00:00",
          "2015-05-31T00:00:00",
          "2015-06-30T00:00:00",
          "2015-07-31T00:00:00",
          "2015-08-31T00:00:00",
          "2015-09-30T00:00:00",
          "2015-10-31T00:00:00",
          "2015-11-30T00:00:00",
          "2015-12-31T00:00:00",
          "2016-01-31T00:00:00",
          "2016-02-29T00:00:00",
          "2016-03-31T00:00:00",
          "2016-04-30T00:00:00",
          "2016-05-31T00:00:00",
          "2016-06-30T00:00:00",
          "2016-07-31T00:00:00",
          "2016-08-31T00:00:00",
          "2016-09-30T00:00:00",
          "2016-10-31T00:00:00",
          "2016-11-30T00:00:00",
          "2016-12-31T00:00:00",
          "2017-01-31T00:00:00",
          "2017-02-28T00:00:00",
          "2017-03-31T00:00:00",
          "2017-04-30T00:00:00",
          "2017-05-31T00:00:00",
          "2017-06-30T00:00:00",
          "2017-07-31T00:00:00",
          "2017-08-31T00:00:00",
          "2017-09-30T00:00:00",
          "2017-10-31T00:00:00",
          "2017-11-30T00:00:00",
          "2017-12-31T00:00:00",
          "2018-01-31T00:00:00",
          "2018-02-28T00:00:00",
          "2018-03-31T00:00:00",
          "2018-04-30T00:00:00",
          "2018-05-31T00:00:00",
          "2018-06-30T00:00:00",
          "2018-07-31T00:00:00",
          "2018-08-31T00:00:00",
          "2018-09-30T00:00:00",
          "2018-10-31T00:00:00",
          "2018-11-30T00:00:00",
          "2018-12-31T00:00:00",
          "2019-01-31T00:00:00",
          "2019-02-28T00:00:00",
          "2019-03-31T00:00:00",
          "2019-04-30T00:00:00",
          "2019-05-31T00:00:00",
          "2019-06-30T00:00:00",
          "2019-07-31T00:00:00",
          "2019-08-31T00:00:00",
          "2019-09-30T00:00:00",
          "2019-10-31T00:00:00",
          "2019-11-30T00:00:00",
          "2019-12-31T00:00:00",
          "2020-01-31T00:00:00",
          "2020-02-29T00:00:00",
          "2020-03-31T00:00:00",
          "2020-04-30T00:00:00",
          "2020-05-31T00:00:00",
          "2020-06-30T00:00:00",
          "2020-07-31T00:00:00",
          "2020-08-31T00:00:00",
          "2020-09-30T00:00:00",
          "2020-10-31T00:00:00",
          "2020-11-30T00:00:00",
          "2020-12-31T00:00:00",
          "2021-01-31T00:00:00",
          "2021-02-28T00:00:00",
          "2021-03-31T00:00:00",
          "2021-04-30T00:00:00",
          "2021-05-31T00:00:00",
          "2021-06-30T00:00:00",
          "2021-07-31T00:00:00",
          "2021-08-31T00:00:00",
          "2021-09-30T00:00:00",
          "2021-10-31T00:00:00",
          "2021-11-30T00:00:00",
          "2021-12-31T00:00:00",
          "2022-01-31T00:00:00",
          "2022-02-28T00:00:00",
          "2022-03-31T00:00:00",
          "2022-04-30T00:00:00",
          "2022-05-31T00:00:00",
          "2022-06-30T00:00:00",
          "2022-07-31T00:00:00"
         ],
         "y": [
          11121.617109167237,
          9927.116263008034,
          9872.382221024234,
          8738.54361225769,
          9756.974940160788,
          10548.700112108956,
          11217.994865617196,
          10333.014556540333,
          9498.980607655345,
          9425.51003661545,
          9586.935796538699,
          11060.456878841918,
          11481.388681661896,
          10167.660616299978,
          10177.890397723535,
          9158.769649664773,
          10030.35065656035,
          10751.286789538899,
          11457.390555263295,
          10652.413362380723,
          9746.262711928704,
          9815.423628162314,
          9891.30976382424,
          11290.747103740234,
          11742.894207987072,
          10410.076327592687,
          10486.018547744563,
          9578.587726278116,
          10300.360200957623,
          10952.842272638642,
          11697.933324062767,
          10972.838410596738,
          9995.287563056983,
          10206.024460405037,
          10193.453176340092,
          11519.298170535405,
          12003.830717952747,
          10654.42125527482,
          10796.719678609252,
          9997.83326551703,
          10566.991140368656,
          11153.474683010372,
          11939.69549027718,
          11289.551811381874,
          10236.745111389188,
          10583.139403447403,
          10474.69688728903,
          11714.710636378031,
          12219.978201115791,
          11013.473734520276,
          10936.347283148263,
          9780.838600780251,
          10776.877519294963,
          11546.932618048093,
          12186.926352953482,
          11272.645025272572,
          10410.255251932027,
          10307.48366257327,
          10438.833638339802,
          11881.276410347571,
          12271.129902972092,
          10929.33110581988,
          10908.482572588864,
          9859.286036154866,
          10699.788728406325,
          11390.649073020511,
          12065.674524069702,
          11229.619016511966,
          10293.392578511679,
          10331.475180825377,
          10377.285528820843,
          11745.644554815783,
          12166.713348873993,
          10805.82473676863,
          10850.688646812043,
          9913.182041368924,
          10603.876226172484,
          11226.282532586045,
          11940.29529323175,
          11184.122089326394,
          10176.495476844837,
          10356.154083784431,
          10313.507034808967,
          11608.273847208578,
          12061.728212831276,
          10684.248144329256,
          10795.468396929931,
          9966.506694614081,
          10505.300198944946,
          11062.398866889325,
          11818.255303634662,
          11142.479418016934,
          10069.953000680773,
          10395.970251482711,
          10267.808017980842,
          11495.54351187071,
          11999.779142518331,
          10792.309318226744,
          10723.711885825014,
          9576.457092782708,
          10581.025030268731,
          11359.334018349016,
          12014.765381860323,
          11115.921682785991,
          10268.471550033077,
          10181.137589280615,
          10329.147165610411,
          11788.804858199765,
          12195.873271406166,
          10869.623434780204,
          10865.98982659041,
          9833.452895033794,
          10691.170512326154,
          11398.690461817938,
          12090.930837938718,
          11272.090255453739,
          10352.523422361603,
          10407.82094986679,
          10470.290902888355,
          11855.864854075962,
          12294.148573326696,
          10948.808925838528,
          11010.88776099423,
          10090.040760498432,
          10797.949870414002,
          11437.015782645498,
          12168.243469305482
         ]
        },
        {
         "fill": "tonexty",
         "fillcolor": "rgba(0, 114, 178, 0.2)",
         "hoverinfo": "skip",
         "line": {
          "width": 0
         },
         "mode": "lines",
         "type": "scatter",
         "x": [
          "2012-01-31T00:00:00",
          "2012-02-29T00:00:00",
          "2012-03-31T00:00:00",
          "2012-04-30T00:00:00",
          "2012-05-31T00:00:00",
          "2012-06-30T00:00:00",
          "2012-07-31T00:00:00",
          "2012-08-31T00:00:00",
          "2012-09-30T00:00:00",
          "2012-10-31T00:00:00",
          "2012-11-30T00:00:00",
          "2012-12-31T00:00:00",
          "2013-01-31T00:00:00",
          "2013-02-28T00:00:00",
          "2013-03-31T00:00:00",
          "2013-04-30T00:00:00",
          "2013-05-31T00:00:00",
          "2013-06-30T00:00:00",
          "2013-07-31T00:00:00",
          "2013-08-31T00:00:00",
          "2013-09-30T00:00:00",
          "2013-10-31T00:00:00",
          "2013-11-30T00:00:00",
          "2013-12-31T00:00:00",
          "2014-01-31T00:00:00",
          "2014-02-28T00:00:00",
          "2014-03-31T00:00:00",
          "2014-04-30T00:00:00",
          "2014-05-31T00:00:00",
          "2014-06-30T00:00:00",
          "2014-07-31T00:00:00",
          "2014-08-31T00:00:00",
          "2014-09-30T00:00:00",
          "2014-10-31T00:00:00",
          "2014-11-30T00:00:00",
          "2014-12-31T00:00:00",
          "2015-01-31T00:00:00",
          "2015-02-28T00:00:00",
          "2015-03-31T00:00:00",
          "2015-04-30T00:00:00",
          "2015-05-31T00:00:00",
          "2015-06-30T00:00:00",
          "2015-07-31T00:00:00",
          "2015-08-31T00:00:00",
          "2015-09-30T00:00:00",
          "2015-10-31T00:00:00",
          "2015-11-30T00:00:00",
          "2015-12-31T00:00:00",
          "2016-01-31T00:00:00",
          "2016-02-29T00:00:00",
          "2016-03-31T00:00:00",
          "2016-04-30T00:00:00",
          "2016-05-31T00:00:00",
          "2016-06-30T00:00:00",
          "2016-07-31T00:00:00",
          "2016-08-31T00:00:00",
          "2016-09-30T00:00:00",
          "2016-10-31T00:00:00",
          "2016-11-30T00:00:00",
          "2016-12-31T00:00:00",
          "2017-01-31T00:00:00",
          "2017-02-28T00:00:00",
          "2017-03-31T00:00:00",
          "2017-04-30T00:00:00",
          "2017-05-31T00:00:00",
          "2017-06-30T00:00:00",
          "2017-07-31T00:00:00",
          "2017-08-31T00:00:00",
          "2017-09-30T00:00:00",
          "2017-10-31T00:00:00",
          "2017-11-30T00:00:00",
          "2017-12-31T00:00:00",
          "2018-01-31T00:00:00",
          "2018-02-28T00:00:00",
          "2018-03-31T00:00:00",
          "2018-04-30T00:00:00",
          "2018-05-31T00:00:00",
          "2018-06-30T00:00:00",
          "2018-07-31T00:00:00",
          "2018-08-31T00:00:00",
          "2018-09-30T00:00:00",
          "2018-10-31T00:00:00",
          "2018-11-30T00:00:00",
          "2018-12-31T00:00:00",
          "2019-01-31T00:00:00",
          "2019-02-28T00:00:00",
          "2019-03-31T00:00:00",
          "2019-04-30T00:00:00",
          "2019-05-31T00:00:00",
          "2019-06-30T00:00:00",
          "2019-07-31T00:00:00",
          "2019-08-31T00:00:00",
          "2019-09-30T00:00:00",
          "2019-10-31T00:00:00",
          "2019-11-30T00:00:00",
          "2019-12-31T00:00:00",
          "2020-01-31T00:00:00",
          "2020-02-29T00:00:00",
          "2020-03-31T00:00:00",
          "2020-04-30T00:00:00",
          "2020-05-31T00:00:00",
          "2020-06-30T00:00:00",
          "2020-07-31T00:00:00",
          "2020-08-31T00:00:00",
          "2020-09-30T00:00:00",
          "2020-10-31T00:00:00",
          "2020-11-30T00:00:00",
          "2020-12-31T00:00:00",
          "2021-01-31T00:00:00",
          "2021-02-28T00:00:00",
          "2021-03-31T00:00:00",
          "2021-04-30T00:00:00",
          "2021-05-31T00:00:00",
          "2021-06-30T00:00:00",
          "2021-07-31T00:00:00",
          "2021-08-31T00:00:00",
          "2021-09-30T00:00:00",
          "2021-10-31T00:00:00",
          "2021-11-30T00:00:00",
          "2021-12-31T00:00:00",
          "2022-01-31T00:00:00",
          "2022-02-28T00:00:00",
          "2022-03-31T00:00:00",
          "2022-04-30T00:00:00",
          "2022-05-31T00:00:00",
          "2022-06-30T00:00:00",
          "2022-07-31T00:00:00"
         ],
         "y": [
          11604.94120067173,
          10454.187660777821,
          10342.335009043609,
          9246.881826374873,
          10238.3876632147,
          11013.300993267094,
          11733.343742826648,
          10801.137514044116,
          10021.162578015048,
          9922.621762691575,
          10065.863769710322,
          11554.407265389216,
          11968.192827565383,
          10656.419256901452,
          10650.69107081265,
          9628.585227996733,
          10514.136604059004,
          11218.726469905205,
          11927.727853980776,
          11135.63412076855,
          10284.312200528282,
          10286.343250698576,
          10353.872485334448,
          11775.371632818882,
          12206.097568718358,
          10881.310273990535,
          10973.607483025558,
          10033.582615819938,
          10817.119646738474,
          11438.905842903665,
          12217.38504783091,
          11425.422624764833,
          10480.562096984675,
          10735.582531328135,
          10683.89026222483,
          11973.227295455186,
          12509.098921196168,
          11119.187171988178,
          11288.453911498074,
          10460.75028580256,
          11043.52371538531,
          11613.979091384668,
          12420.212147601642,
          11769.545050985487,
          10724.945850570575,
          11032.913669478954,
          10931.081176258684,
          12194.197126770856,
          12709.512883926162,
          11495.978103346839,
          11387.180105845644,
          10268.402517449373,
          11281.011704627022,
          12027.80101457833,
          12664.418520273955,
          11754.29729566963,
          10853.35029326785,
          10788.925356160267,
          10926.26628207798,
          12374.500760136976,
          12726.142167715348,
          11397.169216044289,
          11388.41513881875,
          10383.743719436548,
          11230.728787499536,
          11867.24589462387,
          12574.572837409392,
          11743.609080097243,
          10777.868607477976,
          10824.230957013986,
          10884.008261406188,
          12207.225786834299,
          12635.953999789597,
          11284.487443967553,
          11356.508550440576,
          10407.903598766756,
          11086.401326235547,
          11708.337455885256,
          12437.802212530472,
          11678.606514340765,
          10656.929608498003,
          10832.461391084069,
          10837.310226157939,
          12113.036531896852,
          12540.758832841599,
          11173.926945415567,
          11296.32266383666,
          10470.587624391324,
          10976.48858821599,
          11523.26086069061,
          12326.476314473512,
          11616.959983358733,
          10536.445832314996,
          10860.500692713458,
          10754.60147241228,
          11966.93098637852,
          12483.980780083039,
          11227.624158161834,
          11212.077758669842,
          10046.610884674563,
          11074.9195764047,
          11881.97978367959,
          12466.855641372487,
          11611.328194451773,
          10739.063780866623,
          10620.901397626394,
          10831.237924343905,
          12287.723737944028,
          12690.413889855572,
          11366.4737517515,
          11366.858010942326,
          10284.184454232838,
          11178.04358728977,
          11880.35283225673,
          12543.391407007524,
          11758.720289161649,
          10824.967898967736,
          10863.309514112947,
          10941.28915786171,
          12331.9221409413,
          12791.434174060449,
          11428.782901913166,
          11508.531387772347,
          10579.827218144083,
          11250.369336782032,
          11950.853470432196,
          12645.189545811218
         ]
        }
       ],
       "layout": {
        "height": 600,
        "showlegend": false,
        "template": {
         "data": {
          "bar": [
           {
            "error_x": {
             "color": "#2a3f5f"
            },
            "error_y": {
             "color": "#2a3f5f"
            },
            "marker": {
             "line": {
              "color": "#E5ECF6",
              "width": 0.5
             },
             "pattern": {
              "fillmode": "overlay",
              "size": 10,
              "solidity": 0.2
             }
            },
            "type": "bar"
           }
          ],
          "barpolar": [
           {
            "marker": {
             "line": {
              "color": "#E5ECF6",
              "width": 0.5
             },
             "pattern": {
              "fillmode": "overlay",
              "size": 10,
              "solidity": 0.2
             }
            },
            "type": "barpolar"
           }
          ],
          "carpet": [
           {
            "aaxis": {
             "endlinecolor": "#2a3f5f",
             "gridcolor": "white",
             "linecolor": "white",
             "minorgridcolor": "white",
             "startlinecolor": "#2a3f5f"
            },
            "baxis": {
             "endlinecolor": "#2a3f5f",
             "gridcolor": "white",
             "linecolor": "white",
             "minorgridcolor": "white",
             "startlinecolor": "#2a3f5f"
            },
            "type": "carpet"
           }
          ],
          "choropleth": [
           {
            "colorbar": {
             "outlinewidth": 0,
             "ticks": ""
            },
            "type": "choropleth"
           }
          ],
          "contour": [
           {
            "colorbar": {
             "outlinewidth": 0,
             "ticks": ""
            },
            "colorscale": [
             [
              0,
              "#0d0887"
             ],
             [
              0.1111111111111111,
              "#46039f"
             ],
             [
              0.2222222222222222,
              "#7201a8"
             ],
             [
              0.3333333333333333,
              "#9c179e"
             ],
             [
              0.4444444444444444,
              "#bd3786"
             ],
             [
              0.5555555555555556,
              "#d8576b"
             ],
             [
              0.6666666666666666,
              "#ed7953"
             ],
             [
              0.7777777777777778,
              "#fb9f3a"
             ],
             [
              0.8888888888888888,
              "#fdca26"
             ],
             [
              1,
              "#f0f921"
             ]
            ],
            "type": "contour"
           }
          ],
          "contourcarpet": [
           {
            "colorbar": {
             "outlinewidth": 0,
             "ticks": ""
            },
            "type": "contourcarpet"
           }
          ],
          "heatmap": [
           {
            "colorbar": {
             "outlinewidth": 0,
             "ticks": ""
            },
            "colorscale": [
             [
              0,
              "#0d0887"
             ],
             [
              0.1111111111111111,
              "#46039f"
             ],
             [
              0.2222222222222222,
              "#7201a8"
             ],
             [
              0.3333333333333333,
              "#9c179e"
             ],
             [
              0.4444444444444444,
              "#bd3786"
             ],
             [
              0.5555555555555556,
              "#d8576b"
             ],
             [
              0.6666666666666666,
              "#ed7953"
             ],
             [
              0.7777777777777778,
              "#fb9f3a"
             ],
             [
              0.8888888888888888,
              "#fdca26"
             ],
             [
              1,
              "#f0f921"
             ]
            ],
            "type": "heatmap"
           }
          ],
          "heatmapgl": [
           {
            "colorbar": {
             "outlinewidth": 0,
             "ticks": ""
            },
            "colorscale": [
             [
              0,
              "#0d0887"
             ],
             [
              0.1111111111111111,
              "#46039f"
             ],
             [
              0.2222222222222222,
              "#7201a8"
             ],
             [
              0.3333333333333333,
              "#9c179e"
             ],
             [
              0.4444444444444444,
              "#bd3786"
             ],
             [
              0.5555555555555556,
              "#d8576b"
             ],
             [
              0.6666666666666666,
              "#ed7953"
             ],
             [
              0.7777777777777778,
              "#fb9f3a"
             ],
             [
              0.8888888888888888,
              "#fdca26"
             ],
             [
              1,
              "#f0f921"
             ]
            ],
            "type": "heatmapgl"
           }
          ],
          "histogram": [
           {
            "marker": {
             "pattern": {
              "fillmode": "overlay",
              "size": 10,
              "solidity": 0.2
             }
            },
            "type": "histogram"
           }
          ],
          "histogram2d": [
           {
            "colorbar": {
             "outlinewidth": 0,
             "ticks": ""
            },
            "colorscale": [
             [
              0,
              "#0d0887"
             ],
             [
              0.1111111111111111,
              "#46039f"
             ],
             [
              0.2222222222222222,
              "#7201a8"
             ],
             [
              0.3333333333333333,
              "#9c179e"
             ],
             [
              0.4444444444444444,
              "#bd3786"
             ],
             [
              0.5555555555555556,
              "#d8576b"
             ],
             [
              0.6666666666666666,
              "#ed7953"
             ],
             [
              0.7777777777777778,
              "#fb9f3a"
             ],
             [
              0.8888888888888888,
              "#fdca26"
             ],
             [
              1,
              "#f0f921"
             ]
            ],
            "type": "histogram2d"
           }
          ],
          "histogram2dcontour": [
           {
            "colorbar": {
             "outlinewidth": 0,
             "ticks": ""
            },
            "colorscale": [
             [
              0,
              "#0d0887"
             ],
             [
              0.1111111111111111,
              "#46039f"
             ],
             [
              0.2222222222222222,
              "#7201a8"
             ],
             [
              0.3333333333333333,
              "#9c179e"
             ],
             [
              0.4444444444444444,
              "#bd3786"
             ],
             [
              0.5555555555555556,
              "#d8576b"
             ],
             [
              0.6666666666666666,
              "#ed7953"
             ],
             [
              0.7777777777777778,
              "#fb9f3a"
             ],
             [
              0.8888888888888888,
              "#fdca26"
             ],
             [
              1,
              "#f0f921"
             ]
            ],
            "type": "histogram2dcontour"
           }
          ],
          "mesh3d": [
           {
            "colorbar": {
             "outlinewidth": 0,
             "ticks": ""
            },
            "type": "mesh3d"
           }
          ],
          "parcoords": [
           {
            "line": {
             "colorbar": {
              "outlinewidth": 0,
              "ticks": ""
             }
            },
            "type": "parcoords"
           }
          ],
          "pie": [
           {
            "automargin": true,
            "type": "pie"
           }
          ],
          "scatter": [
           {
            "marker": {
             "colorbar": {
              "outlinewidth": 0,
              "ticks": ""
             }
            },
            "type": "scatter"
           }
          ],
          "scatter3d": [
           {
            "line": {
             "colorbar": {
              "outlinewidth": 0,
              "ticks": ""
             }
            },
            "marker": {
             "colorbar": {
              "outlinewidth": 0,
              "ticks": ""
             }
            },
            "type": "scatter3d"
           }
          ],
          "scattercarpet": [
           {
            "marker": {
             "colorbar": {
              "outlinewidth": 0,
              "ticks": ""
             }
            },
            "type": "scattercarpet"
           }
          ],
          "scattergeo": [
           {
            "marker": {
             "colorbar": {
              "outlinewidth": 0,
              "ticks": ""
             }
            },
            "type": "scattergeo"
           }
          ],
          "scattergl": [
           {
            "marker": {
             "colorbar": {
              "outlinewidth": 0,
              "ticks": ""
             }
            },
            "type": "scattergl"
           }
          ],
          "scattermapbox": [
           {
            "marker": {
             "colorbar": {
              "outlinewidth": 0,
              "ticks": ""
             }
            },
            "type": "scattermapbox"
           }
          ],
          "scatterpolar": [
           {
            "marker": {
             "colorbar": {
              "outlinewidth": 0,
              "ticks": ""
             }
            },
            "type": "scatterpolar"
           }
          ],
          "scatterpolargl": [
           {
            "marker": {
             "colorbar": {
              "outlinewidth": 0,
              "ticks": ""
             }
            },
            "type": "scatterpolargl"
           }
          ],
          "scatterternary": [
           {
            "marker": {
             "colorbar": {
              "outlinewidth": 0,
              "ticks": ""
             }
            },
            "type": "scatterternary"
           }
          ],
          "surface": [
           {
            "colorbar": {
             "outlinewidth": 0,
             "ticks": ""
            },
            "colorscale": [
             [
              0,
              "#0d0887"
             ],
             [
              0.1111111111111111,
              "#46039f"
             ],
             [
              0.2222222222222222,
              "#7201a8"
             ],
             [
              0.3333333333333333,
              "#9c179e"
             ],
             [
              0.4444444444444444,
              "#bd3786"
             ],
             [
              0.5555555555555556,
              "#d8576b"
             ],
             [
              0.6666666666666666,
              "#ed7953"
             ],
             [
              0.7777777777777778,
              "#fb9f3a"
             ],
             [
              0.8888888888888888,
              "#fdca26"
             ],
             [
              1,
              "#f0f921"
             ]
            ],
            "type": "surface"
           }
          ],
          "table": [
           {
            "cells": {
             "fill": {
              "color": "#EBF0F8"
             },
             "line": {
              "color": "white"
             }
            },
            "header": {
             "fill": {
              "color": "#C8D4E3"
             },
             "line": {
              "color": "white"
             }
            },
            "type": "table"
           }
          ]
         },
         "layout": {
          "annotationdefaults": {
           "arrowcolor": "#2a3f5f",
           "arrowhead": 0,
           "arrowwidth": 1
          },
          "autotypenumbers": "strict",
          "coloraxis": {
           "colorbar": {
            "outlinewidth": 0,
            "ticks": ""
           }
          },
          "colorscale": {
           "diverging": [
            [
             0,
             "#8e0152"
            ],
            [
             0.1,
             "#c51b7d"
            ],
            [
             0.2,
             "#de77ae"
            ],
            [
             0.3,
             "#f1b6da"
            ],
            [
             0.4,
             "#fde0ef"
            ],
            [
             0.5,
             "#f7f7f7"
            ],
            [
             0.6,
             "#e6f5d0"
            ],
            [
             0.7,
             "#b8e186"
            ],
            [
             0.8,
             "#7fbc41"
            ],
            [
             0.9,
             "#4d9221"
            ],
            [
             1,
             "#276419"
            ]
           ],
           "sequential": [
            [
             0,
             "#0d0887"
            ],
            [
             0.1111111111111111,
             "#46039f"
            ],
            [
             0.2222222222222222,
             "#7201a8"
            ],
            [
             0.3333333333333333,
             "#9c179e"
            ],
            [
             0.4444444444444444,
             "#bd3786"
            ],
            [
             0.5555555555555556,
             "#d8576b"
            ],
            [
             0.6666666666666666,
             "#ed7953"
            ],
            [
             0.7777777777777778,
             "#fb9f3a"
            ],
            [
             0.8888888888888888,
             "#fdca26"
            ],
            [
             1,
             "#f0f921"
            ]
           ],
           "sequentialminus": [
            [
             0,
             "#0d0887"
            ],
            [
             0.1111111111111111,
             "#46039f"
            ],
            [
             0.2222222222222222,
             "#7201a8"
            ],
            [
             0.3333333333333333,
             "#9c179e"
            ],
            [
             0.4444444444444444,
             "#bd3786"
            ],
            [
             0.5555555555555556,
             "#d8576b"
            ],
            [
             0.6666666666666666,
             "#ed7953"
            ],
            [
             0.7777777777777778,
             "#fb9f3a"
            ],
            [
             0.8888888888888888,
             "#fdca26"
            ],
            [
             1,
             "#f0f921"
            ]
           ]
          },
          "colorway": [
           "#636efa",
           "#EF553B",
           "#00cc96",
           "#ab63fa",
           "#FFA15A",
           "#19d3f3",
           "#FF6692",
           "#B6E880",
           "#FF97FF",
           "#FECB52"
          ],
          "font": {
           "color": "#2a3f5f"
          },
          "geo": {
           "bgcolor": "white",
           "lakecolor": "white",
           "landcolor": "#E5ECF6",
           "showlakes": true,
           "showland": true,
           "subunitcolor": "white"
          },
          "hoverlabel": {
           "align": "left"
          },
          "hovermode": "closest",
          "mapbox": {
           "style": "light"
          },
          "paper_bgcolor": "white",
          "plot_bgcolor": "#E5ECF6",
          "polar": {
           "angularaxis": {
            "gridcolor": "white",
            "linecolor": "white",
            "ticks": ""
           },
           "bgcolor": "#E5ECF6",
           "radialaxis": {
            "gridcolor": "white",
            "linecolor": "white",
            "ticks": ""
           }
          },
          "scene": {
           "xaxis": {
            "backgroundcolor": "#E5ECF6",
            "gridcolor": "white",
            "gridwidth": 2,
            "linecolor": "white",
            "showbackground": true,
            "ticks": "",
            "zerolinecolor": "white"
           },
           "yaxis": {
            "backgroundcolor": "#E5ECF6",
            "gridcolor": "white",
            "gridwidth": 2,
            "linecolor": "white",
            "showbackground": true,
            "ticks": "",
            "zerolinecolor": "white"
           },
           "zaxis": {
            "backgroundcolor": "#E5ECF6",
            "gridcolor": "white",
            "gridwidth": 2,
            "linecolor": "white",
            "showbackground": true,
            "ticks": "",
            "zerolinecolor": "white"
           }
          },
          "shapedefaults": {
           "line": {
            "color": "#2a3f5f"
           }
          },
          "ternary": {
           "aaxis": {
            "gridcolor": "white",
            "linecolor": "white",
            "ticks": ""
           },
           "baxis": {
            "gridcolor": "white",
            "linecolor": "white",
            "ticks": ""
           },
           "bgcolor": "#E5ECF6",
           "caxis": {
            "gridcolor": "white",
            "linecolor": "white",
            "ticks": ""
           }
          },
          "title": {
           "x": 0.05
          },
          "xaxis": {
           "automargin": true,
           "gridcolor": "white",
           "linecolor": "white",
           "ticks": "",
           "title": {
            "standoff": 15
           },
           "zerolinecolor": "white",
           "zerolinewidth": 2
          },
          "yaxis": {
           "automargin": true,
           "gridcolor": "white",
           "linecolor": "white",
           "ticks": "",
           "title": {
            "standoff": 15
           },
           "zerolinecolor": "white",
           "zerolinewidth": 2
          }
         }
        },
        "width": 900,
        "xaxis": {
         "rangeselector": {
          "buttons": [
           {
            "count": 7,
            "label": "1w",
            "step": "day",
            "stepmode": "backward"
           },
           {
            "count": 1,
            "label": "1m",
            "step": "month",
            "stepmode": "backward"
           },
           {
            "count": 6,
            "label": "6m",
            "step": "month",
            "stepmode": "backward"
           },
           {
            "count": 1,
            "label": "1y",
            "step": "year",
            "stepmode": "backward"
           },
           {
            "step": "all"
           }
          ]
         },
         "rangeslider": {
          "visible": true
         },
         "title": {
          "text": "ds"
         },
         "type": "date"
        },
        "yaxis": {
         "title": {
          "text": "y"
         }
        }
       }
      }
     },
     "metadata": {},
     "output_type": "display_data"
    }
   ],
   "source": [
    "plot_plotly(model, forecast)"
   ]
  },
  {
   "cell_type": "code",
   "execution_count": 75,
   "metadata": {},
   "outputs": [
    {
     "data": {
      "application/vnd.plotly.v1+json": {
       "config": {
        "plotlyServerURL": "https://plot.ly"
       },
       "data": [
        {
         "hovertemplate": "variable=y<br>ds=%{x}<br>value=%{y}<extra></extra>",
         "legendgroup": "y",
         "line": {
          "color": "#636efa",
          "dash": "solid"
         },
         "marker": {
          "symbol": "circle"
         },
         "mode": "lines",
         "name": "y",
         "orientation": "v",
         "showlegend": true,
         "type": "scatter",
         "x": [
          "2012-01-31T00:00:00",
          "2012-02-29T00:00:00",
          "2012-03-31T00:00:00",
          "2012-04-30T00:00:00",
          "2012-05-31T00:00:00",
          "2012-06-30T00:00:00",
          "2012-07-31T00:00:00",
          "2012-08-31T00:00:00",
          "2012-09-30T00:00:00",
          "2012-10-31T00:00:00",
          "2012-11-30T00:00:00",
          "2012-12-31T00:00:00",
          "2013-01-31T00:00:00",
          "2013-02-28T00:00:00",
          "2013-03-31T00:00:00",
          "2013-04-30T00:00:00",
          "2013-05-31T00:00:00",
          "2013-06-30T00:00:00",
          "2013-07-31T00:00:00",
          "2013-08-31T00:00:00",
          "2013-09-30T00:00:00",
          "2013-10-31T00:00:00",
          "2013-11-30T00:00:00",
          "2013-12-31T00:00:00",
          "2014-01-31T00:00:00",
          "2014-02-28T00:00:00",
          "2014-03-31T00:00:00",
          "2014-04-30T00:00:00",
          "2014-05-31T00:00:00",
          "2014-06-30T00:00:00",
          "2014-07-31T00:00:00",
          "2014-08-31T00:00:00",
          "2014-09-30T00:00:00",
          "2014-10-31T00:00:00",
          "2014-11-30T00:00:00",
          "2014-12-31T00:00:00",
          "2015-01-31T00:00:00",
          "2015-02-28T00:00:00",
          "2015-03-31T00:00:00",
          "2015-04-30T00:00:00",
          "2015-05-31T00:00:00",
          "2015-06-30T00:00:00",
          "2015-07-31T00:00:00",
          "2015-08-31T00:00:00",
          "2015-09-30T00:00:00",
          "2015-10-31T00:00:00",
          "2015-11-30T00:00:00",
          "2015-12-31T00:00:00",
          "2016-01-31T00:00:00",
          "2016-02-29T00:00:00",
          "2016-03-31T00:00:00",
          "2016-04-30T00:00:00",
          "2016-05-31T00:00:00",
          "2016-06-30T00:00:00",
          "2016-07-31T00:00:00",
          "2016-08-31T00:00:00",
          "2016-09-30T00:00:00",
          "2016-10-31T00:00:00",
          "2016-11-30T00:00:00",
          "2016-12-31T00:00:00",
          "2017-01-31T00:00:00",
          "2017-02-28T00:00:00",
          "2017-03-31T00:00:00",
          "2017-04-30T00:00:00",
          "2017-05-31T00:00:00",
          "2017-06-30T00:00:00",
          "2017-07-31T00:00:00",
          "2017-08-31T00:00:00",
          "2017-09-30T00:00:00",
          "2017-10-31T00:00:00",
          "2017-11-30T00:00:00",
          "2017-12-31T00:00:00",
          "2018-01-31T00:00:00",
          "2018-02-28T00:00:00",
          "2018-03-31T00:00:00",
          "2018-04-30T00:00:00",
          "2018-05-31T00:00:00",
          "2018-06-30T00:00:00",
          "2018-07-31T00:00:00",
          "2018-08-31T00:00:00",
          "2018-09-30T00:00:00",
          "2018-10-31T00:00:00",
          "2018-11-30T00:00:00",
          "2018-12-31T00:00:00",
          "2019-01-31T00:00:00",
          "2019-02-28T00:00:00",
          "2019-03-31T00:00:00",
          "2019-04-30T00:00:00",
          "2019-05-31T00:00:00",
          "2019-06-30T00:00:00",
          "2019-07-31T00:00:00",
          "2019-08-31T00:00:00",
          "2019-09-30T00:00:00",
          "2019-10-31T00:00:00",
          "2019-11-30T00:00:00",
          "2019-12-31T00:00:00",
          "2020-01-31T00:00:00",
          "2020-02-29T00:00:00",
          "2020-03-31T00:00:00",
          "2020-04-30T00:00:00",
          "2020-05-31T00:00:00",
          "2020-06-30T00:00:00",
          "2020-07-31T00:00:00",
          "2020-08-31T00:00:00",
          "2020-09-30T00:00:00",
          "2020-10-31T00:00:00",
          "2020-11-30T00:00:00",
          "2020-12-31T00:00:00",
          "2021-01-31T00:00:00",
          "2021-02-28T00:00:00",
          "2021-03-31T00:00:00",
          "2021-04-30T00:00:00",
          "2021-05-31T00:00:00",
          "2021-06-30T00:00:00",
          "2021-07-31T00:00:00",
          "2021-08-31T00:00:00",
          "2021-09-30T00:00:00",
          "2021-10-31T00:00:00",
          "2021-11-30T00:00:00",
          "2021-12-31T00:00:00",
          "2022-01-31T00:00:00",
          "2022-02-28T00:00:00",
          "2022-03-31T00:00:00",
          "2022-04-30T00:00:00",
          "2022-05-31T00:00:00",
          "2022-06-30T00:00:00",
          "2022-07-31T00:00:00"
         ],
         "xaxis": "x",
         "y": [
          10804.699842,
          10085.552231000001,
          10175.365005000001,
          8969.068409,
          9597.272016,
          10292.182399,
          11066.530786000001,
          10404.120825,
          9336.891496,
          9608.256140000001,
          10027.740717,
          10820.739305,
          11134.119345000001,
          9834.160007,
          9756.129308,
          9307.334163000001,
          10232.825394,
          10360.537194,
          11156.173393,
          10904.479243000002,
          10195.872995000002,
          10045.715632,
          10015.701652000002,
          12291.286493000001,
          12004.342368000001,
          9823.968201,
          9789.798789,
          9595.37435,
          10409.105006000002,
          10901.714976,
          11363.942101999999,
          10490.682389,
          9807.544190999999,
          10706.493141,
          10344.736672,
          11229.37782,
          11706.190093000001,
          10665.086620999999,
          11548.527072,
          10026.43476,
          10467.633693,
          11254.419667,
          11907.361918999999,
          11130.262808,
          10552.903241,
          10722.174389,
          10219.189482000002,
          11909.435561,
          12344.911762,
          11731.845100999999,
          10461.47592,
          10292.000856,
          11358.011628,
          11812.94705,
          11929.645375,
          10855.441952,
          10382.081134,
          9956.038875,
          10132.540584,
          11853.854388,
          12524.865646,
          11074.906499,
          11122.231555,
          9793.758585000001,
          10795.213415,
          11359.330662,
          11796.425757,
          11107.250705,
          10348.584548,
          10227.329313,
          10355.727486,
          12024.595461,
          12350.18332,
          11404.202882,
          11247.242133,
          10493.314585,
          10665.461507,
          11925.912467,
          12607.552721999999,
          11721.305132,
          9792.369095,
          9904.218669,
          10035.149376,
          10863.012545,
          11698.820402000001,
          10706.955317,
          10120.057936000001,
          9572.130645,
          10382.062156,
          10649.85454,
          12004.210188000001,
          11465.483299000001,
          10218.087823000002,
          10380.686879,
          10559.966155,
          11187.742676999998,
          11993.867057,
          10843.47443,
          11144.232192,
          8537.200407,
          9617.328172,
          10781.714872999999,
          12183.852641000001,
          10728.379158,
          10045.02285,
          10013.844018000002,
          10087.844438999999,
          11330.177614,
          11941.580985999999,
          10090.389298,
          11055.214503000001,
          9817.737877,
          10986.114068,
          12053.804232,
          12418.960365,
          11660.89725,
          10375.902291999999,
          10452.254867,
          10570.559841,
          12458.302765,
          13066.582218,
          10568.62177,
          10884.555857000001,
          10149.611103,
          11730.950029,
          null,
          null
         ],
         "yaxis": "y"
        },
        {
         "hovertemplate": "variable=yhat<br>ds=%{x}<br>value=%{y}<extra></extra>",
         "legendgroup": "yhat",
         "line": {
          "color": "#EF553B",
          "dash": "solid"
         },
         "marker": {
          "symbol": "circle"
         },
         "mode": "lines",
         "name": "yhat",
         "orientation": "v",
         "showlegend": true,
         "type": "scatter",
         "x": [
          "2012-01-31T00:00:00",
          "2012-02-29T00:00:00",
          "2012-03-31T00:00:00",
          "2012-04-30T00:00:00",
          "2012-05-31T00:00:00",
          "2012-06-30T00:00:00",
          "2012-07-31T00:00:00",
          "2012-08-31T00:00:00",
          "2012-09-30T00:00:00",
          "2012-10-31T00:00:00",
          "2012-11-30T00:00:00",
          "2012-12-31T00:00:00",
          "2013-01-31T00:00:00",
          "2013-02-28T00:00:00",
          "2013-03-31T00:00:00",
          "2013-04-30T00:00:00",
          "2013-05-31T00:00:00",
          "2013-06-30T00:00:00",
          "2013-07-31T00:00:00",
          "2013-08-31T00:00:00",
          "2013-09-30T00:00:00",
          "2013-10-31T00:00:00",
          "2013-11-30T00:00:00",
          "2013-12-31T00:00:00",
          "2014-01-31T00:00:00",
          "2014-02-28T00:00:00",
          "2014-03-31T00:00:00",
          "2014-04-30T00:00:00",
          "2014-05-31T00:00:00",
          "2014-06-30T00:00:00",
          "2014-07-31T00:00:00",
          "2014-08-31T00:00:00",
          "2014-09-30T00:00:00",
          "2014-10-31T00:00:00",
          "2014-11-30T00:00:00",
          "2014-12-31T00:00:00",
          "2015-01-31T00:00:00",
          "2015-02-28T00:00:00",
          "2015-03-31T00:00:00",
          "2015-04-30T00:00:00",
          "2015-05-31T00:00:00",
          "2015-06-30T00:00:00",
          "2015-07-31T00:00:00",
          "2015-08-31T00:00:00",
          "2015-09-30T00:00:00",
          "2015-10-31T00:00:00",
          "2015-11-30T00:00:00",
          "2015-12-31T00:00:00",
          "2016-01-31T00:00:00",
          "2016-02-29T00:00:00",
          "2016-03-31T00:00:00",
          "2016-04-30T00:00:00",
          "2016-05-31T00:00:00",
          "2016-06-30T00:00:00",
          "2016-07-31T00:00:00",
          "2016-08-31T00:00:00",
          "2016-09-30T00:00:00",
          "2016-10-31T00:00:00",
          "2016-11-30T00:00:00",
          "2016-12-31T00:00:00",
          "2017-01-31T00:00:00",
          "2017-02-28T00:00:00",
          "2017-03-31T00:00:00",
          "2017-04-30T00:00:00",
          "2017-05-31T00:00:00",
          "2017-06-30T00:00:00",
          "2017-07-31T00:00:00",
          "2017-08-31T00:00:00",
          "2017-09-30T00:00:00",
          "2017-10-31T00:00:00",
          "2017-11-30T00:00:00",
          "2017-12-31T00:00:00",
          "2018-01-31T00:00:00",
          "2018-02-28T00:00:00",
          "2018-03-31T00:00:00",
          "2018-04-30T00:00:00",
          "2018-05-31T00:00:00",
          "2018-06-30T00:00:00",
          "2018-07-31T00:00:00",
          "2018-08-31T00:00:00",
          "2018-09-30T00:00:00",
          "2018-10-31T00:00:00",
          "2018-11-30T00:00:00",
          "2018-12-31T00:00:00",
          "2019-01-31T00:00:00",
          "2019-02-28T00:00:00",
          "2019-03-31T00:00:00",
          "2019-04-30T00:00:00",
          "2019-05-31T00:00:00",
          "2019-06-30T00:00:00",
          "2019-07-31T00:00:00",
          "2019-08-31T00:00:00",
          "2019-09-30T00:00:00",
          "2019-10-31T00:00:00",
          "2019-11-30T00:00:00",
          "2019-12-31T00:00:00",
          "2020-01-31T00:00:00",
          "2020-02-29T00:00:00",
          "2020-03-31T00:00:00",
          "2020-04-30T00:00:00",
          "2020-05-31T00:00:00",
          "2020-06-30T00:00:00",
          "2020-07-31T00:00:00",
          "2020-08-31T00:00:00",
          "2020-09-30T00:00:00",
          "2020-10-31T00:00:00",
          "2020-11-30T00:00:00",
          "2020-12-31T00:00:00",
          "2021-01-31T00:00:00",
          "2021-02-28T00:00:00",
          "2021-03-31T00:00:00",
          "2021-04-30T00:00:00",
          "2021-05-31T00:00:00",
          "2021-06-30T00:00:00",
          "2021-07-31T00:00:00",
          "2021-08-31T00:00:00",
          "2021-09-30T00:00:00",
          "2021-10-31T00:00:00",
          "2021-11-30T00:00:00",
          "2021-12-31T00:00:00",
          "2022-01-31T00:00:00",
          "2022-02-28T00:00:00",
          "2022-03-31T00:00:00",
          "2022-04-30T00:00:00",
          "2022-05-31T00:00:00",
          "2022-06-30T00:00:00",
          "2022-07-31T00:00:00"
         ],
         "xaxis": "x",
         "y": [
          11121.617109167237,
          9927.116263008034,
          9872.382221024234,
          8738.54361225769,
          9756.974940160788,
          10548.700112108956,
          11217.994865617196,
          10333.014556540333,
          9498.980607655345,
          9425.51003661545,
          9586.935796538699,
          11060.456878841918,
          11481.388681661896,
          10167.660616299978,
          10177.890397723535,
          9158.769649664773,
          10030.35065656035,
          10751.286789538899,
          11457.390555263295,
          10652.413362380723,
          9746.262711928704,
          9815.423628162314,
          9891.30976382424,
          11290.747103740234,
          11742.894207987072,
          10410.076327592687,
          10486.018547744563,
          9578.587726278116,
          10300.360200957623,
          10952.842272638642,
          11697.933324062767,
          10972.838410596738,
          9995.287563056983,
          10206.024460405037,
          10193.453176340092,
          11519.298170535405,
          12003.830717952747,
          10654.42125527482,
          10796.719678609252,
          9997.83326551703,
          10566.991140368656,
          11153.474683010372,
          11939.69549027718,
          11289.551811381874,
          10236.745111389188,
          10583.139403447403,
          10474.69688728903,
          11714.710636378031,
          12219.978201115791,
          11013.473734520276,
          10936.347283148263,
          9780.838600780251,
          10776.877519294963,
          11546.932618048093,
          12186.926352953482,
          11272.645025272572,
          10410.255251932027,
          10307.48366257327,
          10438.833638339802,
          11881.276410347571,
          12271.129902972092,
          10929.33110581988,
          10908.482572588864,
          9859.286036154866,
          10699.788728406325,
          11390.649073020511,
          12065.674524069702,
          11229.619016511966,
          10293.392578511679,
          10331.475180825377,
          10377.285528820843,
          11745.644554815783,
          12166.713348873993,
          10805.82473676863,
          10850.688646812043,
          9913.182041368924,
          10603.876226172484,
          11226.282532586045,
          11940.29529323175,
          11184.122089326394,
          10176.495476844837,
          10356.154083784431,
          10313.507034808967,
          11608.273847208578,
          12061.728212831276,
          10684.248144329256,
          10795.468396929931,
          9966.506694614081,
          10505.300198944946,
          11062.398866889325,
          11818.255303634662,
          11142.479418016934,
          10069.953000680773,
          10395.970251482711,
          10267.808017980842,
          11495.54351187071,
          11999.779142518331,
          10792.309318226744,
          10723.711885825014,
          9576.457092782708,
          10581.025030268731,
          11359.334018349016,
          12014.765381860323,
          11115.921682785991,
          10268.471550033077,
          10181.137589280615,
          10329.147165610411,
          11788.804858199765,
          12195.873271406166,
          10869.623434780204,
          10865.98982659041,
          9833.452895033794,
          10691.170512326154,
          11398.690461817938,
          12090.930837938718,
          11272.090255453739,
          10352.523422361603,
          10407.82094986679,
          10470.290902888355,
          11855.864854075962,
          12294.148573326696,
          10948.808925838528,
          11010.88776099423,
          10090.040760498432,
          10797.949870414002,
          11437.015782645498,
          12168.243469305482
         ],
         "yaxis": "y"
        }
       ],
       "layout": {
        "legend": {
         "title": {
          "text": "variable"
         },
         "tracegroupgap": 0
        },
        "margin": {
         "t": 60
        },
        "showlegend": true,
        "template": {
         "data": {
          "bar": [
           {
            "error_x": {
             "color": "#2a3f5f"
            },
            "error_y": {
             "color": "#2a3f5f"
            },
            "marker": {
             "line": {
              "color": "#E5ECF6",
              "width": 0.5
             },
             "pattern": {
              "fillmode": "overlay",
              "size": 10,
              "solidity": 0.2
             }
            },
            "type": "bar"
           }
          ],
          "barpolar": [
           {
            "marker": {
             "line": {
              "color": "#E5ECF6",
              "width": 0.5
             },
             "pattern": {
              "fillmode": "overlay",
              "size": 10,
              "solidity": 0.2
             }
            },
            "type": "barpolar"
           }
          ],
          "carpet": [
           {
            "aaxis": {
             "endlinecolor": "#2a3f5f",
             "gridcolor": "white",
             "linecolor": "white",
             "minorgridcolor": "white",
             "startlinecolor": "#2a3f5f"
            },
            "baxis": {
             "endlinecolor": "#2a3f5f",
             "gridcolor": "white",
             "linecolor": "white",
             "minorgridcolor": "white",
             "startlinecolor": "#2a3f5f"
            },
            "type": "carpet"
           }
          ],
          "choropleth": [
           {
            "colorbar": {
             "outlinewidth": 0,
             "ticks": ""
            },
            "type": "choropleth"
           }
          ],
          "contour": [
           {
            "colorbar": {
             "outlinewidth": 0,
             "ticks": ""
            },
            "colorscale": [
             [
              0,
              "#0d0887"
             ],
             [
              0.1111111111111111,
              "#46039f"
             ],
             [
              0.2222222222222222,
              "#7201a8"
             ],
             [
              0.3333333333333333,
              "#9c179e"
             ],
             [
              0.4444444444444444,
              "#bd3786"
             ],
             [
              0.5555555555555556,
              "#d8576b"
             ],
             [
              0.6666666666666666,
              "#ed7953"
             ],
             [
              0.7777777777777778,
              "#fb9f3a"
             ],
             [
              0.8888888888888888,
              "#fdca26"
             ],
             [
              1,
              "#f0f921"
             ]
            ],
            "type": "contour"
           }
          ],
          "contourcarpet": [
           {
            "colorbar": {
             "outlinewidth": 0,
             "ticks": ""
            },
            "type": "contourcarpet"
           }
          ],
          "heatmap": [
           {
            "colorbar": {
             "outlinewidth": 0,
             "ticks": ""
            },
            "colorscale": [
             [
              0,
              "#0d0887"
             ],
             [
              0.1111111111111111,
              "#46039f"
             ],
             [
              0.2222222222222222,
              "#7201a8"
             ],
             [
              0.3333333333333333,
              "#9c179e"
             ],
             [
              0.4444444444444444,
              "#bd3786"
             ],
             [
              0.5555555555555556,
              "#d8576b"
             ],
             [
              0.6666666666666666,
              "#ed7953"
             ],
             [
              0.7777777777777778,
              "#fb9f3a"
             ],
             [
              0.8888888888888888,
              "#fdca26"
             ],
             [
              1,
              "#f0f921"
             ]
            ],
            "type": "heatmap"
           }
          ],
          "heatmapgl": [
           {
            "colorbar": {
             "outlinewidth": 0,
             "ticks": ""
            },
            "colorscale": [
             [
              0,
              "#0d0887"
             ],
             [
              0.1111111111111111,
              "#46039f"
             ],
             [
              0.2222222222222222,
              "#7201a8"
             ],
             [
              0.3333333333333333,
              "#9c179e"
             ],
             [
              0.4444444444444444,
              "#bd3786"
             ],
             [
              0.5555555555555556,
              "#d8576b"
             ],
             [
              0.6666666666666666,
              "#ed7953"
             ],
             [
              0.7777777777777778,
              "#fb9f3a"
             ],
             [
              0.8888888888888888,
              "#fdca26"
             ],
             [
              1,
              "#f0f921"
             ]
            ],
            "type": "heatmapgl"
           }
          ],
          "histogram": [
           {
            "marker": {
             "pattern": {
              "fillmode": "overlay",
              "size": 10,
              "solidity": 0.2
             }
            },
            "type": "histogram"
           }
          ],
          "histogram2d": [
           {
            "colorbar": {
             "outlinewidth": 0,
             "ticks": ""
            },
            "colorscale": [
             [
              0,
              "#0d0887"
             ],
             [
              0.1111111111111111,
              "#46039f"
             ],
             [
              0.2222222222222222,
              "#7201a8"
             ],
             [
              0.3333333333333333,
              "#9c179e"
             ],
             [
              0.4444444444444444,
              "#bd3786"
             ],
             [
              0.5555555555555556,
              "#d8576b"
             ],
             [
              0.6666666666666666,
              "#ed7953"
             ],
             [
              0.7777777777777778,
              "#fb9f3a"
             ],
             [
              0.8888888888888888,
              "#fdca26"
             ],
             [
              1,
              "#f0f921"
             ]
            ],
            "type": "histogram2d"
           }
          ],
          "histogram2dcontour": [
           {
            "colorbar": {
             "outlinewidth": 0,
             "ticks": ""
            },
            "colorscale": [
             [
              0,
              "#0d0887"
             ],
             [
              0.1111111111111111,
              "#46039f"
             ],
             [
              0.2222222222222222,
              "#7201a8"
             ],
             [
              0.3333333333333333,
              "#9c179e"
             ],
             [
              0.4444444444444444,
              "#bd3786"
             ],
             [
              0.5555555555555556,
              "#d8576b"
             ],
             [
              0.6666666666666666,
              "#ed7953"
             ],
             [
              0.7777777777777778,
              "#fb9f3a"
             ],
             [
              0.8888888888888888,
              "#fdca26"
             ],
             [
              1,
              "#f0f921"
             ]
            ],
            "type": "histogram2dcontour"
           }
          ],
          "mesh3d": [
           {
            "colorbar": {
             "outlinewidth": 0,
             "ticks": ""
            },
            "type": "mesh3d"
           }
          ],
          "parcoords": [
           {
            "line": {
             "colorbar": {
              "outlinewidth": 0,
              "ticks": ""
             }
            },
            "type": "parcoords"
           }
          ],
          "pie": [
           {
            "automargin": true,
            "type": "pie"
           }
          ],
          "scatter": [
           {
            "marker": {
             "colorbar": {
              "outlinewidth": 0,
              "ticks": ""
             }
            },
            "type": "scatter"
           }
          ],
          "scatter3d": [
           {
            "line": {
             "colorbar": {
              "outlinewidth": 0,
              "ticks": ""
             }
            },
            "marker": {
             "colorbar": {
              "outlinewidth": 0,
              "ticks": ""
             }
            },
            "type": "scatter3d"
           }
          ],
          "scattercarpet": [
           {
            "marker": {
             "colorbar": {
              "outlinewidth": 0,
              "ticks": ""
             }
            },
            "type": "scattercarpet"
           }
          ],
          "scattergeo": [
           {
            "marker": {
             "colorbar": {
              "outlinewidth": 0,
              "ticks": ""
             }
            },
            "type": "scattergeo"
           }
          ],
          "scattergl": [
           {
            "marker": {
             "colorbar": {
              "outlinewidth": 0,
              "ticks": ""
             }
            },
            "type": "scattergl"
           }
          ],
          "scattermapbox": [
           {
            "marker": {
             "colorbar": {
              "outlinewidth": 0,
              "ticks": ""
             }
            },
            "type": "scattermapbox"
           }
          ],
          "scatterpolar": [
           {
            "marker": {
             "colorbar": {
              "outlinewidth": 0,
              "ticks": ""
             }
            },
            "type": "scatterpolar"
           }
          ],
          "scatterpolargl": [
           {
            "marker": {
             "colorbar": {
              "outlinewidth": 0,
              "ticks": ""
             }
            },
            "type": "scatterpolargl"
           }
          ],
          "scatterternary": [
           {
            "marker": {
             "colorbar": {
              "outlinewidth": 0,
              "ticks": ""
             }
            },
            "type": "scatterternary"
           }
          ],
          "surface": [
           {
            "colorbar": {
             "outlinewidth": 0,
             "ticks": ""
            },
            "colorscale": [
             [
              0,
              "#0d0887"
             ],
             [
              0.1111111111111111,
              "#46039f"
             ],
             [
              0.2222222222222222,
              "#7201a8"
             ],
             [
              0.3333333333333333,
              "#9c179e"
             ],
             [
              0.4444444444444444,
              "#bd3786"
             ],
             [
              0.5555555555555556,
              "#d8576b"
             ],
             [
              0.6666666666666666,
              "#ed7953"
             ],
             [
              0.7777777777777778,
              "#fb9f3a"
             ],
             [
              0.8888888888888888,
              "#fdca26"
             ],
             [
              1,
              "#f0f921"
             ]
            ],
            "type": "surface"
           }
          ],
          "table": [
           {
            "cells": {
             "fill": {
              "color": "#EBF0F8"
             },
             "line": {
              "color": "white"
             }
            },
            "header": {
             "fill": {
              "color": "#C8D4E3"
             },
             "line": {
              "color": "white"
             }
            },
            "type": "table"
           }
          ]
         },
         "layout": {
          "annotationdefaults": {
           "arrowcolor": "#2a3f5f",
           "arrowhead": 0,
           "arrowwidth": 1
          },
          "autotypenumbers": "strict",
          "coloraxis": {
           "colorbar": {
            "outlinewidth": 0,
            "ticks": ""
           }
          },
          "colorscale": {
           "diverging": [
            [
             0,
             "#8e0152"
            ],
            [
             0.1,
             "#c51b7d"
            ],
            [
             0.2,
             "#de77ae"
            ],
            [
             0.3,
             "#f1b6da"
            ],
            [
             0.4,
             "#fde0ef"
            ],
            [
             0.5,
             "#f7f7f7"
            ],
            [
             0.6,
             "#e6f5d0"
            ],
            [
             0.7,
             "#b8e186"
            ],
            [
             0.8,
             "#7fbc41"
            ],
            [
             0.9,
             "#4d9221"
            ],
            [
             1,
             "#276419"
            ]
           ],
           "sequential": [
            [
             0,
             "#0d0887"
            ],
            [
             0.1111111111111111,
             "#46039f"
            ],
            [
             0.2222222222222222,
             "#7201a8"
            ],
            [
             0.3333333333333333,
             "#9c179e"
            ],
            [
             0.4444444444444444,
             "#bd3786"
            ],
            [
             0.5555555555555556,
             "#d8576b"
            ],
            [
             0.6666666666666666,
             "#ed7953"
            ],
            [
             0.7777777777777778,
             "#fb9f3a"
            ],
            [
             0.8888888888888888,
             "#fdca26"
            ],
            [
             1,
             "#f0f921"
            ]
           ],
           "sequentialminus": [
            [
             0,
             "#0d0887"
            ],
            [
             0.1111111111111111,
             "#46039f"
            ],
            [
             0.2222222222222222,
             "#7201a8"
            ],
            [
             0.3333333333333333,
             "#9c179e"
            ],
            [
             0.4444444444444444,
             "#bd3786"
            ],
            [
             0.5555555555555556,
             "#d8576b"
            ],
            [
             0.6666666666666666,
             "#ed7953"
            ],
            [
             0.7777777777777778,
             "#fb9f3a"
            ],
            [
             0.8888888888888888,
             "#fdca26"
            ],
            [
             1,
             "#f0f921"
            ]
           ]
          },
          "colorway": [
           "#636efa",
           "#EF553B",
           "#00cc96",
           "#ab63fa",
           "#FFA15A",
           "#19d3f3",
           "#FF6692",
           "#B6E880",
           "#FF97FF",
           "#FECB52"
          ],
          "font": {
           "color": "#2a3f5f"
          },
          "geo": {
           "bgcolor": "white",
           "lakecolor": "white",
           "landcolor": "#E5ECF6",
           "showlakes": true,
           "showland": true,
           "subunitcolor": "white"
          },
          "hoverlabel": {
           "align": "left"
          },
          "hovermode": "closest",
          "mapbox": {
           "style": "light"
          },
          "paper_bgcolor": "white",
          "plot_bgcolor": "#E5ECF6",
          "polar": {
           "angularaxis": {
            "gridcolor": "white",
            "linecolor": "white",
            "ticks": ""
           },
           "bgcolor": "#E5ECF6",
           "radialaxis": {
            "gridcolor": "white",
            "linecolor": "white",
            "ticks": ""
           }
          },
          "scene": {
           "xaxis": {
            "backgroundcolor": "#E5ECF6",
            "gridcolor": "white",
            "gridwidth": 2,
            "linecolor": "white",
            "showbackground": true,
            "ticks": "",
            "zerolinecolor": "white"
           },
           "yaxis": {
            "backgroundcolor": "#E5ECF6",
            "gridcolor": "white",
            "gridwidth": 2,
            "linecolor": "white",
            "showbackground": true,
            "ticks": "",
            "zerolinecolor": "white"
           },
           "zaxis": {
            "backgroundcolor": "#E5ECF6",
            "gridcolor": "white",
            "gridwidth": 2,
            "linecolor": "white",
            "showbackground": true,
            "ticks": "",
            "zerolinecolor": "white"
           }
          },
          "shapedefaults": {
           "line": {
            "color": "#2a3f5f"
           }
          },
          "ternary": {
           "aaxis": {
            "gridcolor": "white",
            "linecolor": "white",
            "ticks": ""
           },
           "baxis": {
            "gridcolor": "white",
            "linecolor": "white",
            "ticks": ""
           },
           "bgcolor": "#E5ECF6",
           "caxis": {
            "gridcolor": "white",
            "linecolor": "white",
            "ticks": ""
           }
          },
          "title": {
           "x": 0.05
          },
          "xaxis": {
           "automargin": true,
           "gridcolor": "white",
           "linecolor": "white",
           "ticks": "",
           "title": {
            "standoff": 15
           },
           "zerolinecolor": "white",
           "zerolinewidth": 2
          },
          "yaxis": {
           "automargin": true,
           "gridcolor": "white",
           "linecolor": "white",
           "ticks": "",
           "title": {
            "standoff": 15
           },
           "zerolinecolor": "white",
           "zerolinewidth": 2
          }
         }
        },
        "title": {
         "text": "Prophet"
        },
        "xaxis": {
         "anchor": "y",
         "domain": [
          0,
          1
         ],
         "title": {
          "text": "ds"
         }
        },
        "yaxis": {
         "anchor": "x",
         "domain": [
          0,
          1
         ],
         "title": {
          "text": "value"
         }
        }
       }
      }
     },
     "metadata": {},
     "output_type": "display_data"
    }
   ],
   "source": [
    "# Plotly figure 1\n",
    "fig = px.line(df_compara, x='ds', y=['y', 'yhat'])\n",
    "fig.update_layout(title='Prophet' , showlegend=True)\n",
    "fig.show()"
   ]
  },
  {
   "cell_type": "code",
   "execution_count": null,
   "metadata": {},
   "outputs": [],
   "source": [
    "https://www.kaggle.com/code/prashant111/tutorial-time-series-forecasting-with-prophet/notebook"
   ]
  }
 ],
 "metadata": {
  "kernelspec": {
   "display_name": "Python 3.8.12 ('py38')",
   "language": "python",
   "name": "python3"
  },
  "language_info": {
   "codemirror_mode": {
    "name": "ipython",
    "version": 3
   },
   "file_extension": ".py",
   "mimetype": "text/x-python",
   "name": "python",
   "nbconvert_exporter": "python",
   "pygments_lexer": "ipython3",
   "version": "3.8.12"
  },
  "orig_nbformat": 4,
  "vscode": {
   "interpreter": {
    "hash": "be4202a71753ffd220956ed3db86814f14c1cec50b2168a389c2c468516f2338"
   }
  }
 },
 "nbformat": 4,
 "nbformat_minor": 2
}
