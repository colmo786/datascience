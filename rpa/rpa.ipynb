{
 "cells": [
  {
   "cell_type": "code",
   "execution_count": 1,
   "metadata": {},
   "outputs": [],
   "source": [
    "# Sample script to search on Yahoo, take screenshot of results and visit\n",
    "# https://github.com/tebelorg/RPA-Python/blob/master/sample.py\n",
    "\n",
    "# pip install rpa to install, pip install rpa --upgrade to get latest version\n",
    "import rpa as r"
   ]
  },
  {
   "cell_type": "code",
   "execution_count": 4,
   "metadata": {},
   "outputs": [
    {
     "name": "stdout",
     "output_type": "stream",
     "text": [
      "[RPA][INFO] - setting up TagUI for use in your Python environment\n",
      "[RPA][INFO] - downloading TagUI (~200MB) and unzipping to below folder...\n",
      "[RPA][INFO] - C:\\Users\\COLMO\\AppData\\Roaming\n",
      "[RPA][INFO] - done. syncing TagUI with stable cutting edge version\n",
      "[RPA][INFO] - TagUI now ready for use in your Python environment\n"
     ]
    },
    {
     "data": {
      "text/plain": [
       "True"
      ]
     },
     "execution_count": 4,
     "metadata": {},
     "output_type": "execute_result"
    }
   ],
   "source": [
    "r.setup()"
   ]
  },
  {
   "cell_type": "code",
   "execution_count": 5,
   "metadata": {},
   "outputs": [
    {
     "name": "stdout",
     "output_type": "stream",
     "text": [
      "[RPA][ERROR] - following happens when starting TagUI...\n",
      "\n",
      "The following command is executed to start TagUI -\n",
      "\"C:\\Users\\COLMO\\AppData\\Roaming/tagui/src/tagui\" rpa_python chrome\n",
      "\n",
      "It leads to following output when starting TagUI -\n",
      "\n",
      "[RPA][ERROR] - unknown error encountered\n"
     ]
    },
    {
     "data": {
      "text/plain": [
       "False"
      ]
     },
     "execution_count": 5,
     "metadata": {},
     "output_type": "execute_result"
    }
   ],
   "source": [
    "# use init() to start TagUI, it auto downloads TagUI on first run\n",
    "# default init(visual_automation = False, chrome_browser = True)\n",
    "r.init()"
   ]
  },
  {
   "cell_type": "code",
   "execution_count": null,
   "metadata": {},
   "outputs": [],
   "source": [
    "\n",
    "# use url('your_url') to go to web page, url() returns current URL\n",
    "r.url('https://ca.yahoo.com')\n",
    "\n",
    "# use type() to enter text into an UI element or x, y location\n",
    "# '[enter]' = enter key, '[clear]' = clear field\n",
    "r.type('ybar-sbq', 'github')\n",
    "\n",
    "# use read() to fetch and return text from UI element\n",
    "search_text = r.read('ybar-sbq')\n",
    "print(search_text)\n",
    "\n",
    "# use click() to click on an UI element or x, y location\n",
    "# rclick() = right-click, dclick() = double-click\n",
    "r.click('ybar-search')\n",
    "\n",
    "# use wait() to wait for a number of seconds\n",
    "# default wait() is 5 seconds\n",
    "r.wait(6.6)\n",
    "\n",
    "# use snap() to save screenshot of page or UI element\n",
    "# page = web page, page.png = computer screen\n",
    "r.snap('page', 'results.png')\n",
    "r.snap('logo', 'logo.png')\n",
    "\n",
    "# another example of interacting with a web page\n",
    "# include http:// or https:// in URL parameter\n",
    "r.url('https://duckduckgo.com')\n",
    "r.type('search_form_input_homepage', 'The search engine that doesn\\'t track you.')\n",
    "r.snap('page', 'duckduckgo.png')\n",
    "r.wait(4.4)\n",
    "\n",
    "# use close() to close TagUI process and web browser\n",
    "# if you forget to close, just close() next time\n",
    "r.close()\n",
    "\n",
    "# in above web automation example, web element identifier can be XPath selector, CSS selector or\n",
    "# attributes id, name, class, title, aria-label, text(), href, in decreasing order of priority\n",
    "# if you don't mind using ugly and less robust XPath, it can be copied from Chrome inspector\n",
    "# otherwise recommend googling on writing XPath manually, or simply make use of attributes\n",
    "\n",
    "# also supports visual element identifier using .png or .bmp image snapshot\n",
    "# representing the UI element (can be on desktop applications or web browser)\n",
    "# for eg r.click('start_menu.png'), r.type('username_box.png', 'Sonic')\n",
    "\n",
    "# if the image file specified does not exist, OCR will be used to search for\n",
    "# that text on the screen to interact with the UI element containing that text\n",
    "# for eg r.click('Submit Form.png') clicks on a button with text 'Submit Form'\n",
    "# this trick also works for hover(), type(), select(), read(), snap() functions\n",
    "\n",
    "# visual element identifiers can also be x, y coordinates of elements on the screen\n",
    "# for eg r.click(600, 300), r.type(600, 300, 'Mario'), r.select(600, 300, 600, 400)\n",
    "# another eg is boundary of area of interest x1, y1, x2, y2 for read() and snap()\n",
    "# for eg r.read(200, 200, 600, 400), r.snap(200, 200, 600, 400, 'results.png')\n",
    "\n",
    "# image transparency (0% opacity) is supported, ie images with empty sections\n",
    "# eg r.read('image_preview_frame.png'), r.snap('application_window_frame.png')\n",
    "# or an element with transparent background to work with varying backgrounds\n",
    "# r.click('icon_transparent_background.png'), r.click('button_no_bkgnd.png')"
   ]
  }
 ],
 "metadata": {
  "kernelspec": {
   "display_name": "Python 3.8.12 ('py38')",
   "language": "python",
   "name": "python3"
  },
  "language_info": {
   "codemirror_mode": {
    "name": "ipython",
    "version": 3
   },
   "file_extension": ".py",
   "mimetype": "text/x-python",
   "name": "python",
   "nbconvert_exporter": "python",
   "pygments_lexer": "ipython3",
   "version": "3.8.12"
  },
  "orig_nbformat": 4,
  "vscode": {
   "interpreter": {
    "hash": "be4202a71753ffd220956ed3db86814f14c1cec50b2168a389c2c468516f2338"
   }
  }
 },
 "nbformat": 4,
 "nbformat_minor": 2
}
